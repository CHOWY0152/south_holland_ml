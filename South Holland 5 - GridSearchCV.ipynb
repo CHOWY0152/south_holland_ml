{
 "cells": [
  {
   "cell_type": "code",
   "execution_count": null,
   "metadata": {},
   "outputs": [],
   "source": []
  },
  {
   "cell_type": "code",
   "execution_count": 1,
   "metadata": {},
   "outputs": [],
   "source": [
    "import pandas as pd\n",
    "import numpy as np\n",
    "import geopandas as gpd\n",
    "import csv\n",
    "import json\n",
    "import sklearn\n",
    "from google.cloud import bigquery as bq\n",
    "import seaborn as sns\n",
    "import matplotlib.pyplot as plt\n",
    "import time\n",
    "import pathlib\n",
    "\n",
    "pd.set_option('display.max_columns', None)\n",
    "pd.set_option('display.max_rows', 100)\n",
    "pd.options.mode.chained_assignment = None\n",
    "%matplotlib inline"
   ]
  },
  {
   "cell_type": "code",
   "execution_count": 2,
   "metadata": {},
   "outputs": [],
   "source": [
    "# # explore gradient boosting number of trees effect on performance\n",
    "# from numpy import mean\n",
    "# from numpy import std\n",
    "from sklearn.compose import ColumnTransformer\n",
    "from sklearn.pipeline import Pipeline\n",
    "from sklearn.impute import SimpleImputer\n",
    "from sklearn.preprocessing import StandardScaler, Normalizer, OneHotEncoder\n",
    "from sklearn.model_selection import train_test_split, ShuffleSplit, cross_val_score, GridSearchCV, RepeatedStratifiedKFold\n",
    "from sklearn.ensemble import GradientBoostingRegressor\n",
    "from sklearn.metrics import mean_squared_error, mean_absolute_error, r2_score\n",
    " "
   ]
  },
  {
   "cell_type": "code",
   "execution_count": 3,
   "metadata": {},
   "outputs": [],
   "source": [
    "# Set random seeds\n",
    "\n",
    "sampling_seed = np.random.seed(13)\n",
    "train_test_seed = np.random.seed(69)\n",
    "cv_seed = np.random.seed(37)\n",
    "model_seed = np.random.seed(73)\n",
    "np.random.seed(42) # set default seed value"
   ]
  },
  {
   "cell_type": "code",
   "execution_count": null,
   "metadata": {},
   "outputs": [],
   "source": []
  },
  {
   "cell_type": "code",
   "execution_count": null,
   "metadata": {},
   "outputs": [],
   "source": [
    "label_col = [\"bldg_height\"]\n",
    "# num_cols = [\"area\", \"perimeter\", \"length\", \"building_levels\", \"year\", \"count_vertices\", \"compactness\", \"complexity\", \"count_neighbor\"]\n",
    "num_cols = [\"area\", \"perimeter\", \"length\", \"building_levels\", \"year\", \"count_vertices\", \"compactness\", \"complexity\", \"count_neighbor\"]\n",
    "cat_cols = [\"city\", \"postcode\", \"country\", \"state_name\"]\n",
    "# cat_cols = [col for col in df.columns if col not in (num_cols + label_col)]"
   ]
  },
  {
   "cell_type": "code",
   "execution_count": null,
   "metadata": {},
   "outputs": [],
   "source": []
  },
  {
   "cell_type": "code",
   "execution_count": null,
   "metadata": {},
   "outputs": [],
   "source": [
    "def get_df(bq_table_name, sample_frac=None):\n",
    "    query=\"\"\"\n",
    "    SELECT\n",
    "      *\n",
    "    FROM\n",
    "      `ual3d-277909.nl.%s`\n",
    "    \"\"\" % (bq_table_name)\n",
    "    full_df = bq.Client().query(query).to_dataframe()\n",
    "    if sample_frac:\n",
    "        part_df = full_df.sample(frac=sample_frac, random_state=sampling_seed)\n",
    "        return part_df\n",
    "    return full_df\n"
   ]
  },
  {
   "cell_type": "code",
   "execution_count": null,
   "metadata": {},
   "outputs": [],
   "source": []
  },
  {
   "cell_type": "code",
   "execution_count": 4,
   "metadata": {},
   "outputs": [
    {
     "data": {
      "text/html": [
       "<div>\n",
       "<style scoped>\n",
       "    .dataframe tbody tr th:only-of-type {\n",
       "        vertical-align: middle;\n",
       "    }\n",
       "\n",
       "    .dataframe tbody tr th {\n",
       "        vertical-align: top;\n",
       "    }\n",
       "\n",
       "    .dataframe thead th {\n",
       "        text-align: right;\n",
       "    }\n",
       "</style>\n",
       "<table border=\"1\" class=\"dataframe\">\n",
       "  <thead>\n",
       "    <tr style=\"text-align: right;\">\n",
       "      <th></th>\n",
       "      <th>osm_way_id</th>\n",
       "      <th>bldg_height</th>\n",
       "      <th>area</th>\n",
       "      <th>perimeter</th>\n",
       "      <th>length</th>\n",
       "      <th>building_levels</th>\n",
       "      <th>city</th>\n",
       "      <th>country</th>\n",
       "      <th>postcode</th>\n",
       "      <th>year</th>\n",
       "      <th>count_vertices</th>\n",
       "      <th>compactness</th>\n",
       "      <th>complexity</th>\n",
       "      <th>count_neighbor</th>\n",
       "      <th>state_name</th>\n",
       "    </tr>\n",
       "  </thead>\n",
       "  <tbody>\n",
       "    <tr>\n",
       "      <th>0</th>\n",
       "      <td>733980908</td>\n",
       "      <td>0.16</td>\n",
       "      <td>56.806486</td>\n",
       "      <td>31.356285</td>\n",
       "      <td>11.504222</td>\n",
       "      <td>NaN</td>\n",
       "      <td>None</td>\n",
       "      <td>NL</td>\n",
       "      <td>None</td>\n",
       "      <td>2019.0</td>\n",
       "      <td>5</td>\n",
       "      <td>0.852078</td>\n",
       "      <td>11.421552</td>\n",
       "      <td>362.0</td>\n",
       "      <td>South Holland</td>\n",
       "    </tr>\n",
       "    <tr>\n",
       "      <th>1</th>\n",
       "      <td>264836808</td>\n",
       "      <td>10.10</td>\n",
       "      <td>65.371119</td>\n",
       "      <td>41.965202</td>\n",
       "      <td>16.193125</td>\n",
       "      <td>NaN</td>\n",
       "      <td>None</td>\n",
       "      <td>NL</td>\n",
       "      <td>None</td>\n",
       "      <td>1924.0</td>\n",
       "      <td>12</td>\n",
       "      <td>0.682981</td>\n",
       "      <td>14.758521</td>\n",
       "      <td>728.0</td>\n",
       "      <td>South Holland</td>\n",
       "    </tr>\n",
       "    <tr>\n",
       "      <th>2</th>\n",
       "      <td>697588746</td>\n",
       "      <td>2.54</td>\n",
       "      <td>3.495364</td>\n",
       "      <td>7.843233</td>\n",
       "      <td>2.903076</td>\n",
       "      <td>NaN</td>\n",
       "      <td>None</td>\n",
       "      <td>NL</td>\n",
       "      <td>None</td>\n",
       "      <td>1940.0</td>\n",
       "      <td>5</td>\n",
       "      <td>0.844999</td>\n",
       "      <td>5.736170</td>\n",
       "      <td>929.0</td>\n",
       "      <td>South Holland</td>\n",
       "    </tr>\n",
       "    <tr>\n",
       "      <th>3</th>\n",
       "      <td>265486844</td>\n",
       "      <td>7.87</td>\n",
       "      <td>93.017665</td>\n",
       "      <td>65.430836</td>\n",
       "      <td>27.152878</td>\n",
       "      <td>NaN</td>\n",
       "      <td>None</td>\n",
       "      <td>NL</td>\n",
       "      <td>None</td>\n",
       "      <td>1922.0</td>\n",
       "      <td>16</td>\n",
       "      <td>0.522523</td>\n",
       "      <td>21.068864</td>\n",
       "      <td>530.0</td>\n",
       "      <td>South Holland</td>\n",
       "    </tr>\n",
       "    <tr>\n",
       "      <th>4</th>\n",
       "      <td>277720380</td>\n",
       "      <td>7.83</td>\n",
       "      <td>59.879307</td>\n",
       "      <td>32.496793</td>\n",
       "      <td>12.027904</td>\n",
       "      <td>NaN</td>\n",
       "      <td>None</td>\n",
       "      <td>NL</td>\n",
       "      <td>None</td>\n",
       "      <td>1922.0</td>\n",
       "      <td>6</td>\n",
       "      <td>0.844117</td>\n",
       "      <td>11.682111</td>\n",
       "      <td>1113.0</td>\n",
       "      <td>South Holland</td>\n",
       "    </tr>\n",
       "  </tbody>\n",
       "</table>\n",
       "</div>"
      ],
      "text/plain": [
       "  osm_way_id  bldg_height       area  perimeter     length  building_levels  \\\n",
       "0  733980908         0.16  56.806486  31.356285  11.504222              NaN   \n",
       "1  264836808        10.10  65.371119  41.965202  16.193125              NaN   \n",
       "2  697588746         2.54   3.495364   7.843233   2.903076              NaN   \n",
       "3  265486844         7.87  93.017665  65.430836  27.152878              NaN   \n",
       "4  277720380         7.83  59.879307  32.496793  12.027904              NaN   \n",
       "\n",
       "   city country postcode    year  count_vertices  compactness  complexity  \\\n",
       "0  None      NL     None  2019.0               5     0.852078   11.421552   \n",
       "1  None      NL     None  1924.0              12     0.682981   14.758521   \n",
       "2  None      NL     None  1940.0               5     0.844999    5.736170   \n",
       "3  None      NL     None  1922.0              16     0.522523   21.068864   \n",
       "4  None      NL     None  1922.0               6     0.844117   11.682111   \n",
       "\n",
       "   count_neighbor     state_name  \n",
       "0           362.0  South Holland  \n",
       "1           728.0  South Holland  \n",
       "2           929.0  South Holland  \n",
       "3           530.0  South Holland  \n",
       "4          1113.0  South Holland  "
      ]
     },
     "execution_count": 4,
     "metadata": {},
     "output_type": "execute_result"
    }
   ],
   "source": [
    "query=\"\"\"\n",
    "    SELECT\n",
    "      *\n",
    "    FROM\n",
    "      `ual3d-277909.nl.zuid_holland_ml_df`\n",
    "\"\"\"\n",
    "\n",
    "full_df = bq.Client().query(query).to_dataframe()\n",
    "full_df.head()"
   ]
  },
  {
   "cell_type": "code",
   "execution_count": null,
   "metadata": {},
   "outputs": [],
   "source": []
  },
  {
   "cell_type": "code",
   "execution_count": 5,
   "metadata": {},
   "outputs": [
    {
     "data": {
      "text/html": [
       "<div>\n",
       "<style scoped>\n",
       "    .dataframe tbody tr th:only-of-type {\n",
       "        vertical-align: middle;\n",
       "    }\n",
       "\n",
       "    .dataframe tbody tr th {\n",
       "        vertical-align: top;\n",
       "    }\n",
       "\n",
       "    .dataframe thead th {\n",
       "        text-align: right;\n",
       "    }\n",
       "</style>\n",
       "<table border=\"1\" class=\"dataframe\">\n",
       "  <thead>\n",
       "    <tr style=\"text-align: right;\">\n",
       "      <th></th>\n",
       "      <th>osm_way_id</th>\n",
       "      <th>bldg_height</th>\n",
       "      <th>area</th>\n",
       "      <th>perimeter</th>\n",
       "      <th>length</th>\n",
       "      <th>building_levels</th>\n",
       "      <th>city</th>\n",
       "      <th>country</th>\n",
       "      <th>postcode</th>\n",
       "      <th>year</th>\n",
       "      <th>count_vertices</th>\n",
       "      <th>compactness</th>\n",
       "      <th>complexity</th>\n",
       "      <th>count_neighbor</th>\n",
       "      <th>state_name</th>\n",
       "    </tr>\n",
       "  </thead>\n",
       "  <tbody>\n",
       "    <tr>\n",
       "      <th>813085</th>\n",
       "      <td>269237142</td>\n",
       "      <td>2.48</td>\n",
       "      <td>9.397988</td>\n",
       "      <td>12.790452</td>\n",
       "      <td>4.704017</td>\n",
       "      <td>NaN</td>\n",
       "      <td>None</td>\n",
       "      <td>NL</td>\n",
       "      <td>None</td>\n",
       "      <td>1975.0</td>\n",
       "      <td>6</td>\n",
       "      <td>0.849643</td>\n",
       "      <td>7.305117</td>\n",
       "      <td>465.0</td>\n",
       "      <td>South Holland</td>\n",
       "    </tr>\n",
       "    <tr>\n",
       "      <th>690109</th>\n",
       "      <td>293025352</td>\n",
       "      <td>5.31</td>\n",
       "      <td>65.665709</td>\n",
       "      <td>33.317386</td>\n",
       "      <td>12.103594</td>\n",
       "      <td>NaN</td>\n",
       "      <td>None</td>\n",
       "      <td>NL</td>\n",
       "      <td>None</td>\n",
       "      <td>1970.0</td>\n",
       "      <td>5</td>\n",
       "      <td>0.862191</td>\n",
       "      <td>11.704053</td>\n",
       "      <td>85.0</td>\n",
       "      <td>South Holland</td>\n",
       "    </tr>\n",
       "    <tr>\n",
       "      <th>1210306</th>\n",
       "      <td>282663535</td>\n",
       "      <td>9.13</td>\n",
       "      <td>48.072919</td>\n",
       "      <td>28.619010</td>\n",
       "      <td>10.431649</td>\n",
       "      <td>NaN</td>\n",
       "      <td>None</td>\n",
       "      <td>NL</td>\n",
       "      <td>None</td>\n",
       "      <td>1992.0</td>\n",
       "      <td>5</td>\n",
       "      <td>0.858817</td>\n",
       "      <td>10.868747</td>\n",
       "      <td>1091.0</td>\n",
       "      <td>South Holland</td>\n",
       "    </tr>\n",
       "    <tr>\n",
       "      <th>876731</th>\n",
       "      <td>263902520</td>\n",
       "      <td>7.51</td>\n",
       "      <td>98.331731</td>\n",
       "      <td>56.879056</td>\n",
       "      <td>18.686821</td>\n",
       "      <td>NaN</td>\n",
       "      <td>None</td>\n",
       "      <td>NL</td>\n",
       "      <td>None</td>\n",
       "      <td>1978.0</td>\n",
       "      <td>15</td>\n",
       "      <td>0.618016</td>\n",
       "      <td>18.062546</td>\n",
       "      <td>76.0</td>\n",
       "      <td>South Holland</td>\n",
       "    </tr>\n",
       "    <tr>\n",
       "      <th>1497770</th>\n",
       "      <td>273614892</td>\n",
       "      <td>9.54</td>\n",
       "      <td>62.358067</td>\n",
       "      <td>33.890511</td>\n",
       "      <td>12.771534</td>\n",
       "      <td>NaN</td>\n",
       "      <td>None</td>\n",
       "      <td>NL</td>\n",
       "      <td>None</td>\n",
       "      <td>2008.0</td>\n",
       "      <td>5</td>\n",
       "      <td>0.825987</td>\n",
       "      <td>12.060212</td>\n",
       "      <td>778.0</td>\n",
       "      <td>South Holland</td>\n",
       "    </tr>\n",
       "  </tbody>\n",
       "</table>\n",
       "</div>"
      ],
      "text/plain": [
       "        osm_way_id  bldg_height       area  perimeter     length  \\\n",
       "813085   269237142         2.48   9.397988  12.790452   4.704017   \n",
       "690109   293025352         5.31  65.665709  33.317386  12.103594   \n",
       "1210306  282663535         9.13  48.072919  28.619010  10.431649   \n",
       "876731   263902520         7.51  98.331731  56.879056  18.686821   \n",
       "1497770  273614892         9.54  62.358067  33.890511  12.771534   \n",
       "\n",
       "         building_levels  city country postcode    year  count_vertices  \\\n",
       "813085               NaN  None      NL     None  1975.0               6   \n",
       "690109               NaN  None      NL     None  1970.0               5   \n",
       "1210306              NaN  None      NL     None  1992.0               5   \n",
       "876731               NaN  None      NL     None  1978.0              15   \n",
       "1497770              NaN  None      NL     None  2008.0               5   \n",
       "\n",
       "         compactness  complexity  count_neighbor     state_name  \n",
       "813085      0.849643    7.305117           465.0  South Holland  \n",
       "690109      0.862191   11.704053            85.0  South Holland  \n",
       "1210306     0.858817   10.868747          1091.0  South Holland  \n",
       "876731      0.618016   18.062546            76.0  South Holland  \n",
       "1497770     0.825987   12.060212           778.0  South Holland  "
      ]
     },
     "execution_count": 5,
     "metadata": {},
     "output_type": "execute_result"
    }
   ],
   "source": [
    "ml_df = full_df.sample(frac=0.05, random_state=sampling_seed)\n",
    "ml_df.head()"
   ]
  },
  {
   "cell_type": "code",
   "execution_count": 6,
   "metadata": {},
   "outputs": [
    {
     "data": {
      "text/plain": [
       "bldg_height         float64\n",
       "area                float64\n",
       "perimeter           float64\n",
       "length              float64\n",
       "building_levels     float64\n",
       "city               category\n",
       "country            category\n",
       "postcode           category\n",
       "year                float64\n",
       "count_vertices        int64\n",
       "compactness         float64\n",
       "complexity          float64\n",
       "count_neighbor      float64\n",
       "state_name         category\n",
       "dtype: object"
      ]
     },
     "execution_count": 6,
     "metadata": {},
     "output_type": "execute_result"
    }
   ],
   "source": [
    "ml_df.set_index('osm_way_id', inplace=True)\n",
    "\n",
    "ml_df[\"city\"] = ml_df[\"city\"].astype(\"category\")\n",
    "ml_df[\"postcode\"] = ml_df[\"postcode\"].astype(\"category\")\n",
    "ml_df[\"country\"] = ml_df[\"country\"].astype(\"category\")\n",
    "ml_df[\"state_name\"] = ml_df[\"state_name\"].astype(\"category\")\n",
    "\n",
    "ml_df.dtypes"
   ]
  },
  {
   "cell_type": "code",
   "execution_count": 7,
   "metadata": {},
   "outputs": [
    {
     "data": {
      "text/plain": [
       "(81933, 14)"
      ]
     },
     "execution_count": 7,
     "metadata": {},
     "output_type": "execute_result"
    }
   ],
   "source": [
    "ml_df.shape"
   ]
  },
  {
   "cell_type": "code",
   "execution_count": 8,
   "metadata": {},
   "outputs": [
    {
     "data": {
      "text/plain": [
       "bldg_height            0\n",
       "area                   0\n",
       "perimeter              0\n",
       "length                 0\n",
       "building_levels    80767\n",
       "city               81894\n",
       "country                0\n",
       "postcode           81897\n",
       "year                   6\n",
       "count_vertices         0\n",
       "compactness            0\n",
       "complexity             0\n",
       "count_neighbor        13\n",
       "state_name             0\n",
       "dtype: int64"
      ]
     },
     "execution_count": 8,
     "metadata": {},
     "output_type": "execute_result"
    }
   ],
   "source": [
    "ml_df.isna().sum()\n"
   ]
  },
  {
   "cell_type": "code",
   "execution_count": 9,
   "metadata": {},
   "outputs": [
    {
     "name": "stdout",
     "output_type": "stream",
     "text": [
      "unique city: [NaN, Ouderkerk aan den IJssel, 's-Gravenhage, Oud-Beijerland, Dordrecht, ..., Puttershoek, Voorburg, Koudekerk aan den Rijn, Pijnacker, Hellevoetsluis]\n",
      "Length: 22\n",
      "Categories (21, object): [Ouderkerk aan den IJssel, 's-Gravenhage, Oud-Beijerland, Dordrecht, ..., Voorburg, Koudekerk aan den Rijn, Pijnacker, Hellevoetsluis]\n",
      "unique postcode: [NaN, 2551GA, 3261KW, 3312AM, 2711EC, ..., 2566HA, 2396EK, 2511VP, 2641AZ, 2625AD]\n",
      "Length: 37\n",
      "Categories (36, object): [2551GA, 3261KW, 3312AM, 2711EC, ..., 2396EK, 2511VP, 2641AZ, 2625AD]\n"
     ]
    }
   ],
   "source": [
    "print('unique city:', pd.unique(ml_df['city']))\n",
    "print('unique postcode:', pd.unique(ml_df['postcode']))"
   ]
  },
  {
   "cell_type": "code",
   "execution_count": 10,
   "metadata": {},
   "outputs": [],
   "source": [
    "label_col = [\"bldg_height\"]\n",
    "# num_cols = [\"area\", \"perimeter\", \"length\", \"building_levels\", \"year\", \"count_vertices\", \"compactness\", \"complexity\", \"count_neighbor\"]\n",
    "num_cols = [\"area\", \"perimeter\", \"length\", \"building_levels\", \"year\", \"count_vertices\", \"compactness\", \"complexity\", \"count_neighbor\"]\n",
    "cat_cols = [\"city\", \"postcode\"]\n",
    "# cat_cols = [col for col in df.columns if col not in (num_cols + label_col)]"
   ]
  },
  {
   "cell_type": "code",
   "execution_count": 11,
   "metadata": {},
   "outputs": [],
   "source": [
    "cat_df = ml_df[cat_cols]\n",
    "num_df = ml_df[num_cols]"
   ]
  },
  {
   "cell_type": "code",
   "execution_count": 12,
   "metadata": {},
   "outputs": [
    {
     "data": {
      "text/html": [
       "<div>\n",
       "<style scoped>\n",
       "    .dataframe tbody tr th:only-of-type {\n",
       "        vertical-align: middle;\n",
       "    }\n",
       "\n",
       "    .dataframe tbody tr th {\n",
       "        vertical-align: top;\n",
       "    }\n",
       "\n",
       "    .dataframe thead th {\n",
       "        text-align: right;\n",
       "    }\n",
       "</style>\n",
       "<table border=\"1\" class=\"dataframe\">\n",
       "  <thead>\n",
       "    <tr style=\"text-align: right;\">\n",
       "      <th></th>\n",
       "      <th>area</th>\n",
       "      <th>perimeter</th>\n",
       "      <th>length</th>\n",
       "      <th>building_levels</th>\n",
       "      <th>year</th>\n",
       "      <th>count_vertices</th>\n",
       "      <th>compactness</th>\n",
       "      <th>complexity</th>\n",
       "      <th>count_neighbor</th>\n",
       "    </tr>\n",
       "  </thead>\n",
       "  <tbody>\n",
       "    <tr>\n",
       "      <th>count</th>\n",
       "      <td>81933.000000</td>\n",
       "      <td>81933.000000</td>\n",
       "      <td>81933.000000</td>\n",
       "      <td>1166.000000</td>\n",
       "      <td>81927.000000</td>\n",
       "      <td>81933.000000</td>\n",
       "      <td>81933.000000</td>\n",
       "      <td>81933.000000</td>\n",
       "      <td>81920.000000</td>\n",
       "    </tr>\n",
       "    <tr>\n",
       "      <th>mean</th>\n",
       "      <td>132.521283</td>\n",
       "      <td>34.626738</td>\n",
       "      <td>12.567648</td>\n",
       "      <td>1.544597</td>\n",
       "      <td>1970.256082</td>\n",
       "      <td>7.295815</td>\n",
       "      <td>0.820600</td>\n",
       "      <td>11.516636</td>\n",
       "      <td>627.580701</td>\n",
       "    </tr>\n",
       "    <tr>\n",
       "      <th>std</th>\n",
       "      <td>1156.528326</td>\n",
       "      <td>44.038728</td>\n",
       "      <td>15.541181</td>\n",
       "      <td>1.532812</td>\n",
       "      <td>36.835522</td>\n",
       "      <td>5.190128</td>\n",
       "      <td>0.070171</td>\n",
       "      <td>5.231434</td>\n",
       "      <td>308.413093</td>\n",
       "    </tr>\n",
       "    <tr>\n",
       "      <th>min</th>\n",
       "      <td>0.491228</td>\n",
       "      <td>2.899712</td>\n",
       "      <td>1.059204</td>\n",
       "      <td>1.000000</td>\n",
       "      <td>1230.000000</td>\n",
       "      <td>4.000000</td>\n",
       "      <td>0.211594</td>\n",
       "      <td>3.463651</td>\n",
       "      <td>1.000000</td>\n",
       "    </tr>\n",
       "    <tr>\n",
       "      <th>25%</th>\n",
       "      <td>11.086491</td>\n",
       "      <td>13.830845</td>\n",
       "      <td>5.048352</td>\n",
       "      <td>1.000000</td>\n",
       "      <td>1957.000000</td>\n",
       "      <td>5.000000</td>\n",
       "      <td>0.792031</td>\n",
       "      <td>7.568423</td>\n",
       "      <td>429.000000</td>\n",
       "    </tr>\n",
       "    <tr>\n",
       "      <th>50%</th>\n",
       "      <td>50.079417</td>\n",
       "      <td>29.743878</td>\n",
       "      <td>10.841349</td>\n",
       "      <td>1.000000</td>\n",
       "      <td>1976.000000</td>\n",
       "      <td>5.000000</td>\n",
       "      <td>0.844465</td>\n",
       "      <td>11.127981</td>\n",
       "      <td>640.000000</td>\n",
       "    </tr>\n",
       "    <tr>\n",
       "      <th>75%</th>\n",
       "      <td>71.433420</td>\n",
       "      <td>38.856184</td>\n",
       "      <td>14.315548</td>\n",
       "      <td>2.000000</td>\n",
       "      <td>1994.000000</td>\n",
       "      <td>8.000000</td>\n",
       "      <td>0.872167</td>\n",
       "      <td>13.320855</td>\n",
       "      <td>834.000000</td>\n",
       "    </tr>\n",
       "    <tr>\n",
       "      <th>max</th>\n",
       "      <td>80141.581398</td>\n",
       "      <td>1729.184298</td>\n",
       "      <td>494.486521</td>\n",
       "      <td>23.000000</td>\n",
       "      <td>2020.000000</td>\n",
       "      <td>306.000000</td>\n",
       "      <td>0.999538</td>\n",
       "      <td>118.709846</td>\n",
       "      <td>2119.000000</td>\n",
       "    </tr>\n",
       "  </tbody>\n",
       "</table>\n",
       "</div>"
      ],
      "text/plain": [
       "               area     perimeter        length  building_levels  \\\n",
       "count  81933.000000  81933.000000  81933.000000      1166.000000   \n",
       "mean     132.521283     34.626738     12.567648         1.544597   \n",
       "std     1156.528326     44.038728     15.541181         1.532812   \n",
       "min        0.491228      2.899712      1.059204         1.000000   \n",
       "25%       11.086491     13.830845      5.048352         1.000000   \n",
       "50%       50.079417     29.743878     10.841349         1.000000   \n",
       "75%       71.433420     38.856184     14.315548         2.000000   \n",
       "max    80141.581398   1729.184298    494.486521        23.000000   \n",
       "\n",
       "               year  count_vertices   compactness    complexity  \\\n",
       "count  81927.000000    81933.000000  81933.000000  81933.000000   \n",
       "mean    1970.256082        7.295815      0.820600     11.516636   \n",
       "std       36.835522        5.190128      0.070171      5.231434   \n",
       "min     1230.000000        4.000000      0.211594      3.463651   \n",
       "25%     1957.000000        5.000000      0.792031      7.568423   \n",
       "50%     1976.000000        5.000000      0.844465     11.127981   \n",
       "75%     1994.000000        8.000000      0.872167     13.320855   \n",
       "max     2020.000000      306.000000      0.999538    118.709846   \n",
       "\n",
       "       count_neighbor  \n",
       "count    81920.000000  \n",
       "mean       627.580701  \n",
       "std        308.413093  \n",
       "min          1.000000  \n",
       "25%        429.000000  \n",
       "50%        640.000000  \n",
       "75%        834.000000  \n",
       "max       2119.000000  "
      ]
     },
     "execution_count": 12,
     "metadata": {},
     "output_type": "execute_result"
    }
   ],
   "source": [
    "num_df.describe()"
   ]
  },
  {
   "cell_type": "code",
   "execution_count": 13,
   "metadata": {},
   "outputs": [
    {
     "data": {
      "image/png": "[encoded data removed]",
      "text/plain": [
       "<Figure size 1728x648 with 9 Axes>"
      ]
     },
     "metadata": {
      "needs_background": "light"
     },
     "output_type": "display_data"
    }
   ],
   "source": [
    "num_df.plot(kind='box', subplots=True, figsize=(24,9))\n",
    "plt.plot()\n",
    "plt.savefig('gridsearch_5prct/run0/exploratory/south_holland_basic_distribution_null.png')"
   ]
  },
  {
   "cell_type": "code",
   "execution_count": null,
   "metadata": {},
   "outputs": [],
   "source": []
  },
  {
   "cell_type": "code",
   "execution_count": null,
   "metadata": {},
   "outputs": [],
   "source": []
  },
  {
   "cell_type": "code",
   "execution_count": 14,
   "metadata": {},
   "outputs": [],
   "source": [
    "X = ml_df.drop('bldg_height', axis=1).drop(['country', 'state_name'], axis=1).drop(['perimeter'], axis=1)\n",
    "y = ml_df['bldg_height']\n"
   ]
  },
  {
   "cell_type": "code",
   "execution_count": 15,
   "metadata": {},
   "outputs": [
    {
     "data": {
      "text/plain": [
       "(                 area     length  building_levels city postcode    year  \\\n",
       " osm_way_id                                                                \n",
       " 269237142    9.397988   4.704017              NaN  NaN      NaN  1975.0   \n",
       " 293025352   65.665709  12.103594              NaN  NaN      NaN  1970.0   \n",
       " 282663535   48.072919  10.431649              NaN  NaN      NaN  1992.0   \n",
       " 263902520   98.331731  18.686821              NaN  NaN      NaN  1978.0   \n",
       " 273614892   62.358067  12.771534              NaN  NaN      NaN  2008.0   \n",
       " ...               ...        ...              ...  ...      ...     ...   \n",
       " 283848908   87.866520  14.095289              NaN  NaN      NaN  2006.0   \n",
       " 287836938   56.439779  12.410463              NaN  NaN      NaN  1977.0   \n",
       " 290446069   38.043888   9.349915              NaN  NaN      NaN  1960.0   \n",
       " 290426596    5.256300   3.354602              NaN  NaN      NaN  1951.0   \n",
       " 283366416    5.899205   3.571746              NaN  NaN      NaN  1965.0   \n",
       " \n",
       "             count_vertices  compactness  complexity  count_neighbor  \n",
       " osm_way_id                                                           \n",
       " 269237142                6     0.849643    7.305117           465.0  \n",
       " 293025352                5     0.862191   11.704053            85.0  \n",
       " 282663535                5     0.858817   10.868747          1091.0  \n",
       " 263902520               15     0.618016   18.062546            76.0  \n",
       " 273614892                5     0.825987   12.060212           778.0  \n",
       " ...                    ...          ...         ...             ...  \n",
       " 283848908                7     0.836978   12.967211           546.0  \n",
       " 287836938               11     0.768557   12.642279           874.0  \n",
       " 290446069                9     0.795990   11.060343            84.0  \n",
       " 290426596                5     0.872645    6.150885           480.0  \n",
       " 283366416                5     0.869371    6.354747           997.0  \n",
       " \n",
       " [81933 rows x 10 columns],\n",
       " osm_way_id\n",
       " 269237142     2.48\n",
       " 293025352     5.31\n",
       " 282663535     9.13\n",
       " 263902520     7.51\n",
       " 273614892     9.54\n",
       "              ...  \n",
       " 283848908    10.00\n",
       " 287836938     9.93\n",
       " 290446069     3.74\n",
       " 290426596     3.42\n",
       " 283366416     2.29\n",
       " Name: bldg_height, Length: 81933, dtype: float64)"
      ]
     },
     "execution_count": 15,
     "metadata": {},
     "output_type": "execute_result"
    }
   ],
   "source": [
    "\n",
    "X, y"
   ]
  },
  {
   "cell_type": "code",
   "execution_count": null,
   "metadata": {},
   "outputs": [],
   "source": []
  },
  {
   "cell_type": "code",
   "execution_count": 16,
   "metadata": {},
   "outputs": [],
   "source": [
    "mean_transformer = Pipeline(steps=[\n",
    "    ('imputer', SimpleImputer(strategy='mean', add_indicator=True)),\n",
    "    ('scaler', StandardScaler())])\n",
    "\n",
    "freq_transformer = Pipeline(steps=[\n",
    "    ('imputer', SimpleImputer(strategy='constant', fill_value=1, add_indicator=True)),\n",
    "    ('scaler', StandardScaler())])\n",
    "\n",
    "zero_transformer = Pipeline(steps=[\n",
    "    ('imputer', SimpleImputer(strategy='constant', fill_value=0, add_indicator=True)),\n",
    "    ('scaler', StandardScaler())])"
   ]
  },
  {
   "cell_type": "code",
   "execution_count": 17,
   "metadata": {},
   "outputs": [],
   "source": [
    "cat_transformer = Pipeline(steps=[\n",
    "    ('imputer', SimpleImputer(strategy='constant', fill_value='NA', add_indicator=True)),\n",
    "    ('onehot', OneHotEncoder(handle_unknown='ignore'))])"
   ]
  },
  {
   "cell_type": "code",
   "execution_count": 18,
   "metadata": {},
   "outputs": [],
   "source": [
    "preprocessor = ColumnTransformer(transformers=[\n",
    "        ('mean_transformer', mean_transformer, [\"year\"]),\n",
    "        ('freq_transformer', freq_transformer, [\"building_levels\"]),\n",
    "        ('zero_transformer', zero_transformer, [\"count_neighbor\"]),\n",
    "        ('cat_transfomer', cat_transformer, cat_cols)])"
   ]
  },
  {
   "cell_type": "code",
   "execution_count": 19,
   "metadata": {},
   "outputs": [],
   "source": [
    "regressor = GradientBoostingRegressor(\n",
    "    n_estimators=500, \n",
    "    learning_rate=0.1,\n",
    "    subsample=0.5,\n",
    "    max_depth=6,\n",
    "    max_features=0.5,\n",
    "    random_state=model_seed)"
   ]
  },
  {
   "cell_type": "code",
   "execution_count": 20,
   "metadata": {},
   "outputs": [],
   "source": [
    "pipeline = Pipeline(steps=[('preprocessor', preprocessor), ('regressor', regressor)])"
   ]
  },
  {
   "cell_type": "code",
   "execution_count": 22,
   "metadata": {},
   "outputs": [],
   "source": [
    "param_grid = {\n",
    "    'regressor__subsample': [0.4, 0.5, 0.6],\n",
    "    'regressor__max_depth': [6, 7, 8],\n",
    "    'regressor__max_features': [0.4, 0.5, 0.6]\n",
    "}"
   ]
  },
  {
   "cell_type": "code",
   "execution_count": 23,
   "metadata": {},
   "outputs": [],
   "source": [
    "cv = ShuffleSplit(n_splits=10, test_size=.2, random_state=cv_seed)\n",
    "grid_search = GridSearchCV(estimator=pipeline, param_grid=param_grid, n_jobs=-1, cv=cv, scoring='neg_mean_absolute_error')\n",
    "grid_result = grid_search.fit(X, y)\n"
   ]
  },
  {
   "cell_type": "code",
   "execution_count": 24,
   "metadata": {},
   "outputs": [
    {
     "name": "stdout",
     "output_type": "stream",
     "text": [
      "Best: -2.862921 using {'regressor__max_depth': 6, 'regressor__max_features': 0.4, 'regressor__subsample': 0.6}\n"
     ]
    }
   ],
   "source": [
    "print(\"Best: %f using %s\" % (grid_result.best_score_, grid_result.best_params_))\n"
   ]
  },
  {
   "cell_type": "code",
   "execution_count": 25,
   "metadata": {},
   "outputs": [],
   "source": [
    "means = grid_result.cv_results_['mean_test_score']\n",
    "stds = grid_result.cv_results_['std_test_score']\n",
    "params = grid_result.cv_results_['params']\n"
   ]
  },
  {
   "cell_type": "code",
   "execution_count": 26,
   "metadata": {},
   "outputs": [
    {
     "name": "stdout",
     "output_type": "stream",
     "text": [
      "-2.870446 (0.012719) with: {'regressor__max_depth': 6, 'regressor__max_features': 0.4, 'regressor__subsample': 0.4}\n",
      "-2.866455 (0.011709) with: {'regressor__max_depth': 6, 'regressor__max_features': 0.4, 'regressor__subsample': 0.5}\n",
      "-2.862921 (0.012705) with: {'regressor__max_depth': 6, 'regressor__max_features': 0.4, 'regressor__subsample': 0.6}\n",
      "-2.874914 (0.011513) with: {'regressor__max_depth': 6, 'regressor__max_features': 0.5, 'regressor__subsample': 0.4}\n",
      "-2.872151 (0.013370) with: {'regressor__max_depth': 6, 'regressor__max_features': 0.5, 'regressor__subsample': 0.5}\n",
      "-2.868502 (0.011751) with: {'regressor__max_depth': 6, 'regressor__max_features': 0.5, 'regressor__subsample': 0.6}\n",
      "-2.882556 (0.012227) with: {'regressor__max_depth': 6, 'regressor__max_features': 0.6, 'regressor__subsample': 0.4}\n",
      "-2.878529 (0.010335) with: {'regressor__max_depth': 6, 'regressor__max_features': 0.6, 'regressor__subsample': 0.5}\n",
      "-2.875570 (0.012505) with: {'regressor__max_depth': 6, 'regressor__max_features': 0.6, 'regressor__subsample': 0.6}\n",
      "-2.880129 (0.010234) with: {'regressor__max_depth': 7, 'regressor__max_features': 0.4, 'regressor__subsample': 0.4}\n",
      "-2.877764 (0.011984) with: {'regressor__max_depth': 7, 'regressor__max_features': 0.4, 'regressor__subsample': 0.5}\n",
      "-2.872911 (0.013390) with: {'regressor__max_depth': 7, 'regressor__max_features': 0.4, 'regressor__subsample': 0.6}\n",
      "-2.890233 (0.011616) with: {'regressor__max_depth': 7, 'regressor__max_features': 0.5, 'regressor__subsample': 0.4}\n",
      "-2.886625 (0.011997) with: {'regressor__max_depth': 7, 'regressor__max_features': 0.5, 'regressor__subsample': 0.5}\n",
      "-2.882329 (0.011871) with: {'regressor__max_depth': 7, 'regressor__max_features': 0.5, 'regressor__subsample': 0.6}\n",
      "-2.902167 (0.012233) with: {'regressor__max_depth': 7, 'regressor__max_features': 0.6, 'regressor__subsample': 0.4}\n",
      "-2.895030 (0.011941) with: {'regressor__max_depth': 7, 'regressor__max_features': 0.6, 'regressor__subsample': 0.5}\n",
      "-2.892098 (0.012770) with: {'regressor__max_depth': 7, 'regressor__max_features': 0.6, 'regressor__subsample': 0.6}\n",
      "-2.897823 (0.011398) with: {'regressor__max_depth': 8, 'regressor__max_features': 0.4, 'regressor__subsample': 0.4}\n",
      "-2.893195 (0.011613) with: {'regressor__max_depth': 8, 'regressor__max_features': 0.4, 'regressor__subsample': 0.5}\n",
      "-2.886129 (0.012916) with: {'regressor__max_depth': 8, 'regressor__max_features': 0.4, 'regressor__subsample': 0.6}\n",
      "-2.914506 (0.012572) with: {'regressor__max_depth': 8, 'regressor__max_features': 0.5, 'regressor__subsample': 0.4}\n",
      "-2.905037 (0.011215) with: {'regressor__max_depth': 8, 'regressor__max_features': 0.5, 'regressor__subsample': 0.5}\n",
      "-2.901977 (0.011912) with: {'regressor__max_depth': 8, 'regressor__max_features': 0.5, 'regressor__subsample': 0.6}\n",
      "-2.929624 (0.009756) with: {'regressor__max_depth': 8, 'regressor__max_features': 0.6, 'regressor__subsample': 0.4}\n",
      "-2.921440 (0.010482) with: {'regressor__max_depth': 8, 'regressor__max_features': 0.6, 'regressor__subsample': 0.5}\n",
      "-2.916115 (0.012010) with: {'regressor__max_depth': 8, 'regressor__max_features': 0.6, 'regressor__subsample': 0.6}\n"
     ]
    }
   ],
   "source": [
    "for mean, stdev, param in zip(means, stds, params):\n",
    "    print(\"%f (%f) with: %r\" % (mean, stdev, param))"
   ]
  },
  {
   "cell_type": "code",
   "execution_count": null,
   "metadata": {},
   "outputs": [],
   "source": []
  },
  {
   "cell_type": "code",
   "execution_count": null,
   "metadata": {},
   "outputs": [],
   "source": []
  },
  {
   "cell_type": "code",
   "execution_count": null,
   "metadata": {},
   "outputs": [],
   "source": []
  },
  {
   "cell_type": "code",
   "execution_count": null,
   "metadata": {},
   "outputs": [],
   "source": []
  },
  {
   "cell_type": "code",
   "execution_count": null,
   "metadata": {},
   "outputs": [],
   "source": []
  },
  {
   "cell_type": "code",
   "execution_count": null,
   "metadata": {},
   "outputs": [],
   "source": []
  },
  {
   "cell_type": "code",
   "execution_count": 27,
   "metadata": {},
   "outputs": [
    {
     "data": {
      "text/html": [
       "<div>\n",
       "<style scoped>\n",
       "    .dataframe tbody tr th:only-of-type {\n",
       "        vertical-align: middle;\n",
       "    }\n",
       "\n",
       "    .dataframe tbody tr th {\n",
       "        vertical-align: top;\n",
       "    }\n",
       "\n",
       "    .dataframe thead th {\n",
       "        text-align: right;\n",
       "    }\n",
       "</style>\n",
       "<table border=\"1\" class=\"dataframe\">\n",
       "  <thead>\n",
       "    <tr style=\"text-align: right;\">\n",
       "      <th></th>\n",
       "      <th>osm_way_id</th>\n",
       "      <th>bldg_height</th>\n",
       "      <th>area</th>\n",
       "      <th>perimeter</th>\n",
       "      <th>length</th>\n",
       "      <th>building_levels</th>\n",
       "      <th>city</th>\n",
       "      <th>country</th>\n",
       "      <th>postcode</th>\n",
       "      <th>year</th>\n",
       "      <th>count_vertices</th>\n",
       "      <th>compactness</th>\n",
       "      <th>complexity</th>\n",
       "      <th>count_neighbor</th>\n",
       "      <th>state_name</th>\n",
       "    </tr>\n",
       "  </thead>\n",
       "  <tbody>\n",
       "    <tr>\n",
       "      <th>40804</th>\n",
       "      <td>264836743</td>\n",
       "      <td>2.42</td>\n",
       "      <td>5.195833</td>\n",
       "      <td>10.618467</td>\n",
       "      <td>4.123150</td>\n",
       "      <td>NaN</td>\n",
       "      <td>None</td>\n",
       "      <td>NL</td>\n",
       "      <td>None</td>\n",
       "      <td>1924.0</td>\n",
       "      <td>9</td>\n",
       "      <td>0.760976</td>\n",
       "      <td>7.033120</td>\n",
       "      <td>1055.0</td>\n",
       "      <td>South Holland</td>\n",
       "    </tr>\n",
       "    <tr>\n",
       "      <th>590057</th>\n",
       "      <td>267117894</td>\n",
       "      <td>2.98</td>\n",
       "      <td>19.672993</td>\n",
       "      <td>17.741781</td>\n",
       "      <td>6.283066</td>\n",
       "      <td>NaN</td>\n",
       "      <td>None</td>\n",
       "      <td>NL</td>\n",
       "      <td>None</td>\n",
       "      <td>1967.0</td>\n",
       "      <td>5</td>\n",
       "      <td>0.886223</td>\n",
       "      <td>8.424218</td>\n",
       "      <td>592.0</td>\n",
       "      <td>South Holland</td>\n",
       "    </tr>\n",
       "    <tr>\n",
       "      <th>180369</th>\n",
       "      <td>271318196</td>\n",
       "      <td>7.00</td>\n",
       "      <td>67.148396</td>\n",
       "      <td>39.661883</td>\n",
       "      <td>14.246583</td>\n",
       "      <td>NaN</td>\n",
       "      <td>None</td>\n",
       "      <td>NL</td>\n",
       "      <td>None</td>\n",
       "      <td>1900.0</td>\n",
       "      <td>9</td>\n",
       "      <td>0.732402</td>\n",
       "      <td>13.855252</td>\n",
       "      <td>366.0</td>\n",
       "      <td>South Holland</td>\n",
       "    </tr>\n",
       "    <tr>\n",
       "      <th>235581</th>\n",
       "      <td>267507750</td>\n",
       "      <td>4.53</td>\n",
       "      <td>14.079382</td>\n",
       "      <td>15.991232</td>\n",
       "      <td>5.987078</td>\n",
       "      <td>NaN</td>\n",
       "      <td>None</td>\n",
       "      <td>NL</td>\n",
       "      <td>None</td>\n",
       "      <td>1928.0</td>\n",
       "      <td>5</td>\n",
       "      <td>0.831792</td>\n",
       "      <td>8.255360</td>\n",
       "      <td>747.0</td>\n",
       "      <td>South Holland</td>\n",
       "    </tr>\n",
       "    <tr>\n",
       "      <th>1462995</th>\n",
       "      <td>274873848</td>\n",
       "      <td>5.37</td>\n",
       "      <td>73.554720</td>\n",
       "      <td>35.248687</td>\n",
       "      <td>12.752673</td>\n",
       "      <td>NaN</td>\n",
       "      <td>None</td>\n",
       "      <td>NL</td>\n",
       "      <td>None</td>\n",
       "      <td>2006.0</td>\n",
       "      <td>8</td>\n",
       "      <td>0.862516</td>\n",
       "      <td>12.036225</td>\n",
       "      <td>243.0</td>\n",
       "      <td>South Holland</td>\n",
       "    </tr>\n",
       "  </tbody>\n",
       "</table>\n",
       "</div>"
      ],
      "text/plain": [
       "        osm_way_id  bldg_height       area  perimeter     length  \\\n",
       "40804    264836743         2.42   5.195833  10.618467   4.123150   \n",
       "590057   267117894         2.98  19.672993  17.741781   6.283066   \n",
       "180369   271318196         7.00  67.148396  39.661883  14.246583   \n",
       "235581   267507750         4.53  14.079382  15.991232   5.987078   \n",
       "1462995  274873848         5.37  73.554720  35.248687  12.752673   \n",
       "\n",
       "         building_levels  city country postcode    year  count_vertices  \\\n",
       "40804                NaN  None      NL     None  1924.0               9   \n",
       "590057               NaN  None      NL     None  1967.0               5   \n",
       "180369               NaN  None      NL     None  1900.0               9   \n",
       "235581               NaN  None      NL     None  1928.0               5   \n",
       "1462995              NaN  None      NL     None  2006.0               8   \n",
       "\n",
       "         compactness  complexity  count_neighbor     state_name  \n",
       "40804       0.760976    7.033120          1055.0  South Holland  \n",
       "590057      0.886223    8.424218           592.0  South Holland  \n",
       "180369      0.732402   13.855252           366.0  South Holland  \n",
       "235581      0.831792    8.255360           747.0  South Holland  \n",
       "1462995     0.862516   12.036225           243.0  South Holland  "
      ]
     },
     "execution_count": 27,
     "metadata": {},
     "output_type": "execute_result"
    }
   ],
   "source": [
    "ml_df = full_df.sample(frac=0.1, random_state=sampling_seed)\n",
    "ml_df.head()"
   ]
  },
  {
   "cell_type": "code",
   "execution_count": 28,
   "metadata": {},
   "outputs": [
    {
     "data": {
      "text/plain": [
       "bldg_height         float64\n",
       "area                float64\n",
       "perimeter           float64\n",
       "length              float64\n",
       "building_levels     float64\n",
       "city               category\n",
       "country            category\n",
       "postcode           category\n",
       "year                float64\n",
       "count_vertices        int64\n",
       "compactness         float64\n",
       "complexity          float64\n",
       "count_neighbor      float64\n",
       "state_name         category\n",
       "dtype: object"
      ]
     },
     "execution_count": 28,
     "metadata": {},
     "output_type": "execute_result"
    }
   ],
   "source": [
    "ml_df.set_index('osm_way_id', inplace=True)\n",
    "\n",
    "ml_df[\"city\"] = ml_df[\"city\"].astype(\"category\")\n",
    "ml_df[\"postcode\"] = ml_df[\"postcode\"].astype(\"category\")\n",
    "ml_df[\"country\"] = ml_df[\"country\"].astype(\"category\")\n",
    "ml_df[\"state_name\"] = ml_df[\"state_name\"].astype(\"category\")\n",
    "\n",
    "ml_df.dtypes"
   ]
  },
  {
   "cell_type": "code",
   "execution_count": 29,
   "metadata": {},
   "outputs": [
    {
     "data": {
      "text/plain": [
       "(163867, 14)"
      ]
     },
     "execution_count": 29,
     "metadata": {},
     "output_type": "execute_result"
    }
   ],
   "source": [
    "ml_df.shape"
   ]
  },
  {
   "cell_type": "code",
   "execution_count": 30,
   "metadata": {},
   "outputs": [
    {
     "data": {
      "text/plain": [
       "bldg_height             0\n",
       "area                    0\n",
       "perimeter               0\n",
       "length                  0\n",
       "building_levels    161657\n",
       "city               163763\n",
       "country                 0\n",
       "postcode           163767\n",
       "year                   12\n",
       "count_vertices          0\n",
       "compactness             0\n",
       "complexity              0\n",
       "count_neighbor         23\n",
       "state_name              0\n",
       "dtype: int64"
      ]
     },
     "execution_count": 30,
     "metadata": {},
     "output_type": "execute_result"
    }
   ],
   "source": [
    "ml_df.isna().sum()\n"
   ]
  },
  {
   "cell_type": "code",
   "execution_count": 31,
   "metadata": {},
   "outputs": [
    {
     "name": "stdout",
     "output_type": "stream",
     "text": [
      "unique city: [NaN, Schipluiden, 's-Gravenhage, Nootdorp, Capelle aan den IJssel, ..., Zuidland, Bleiswijk, Hoornaar, Voorschoten, Lekkerkerk]\n",
      "Length: 46\n",
      "Categories (45, object): [Schipluiden, 's-Gravenhage, Nootdorp, Capelle aan den IJssel, ..., Bleiswijk, Hoornaar, Voorschoten, Lekkerkerk]\n",
      "unique postcode: [NaN, 2636AX, 2512XT, 2631CL, 2565DD, ..., 2555MA, 2742AR, 2251XJ, 2718CX, 2941XL]\n",
      "Length: 97\n",
      "Categories (96, object): [2636AX, 2512XT, 2631CL, 2565DD, ..., 2742AR, 2251XJ, 2718CX, 2941XL]\n"
     ]
    }
   ],
   "source": [
    "print('unique city:', pd.unique(ml_df['city']))\n",
    "print('unique postcode:', pd.unique(ml_df['postcode']))"
   ]
  },
  {
   "cell_type": "code",
   "execution_count": 32,
   "metadata": {},
   "outputs": [],
   "source": [
    "label_col = [\"bldg_height\"]\n",
    "# num_cols = [\"area\", \"perimeter\", \"length\", \"building_levels\", \"year\", \"count_vertices\", \"compactness\", \"complexity\", \"count_neighbor\"]\n",
    "num_cols = [\"area\", \"perimeter\", \"length\", \"building_levels\", \"year\", \"count_vertices\", \"compactness\", \"complexity\", \"count_neighbor\"]\n",
    "cat_cols = [\"city\", \"postcode\"]\n",
    "# cat_cols = [col for col in df.columns if col not in (num_cols + label_col)]"
   ]
  },
  {
   "cell_type": "code",
   "execution_count": 33,
   "metadata": {},
   "outputs": [],
   "source": [
    "cat_df = ml_df[cat_cols]\n",
    "num_df = ml_df[num_cols]"
   ]
  },
  {
   "cell_type": "code",
   "execution_count": 34,
   "metadata": {},
   "outputs": [
    {
     "data": {
      "text/html": [
       "<div>\n",
       "<style scoped>\n",
       "    .dataframe tbody tr th:only-of-type {\n",
       "        vertical-align: middle;\n",
       "    }\n",
       "\n",
       "    .dataframe tbody tr th {\n",
       "        vertical-align: top;\n",
       "    }\n",
       "\n",
       "    .dataframe thead th {\n",
       "        text-align: right;\n",
       "    }\n",
       "</style>\n",
       "<table border=\"1\" class=\"dataframe\">\n",
       "  <thead>\n",
       "    <tr style=\"text-align: right;\">\n",
       "      <th></th>\n",
       "      <th>area</th>\n",
       "      <th>perimeter</th>\n",
       "      <th>length</th>\n",
       "      <th>building_levels</th>\n",
       "      <th>year</th>\n",
       "      <th>count_vertices</th>\n",
       "      <th>compactness</th>\n",
       "      <th>complexity</th>\n",
       "      <th>count_neighbor</th>\n",
       "    </tr>\n",
       "  </thead>\n",
       "  <tbody>\n",
       "    <tr>\n",
       "      <th>count</th>\n",
       "      <td>163867.000000</td>\n",
       "      <td>163867.000000</td>\n",
       "      <td>163867.000000</td>\n",
       "      <td>2210.000000</td>\n",
       "      <td>163855.000000</td>\n",
       "      <td>163867.000000</td>\n",
       "      <td>163867.000000</td>\n",
       "      <td>163867.000000</td>\n",
       "      <td>163844.000000</td>\n",
       "    </tr>\n",
       "    <tr>\n",
       "      <th>mean</th>\n",
       "      <td>125.492926</td>\n",
       "      <td>34.522280</td>\n",
       "      <td>12.518419</td>\n",
       "      <td>1.509955</td>\n",
       "      <td>1970.069189</td>\n",
       "      <td>7.336956</td>\n",
       "      <td>0.820119</td>\n",
       "      <td>11.524784</td>\n",
       "      <td>626.722498</td>\n",
       "    </tr>\n",
       "    <tr>\n",
       "      <th>std</th>\n",
       "      <td>1069.277467</td>\n",
       "      <td>42.379305</td>\n",
       "      <td>14.821906</td>\n",
       "      <td>1.562676</td>\n",
       "      <td>36.870584</td>\n",
       "      <td>5.292078</td>\n",
       "      <td>0.070320</td>\n",
       "      <td>5.181012</td>\n",
       "      <td>308.035036</td>\n",
       "    </tr>\n",
       "    <tr>\n",
       "      <th>min</th>\n",
       "      <td>0.027453</td>\n",
       "      <td>0.664537</td>\n",
       "      <td>0.238380</td>\n",
       "      <td>-3.000000</td>\n",
       "      <td>1200.000000</td>\n",
       "      <td>4.000000</td>\n",
       "      <td>0.234890</td>\n",
       "      <td>1.632569</td>\n",
       "      <td>1.000000</td>\n",
       "    </tr>\n",
       "    <tr>\n",
       "      <th>25%</th>\n",
       "      <td>11.136349</td>\n",
       "      <td>13.900014</td>\n",
       "      <td>5.076650</td>\n",
       "      <td>1.000000</td>\n",
       "      <td>1957.000000</td>\n",
       "      <td>5.000000</td>\n",
       "      <td>0.791238</td>\n",
       "      <td>7.592439</td>\n",
       "      <td>429.000000</td>\n",
       "    </tr>\n",
       "    <tr>\n",
       "      <th>50%</th>\n",
       "      <td>50.121256</td>\n",
       "      <td>29.811309</td>\n",
       "      <td>10.876016</td>\n",
       "      <td>1.000000</td>\n",
       "      <td>1976.000000</td>\n",
       "      <td>5.000000</td>\n",
       "      <td>0.843896</td>\n",
       "      <td>11.149701</td>\n",
       "      <td>639.000000</td>\n",
       "    </tr>\n",
       "    <tr>\n",
       "      <th>75%</th>\n",
       "      <td>71.677965</td>\n",
       "      <td>38.926945</td>\n",
       "      <td>14.329673</td>\n",
       "      <td>1.000000</td>\n",
       "      <td>1993.000000</td>\n",
       "      <td>8.000000</td>\n",
       "      <td>0.871879</td>\n",
       "      <td>13.342793</td>\n",
       "      <td>833.000000</td>\n",
       "    </tr>\n",
       "    <tr>\n",
       "      <th>max</th>\n",
       "      <td>96144.116296</td>\n",
       "      <td>2229.810651</td>\n",
       "      <td>553.170701</td>\n",
       "      <td>25.000000</td>\n",
       "      <td>2020.000000</td>\n",
       "      <td>366.000000</td>\n",
       "      <td>0.999713</td>\n",
       "      <td>140.535339</td>\n",
       "      <td>2119.000000</td>\n",
       "    </tr>\n",
       "  </tbody>\n",
       "</table>\n",
       "</div>"
      ],
      "text/plain": [
       "                area      perimeter         length  building_levels  \\\n",
       "count  163867.000000  163867.000000  163867.000000      2210.000000   \n",
       "mean      125.492926      34.522280      12.518419         1.509955   \n",
       "std      1069.277467      42.379305      14.821906         1.562676   \n",
       "min         0.027453       0.664537       0.238380        -3.000000   \n",
       "25%        11.136349      13.900014       5.076650         1.000000   \n",
       "50%        50.121256      29.811309      10.876016         1.000000   \n",
       "75%        71.677965      38.926945      14.329673         1.000000   \n",
       "max     96144.116296    2229.810651     553.170701        25.000000   \n",
       "\n",
       "                year  count_vertices    compactness     complexity  \\\n",
       "count  163855.000000   163867.000000  163867.000000  163867.000000   \n",
       "mean     1970.069189        7.336956       0.820119      11.524784   \n",
       "std        36.870584        5.292078       0.070320       5.181012   \n",
       "min      1200.000000        4.000000       0.234890       1.632569   \n",
       "25%      1957.000000        5.000000       0.791238       7.592439   \n",
       "50%      1976.000000        5.000000       0.843896      11.149701   \n",
       "75%      1993.000000        8.000000       0.871879      13.342793   \n",
       "max      2020.000000      366.000000       0.999713     140.535339   \n",
       "\n",
       "       count_neighbor  \n",
       "count   163844.000000  \n",
       "mean       626.722498  \n",
       "std        308.035036  \n",
       "min          1.000000  \n",
       "25%        429.000000  \n",
       "50%        639.000000  \n",
       "75%        833.000000  \n",
       "max       2119.000000  "
      ]
     },
     "execution_count": 34,
     "metadata": {},
     "output_type": "execute_result"
    }
   ],
   "source": [
    "num_df.describe()"
   ]
  },
  {
   "cell_type": "code",
   "execution_count": 35,
   "metadata": {},
   "outputs": [
    {
     "data": {
      "image/png": "[encoded data removed]",
      "text/plain": [
       "<Figure size 1728x648 with 9 Axes>"
      ]
     },
     "metadata": {
      "needs_background": "light"
     },
     "output_type": "display_data"
    }
   ],
   "source": [
    "num_df.plot(kind='box', subplots=True, figsize=(24,9))\n",
    "plt.plot()\n",
    "plt.savefig('gridsearch_10prct/run0/exploratory/south_holland_basic_distribution_null.png')"
   ]
  },
  {
   "cell_type": "code",
   "execution_count": null,
   "metadata": {},
   "outputs": [],
   "source": []
  },
  {
   "cell_type": "code",
   "execution_count": null,
   "metadata": {},
   "outputs": [],
   "source": []
  },
  {
   "cell_type": "code",
   "execution_count": 36,
   "metadata": {},
   "outputs": [],
   "source": [
    "X = ml_df.drop('bldg_height', axis=1).drop(['country', 'state_name'], axis=1).drop(['perimeter'], axis=1)\n",
    "y = ml_df['bldg_height']\n"
   ]
  },
  {
   "cell_type": "code",
   "execution_count": 37,
   "metadata": {},
   "outputs": [
    {
     "data": {
      "text/plain": [
       "(                 area     length  building_levels city postcode    year  \\\n",
       " osm_way_id                                                                \n",
       " 264836743    5.195833   4.123150              NaN  NaN      NaN  1924.0   \n",
       " 267117894   19.672993   6.283066              NaN  NaN      NaN  1967.0   \n",
       " 271318196   67.148396  14.246583              NaN  NaN      NaN  1900.0   \n",
       " 267507750   14.079382   5.987078              NaN  NaN      NaN  1928.0   \n",
       " 274873848   73.554720  12.752673              NaN  NaN      NaN  2006.0   \n",
       " ...               ...        ...              ...  ...      ...     ...   \n",
       " 267386182   20.710564   7.431233              NaN  NaN      NaN  1995.0   \n",
       " 272299255   49.994129  10.570029              NaN  NaN      NaN  1997.0   \n",
       " 272177317   56.781469  11.172970              NaN  NaN      NaN  1968.0   \n",
       " 265479829   52.243959  11.281866              NaN  NaN      NaN  1995.0   \n",
       " 560538169   66.637461  12.869032              NaN  NaN      NaN  2015.0   \n",
       " \n",
       "             count_vertices  compactness  complexity  count_neighbor  \n",
       " osm_way_id                                                           \n",
       " 264836743                9     0.760976    7.033120          1055.0  \n",
       " 267117894                5     0.886223    8.424218           592.0  \n",
       " 271318196                9     0.732402   13.855252           366.0  \n",
       " 267507750                5     0.831792    8.255360           747.0  \n",
       " 274873848                8     0.862516   12.036225           243.0  \n",
       " ...                    ...          ...         ...             ...  \n",
       " 267386182                7     0.781478    9.676896           447.0  \n",
       " 272299255                5     0.861603   10.940258           712.0  \n",
       " 272177317                5     0.865140   11.247866           933.0  \n",
       " 265479829               10     0.837373   11.381377           692.0  \n",
       " 560538169                7     0.826319   12.257074           290.0  \n",
       " \n",
       " [163867 rows x 10 columns],\n",
       " osm_way_id\n",
       " 264836743    2.42\n",
       " 267117894    2.98\n",
       " 271318196    7.00\n",
       " 267507750    4.53\n",
       " 274873848    5.37\n",
       "              ... \n",
       " 267386182    3.37\n",
       " 272299255    9.85\n",
       " 272177317    8.01\n",
       " 265479829    8.81\n",
       " 560538169    0.22\n",
       " Name: bldg_height, Length: 163867, dtype: float64)"
      ]
     },
     "execution_count": 37,
     "metadata": {},
     "output_type": "execute_result"
    }
   ],
   "source": [
    "\n",
    "X, y"
   ]
  },
  {
   "cell_type": "code",
   "execution_count": null,
   "metadata": {},
   "outputs": [],
   "source": []
  },
  {
   "cell_type": "code",
   "execution_count": 38,
   "metadata": {},
   "outputs": [],
   "source": [
    "mean_transformer = Pipeline(steps=[\n",
    "    ('imputer', SimpleImputer(strategy='mean', add_indicator=True)),\n",
    "    ('scaler', StandardScaler())])\n",
    "\n",
    "freq_transformer = Pipeline(steps=[\n",
    "    ('imputer', SimpleImputer(strategy='constant', fill_value=1, add_indicator=True)),\n",
    "    ('scaler', StandardScaler())])\n",
    "\n",
    "zero_transformer = Pipeline(steps=[\n",
    "    ('imputer', SimpleImputer(strategy='constant', fill_value=0, add_indicator=True)),\n",
    "    ('scaler', StandardScaler())])"
   ]
  },
  {
   "cell_type": "code",
   "execution_count": 39,
   "metadata": {},
   "outputs": [],
   "source": [
    "cat_transformer = Pipeline(steps=[\n",
    "    ('imputer', SimpleImputer(strategy='constant', fill_value='NA', add_indicator=True)),\n",
    "    ('onehot', OneHotEncoder(handle_unknown='ignore'))])"
   ]
  },
  {
   "cell_type": "code",
   "execution_count": 40,
   "metadata": {},
   "outputs": [],
   "source": [
    "preprocessor = ColumnTransformer(transformers=[\n",
    "        ('mean_transformer', mean_transformer, [\"year\"]),\n",
    "        ('freq_transformer', freq_transformer, [\"building_levels\"]),\n",
    "        ('zero_transformer', zero_transformer, [\"count_neighbor\"]),\n",
    "        ('cat_transfomer', cat_transformer, cat_cols)])"
   ]
  },
  {
   "cell_type": "code",
   "execution_count": 41,
   "metadata": {},
   "outputs": [],
   "source": [
    "regressor = GradientBoostingRegressor(\n",
    "    n_estimators=500, \n",
    "    learning_rate=0.1,\n",
    "    subsample=0.5,\n",
    "    max_depth=6,\n",
    "    max_features=0.5,\n",
    "    random_state=model_seed)"
   ]
  },
  {
   "cell_type": "code",
   "execution_count": 42,
   "metadata": {},
   "outputs": [],
   "source": [
    "pipeline = Pipeline(steps=[('preprocessor', preprocessor), ('regressor', regressor)])"
   ]
  },
  {
   "cell_type": "code",
   "execution_count": 43,
   "metadata": {},
   "outputs": [],
   "source": [
    "param_grid = {\n",
    "    'regressor__subsample': [0.4, 0.5, 0.6],\n",
    "    'regressor__max_depth': [6, 7, 8],\n",
    "    'regressor__max_features': [0.4, 0.5, 0.6]\n",
    "}"
   ]
  },
  {
   "cell_type": "code",
   "execution_count": 44,
   "metadata": {},
   "outputs": [],
   "source": [
    "cv = ShuffleSplit(n_splits=10, test_size=.2, random_state=cv_seed)\n",
    "grid_search = GridSearchCV(estimator=pipeline, param_grid=param_grid, n_jobs=-1, cv=cv, scoring='neg_mean_absolute_error')\n",
    "grid_result = grid_search.fit(X, y)\n"
   ]
  },
  {
   "cell_type": "code",
   "execution_count": 45,
   "metadata": {},
   "outputs": [
    {
     "name": "stdout",
     "output_type": "stream",
     "text": [
      "Best: -2.831121 using {'regressor__max_depth': 6, 'regressor__max_features': 0.4, 'regressor__subsample': 0.6}\n"
     ]
    }
   ],
   "source": [
    "print(\"Best: %f using %s\" % (grid_result.best_score_, grid_result.best_params_))\n"
   ]
  },
  {
   "cell_type": "code",
   "execution_count": 46,
   "metadata": {},
   "outputs": [],
   "source": [
    "means = grid_result.cv_results_['mean_test_score']\n",
    "stds = grid_result.cv_results_['std_test_score']\n",
    "params = grid_result.cv_results_['params']\n"
   ]
  },
  {
   "cell_type": "code",
   "execution_count": 47,
   "metadata": {},
   "outputs": [
    {
     "name": "stdout",
     "output_type": "stream",
     "text": [
      "-2.833654 (0.010260) with: {'regressor__max_depth': 6, 'regressor__max_features': 0.4, 'regressor__subsample': 0.4}\n",
      "-2.832765 (0.010612) with: {'regressor__max_depth': 6, 'regressor__max_features': 0.4, 'regressor__subsample': 0.5}\n",
      "-2.831121 (0.010047) with: {'regressor__max_depth': 6, 'regressor__max_features': 0.4, 'regressor__subsample': 0.6}\n",
      "-2.835811 (0.010657) with: {'regressor__max_depth': 6, 'regressor__max_features': 0.5, 'regressor__subsample': 0.4}\n",
      "-2.834695 (0.010446) with: {'regressor__max_depth': 6, 'regressor__max_features': 0.5, 'regressor__subsample': 0.5}\n",
      "-2.833088 (0.010223) with: {'regressor__max_depth': 6, 'regressor__max_features': 0.5, 'regressor__subsample': 0.6}\n",
      "-2.840092 (0.011772) with: {'regressor__max_depth': 6, 'regressor__max_features': 0.6, 'regressor__subsample': 0.4}\n",
      "-2.837863 (0.010875) with: {'regressor__max_depth': 6, 'regressor__max_features': 0.6, 'regressor__subsample': 0.5}\n",
      "-2.835569 (0.011215) with: {'regressor__max_depth': 6, 'regressor__max_features': 0.6, 'regressor__subsample': 0.6}\n",
      "-2.840284 (0.009670) with: {'regressor__max_depth': 7, 'regressor__max_features': 0.4, 'regressor__subsample': 0.4}\n",
      "-2.837420 (0.010545) with: {'regressor__max_depth': 7, 'regressor__max_features': 0.4, 'regressor__subsample': 0.5}\n",
      "-2.835066 (0.011301) with: {'regressor__max_depth': 7, 'regressor__max_features': 0.4, 'regressor__subsample': 0.6}\n",
      "-2.845436 (0.010926) with: {'regressor__max_depth': 7, 'regressor__max_features': 0.5, 'regressor__subsample': 0.4}\n",
      "-2.840870 (0.011381) with: {'regressor__max_depth': 7, 'regressor__max_features': 0.5, 'regressor__subsample': 0.5}\n",
      "-2.839587 (0.011358) with: {'regressor__max_depth': 7, 'regressor__max_features': 0.5, 'regressor__subsample': 0.6}\n",
      "-2.850269 (0.011409) with: {'regressor__max_depth': 7, 'regressor__max_features': 0.6, 'regressor__subsample': 0.4}\n",
      "-2.847323 (0.012236) with: {'regressor__max_depth': 7, 'regressor__max_features': 0.6, 'regressor__subsample': 0.5}\n",
      "-2.845040 (0.011136) with: {'regressor__max_depth': 7, 'regressor__max_features': 0.6, 'regressor__subsample': 0.6}\n",
      "-2.849227 (0.013069) with: {'regressor__max_depth': 8, 'regressor__max_features': 0.4, 'regressor__subsample': 0.4}\n",
      "-2.844413 (0.010724) with: {'regressor__max_depth': 8, 'regressor__max_features': 0.4, 'regressor__subsample': 0.5}\n",
      "-2.842462 (0.011801) with: {'regressor__max_depth': 8, 'regressor__max_features': 0.4, 'regressor__subsample': 0.6}\n",
      "-2.858432 (0.010700) with: {'regressor__max_depth': 8, 'regressor__max_features': 0.5, 'regressor__subsample': 0.4}\n",
      "-2.853525 (0.011098) with: {'regressor__max_depth': 8, 'regressor__max_features': 0.5, 'regressor__subsample': 0.5}\n",
      "-2.849665 (0.010048) with: {'regressor__max_depth': 8, 'regressor__max_features': 0.5, 'regressor__subsample': 0.6}\n",
      "-2.867834 (0.013204) with: {'regressor__max_depth': 8, 'regressor__max_features': 0.6, 'regressor__subsample': 0.4}\n",
      "-2.860726 (0.012480) with: {'regressor__max_depth': 8, 'regressor__max_features': 0.6, 'regressor__subsample': 0.5}\n",
      "-2.857527 (0.009608) with: {'regressor__max_depth': 8, 'regressor__max_features': 0.6, 'regressor__subsample': 0.6}\n"
     ]
    }
   ],
   "source": [
    "for mean, stdev, param in zip(means, stds, params):\n",
    "    print(\"%f (%f) with: %r\" % (mean, stdev, param))"
   ]
  },
  {
   "cell_type": "code",
   "execution_count": null,
   "metadata": {},
   "outputs": [],
   "source": []
  }
 ],
 "metadata": {
  "environment": {
   "name": "common-cpu.m46",
   "type": "gcloud",
   "uri": "gcr.io/deeplearning-platform-release/base-cpu:m46"
  },
  "kernelspec": {
   "display_name": "Python 3",
   "language": "python",
   "name": "python3"
  },
  "language_info": {
   "codemirror_mode": {
    "name": "ipython",
    "version": 3
   },
   "file_extension": ".py",
   "mimetype": "text/x-python",
   "name": "python",
   "nbconvert_exporter": "python",
   "pygments_lexer": "ipython3",
   "version": "3.7.6"
  }
 },
 "nbformat": 4,
 "nbformat_minor": 4
}
