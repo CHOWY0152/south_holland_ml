{
 "cells": [
  {
   "cell_type": "code",
   "execution_count": null,
   "metadata": {},
   "outputs": [],
   "source": []
  },
  {
   "cell_type": "code",
   "execution_count": 23,
   "metadata": {},
   "outputs": [],
   "source": [
    "import pandas as pd\n",
    "import numpy as np\n",
    "import geopandas as gpd\n",
    "import csv\n",
    "import json\n",
    "import sklearn\n",
    "from google.cloud import bigquery as bq\n",
    "import seaborn as sns\n",
    "import matplotlib.pyplot as plt\n",
    "import time\n",
    "\n",
    "pd.set_option('display.max_columns', None)\n",
    "pd.set_option('display.max_rows', 100)\n",
    "pd.options.mode.chained_assignment = None\n",
    "%matplotlib inline"
   ]
  },
  {
   "cell_type": "code",
   "execution_count": 129,
   "metadata": {},
   "outputs": [],
   "source": [
    "from sklearn.compose import ColumnTransformer\n",
    "from sklearn.pipeline import Pipeline\n",
    "from sklearn.impute import SimpleImputer\n",
    "from sklearn.preprocessing import StandardScaler, Normalizer, OneHotEncoder\n",
    "from sklearn.feature_selection import SelectKBest, f_regression, mutual_info_regression\n",
    "from sklearn.ensemble import RandomForestRegressor\n",
    "from sklearn.tree import DecisionTreeRegressor\n",
    "from sklearn.neighbors import KNeighborsRegressor\n",
    "from sklearn.linear_model import LinearRegression\n",
    "from sklearn.model_selection import train_test_split, ShuffleSplit, cross_val_score, GridSearchCV\n",
    "from sklearn.metrics import mean_squared_error"
   ]
  },
  {
   "cell_type": "code",
   "execution_count": null,
   "metadata": {},
   "outputs": [],
   "source": []
  },
  {
   "cell_type": "code",
   "execution_count": null,
   "metadata": {},
   "outputs": [],
   "source": []
  },
  {
   "cell_type": "code",
   "execution_count": 25,
   "metadata": {},
   "outputs": [
    {
     "data": {
      "text/html": [
       "<div>\n",
       "<style scoped>\n",
       "    .dataframe tbody tr th:only-of-type {\n",
       "        vertical-align: middle;\n",
       "    }\n",
       "\n",
       "    .dataframe tbody tr th {\n",
       "        vertical-align: top;\n",
       "    }\n",
       "\n",
       "    .dataframe thead th {\n",
       "        text-align: right;\n",
       "    }\n",
       "</style>\n",
       "<table border=\"1\" class=\"dataframe\">\n",
       "  <thead>\n",
       "    <tr style=\"text-align: right;\">\n",
       "      <th></th>\n",
       "      <th>osm_way_id</th>\n",
       "      <th>bldg_height</th>\n",
       "      <th>area</th>\n",
       "      <th>perimeter</th>\n",
       "      <th>length</th>\n",
       "      <th>building_levels</th>\n",
       "      <th>city</th>\n",
       "      <th>country</th>\n",
       "      <th>postcode</th>\n",
       "      <th>year</th>\n",
       "      <th>count_vertices</th>\n",
       "      <th>compactness</th>\n",
       "      <th>complexity</th>\n",
       "      <th>count_neighbor</th>\n",
       "      <th>state_name</th>\n",
       "    </tr>\n",
       "  </thead>\n",
       "  <tbody>\n",
       "    <tr>\n",
       "      <th>1232312</th>\n",
       "      <td>282665314</td>\n",
       "      <td>7.65</td>\n",
       "      <td>1034.167408</td>\n",
       "      <td>186.235111</td>\n",
       "      <td>62.571525</td>\n",
       "      <td>NaN</td>\n",
       "      <td>None</td>\n",
       "      <td>NL</td>\n",
       "      <td>None</td>\n",
       "      <td>1993.0</td>\n",
       "      <td>43</td>\n",
       "      <td>0.612123</td>\n",
       "      <td>32.840809</td>\n",
       "      <td>1043.0</td>\n",
       "      <td>South Holland</td>\n",
       "    </tr>\n",
       "    <tr>\n",
       "      <th>1598212</th>\n",
       "      <td>470741095</td>\n",
       "      <td>8.62</td>\n",
       "      <td>1268.696191</td>\n",
       "      <td>147.046589</td>\n",
       "      <td>53.326773</td>\n",
       "      <td>NaN</td>\n",
       "      <td>None</td>\n",
       "      <td>NL</td>\n",
       "      <td>None</td>\n",
       "      <td>2016.0</td>\n",
       "      <td>9</td>\n",
       "      <td>0.858675</td>\n",
       "      <td>24.638573</td>\n",
       "      <td>152.0</td>\n",
       "      <td>South Holland</td>\n",
       "    </tr>\n",
       "    <tr>\n",
       "      <th>609690</th>\n",
       "      <td>268734970</td>\n",
       "      <td>9.22</td>\n",
       "      <td>54.772782</td>\n",
       "      <td>30.149440</td>\n",
       "      <td>10.884133</td>\n",
       "      <td>NaN</td>\n",
       "      <td>None</td>\n",
       "      <td>NL</td>\n",
       "      <td>None</td>\n",
       "      <td>1968.0</td>\n",
       "      <td>5</td>\n",
       "      <td>0.870178</td>\n",
       "      <td>11.082508</td>\n",
       "      <td>623.0</td>\n",
       "      <td>South Holland</td>\n",
       "    </tr>\n",
       "    <tr>\n",
       "      <th>797856</th>\n",
       "      <td>290334929</td>\n",
       "      <td>9.48</td>\n",
       "      <td>65.392662</td>\n",
       "      <td>41.342501</td>\n",
       "      <td>16.128151</td>\n",
       "      <td>NaN</td>\n",
       "      <td>None</td>\n",
       "      <td>NL</td>\n",
       "      <td>None</td>\n",
       "      <td>1975.0</td>\n",
       "      <td>7</td>\n",
       "      <td>0.693382</td>\n",
       "      <td>14.538329</td>\n",
       "      <td>315.0</td>\n",
       "      <td>South Holland</td>\n",
       "    </tr>\n",
       "    <tr>\n",
       "      <th>708188</th>\n",
       "      <td>253611189</td>\n",
       "      <td>4.66</td>\n",
       "      <td>32.817785</td>\n",
       "      <td>27.912468</td>\n",
       "      <td>11.348454</td>\n",
       "      <td>NaN</td>\n",
       "      <td>None</td>\n",
       "      <td>NL</td>\n",
       "      <td>None</td>\n",
       "      <td>1971.0</td>\n",
       "      <td>8</td>\n",
       "      <td>0.727547</td>\n",
       "      <td>11.661943</td>\n",
       "      <td>154.0</td>\n",
       "      <td>South Holland</td>\n",
       "    </tr>\n",
       "  </tbody>\n",
       "</table>\n",
       "</div>"
      ],
      "text/plain": [
       "        osm_way_id  bldg_height         area   perimeter     length  \\\n",
       "1232312  282665314         7.65  1034.167408  186.235111  62.571525   \n",
       "1598212  470741095         8.62  1268.696191  147.046589  53.326773   \n",
       "609690   268734970         9.22    54.772782   30.149440  10.884133   \n",
       "797856   290334929         9.48    65.392662   41.342501  16.128151   \n",
       "708188   253611189         4.66    32.817785   27.912468  11.348454   \n",
       "\n",
       "         building_levels  city country postcode    year  count_vertices  \\\n",
       "1232312              NaN  None      NL     None  1993.0              43   \n",
       "1598212              NaN  None      NL     None  2016.0               9   \n",
       "609690               NaN  None      NL     None  1968.0               5   \n",
       "797856               NaN  None      NL     None  1975.0               7   \n",
       "708188               NaN  None      NL     None  1971.0               8   \n",
       "\n",
       "         compactness  complexity  count_neighbor     state_name  \n",
       "1232312     0.612123   32.840809          1043.0  South Holland  \n",
       "1598212     0.858675   24.638573           152.0  South Holland  \n",
       "609690      0.870178   11.082508           623.0  South Holland  \n",
       "797856      0.693382   14.538329           315.0  South Holland  \n",
       "708188      0.727547   11.661943           154.0  South Holland  "
      ]
     },
     "execution_count": 25,
     "metadata": {},
     "output_type": "execute_result"
    }
   ],
   "source": [
    "query=\"\"\"\n",
    "    SELECT\n",
    "      *\n",
    "    FROM\n",
    "      `ual3d-277909.nl.zuid_holland_ml_df`\n",
    "\"\"\"\n",
    "\n",
    "full_df = bq.Client().query(query).to_dataframe()\n",
    "ml_df = full_df.sample(frac=0.1)\n",
    "ml_df.head()"
   ]
  },
  {
   "cell_type": "code",
   "execution_count": null,
   "metadata": {},
   "outputs": [],
   "source": []
  },
  {
   "cell_type": "code",
   "execution_count": 49,
   "metadata": {},
   "outputs": [],
   "source": [
    "cat_df = full_df[cat_cols]\n",
    "num_df = full_df[num_cols]\n"
   ]
  },
  {
   "cell_type": "code",
   "execution_count": 50,
   "metadata": {},
   "outputs": [
    {
     "data": {
      "text/html": [
       "<div>\n",
       "<style scoped>\n",
       "    .dataframe tbody tr th:only-of-type {\n",
       "        vertical-align: middle;\n",
       "    }\n",
       "\n",
       "    .dataframe tbody tr th {\n",
       "        vertical-align: top;\n",
       "    }\n",
       "\n",
       "    .dataframe thead th {\n",
       "        text-align: right;\n",
       "    }\n",
       "</style>\n",
       "<table border=\"1\" class=\"dataframe\">\n",
       "  <thead>\n",
       "    <tr style=\"text-align: right;\">\n",
       "      <th></th>\n",
       "      <th>area</th>\n",
       "      <th>perimeter</th>\n",
       "      <th>length</th>\n",
       "      <th>building_levels</th>\n",
       "      <th>year</th>\n",
       "      <th>count_vertices</th>\n",
       "      <th>compactness</th>\n",
       "      <th>complexity</th>\n",
       "      <th>count_neighbor</th>\n",
       "    </tr>\n",
       "  </thead>\n",
       "  <tbody>\n",
       "    <tr>\n",
       "      <th>count</th>\n",
       "      <td>1.638666e+06</td>\n",
       "      <td>1.638666e+06</td>\n",
       "      <td>1.638666e+06</td>\n",
       "      <td>23102.000000</td>\n",
       "      <td>1.638534e+06</td>\n",
       "      <td>1.638666e+06</td>\n",
       "      <td>1.638666e+06</td>\n",
       "      <td>1.638666e+06</td>\n",
       "      <td>1.638432e+06</td>\n",
       "    </tr>\n",
       "    <tr>\n",
       "      <th>mean</th>\n",
       "      <td>1.284413e+02</td>\n",
       "      <td>3.442989e+01</td>\n",
       "      <td>1.248890e+01</td>\n",
       "      <td>1.534716</td>\n",
       "      <td>1.970038e+03</td>\n",
       "      <td>7.308884e+00</td>\n",
       "      <td>8.203220e-01</td>\n",
       "      <td>1.150416e+01</td>\n",
       "      <td>6.271445e+02</td>\n",
       "    </tr>\n",
       "    <tr>\n",
       "      <th>std</th>\n",
       "      <td>1.201438e+03</td>\n",
       "      <td>4.307075e+01</td>\n",
       "      <td>1.500313e+01</td>\n",
       "      <td>1.667968</td>\n",
       "      <td>3.692588e+01</td>\n",
       "      <td>5.192885e+00</td>\n",
       "      <td>7.008799e-02</td>\n",
       "      <td>5.160273e+00</td>\n",
       "      <td>3.077715e+02</td>\n",
       "    </tr>\n",
       "    <tr>\n",
       "      <th>min</th>\n",
       "      <td>2.650812e-04</td>\n",
       "      <td>8.183244e-02</td>\n",
       "      <td>3.404680e-02</td>\n",
       "      <td>-4.000000</td>\n",
       "      <td>1.131000e+03</td>\n",
       "      <td>4.000000e+00</td>\n",
       "      <td>2.828082e-02</td>\n",
       "      <td>6.413288e-01</td>\n",
       "      <td>1.000000e+00</td>\n",
       "    </tr>\n",
       "    <tr>\n",
       "      <th>25%</th>\n",
       "      <td>1.107290e+01</td>\n",
       "      <td>1.383930e+01</td>\n",
       "      <td>5.054998e+00</td>\n",
       "      <td>1.000000</td>\n",
       "      <td>1.957000e+03</td>\n",
       "      <td>5.000000e+00</td>\n",
       "      <td>7.915906e-01</td>\n",
       "      <td>7.573893e+00</td>\n",
       "      <td>4.300000e+02</td>\n",
       "    </tr>\n",
       "    <tr>\n",
       "      <th>50%</th>\n",
       "      <td>5.009999e+01</td>\n",
       "      <td>2.977105e+01</td>\n",
       "      <td>1.085595e+01</td>\n",
       "      <td>1.000000</td>\n",
       "      <td>1.976000e+03</td>\n",
       "      <td>5.000000e+00</td>\n",
       "      <td>8.439439e-01</td>\n",
       "      <td>1.113455e+01</td>\n",
       "      <td>6.390000e+02</td>\n",
       "    </tr>\n",
       "    <tr>\n",
       "      <th>75%</th>\n",
       "      <td>7.143773e+01</td>\n",
       "      <td>3.887442e+01</td>\n",
       "      <td>1.431944e+01</td>\n",
       "      <td>2.000000</td>\n",
       "      <td>1.993000e+03</td>\n",
       "      <td>8.000000e+00</td>\n",
       "      <td>8.719881e-01</td>\n",
       "      <td>1.333404e+01</td>\n",
       "      <td>8.330000e+02</td>\n",
       "    </tr>\n",
       "    <tr>\n",
       "      <th>max</th>\n",
       "      <td>2.562055e+05</td>\n",
       "      <td>3.925806e+03</td>\n",
       "      <td>9.652139e+02</td>\n",
       "      <td>44.000000</td>\n",
       "      <td>2.020000e+03</td>\n",
       "      <td>7.930000e+02</td>\n",
       "      <td>9.999417e-01</td>\n",
       "      <td>2.340868e+02</td>\n",
       "      <td>2.143000e+03</td>\n",
       "    </tr>\n",
       "  </tbody>\n",
       "</table>\n",
       "</div>"
      ],
      "text/plain": [
       "               area     perimeter        length  building_levels  \\\n",
       "count  1.638666e+06  1.638666e+06  1.638666e+06     23102.000000   \n",
       "mean   1.284413e+02  3.442989e+01  1.248890e+01         1.534716   \n",
       "std    1.201438e+03  4.307075e+01  1.500313e+01         1.667968   \n",
       "min    2.650812e-04  8.183244e-02  3.404680e-02        -4.000000   \n",
       "25%    1.107290e+01  1.383930e+01  5.054998e+00         1.000000   \n",
       "50%    5.009999e+01  2.977105e+01  1.085595e+01         1.000000   \n",
       "75%    7.143773e+01  3.887442e+01  1.431944e+01         2.000000   \n",
       "max    2.562055e+05  3.925806e+03  9.652139e+02        44.000000   \n",
       "\n",
       "               year  count_vertices   compactness    complexity  \\\n",
       "count  1.638534e+06    1.638666e+06  1.638666e+06  1.638666e+06   \n",
       "mean   1.970038e+03    7.308884e+00  8.203220e-01  1.150416e+01   \n",
       "std    3.692588e+01    5.192885e+00  7.008799e-02  5.160273e+00   \n",
       "min    1.131000e+03    4.000000e+00  2.828082e-02  6.413288e-01   \n",
       "25%    1.957000e+03    5.000000e+00  7.915906e-01  7.573893e+00   \n",
       "50%    1.976000e+03    5.000000e+00  8.439439e-01  1.113455e+01   \n",
       "75%    1.993000e+03    8.000000e+00  8.719881e-01  1.333404e+01   \n",
       "max    2.020000e+03    7.930000e+02  9.999417e-01  2.340868e+02   \n",
       "\n",
       "       count_neighbor  \n",
       "count    1.638432e+06  \n",
       "mean     6.271445e+02  \n",
       "std      3.077715e+02  \n",
       "min      1.000000e+00  \n",
       "25%      4.300000e+02  \n",
       "50%      6.390000e+02  \n",
       "75%      8.330000e+02  \n",
       "max      2.143000e+03  "
      ]
     },
     "execution_count": 50,
     "metadata": {},
     "output_type": "execute_result"
    }
   ],
   "source": [
    "num_df.describe()"
   ]
  },
  {
   "cell_type": "code",
   "execution_count": 51,
   "metadata": {},
   "outputs": [
    {
     "data": {
      "image/png": "[encoded data removed]",
      "text/plain": [
       "<Figure size 1728x648 with 9 Axes>"
      ]
     },
     "metadata": {
      "needs_background": "light"
     },
     "output_type": "display_data"
    }
   ],
   "source": [
    "num_df.plot(kind='box', subplots=True, figsize=(24,9))\n",
    "plt.plot()\n",
    "plt.savefig('exploratory_full/south_holland_basic_distribution_null.png')"
   ]
  },
  {
   "cell_type": "code",
   "execution_count": null,
   "metadata": {},
   "outputs": [],
   "source": []
  },
  {
   "cell_type": "code",
   "execution_count": null,
   "metadata": {},
   "outputs": [],
   "source": []
  },
  {
   "cell_type": "code",
   "execution_count": null,
   "metadata": {},
   "outputs": [],
   "source": []
  },
  {
   "cell_type": "code",
   "execution_count": null,
   "metadata": {},
   "outputs": [],
   "source": []
  },
  {
   "cell_type": "code",
   "execution_count": null,
   "metadata": {},
   "outputs": [],
   "source": []
  },
  {
   "cell_type": "code",
   "execution_count": null,
   "metadata": {},
   "outputs": [],
   "source": []
  },
  {
   "cell_type": "code",
   "execution_count": null,
   "metadata": {},
   "outputs": [],
   "source": []
  },
  {
   "cell_type": "code",
   "execution_count": null,
   "metadata": {},
   "outputs": [],
   "source": []
  },
  {
   "cell_type": "code",
   "execution_count": null,
   "metadata": {},
   "outputs": [],
   "source": []
  },
  {
   "cell_type": "code",
   "execution_count": null,
   "metadata": {},
   "outputs": [],
   "source": []
  },
  {
   "cell_type": "code",
   "execution_count": 23,
   "metadata": {},
   "outputs": [],
   "source": [
    "import pandas as pd\n",
    "import numpy as np\n",
    "import geopandas as gpd\n",
    "import csv\n",
    "import json\n",
    "import sklearn\n",
    "from google.cloud import bigquery as bq\n",
    "import seaborn as sns\n",
    "import matplotlib.pyplot as plt\n",
    "import time\n",
    "\n",
    "pd.set_option('display.max_columns', None)\n",
    "pd.set_option('display.max_rows', 100)\n",
    "pd.options.mode.chained_assignment = None\n",
    "%matplotlib inline"
   ]
  },
  {
   "cell_type": "code",
   "execution_count": 129,
   "metadata": {},
   "outputs": [],
   "source": [
    "from sklearn.compose import ColumnTransformer\n",
    "from sklearn.pipeline import Pipeline\n",
    "from sklearn.impute import SimpleImputer\n",
    "from sklearn.preprocessing import StandardScaler, Normalizer, OneHotEncoder\n",
    "from sklearn.feature_selection import SelectKBest, f_regression, mutual_info_regression\n",
    "from sklearn.ensemble import RandomForestRegressor\n",
    "from sklearn.tree import DecisionTreeRegressor\n",
    "from sklearn.neighbors import KNeighborsRegressor\n",
    "from sklearn.linear_model import LinearRegression\n",
    "from sklearn.model_selection import train_test_split, ShuffleSplit, cross_val_score, GridSearchCV\n",
    "from sklearn.metrics import mean_squared_error"
   ]
  },
  {
   "cell_type": "code",
   "execution_count": null,
   "metadata": {},
   "outputs": [],
   "source": []
  },
  {
   "cell_type": "code",
   "execution_count": null,
   "metadata": {},
   "outputs": [],
   "source": []
  },
  {
   "cell_type": "code",
   "execution_count": 25,
   "metadata": {},
   "outputs": [
    {
     "data": {
      "text/html": [
       "<div>\n",
       "<style scoped>\n",
       "    .dataframe tbody tr th:only-of-type {\n",
       "        vertical-align: middle;\n",
       "    }\n",
       "\n",
       "    .dataframe tbody tr th {\n",
       "        vertical-align: top;\n",
       "    }\n",
       "\n",
       "    .dataframe thead th {\n",
       "        text-align: right;\n",
       "    }\n",
       "</style>\n",
       "<table border=\"1\" class=\"dataframe\">\n",
       "  <thead>\n",
       "    <tr style=\"text-align: right;\">\n",
       "      <th></th>\n",
       "      <th>osm_way_id</th>\n",
       "      <th>bldg_height</th>\n",
       "      <th>area</th>\n",
       "      <th>perimeter</th>\n",
       "      <th>length</th>\n",
       "      <th>building_levels</th>\n",
       "      <th>city</th>\n",
       "      <th>country</th>\n",
       "      <th>postcode</th>\n",
       "      <th>year</th>\n",
       "      <th>count_vertices</th>\n",
       "      <th>compactness</th>\n",
       "      <th>complexity</th>\n",
       "      <th>count_neighbor</th>\n",
       "      <th>state_name</th>\n",
       "    </tr>\n",
       "  </thead>\n",
       "  <tbody>\n",
       "    <tr>\n",
       "      <th>1232312</th>\n",
       "      <td>282665314</td>\n",
       "      <td>7.65</td>\n",
       "      <td>1034.167408</td>\n",
       "      <td>186.235111</td>\n",
       "      <td>62.571525</td>\n",
       "      <td>NaN</td>\n",
       "      <td>None</td>\n",
       "      <td>NL</td>\n",
       "      <td>None</td>\n",
       "      <td>1993.0</td>\n",
       "      <td>43</td>\n",
       "      <td>0.612123</td>\n",
       "      <td>32.840809</td>\n",
       "      <td>1043.0</td>\n",
       "      <td>South Holland</td>\n",
       "    </tr>\n",
       "    <tr>\n",
       "      <th>1598212</th>\n",
       "      <td>470741095</td>\n",
       "      <td>8.62</td>\n",
       "      <td>1268.696191</td>\n",
       "      <td>147.046589</td>\n",
       "      <td>53.326773</td>\n",
       "      <td>NaN</td>\n",
       "      <td>None</td>\n",
       "      <td>NL</td>\n",
       "      <td>None</td>\n",
       "      <td>2016.0</td>\n",
       "      <td>9</td>\n",
       "      <td>0.858675</td>\n",
       "      <td>24.638573</td>\n",
       "      <td>152.0</td>\n",
       "      <td>South Holland</td>\n",
       "    </tr>\n",
       "    <tr>\n",
       "      <th>609690</th>\n",
       "      <td>268734970</td>\n",
       "      <td>9.22</td>\n",
       "      <td>54.772782</td>\n",
       "      <td>30.149440</td>\n",
       "      <td>10.884133</td>\n",
       "      <td>NaN</td>\n",
       "      <td>None</td>\n",
       "      <td>NL</td>\n",
       "      <td>None</td>\n",
       "      <td>1968.0</td>\n",
       "      <td>5</td>\n",
       "      <td>0.870178</td>\n",
       "      <td>11.082508</td>\n",
       "      <td>623.0</td>\n",
       "      <td>South Holland</td>\n",
       "    </tr>\n",
       "    <tr>\n",
       "      <th>797856</th>\n",
       "      <td>290334929</td>\n",
       "      <td>9.48</td>\n",
       "      <td>65.392662</td>\n",
       "      <td>41.342501</td>\n",
       "      <td>16.128151</td>\n",
       "      <td>NaN</td>\n",
       "      <td>None</td>\n",
       "      <td>NL</td>\n",
       "      <td>None</td>\n",
       "      <td>1975.0</td>\n",
       "      <td>7</td>\n",
       "      <td>0.693382</td>\n",
       "      <td>14.538329</td>\n",
       "      <td>315.0</td>\n",
       "      <td>South Holland</td>\n",
       "    </tr>\n",
       "    <tr>\n",
       "      <th>708188</th>\n",
       "      <td>253611189</td>\n",
       "      <td>4.66</td>\n",
       "      <td>32.817785</td>\n",
       "      <td>27.912468</td>\n",
       "      <td>11.348454</td>\n",
       "      <td>NaN</td>\n",
       "      <td>None</td>\n",
       "      <td>NL</td>\n",
       "      <td>None</td>\n",
       "      <td>1971.0</td>\n",
       "      <td>8</td>\n",
       "      <td>0.727547</td>\n",
       "      <td>11.661943</td>\n",
       "      <td>154.0</td>\n",
       "      <td>South Holland</td>\n",
       "    </tr>\n",
       "  </tbody>\n",
       "</table>\n",
       "</div>"
      ],
      "text/plain": [
       "        osm_way_id  bldg_height         area   perimeter     length  \\\n",
       "1232312  282665314         7.65  1034.167408  186.235111  62.571525   \n",
       "1598212  470741095         8.62  1268.696191  147.046589  53.326773   \n",
       "609690   268734970         9.22    54.772782   30.149440  10.884133   \n",
       "797856   290334929         9.48    65.392662   41.342501  16.128151   \n",
       "708188   253611189         4.66    32.817785   27.912468  11.348454   \n",
       "\n",
       "         building_levels  city country postcode    year  count_vertices  \\\n",
       "1232312              NaN  None      NL     None  1993.0              43   \n",
       "1598212              NaN  None      NL     None  2016.0               9   \n",
       "609690               NaN  None      NL     None  1968.0               5   \n",
       "797856               NaN  None      NL     None  1975.0               7   \n",
       "708188               NaN  None      NL     None  1971.0               8   \n",
       "\n",
       "         compactness  complexity  count_neighbor     state_name  \n",
       "1232312     0.612123   32.840809          1043.0  South Holland  \n",
       "1598212     0.858675   24.638573           152.0  South Holland  \n",
       "609690      0.870178   11.082508           623.0  South Holland  \n",
       "797856      0.693382   14.538329           315.0  South Holland  \n",
       "708188      0.727547   11.661943           154.0  South Holland  "
      ]
     },
     "execution_count": 25,
     "metadata": {},
     "output_type": "execute_result"
    }
   ],
   "source": [
    "query=\"\"\"\n",
    "    SELECT\n",
    "      *\n",
    "    FROM\n",
    "      `ual3d-277909.nl.zuid_holland_ml_df`\n",
    "\"\"\"\n",
    "\n",
    "full_df = bq.Client().query(query).to_dataframe()\n",
    "ml_df = full_df.sample(frac=0.1)\n",
    "ml_df.head()"
   ]
  },
  {
   "cell_type": "code",
   "execution_count": 27,
   "metadata": {},
   "outputs": [
    {
     "name": "stdout",
     "output_type": "stream",
     "text": [
      "(163867, 15)\n"
     ]
    }
   ],
   "source": [
    "print(ml_df.shape)"
   ]
  },
  {
   "cell_type": "code",
   "execution_count": 29,
   "metadata": {},
   "outputs": [
    {
     "name": "stdout",
     "output_type": "stream",
     "text": [
      "osm_way_id          object\n",
      "bldg_height        float64\n",
      "area               float64\n",
      "perimeter          float64\n",
      "length             float64\n",
      "building_levels    float64\n",
      "city                object\n",
      "country             object\n",
      "postcode            object\n",
      "year               float64\n",
      "count_vertices       int64\n",
      "compactness        float64\n",
      "complexity         float64\n",
      "count_neighbor     float64\n",
      "state_name          object\n",
      "dtype: object\n"
     ]
    }
   ],
   "source": [
    "print(ml_df.dtypes)"
   ]
  },
  {
   "cell_type": "code",
   "execution_count": 30,
   "metadata": {},
   "outputs": [
    {
     "data": {
      "text/plain": [
       "bldg_height         float64\n",
       "area                float64\n",
       "perimeter           float64\n",
       "length              float64\n",
       "building_levels     float64\n",
       "city               category\n",
       "country            category\n",
       "postcode           category\n",
       "year                float64\n",
       "count_vertices        int64\n",
       "compactness         float64\n",
       "complexity          float64\n",
       "count_neighbor      float64\n",
       "state_name         category\n",
       "dtype: object"
      ]
     },
     "execution_count": 30,
     "metadata": {},
     "output_type": "execute_result"
    }
   ],
   "source": [
    "ml_df.set_index('osm_way_id', inplace=True)\n",
    "\n",
    "ml_df[\"city\"] = ml_df[\"city\"].astype(\"category\")\n",
    "ml_df[\"postcode\"] = ml_df[\"postcode\"].astype(\"category\")\n",
    "ml_df[\"country\"] = ml_df[\"country\"].astype(\"category\")\n",
    "ml_df[\"state_name\"] = ml_df[\"state_name\"].astype(\"category\")\n",
    "\n",
    "ml_df.dtypes"
   ]
  },
  {
   "cell_type": "code",
   "execution_count": 31,
   "metadata": {},
   "outputs": [
    {
     "name": "stdout",
     "output_type": "stream",
     "text": [
      "count unique city: 38\n",
      "unique city: [NaN, 's-Gravenhage, Zoetermeer, Voorburg, Rotterdam, ..., Sassenheim, Kinderdijk, Honselersdijk, Papendrecht, Hendrik-Ido-Ambacht]\n",
      "Length: 38\n",
      "Categories (37, object): ['s-Gravenhage, Zoetermeer, Voorburg, Rotterdam, ..., Kinderdijk, Honselersdijk, Papendrecht, Hendrik-Ido-Ambacht]\n",
      "\n",
      "count unique postcode: 81\n",
      "unique postcode: [NaN, 2571PV, 2718CX, 2518GX, 2611CG, ..., 2245AB, 3131HA, 2552EN, 2631PA, 3341VC]\n",
      "Length: 81\n",
      "Categories (80, object): [2571PV, 2718CX, 2518GX, 2611CG, ..., 3131HA, 2552EN, 2631PA, 3341VC]\n",
      "\n",
      "count unique year: 380\n",
      "unique year: [1993. 2016. 1968. 1975. 1971. 1990. 1988. 1934. 1973. 1950. 1981. 1910.\n",
      " 1978. 1980. 2017. 1961. 1994. 1999. 1949. 1927. 1986. 2013. 1995. 1997.\n",
      " 1977. 1958. 1979. 1935. 2003. 2005. 1940. 1750. 1976. 1930. 1965. 1991.\n",
      " 1956. 2019. 1966. 2002. 1923. 1960. 1928. 2010. 1972. 1943. 1984. 2008.\n",
      " 2009. 1989. 1941. 1970. 2018. 1998. 1992. 1897. 1962. 1957. 2000. 1903.\n",
      " 1955. 1967. 1987. 2007. 1963. 1982. 2001. 2015. 1964. 1906. 2004. 2011.\n",
      " 1951. 1900. 1983. 1921. 1880. 1969. 1959. 1924. 1936. 1974. 1954. 1952.\n",
      " 1932. 1908. 1985. 1905. 1953. 1914. 1926. 1931. 2014. 1917. 1912. 1895.\n",
      " 1663. 1922. 1920. 1933. 2006. 1996. 1915. 1937. 1925. 1948. 1929. 1939.\n",
      " 1938. 1738. 1904. 1650. 1630. 1918. 1947. 1899. 1913. 1825. 1911. 1909.\n",
      " 1862. 1860. 1874. 1890. 1850. 1859. 1919. 1902. 2012. 1786. 1753. 1875.\n",
      " 1916. 1907. 1800. 1863. 1869. 1879. 1870. 1898. 1840. 1894. 1754. 1853.\n",
      " 1944. 1896. 1886. 1868. 1888. 1887. 1885. 1872. 1881. 1867. 1942. 1883.\n",
      " 1901. 1946. 1945. 1893. 1820. 1804. 1876. 1873. 1730. 1425. 1891. 1892.\n",
      " 1878. 1725. 1855. 1500. 1778. 1830. 1762. 1570. 1646. 1636. 1653. 1882.\n",
      " 1723. 1622. 1700. 1824. 1865. 1866. 1505. 1861. 1884. 1703. 1450. 1877.\n",
      " 1823. 1739. 1550. 1799. 1501. 1889. 1675. 1656. 1683. 1654. 1785. 1816.\n",
      " 1729. 1717. 1871. 1760. 1721. 1803. 1837. 1751. 1856.   nan 2020. 1597.\n",
      " 1624. 1635. 1790. 1836. 1611. 1643. 1645. 1839. 1829. 1665. 1604. 1731.\n",
      " 1771. 1644. 1672. 1670. 1583. 1660. 1605. 1810. 1671. 1682. 1826. 1852.\n",
      " 1845. 1793. 1244. 1625. 1755. 1832. 1709. 1783. 1681. 1846. 1658. 1743.\n",
      " 1616. 1600. 1794. 1775. 1847. 1732. 1858. 1813. 1400. 1801. 1480. 1369.\n",
      " 1475. 1740. 1615. 1530. 1456. 1727. 1687. 1609. 1455. 1458. 1814. 1806.\n",
      " 1679. 1777. 1811. 1714. 1457. 1841. 1779. 1701. 1844. 1780. 1842. 1510.\n",
      " 1657. 1770. 1745. 1540. 1707. 1617. 1632. 1578. 1734. 1784. 1580. 1706.\n",
      " 1575. 1833. 1843. 1693. 1848. 1720. 1648. 1851. 1631. 1834. 1496. 1728.\n",
      " 1549. 1789. 1831. 1756. 1781. 1791. 1835. 1651. 1828. 1499. 1668. 1696.\n",
      " 1719. 1634. 1854. 1694. 1690. 1749. 1595. 1773. 1742. 1551. 1849. 1591.\n",
      " 1156. 1409. 1310. 1639. 1610. 1523. 1620. 1712. 1659. 1445. 1822. 1691.\n",
      " 1640. 1710. 1722. 1674. 1623. 1788. 1666. 1795. 1695. 1509. 1585. 1716.\n",
      " 1864. 1699. 1364. 1766. 1763. 1642. 1647. 1772. 1673. 1809. 1838. 1601.\n",
      " 1607. 1652. 1807. 1560. 1539. 1525. 1546. 1857.]\n"
     ]
    }
   ],
   "source": [
    "print('count unique city:', len(pd.unique(ml_df['city'])))\n",
    "print('unique city:', pd.unique(ml_df['city']))\n",
    "\n",
    "print('\\ncount unique postcode:', len(pd.unique(ml_df['postcode'])))\n",
    "print('unique postcode:', pd.unique(ml_df['postcode']))\n",
    "\n",
    "print('\\ncount unique year:', len(pd.unique(ml_df['year'])))\n",
    "print('unique year:', pd.unique(ml_df['year']))"
   ]
  },
  {
   "cell_type": "code",
   "execution_count": 32,
   "metadata": {},
   "outputs": [
    {
     "data": {
      "text/plain": [
       "bldg_height             0\n",
       "area                    0\n",
       "perimeter               0\n",
       "length                  0\n",
       "building_levels    161554\n",
       "city               163781\n",
       "country                 0\n",
       "postcode           163782\n",
       "year                   15\n",
       "count_vertices          0\n",
       "compactness             0\n",
       "complexity              0\n",
       "count_neighbor         25\n",
       "state_name              0\n",
       "dtype: int64"
      ]
     },
     "execution_count": 32,
     "metadata": {},
     "output_type": "execute_result"
    }
   ],
   "source": [
    "ml_df.isna().sum()\n"
   ]
  },
  {
   "cell_type": "code",
   "execution_count": 33,
   "metadata": {},
   "outputs": [],
   "source": [
    "label_col = [\"bldg_height\"]\n",
    "num_cols = [\"area\", \"perimeter\", \"length\", \"building_levels\", \"year\", \"count_vertices\", \"compactness\", \"complexity\", \"count_neighbor\"]\n",
    "# num_cols = [\"area\", \"perimeter\", \"length\", \"building_levels\", \"year\", \"count_vertices\", \"compactness\", \"complexity\"]\n",
    "cat_cols = [\"city\", \"postcode\"]\n",
    "# cat_cols = [col for col in df.columns if col not in (num_cols + label_col)]\n",
    "# drop country as it is irrelevant in this model\n",
    "ml_df = ml_df.drop(['country', 'state_name'], axis=1)\n",
    "# drop count_neighbor for now as it is irrelevant in this model\n",
    "# ml_df = ml_df.drop('count_neighbor', axis=1)"
   ]
  },
  {
   "cell_type": "code",
   "execution_count": null,
   "metadata": {},
   "outputs": [],
   "source": []
  },
  {
   "cell_type": "code",
   "execution_count": 46,
   "metadata": {},
   "outputs": [],
   "source": [
    "cat_df_10prct = ml_df[cat_cols]\n",
    "num_df_10prct = ml_df[num_cols]\n"
   ]
  },
  {
   "cell_type": "code",
   "execution_count": 47,
   "metadata": {},
   "outputs": [
    {
     "data": {
      "text/html": [
       "<div>\n",
       "<style scoped>\n",
       "    .dataframe tbody tr th:only-of-type {\n",
       "        vertical-align: middle;\n",
       "    }\n",
       "\n",
       "    .dataframe tbody tr th {\n",
       "        vertical-align: top;\n",
       "    }\n",
       "\n",
       "    .dataframe thead th {\n",
       "        text-align: right;\n",
       "    }\n",
       "</style>\n",
       "<table border=\"1\" class=\"dataframe\">\n",
       "  <thead>\n",
       "    <tr style=\"text-align: right;\">\n",
       "      <th></th>\n",
       "      <th>area</th>\n",
       "      <th>perimeter</th>\n",
       "      <th>length</th>\n",
       "      <th>building_levels</th>\n",
       "      <th>year</th>\n",
       "      <th>count_vertices</th>\n",
       "      <th>compactness</th>\n",
       "      <th>complexity</th>\n",
       "      <th>count_neighbor</th>\n",
       "    </tr>\n",
       "  </thead>\n",
       "  <tbody>\n",
       "    <tr>\n",
       "      <th>count</th>\n",
       "      <td>163867.000000</td>\n",
       "      <td>163867.000000</td>\n",
       "      <td>163867.000000</td>\n",
       "      <td>2313.000000</td>\n",
       "      <td>163852.000000</td>\n",
       "      <td>163867.000000</td>\n",
       "      <td>163867.000000</td>\n",
       "      <td>163867.000000</td>\n",
       "      <td>163842.000000</td>\n",
       "    </tr>\n",
       "    <tr>\n",
       "      <th>mean</th>\n",
       "      <td>128.019831</td>\n",
       "      <td>34.218164</td>\n",
       "      <td>12.420241</td>\n",
       "      <td>1.553394</td>\n",
       "      <td>1970.038645</td>\n",
       "      <td>7.304619</td>\n",
       "      <td>0.820669</td>\n",
       "      <td>11.469473</td>\n",
       "      <td>627.781137</td>\n",
       "    </tr>\n",
       "    <tr>\n",
       "      <th>std</th>\n",
       "      <td>1186.409746</td>\n",
       "      <td>42.726507</td>\n",
       "      <td>15.009008</td>\n",
       "      <td>1.768092</td>\n",
       "      <td>36.983610</td>\n",
       "      <td>5.236873</td>\n",
       "      <td>0.069769</td>\n",
       "      <td>5.116812</td>\n",
       "      <td>307.718882</td>\n",
       "    </tr>\n",
       "    <tr>\n",
       "      <th>min</th>\n",
       "      <td>0.141041</td>\n",
       "      <td>3.282065</td>\n",
       "      <td>1.181298</td>\n",
       "      <td>-1.000000</td>\n",
       "      <td>1156.000000</td>\n",
       "      <td>4.000000</td>\n",
       "      <td>0.177021</td>\n",
       "      <td>3.651454</td>\n",
       "      <td>1.000000</td>\n",
       "    </tr>\n",
       "    <tr>\n",
       "      <th>25%</th>\n",
       "      <td>10.990359</td>\n",
       "      <td>13.790559</td>\n",
       "      <td>5.038831</td>\n",
       "      <td>1.000000</td>\n",
       "      <td>1957.000000</td>\n",
       "      <td>5.000000</td>\n",
       "      <td>0.792292</td>\n",
       "      <td>7.561842</td>\n",
       "      <td>430.000000</td>\n",
       "    </tr>\n",
       "    <tr>\n",
       "      <th>50%</th>\n",
       "      <td>49.974406</td>\n",
       "      <td>29.722637</td>\n",
       "      <td>10.841567</td>\n",
       "      <td>1.000000</td>\n",
       "      <td>1976.000000</td>\n",
       "      <td>5.000000</td>\n",
       "      <td>0.844006</td>\n",
       "      <td>11.124068</td>\n",
       "      <td>640.000000</td>\n",
       "    </tr>\n",
       "    <tr>\n",
       "      <th>75%</th>\n",
       "      <td>71.076536</td>\n",
       "      <td>38.721033</td>\n",
       "      <td>14.275359</td>\n",
       "      <td>1.000000</td>\n",
       "      <td>1993.000000</td>\n",
       "      <td>8.000000</td>\n",
       "      <td>0.872043</td>\n",
       "      <td>13.309009</td>\n",
       "      <td>835.000000</td>\n",
       "    </tr>\n",
       "    <tr>\n",
       "      <th>max</th>\n",
       "      <td>101870.148481</td>\n",
       "      <td>2379.435915</td>\n",
       "      <td>569.028489</td>\n",
       "      <td>32.000000</td>\n",
       "      <td>2020.000000</td>\n",
       "      <td>366.000000</td>\n",
       "      <td>0.999942</td>\n",
       "      <td>140.535339</td>\n",
       "      <td>2130.000000</td>\n",
       "    </tr>\n",
       "  </tbody>\n",
       "</table>\n",
       "</div>"
      ],
      "text/plain": [
       "                area      perimeter         length  building_levels  \\\n",
       "count  163867.000000  163867.000000  163867.000000      2313.000000   \n",
       "mean      128.019831      34.218164      12.420241         1.553394   \n",
       "std      1186.409746      42.726507      15.009008         1.768092   \n",
       "min         0.141041       3.282065       1.181298        -1.000000   \n",
       "25%        10.990359      13.790559       5.038831         1.000000   \n",
       "50%        49.974406      29.722637      10.841567         1.000000   \n",
       "75%        71.076536      38.721033      14.275359         1.000000   \n",
       "max    101870.148481    2379.435915     569.028489        32.000000   \n",
       "\n",
       "                year  count_vertices    compactness     complexity  \\\n",
       "count  163852.000000   163867.000000  163867.000000  163867.000000   \n",
       "mean     1970.038645        7.304619       0.820669      11.469473   \n",
       "std        36.983610        5.236873       0.069769       5.116812   \n",
       "min      1156.000000        4.000000       0.177021       3.651454   \n",
       "25%      1957.000000        5.000000       0.792292       7.561842   \n",
       "50%      1976.000000        5.000000       0.844006      11.124068   \n",
       "75%      1993.000000        8.000000       0.872043      13.309009   \n",
       "max      2020.000000      366.000000       0.999942     140.535339   \n",
       "\n",
       "       count_neighbor  \n",
       "count   163842.000000  \n",
       "mean       627.781137  \n",
       "std        307.718882  \n",
       "min          1.000000  \n",
       "25%        430.000000  \n",
       "50%        640.000000  \n",
       "75%        835.000000  \n",
       "max       2130.000000  "
      ]
     },
     "execution_count": 47,
     "metadata": {},
     "output_type": "execute_result"
    }
   ],
   "source": [
    "num_df_10prct.describe()"
   ]
  },
  {
   "cell_type": "code",
   "execution_count": 48,
   "metadata": {},
   "outputs": [
    {
     "data": {
      "image/png": "[encoded data removed]",
      "text/plain": [
       "<Figure size 1728x648 with 9 Axes>"
      ]
     },
     "metadata": {
      "needs_background": "light"
     },
     "output_type": "display_data"
    }
   ],
   "source": [
    "\n",
    "num_df_10prct.plot(kind='box', subplots=True, figsize=(24,9))\n",
    "plt.plot()\n",
    "plt.savefig('model_cv_multicollinearity_10prct/run0/exploratory/south_holland_basic_distribution_null.png')"
   ]
  },
  {
   "cell_type": "code",
   "execution_count": null,
   "metadata": {},
   "outputs": [],
   "source": []
  },
  {
   "cell_type": "code",
   "execution_count": null,
   "metadata": {},
   "outputs": [],
   "source": []
  },
  {
   "cell_type": "code",
   "execution_count": 37,
   "metadata": {},
   "outputs": [],
   "source": [
    "X = ml_df.drop('bldg_height', axis=1)\n",
    "y = ml_df['bldg_height']\n",
    "\n",
    "X_train, X_test, y_train, y_test = train_test_split(X, y, test_size=0.2, random_state=69)"
   ]
  },
  {
   "cell_type": "code",
   "execution_count": null,
   "metadata": {},
   "outputs": [],
   "source": []
  },
  {
   "cell_type": "code",
   "execution_count": null,
   "metadata": {},
   "outputs": [],
   "source": []
  },
  {
   "cell_type": "code",
   "execution_count": 38,
   "metadata": {},
   "outputs": [
    {
     "data": {
      "text/plain": [
       "(163867, 11)"
      ]
     },
     "execution_count": 38,
     "metadata": {},
     "output_type": "execute_result"
    }
   ],
   "source": [
    "X.shape"
   ]
  },
  {
   "cell_type": "code",
   "execution_count": 39,
   "metadata": {},
   "outputs": [
    {
     "data": {
      "text/plain": [
       "(163867,)"
      ]
     },
     "execution_count": 39,
     "metadata": {},
     "output_type": "execute_result"
    }
   ],
   "source": [
    "y.shape"
   ]
  },
  {
   "cell_type": "code",
   "execution_count": 40,
   "metadata": {},
   "outputs": [],
   "source": [
    "mean_transformer = Pipeline(steps=[\n",
    "    ('imputer', SimpleImputer(strategy='mean')),\n",
    "    ('normalizer', Normalizer())])\n",
    "\n",
    "freq_transformer = Pipeline(steps=[\n",
    "    ('imputer', SimpleImputer(strategy='most_frequent')),\n",
    "    ('normalizer', Normalizer())])\n",
    "\n",
    "zero_transformer = Pipeline(steps=[\n",
    "    ('imputer', SimpleImputer(strategy='constant', fill_value=0)),\n",
    "    ('normalizer', Normalizer())])"
   ]
  },
  {
   "cell_type": "code",
   "execution_count": 41,
   "metadata": {},
   "outputs": [],
   "source": [
    "cat_transformer = Pipeline(steps=[\n",
    "    ('imputer', SimpleImputer(strategy='constant', fill_value='NA')),\n",
    "    ('onehot', OneHotEncoder(handle_unknown='ignore'))])"
   ]
  },
  {
   "cell_type": "code",
   "execution_count": null,
   "metadata": {},
   "outputs": [],
   "source": []
  },
  {
   "cell_type": "code",
   "execution_count": 42,
   "metadata": {},
   "outputs": [],
   "source": [
    "preprocessor = ColumnTransformer(transformers=[\n",
    "        ('mean_transformer', mean_transformer, [\"year\"]),\n",
    "        ('freq_transformer', freq_transformer, [\"building_levels\"]),\n",
    "        ('zero_transformer', zero_transformer, [\"count_neighbor\"]),\n",
    "        ('cat_transfomer', cat_transformer, cat_cols)])"
   ]
  },
  {
   "cell_type": "code",
   "execution_count": null,
   "metadata": {},
   "outputs": [],
   "source": []
  },
  {
   "cell_type": "code",
   "execution_count": null,
   "metadata": {},
   "outputs": [],
   "source": []
  },
  {
   "cell_type": "code",
   "execution_count": 19,
   "metadata": {},
   "outputs": [],
   "source": [
    "from sklearn.ensemble import RandomForestRegressor, AdaBoostRegressor, GradientBoostingRegressor, BaggingRegressor\n",
    "from sklearn.tree import DecisionTreeRegressor\n",
    "from sklearn.neighbors import KNeighborsRegressor\n",
    "from sklearn.linear_model import LinearRegression"
   ]
  },
  {
   "cell_type": "code",
   "execution_count": null,
   "metadata": {},
   "outputs": [],
   "source": []
  },
  {
   "cell_type": "code",
   "execution_count": 39,
   "metadata": {},
   "outputs": [
    {
     "name": "stdout",
     "output_type": "stream",
     "text": [
      "['accuracy', 'adjusted_mutual_info_score', 'adjusted_rand_score', 'average_precision', 'balanced_accuracy', 'completeness_score', 'explained_variance', 'f1', 'f1_macro', 'f1_micro', 'f1_samples', 'f1_weighted', 'fowlkes_mallows_score', 'homogeneity_score', 'jaccard', 'jaccard_macro', 'jaccard_micro', 'jaccard_samples', 'jaccard_weighted', 'max_error', 'mutual_info_score', 'neg_brier_score', 'neg_log_loss', 'neg_mean_absolute_error', 'neg_mean_gamma_deviance', 'neg_mean_poisson_deviance', 'neg_mean_squared_error', 'neg_mean_squared_log_error', 'neg_median_absolute_error', 'neg_root_mean_squared_error', 'normalized_mutual_info_score', 'precision', 'precision_macro', 'precision_micro', 'precision_samples', 'precision_weighted', 'r2', 'recall', 'recall_macro', 'recall_micro', 'recall_samples', 'recall_weighted', 'roc_auc', 'roc_auc_ovo', 'roc_auc_ovo_weighted', 'roc_auc_ovr', 'roc_auc_ovr_weighted', 'v_measure_score']\n"
     ]
    }
   ],
   "source": [
    "print(sorted(sklearn.metrics.SCORERS.keys()) )"
   ]
  },
  {
   "cell_type": "code",
   "execution_count": 43,
   "metadata": {},
   "outputs": [],
   "source": [
    "regressors = []\n",
    "regressors.append(('LR', LinearRegression()))\n",
    "regressors.append(('DT', DecisionTreeRegressor()))\n",
    "# regressors.append(('DT', DecisionTreeRegressor(max_depth=30, random_state=42)))\n",
    "regressors.append(('KNN', KNeighborsRegressor()))\n",
    "# regressors.append(('KNN', KNeighborsRegressor(n_neighborsint=30, weights=\"distance\")))\n",
    "regressors.append(('RF', RandomForestRegressor()))\n",
    "# regressors.append(('RF', RandomForestRegressor(n_estimators=100, max_depth=10)))\n",
    "regressors.append(('AB', AdaBoostRegressor()))\n",
    "regressors.append(('B', BaggingRegressor()))\n",
    "regressors.append(('GB', GradientBoostingRegressor()))\n"
   ]
  },
  {
   "cell_type": "code",
   "execution_count": null,
   "metadata": {},
   "outputs": [],
   "source": []
  },
  {
   "cell_type": "code",
   "execution_count": null,
   "metadata": {},
   "outputs": [],
   "source": []
  },
  {
   "cell_type": "code",
   "execution_count": null,
   "metadata": {},
   "outputs": [],
   "source": []
  },
  {
   "cell_type": "code",
   "execution_count": 65,
   "metadata": {},
   "outputs": [],
   "source": [
    "mae_reg_scores = {}"
   ]
  },
  {
   "cell_type": "code",
   "execution_count": 73,
   "metadata": {},
   "outputs": [
    {
     "name": "stdout",
     "output_type": "stream",
     "text": [
      "LR: avg: -3.122177 (std: 0.002971, max: -3.117985, min: -3.127164) took 0.583108 seconds\n",
      "DT: avg: -3.122294 (std: 0.003501, max: -3.118538, min: -3.128716) took 0.619183 seconds\n",
      "KNN: avg: -3.281548 (std: 0.223241, max: -3.105337, min: -3.656609) took 0.580567 seconds\n",
      "RF: avg: -3.121660 (std: 0.002907, max: -3.118218, min: -3.126913) took 0.584553 seconds\n",
      "AB: avg: -3.118173 (std: 0.004327, max: -3.113264, min: -3.124869) took 0.601068 seconds\n",
      "B: avg: -3.121923 (std: 0.002858, max: -3.118438, min: -3.126988) took 0.608253 seconds\n",
      "GB: avg: -3.121648 (std: 0.002924, max: -3.117884, min: -3.126798) took 0.618406 seconds\n"
     ]
    }
   ],
   "source": [
    "for name, regressor in regressors:\n",
    "    cv = ShuffleSplit(n_splits=5, test_size=.2, random_state=42)\n",
    "    mdl_pipeline = Pipeline(steps=[('preprocessor', preprocessor), ('regressor', regressor)])\n",
    "    tic = time.process_time()\n",
    "    scores = cross_val_score(mdl_pipeline, X_train, y_train, cv=cv, scoring='neg_mean_absolute_error', error_score='raise', n_jobs=-1)\n",
    "    toc = time.process_time()\n",
    "    elapsed_time = toc - tic\n",
    "    mae_reg_scores[name] = scores\n",
    "    msg = \"%s: avg: %f (std: %f, max: %f, min: %f) took %f seconds\" % (name, scores.mean(), scores.std(), scores.max(), scores.min(), elapsed_time)\n",
    "    print(msg)"
   ]
  },
  {
   "cell_type": "code",
   "execution_count": 103,
   "metadata": {},
   "outputs": [
    {
     "data": {
      "text/plain": [
       "{'LR': array([-3.1271638 , -3.12201071, -3.11798487, -3.12272322, -3.12100364]),\n",
       " 'DT': array([-3.12871556, -3.1215762 , -3.11853773, -3.1226472 , -3.11999578]),\n",
       " 'RF': array([-3.12691337, -3.12123238, -3.11821759, -3.12188063, -3.12005685]),\n",
       " 'AB': array([-3.12486903, -3.11697878, -3.11326381, -3.12127242, -3.11448194]),\n",
       " 'B': array([-3.12698816, -3.12162678, -3.11843788, -3.12231569, -3.12024783]),\n",
       " 'GB': array([-3.12679802, -3.12105487, -3.11788384, -3.12209045, -3.12041422]),\n",
       " 'KNN': array([-3.65660918, -3.11779824, -3.10533659, -3.4221624 , -3.10583493])}"
      ]
     },
     "execution_count": 103,
     "metadata": {},
     "output_type": "execute_result"
    }
   ],
   "source": [
    "mae_reg_scores"
   ]
  },
  {
   "cell_type": "code",
   "execution_count": 76,
   "metadata": {},
   "outputs": [
    {
     "data": {
      "image/png": "[encoded data removed]",
      "text/plain": [
       "<Figure size 1152x648 with 1 Axes>"
      ]
     },
     "metadata": {
      "needs_background": "light"
     },
     "output_type": "display_data"
    }
   ],
   "source": [
    "fig = plt.figure(figsize=(16,9))\n",
    "fig.suptitle('Algorithm Comparison')\n",
    "ax = fig.add_subplot (111)\n",
    "\n",
    "plt.boxplot(mae_reg_scores.values())\n",
    "ax.set_xticklabels(mae_reg_scores.keys())\n",
    "\n",
    "plt.tight_layout()\n",
    "plt.plot()\n",
    "plt.xlabel('Models')\n",
    "plt.ylabel('Negated MAE Scores')\n",
    "plt.savefig('model_cv_multicollinearity_10prct/run0/normalizer/South-Holland-10prct_MAE.png', dpi=600)"
   ]
  },
  {
   "cell_type": "code",
   "execution_count": null,
   "metadata": {},
   "outputs": [],
   "source": []
  },
  {
   "cell_type": "code",
   "execution_count": 102,
   "metadata": {},
   "outputs": [
    {
     "data": {
      "text/plain": [
       "{'LR': array([3.1271638 , 3.12201071, 3.11798487, 3.12272322, 3.12100364]),\n",
       " 'DT': array([3.12871556, 3.1215762 , 3.11853773, 3.1226472 , 3.11999578]),\n",
       " 'RF': array([3.12691337, 3.12123238, 3.11821759, 3.12188063, 3.12005685]),\n",
       " 'AB': array([3.12486903, 3.11697878, 3.11326381, 3.12127242, 3.11448194]),\n",
       " 'B': array([3.12698816, 3.12162678, 3.11843788, 3.12231569, 3.12024783]),\n",
       " 'GB': array([3.12679802, 3.12105487, 3.11788384, 3.12209045, 3.12041422]),\n",
       " 'KNN': array([3.65660918, 3.11779824, 3.10533659, 3.4221624 , 3.10583493])}"
      ]
     },
     "execution_count": 102,
     "metadata": {},
     "output_type": "execute_result"
    }
   ],
   "source": [
    "abs_mae_reg_scores = {}\n",
    "for k, v in mae_reg_scores.items():\n",
    "    abs_mae_reg_scores[k] = np.absolute(v)"
   ]
  },
  {
   "cell_type": "code",
   "execution_count": 104,
   "metadata": {},
   "outputs": [
    {
     "data": {
      "image/png": "[encoded data removed]",
      "text/plain": [
       "<Figure size 1152x648 with 1 Axes>"
      ]
     },
     "metadata": {
      "needs_background": "light"
     },
     "output_type": "display_data"
    }
   ],
   "source": [
    "fig = plt.figure(figsize=(16,9))\n",
    "fig.suptitle('Algorithm Comparison')\n",
    "ax = fig.add_subplot (111)\n",
    "\n",
    "\n",
    "plt.boxplot(abs_mae_reg_scores.values())\n",
    "ax.set_xticklabels(abs_mae_reg_scores.keys())\n",
    "\n",
    "plt.tight_layout()\n",
    "plt.plot()\n",
    "plt.xlabel('Models')\n",
    "plt.ylabel('Absolute MAE Scores')\n",
    "plt.savefig('model_cv_multicollinearity_10prct/run0/normalizer/South-Holland-10prct_ABS-MAE.png', dpi=600)"
   ]
  },
  {
   "cell_type": "code",
   "execution_count": 106,
   "metadata": {},
   "outputs": [
    {
     "data": {
      "text/plain": [
       "{'LR': array([-3.1271638 , -3.12201071, -3.11798487, -3.12272322, -3.12100364]),\n",
       " 'DT': array([-3.12871556, -3.1215762 , -3.11853773, -3.1226472 , -3.11999578]),\n",
       " 'RF': array([-3.12691337, -3.12123238, -3.11821759, -3.12188063, -3.12005685]),\n",
       " 'AB': array([-3.12486903, -3.11697878, -3.11326381, -3.12127242, -3.11448194]),\n",
       " 'B': array([-3.12698816, -3.12162678, -3.11843788, -3.12231569, -3.12024783]),\n",
       " 'GB': array([-3.12679802, -3.12105487, -3.11788384, -3.12209045, -3.12041422])}"
      ]
     },
     "execution_count": 106,
     "metadata": {},
     "output_type": "execute_result"
    }
   ],
   "source": [
    "\n",
    "if 'KNN' in mae_reg_scores.keys():\n",
    "    del mae_reg_scores['KNN'] \n",
    "mae_reg_scores"
   ]
  },
  {
   "cell_type": "code",
   "execution_count": null,
   "metadata": {},
   "outputs": [],
   "source": []
  },
  {
   "cell_type": "code",
   "execution_count": 107,
   "metadata": {},
   "outputs": [
    {
     "data": {
      "image/png": "[encoded data removed]",
      "text/plain": [
       "<Figure size 1152x648 with 1 Axes>"
      ]
     },
     "metadata": {
      "needs_background": "light"
     },
     "output_type": "display_data"
    }
   ],
   "source": [
    "fig = plt.figure(figsize=(16,9))\n",
    "fig.suptitle('Algorithm Comparison')\n",
    "ax = fig.add_subplot(111)\n",
    "\n",
    "plt.boxplot(mae_reg_scores.values())\n",
    "ax.set_xticklabels(mae_reg_scores.keys())\n",
    "\n",
    "plt.tight_layout()\n",
    "plt.plot()\n",
    "plt.xlabel('Models')\n",
    "plt.ylabel('Negated MAE Scores')\n",
    "plt.savefig('model_cv_multicollinearity_10prct/run0/normalizer/South-Holland-10prct_MAE_Except-KNN.png', dpi=600)\n"
   ]
  },
  {
   "cell_type": "code",
   "execution_count": 105,
   "metadata": {},
   "outputs": [
    {
     "data": {
      "text/plain": [
       "{'LR': array([3.1271638 , 3.12201071, 3.11798487, 3.12272322, 3.12100364]),\n",
       " 'DT': array([3.12871556, 3.1215762 , 3.11853773, 3.1226472 , 3.11999578]),\n",
       " 'RF': array([3.12691337, 3.12123238, 3.11821759, 3.12188063, 3.12005685]),\n",
       " 'AB': array([3.12486903, 3.11697878, 3.11326381, 3.12127242, 3.11448194]),\n",
       " 'B': array([3.12698816, 3.12162678, 3.11843788, 3.12231569, 3.12024783]),\n",
       " 'GB': array([3.12679802, 3.12105487, 3.11788384, 3.12209045, 3.12041422])}"
      ]
     },
     "execution_count": 105,
     "metadata": {},
     "output_type": "execute_result"
    }
   ],
   "source": [
    "if 'KNN' in abs_mae_reg_scores.keys():\n",
    "    del abs_mae_reg_scores['KNN'] \n",
    "abs_mae_reg_scores"
   ]
  },
  {
   "cell_type": "code",
   "execution_count": 109,
   "metadata": {},
   "outputs": [
    {
     "data": {
      "image/png": "[encoded data removed]",
      "text/plain": [
       "<Figure size 1152x648 with 1 Axes>"
      ]
     },
     "metadata": {
      "needs_background": "light"
     },
     "output_type": "display_data"
    }
   ],
   "source": [
    "fig = plt.figure(figsize=(16,9))\n",
    "fig.suptitle('Algorithm Comparison')\n",
    "ax = fig.add_subplot(111)\n",
    "\n",
    "plt.boxplot(abs_mae_reg_scores.values())\n",
    "ax.set_xticklabels(abs_mae_reg_scores.keys())\n",
    "\n",
    "plt.tight_layout()\n",
    "plt.plot()\n",
    "plt.xlabel('Models')\n",
    "plt.ylabel('Absolute MAE Scores')\n",
    "plt.savefig('model_cv_multicollinearity_10prct/run0/normalizer/South-Holland-10prct_ABS-MAE_Except-KNN.png', dpi=600)"
   ]
  },
  {
   "cell_type": "code",
   "execution_count": null,
   "metadata": {},
   "outputs": [],
   "source": []
  },
  {
   "cell_type": "code",
   "execution_count": null,
   "metadata": {},
   "outputs": [],
   "source": []
  },
  {
   "cell_type": "code",
   "execution_count": 110,
   "metadata": {},
   "outputs": [],
   "source": [
    "mse_reg_scores = {}"
   ]
  },
  {
   "cell_type": "code",
   "execution_count": 111,
   "metadata": {},
   "outputs": [
    {
     "name": "stdout",
     "output_type": "stream",
     "text": [
      "LR: avg: -14.257174 (std: 0.116667, max: -14.084465, min: -14.426079) took 1.375414 seconds\n",
      "DT: avg: -14.266771 (std: 0.114532, max: -14.078789, min: -14.425465) took 0.572624 seconds\n",
      "KNN: avg: -17.389747 (std: 3.809626, max: -14.239313, min: -23.344212) took 0.601124 seconds\n",
      "RF: avg: -14.255489 (std: 0.119385, max: -14.079912, min: -14.426206) took 0.565534 seconds\n",
      "AB: avg: -14.312931 (std: 0.124268, max: -14.111028, min: -14.482147) took 0.559760 seconds\n",
      "B: avg: -14.254560 (std: 0.115528, max: -14.081160, min: -14.412298) took 0.583990 seconds\n",
      "GB: avg: -14.252340 (std: 0.118092, max: -14.079441, min: -14.423220) took 0.598116 seconds\n"
     ]
    }
   ],
   "source": [
    "for name, regressor in regressors:\n",
    "    cv = ShuffleSplit(n_splits=5, test_size=.2, random_state=42)\n",
    "    mdl_pipeline = Pipeline(steps=[('preprocessor', preprocessor), ('regressor', regressor)])\n",
    "    tic = time.process_time()\n",
    "    scores = cross_val_score(mdl_pipeline, X_train, y_train, cv=cv, scoring='neg_mean_squared_error', error_score='raise', n_jobs=-1)\n",
    "    toc = time.process_time()\n",
    "    elapsed_time = toc - tic\n",
    "    mse_reg_scores[name] = scores\n",
    "    msg = \"%s: avg: %f (std: %f, max: %f, min: %f) took %f seconds\" % (name, scores.mean(), scores.std(), scores.max(), scores.min(), elapsed_time)\n",
    "    print(msg)"
   ]
  },
  {
   "cell_type": "code",
   "execution_count": null,
   "metadata": {},
   "outputs": [],
   "source": []
  },
  {
   "cell_type": "code",
   "execution_count": null,
   "metadata": {},
   "outputs": [],
   "source": []
  },
  {
   "cell_type": "code",
   "execution_count": 112,
   "metadata": {},
   "outputs": [
    {
     "data": {
      "image/png": "[encoded data removed]",
      "text/plain": [
       "<Figure size 1152x648 with 1 Axes>"
      ]
     },
     "metadata": {
      "needs_background": "light"
     },
     "output_type": "display_data"
    }
   ],
   "source": [
    "fig = plt.figure(figsize=(16,9))\n",
    "fig.suptitle('Algorithm Comparison')\n",
    "ax = fig.add_subplot(111)\n",
    "\n",
    "plt.boxplot(mse_reg_scores.values())\n",
    "ax.set_xticklabels(mse_reg_scores.keys())\n",
    "\n",
    "plt.tight_layout()\n",
    "plt.plot()\n",
    "plt.xlabel('Models')\n",
    "plt.ylabel('Negated MSE Scores')\n",
    "plt.savefig('model_cv_multicollinearity_10prct/run0/normalizer/South-Holland-10prct_MSE.png', dpi=600)\n",
    "plt.show()"
   ]
  },
  {
   "cell_type": "code",
   "execution_count": 113,
   "metadata": {},
   "outputs": [
    {
     "data": {
      "text/plain": [
       "{'LR': array([14.17832574, 14.29276419, 14.30423683, 14.42607906, 14.08446485]),\n",
       " 'DT': array([14.22265811, 14.28885465, 14.31808711, 14.42546454, 14.07878877]),\n",
       " 'KNN': array([23.34421204, 14.30663723, 14.55936668, 20.49920758, 14.23931285]),\n",
       " 'RF': array([14.17145304, 14.28812527, 14.31174837, 14.42620555, 14.07991162]),\n",
       " 'AB': array([14.25499953, 14.34497092, 14.37150789, 14.48214749, 14.11102827]),\n",
       " 'B': array([14.17177416, 14.29724522, 14.31032302, 14.41229751, 14.08115959]),\n",
       " 'GB': array([14.16955213, 14.28512962, 14.30435797, 14.42321982, 14.07944127])}"
      ]
     },
     "execution_count": 113,
     "metadata": {},
     "output_type": "execute_result"
    }
   ],
   "source": [
    "abs_mse_reg_scores = {}\n",
    "for k, v in mse_reg_scores.items():\n",
    "    abs_mse_reg_scores[k] = np.absolute(v)\n",
    "    \n",
    "abs_mse_reg_scores"
   ]
  },
  {
   "cell_type": "code",
   "execution_count": 114,
   "metadata": {},
   "outputs": [
    {
     "data": {
      "image/png": "[encoded data removed]",
      "text/plain": [
       "<Figure size 1152x648 with 1 Axes>"
      ]
     },
     "metadata": {
      "needs_background": "light"
     },
     "output_type": "display_data"
    }
   ],
   "source": [
    "fig = plt.figure(figsize=(16,9))\n",
    "fig.suptitle('Algorithm Comparison')\n",
    "ax = fig.add_subplot (111)\n",
    "\n",
    "\n",
    "plt.boxplot(abs_mse_reg_scores.values())\n",
    "ax.set_xticklabels(abs_mse_reg_scores.keys())\n",
    "\n",
    "plt.tight_layout()\n",
    "plt.plot()\n",
    "plt.xlabel('Models')\n",
    "plt.ylabel('Absolute MSE Scores')\n",
    "plt.savefig('model_cv_multicollinearity_10prct/run0/normalizer/South-Holland-10prct_ABS-MSE.png', dpi=600)"
   ]
  },
  {
   "cell_type": "code",
   "execution_count": null,
   "metadata": {},
   "outputs": [],
   "source": []
  },
  {
   "cell_type": "code",
   "execution_count": null,
   "metadata": {},
   "outputs": [],
   "source": []
  },
  {
   "cell_type": "code",
   "execution_count": 115,
   "metadata": {},
   "outputs": [
    {
     "data": {
      "text/plain": [
       "{'LR': array([-14.17832574, -14.29276419, -14.30423683, -14.42607906,\n",
       "        -14.08446485]),\n",
       " 'DT': array([-14.22265811, -14.28885465, -14.31808711, -14.42546454,\n",
       "        -14.07878877]),\n",
       " 'RF': array([-14.17145304, -14.28812527, -14.31174837, -14.42620555,\n",
       "        -14.07991162]),\n",
       " 'AB': array([-14.25499953, -14.34497092, -14.37150789, -14.48214749,\n",
       "        -14.11102827]),\n",
       " 'B': array([-14.17177416, -14.29724522, -14.31032302, -14.41229751,\n",
       "        -14.08115959]),\n",
       " 'GB': array([-14.16955213, -14.28512962, -14.30435797, -14.42321982,\n",
       "        -14.07944127])}"
      ]
     },
     "execution_count": 115,
     "metadata": {},
     "output_type": "execute_result"
    }
   ],
   "source": [
    "if 'KNN' in mse_reg_scores.keys():\n",
    "    del mse_reg_scores['KNN'] \n",
    "mse_reg_scores"
   ]
  },
  {
   "cell_type": "code",
   "execution_count": 116,
   "metadata": {},
   "outputs": [
    {
     "data": {
      "image/png": "[encoded data removed]",
      "text/plain": [
       "<Figure size 1152x648 with 1 Axes>"
      ]
     },
     "metadata": {
      "needs_background": "light"
     },
     "output_type": "display_data"
    }
   ],
   "source": [
    "fig = plt.figure(figsize=(16,9))\n",
    "fig.suptitle('Algorithm Comparison')\n",
    "ax = fig.add_subplot(111)\n",
    "\n",
    "plt.boxplot(mse_reg_scores.values())\n",
    "ax.set_xticklabels(mse_reg_scores.keys())\n",
    "\n",
    "plt.tight_layout()\n",
    "plt.plot()\n",
    "plt.xlabel('Models')\n",
    "plt.ylabel('Negated MSE Scores')\n",
    "plt.savefig('model_cv_multicollinearity_10prct/run0/normalizer/South-Holland-10prct_MSE_Except-KNN.png', dpi=600)\n",
    "plt.show()"
   ]
  },
  {
   "cell_type": "code",
   "execution_count": 117,
   "metadata": {},
   "outputs": [
    {
     "data": {
      "text/plain": [
       "{'LR': array([14.17832574, 14.29276419, 14.30423683, 14.42607906, 14.08446485]),\n",
       " 'DT': array([14.22265811, 14.28885465, 14.31808711, 14.42546454, 14.07878877]),\n",
       " 'RF': array([14.17145304, 14.28812527, 14.31174837, 14.42620555, 14.07991162]),\n",
       " 'AB': array([14.25499953, 14.34497092, 14.37150789, 14.48214749, 14.11102827]),\n",
       " 'B': array([14.17177416, 14.29724522, 14.31032302, 14.41229751, 14.08115959]),\n",
       " 'GB': array([14.16955213, 14.28512962, 14.30435797, 14.42321982, 14.07944127])}"
      ]
     },
     "execution_count": 117,
     "metadata": {},
     "output_type": "execute_result"
    }
   ],
   "source": [
    "if 'KNN' in abs_mse_reg_scores.keys():\n",
    "    del abs_mse_reg_scores['KNN'] \n",
    "abs_mse_reg_scores"
   ]
  },
  {
   "cell_type": "code",
   "execution_count": 118,
   "metadata": {},
   "outputs": [
    {
     "data": {
      "image/png": "[encoded data removed]",
      "text/plain": [
       "<Figure size 1152x648 with 1 Axes>"
      ]
     },
     "metadata": {
      "needs_background": "light"
     },
     "output_type": "display_data"
    }
   ],
   "source": [
    "fig = plt.figure(figsize=(16,9))\n",
    "fig.suptitle('Algorithm Comparison')\n",
    "ax = fig.add_subplot(111)\n",
    "\n",
    "plt.boxplot(abs_mse_reg_scores.values())\n",
    "ax.set_xticklabels(abs_mse_reg_scores.keys())\n",
    "\n",
    "plt.tight_layout()\n",
    "plt.plot()\n",
    "plt.xlabel('Models')\n",
    "plt.ylabel('Absolute MSE Scores')\n",
    "plt.savefig('model_cv_multicollinearity_10prct/run0/normalizer/South-Holland-10prct_ABS-MSE_Except-KNN.png', dpi=600)\n",
    "plt.show()"
   ]
  },
  {
   "cell_type": "code",
   "execution_count": null,
   "metadata": {},
   "outputs": [],
   "source": []
  },
  {
   "cell_type": "code",
   "execution_count": null,
   "metadata": {},
   "outputs": [],
   "source": []
  },
  {
   "cell_type": "code",
   "execution_count": null,
   "metadata": {},
   "outputs": [],
   "source": []
  },
  {
   "cell_type": "code",
   "execution_count": null,
   "metadata": {},
   "outputs": [],
   "source": []
  },
  {
   "cell_type": "code",
   "execution_count": 119,
   "metadata": {},
   "outputs": [],
   "source": [
    "r2_reg_scores = {}"
   ]
  },
  {
   "cell_type": "code",
   "execution_count": 125,
   "metadata": {},
   "outputs": [
    {
     "name": "stdout",
     "output_type": "stream",
     "text": [
      "LR: avg: 0.000097 (std: 0.000826, max: 0.001200, min: -0.000855) took 0.589856 seconds\n",
      "DT: avg: -0.001066 (std: 0.002145, max: 0.000315, min: -0.005319) took 0.617447 seconds\n",
      "KNN: avg: -0.219361 (std: 0.266593, max: -0.001658, min: -0.647880) took 0.604132 seconds\n",
      "RF: avg: 0.000098 (std: 0.000458, max: 0.000802, min: -0.000452) took 0.580358 seconds\n",
      "AB: avg: -0.005929 (std: 0.003303, max: -0.002353, min: -0.010784) took 0.601826 seconds\n",
      "B: avg: 0.000189 (std: 0.000653, max: 0.001469, min: -0.000304) took 0.613368 seconds\n",
      "GB: avg: 0.000390 (std: 0.000676, max: 0.001403, min: -0.000459) took 0.595978 seconds\n"
     ]
    }
   ],
   "source": [
    "for name, regressor in regressors:\n",
    "    cv = ShuffleSplit(n_splits=5, test_size=.2, random_state=42)\n",
    "    mdl_pipeline = Pipeline(steps=[('preprocessor', preprocessor), ('regressor', regressor)])\n",
    "    tic = time.process_time()\n",
    "    scores = cross_val_score(mdl_pipeline, X_train, y_train, cv=cv, scoring='r2', error_score='raise', n_jobs=-1)\n",
    "    toc = time.process_time()\n",
    "    elapsed_time = toc - tic\n",
    "    r2_reg_scores[name] = scores\n",
    "    msg = \"%s: avg: %f (std: %f, max: %f, min: %f) took %f seconds\" % (name, scores.mean(), scores.std(), scores.max(), scores.min(), elapsed_time)\n",
    "    print(msg)"
   ]
  },
  {
   "cell_type": "code",
   "execution_count": 126,
   "metadata": {},
   "outputs": [
    {
     "data": {
      "image/png": "[encoded data removed]",
      "text/plain": [
       "<Figure size 1152x648 with 1 Axes>"
      ]
     },
     "metadata": {
      "needs_background": "light"
     },
     "output_type": "display_data"
    }
   ],
   "source": [
    "fig = plt.figure(figsize=(16,9))\n",
    "fig.suptitle('Algorithm Comparison')\n",
    "ax = fig.add_subplot(111)\n",
    "\n",
    "plt.boxplot(r2_reg_scores.values())\n",
    "ax.set_xticklabels(r2_reg_scores.keys())\n",
    "\n",
    "\n",
    "plt.tight_layout()\n",
    "plt.plot()\n",
    "plt.xlabel('Models')\n",
    "plt.ylabel('R^2 Scores')\n",
    "plt.savefig('model_cv_multicollinearity_10prct/run0/normalizer/South-Holland-10prct_R2.png', dpi=600)\n",
    "plt.show()"
   ]
  },
  {
   "cell_type": "code",
   "execution_count": 127,
   "metadata": {},
   "outputs": [
    {
     "data": {
      "text/plain": [
       "{'LR': array([-8.55138574e-04, -6.86737969e-04,  8.98953287e-04,  1.19999094e-03,\n",
       "        -7.16657402e-05]),\n",
       " 'DT': array([-0.00531865, -0.00031391, -0.00031893,  0.00031466,  0.00030719]),\n",
       " 'RF': array([-3.25873138e-04, -4.52474606e-04,  3.67273418e-04,  8.01851351e-04,\n",
       "         9.99681538e-05]),\n",
       " 'B': array([-1.87794512e-04, -3.03984935e-04,  9.49501838e-05,  1.46889863e-03,\n",
       "        -1.26425374e-04]),\n",
       " 'GB': array([-0.00045869, -0.00014909,  0.00087365,  0.00140333,  0.00028056]),\n",
       " 'AB': array([-0.00869747, -0.00282838, -0.0023527 , -0.01078445, -0.00498393])}"
      ]
     },
     "execution_count": 127,
     "metadata": {},
     "output_type": "execute_result"
    }
   ],
   "source": [
    "if 'KNN' in r2_reg_scores.keys():\n",
    "    del r2_reg_scores['KNN']\n",
    "r2_reg_scores"
   ]
  },
  {
   "cell_type": "code",
   "execution_count": 128,
   "metadata": {},
   "outputs": [
    {
     "data": {
      "image/png": "[encoded data removed]",
      "text/plain": [
       "<Figure size 1152x648 with 1 Axes>"
      ]
     },
     "metadata": {
      "needs_background": "light"
     },
     "output_type": "display_data"
    }
   ],
   "source": [
    "fig = plt.figure(figsize=(16,9))\n",
    "fig.suptitle('Algorithm Comparison')\n",
    "ax = fig.add_subplot(111)\n",
    "\n",
    "plt.boxplot(r2_reg_scores.values())\n",
    "ax.set_xticklabels(r2_reg_scores.keys())\n",
    "\n",
    "\n",
    "plt.tight_layout()\n",
    "plt.plot()\n",
    "plt.xlabel('Models')\n",
    "plt.ylabel('R^2 Scores')\n",
    "plt.savefig('model_cv_multicollinearity_10prct/run0/normalizer/South-Holland-10prct_R2_Except-KNN.png', dpi=600)\n",
    "plt.show()"
   ]
  },
  {
   "cell_type": "code",
   "execution_count": null,
   "metadata": {},
   "outputs": [],
   "source": []
  },
  {
   "cell_type": "code",
   "execution_count": null,
   "metadata": {},
   "outputs": [],
   "source": []
  },
  {
   "cell_type": "code",
   "execution_count": null,
   "metadata": {},
   "outputs": [],
   "source": []
  },
  {
   "cell_type": "code",
   "execution_count": null,
   "metadata": {},
   "outputs": [],
   "source": []
  },
  {
   "cell_type": "code",
   "execution_count": null,
   "metadata": {},
   "outputs": [],
   "source": []
  },
  {
   "cell_type": "code",
   "execution_count": null,
   "metadata": {},
   "outputs": [],
   "source": []
  },
  {
   "cell_type": "code",
   "execution_count": null,
   "metadata": {},
   "outputs": [],
   "source": []
  },
  {
   "cell_type": "code",
   "execution_count": null,
   "metadata": {},
   "outputs": [],
   "source": []
  },
  {
   "cell_type": "code",
   "execution_count": 130,
   "metadata": {},
   "outputs": [],
   "source": [
    "mean_transformer = Pipeline(steps=[\n",
    "    ('imputer', SimpleImputer(strategy='mean')),\n",
    "    ('scaler', StandardScaler())])\n",
    "\n",
    "freq_transformer = Pipeline(steps=[\n",
    "    ('imputer', SimpleImputer(strategy='most_frequent')),\n",
    "    ('scaler', StandardScaler())])\n",
    "\n",
    "zero_transformer = Pipeline(steps=[\n",
    "    ('imputer', SimpleImputer(strategy='constant', fill_value=0)),\n",
    "    ('scaler', StandardScaler())])"
   ]
  },
  {
   "cell_type": "code",
   "execution_count": 131,
   "metadata": {},
   "outputs": [],
   "source": [
    "cat_transformer = Pipeline(steps=[\n",
    "    ('imputer', SimpleImputer(strategy='constant', fill_value='NA')),\n",
    "    ('onehot', OneHotEncoder(handle_unknown='ignore'))])"
   ]
  },
  {
   "cell_type": "code",
   "execution_count": null,
   "metadata": {},
   "outputs": [],
   "source": []
  },
  {
   "cell_type": "code",
   "execution_count": 132,
   "metadata": {},
   "outputs": [],
   "source": [
    "preprocessor = ColumnTransformer(transformers=[\n",
    "        ('mean_transformer', mean_transformer, [\"year\"]),\n",
    "        ('freq_transformer', freq_transformer, [\"building_levels\"]),\n",
    "        ('zero_transformer', zero_transformer, [\"count_neighbor\"]),\n",
    "        ('cat_transfomer', cat_transformer, cat_cols)])"
   ]
  },
  {
   "cell_type": "code",
   "execution_count": null,
   "metadata": {},
   "outputs": [],
   "source": []
  },
  {
   "cell_type": "code",
   "execution_count": null,
   "metadata": {},
   "outputs": [],
   "source": []
  },
  {
   "cell_type": "code",
   "execution_count": 133,
   "metadata": {},
   "outputs": [],
   "source": [
    "from sklearn.ensemble import RandomForestRegressor, AdaBoostRegressor, GradientBoostingRegressor, BaggingRegressor\n",
    "from sklearn.tree import DecisionTreeRegressor\n",
    "from sklearn.neighbors import KNeighborsRegressor\n",
    "from sklearn.linear_model import LinearRegression"
   ]
  },
  {
   "cell_type": "code",
   "execution_count": null,
   "metadata": {},
   "outputs": [],
   "source": [
    "print(sorted(sklearn.metrics.SCORERS.keys()) )"
   ]
  },
  {
   "cell_type": "code",
   "execution_count": 134,
   "metadata": {},
   "outputs": [],
   "source": [
    "regressors = []\n",
    "regressors.append(('LR', LinearRegression()))\n",
    "regressors.append(('DT', DecisionTreeRegressor()))\n",
    "# regressors.append(('DT', DecisionTreeRegressor(max_depth=30, random_state=42)))\n",
    "regressors.append(('KNN', KNeighborsRegressor()))\n",
    "# regressors.append(('KNN', KNeighborsRegressor(n_neighborsint=30, weights=\"distance\")))\n",
    "regressors.append(('RF', RandomForestRegressor()))\n",
    "# regressors.append(('RF', RandomForestRegressor(n_estimators=100, max_depth=10)))\n",
    "regressors.append(('AB', AdaBoostRegressor()))\n",
    "regressors.append(('B', BaggingRegressor()))\n",
    "regressors.append(('GB', GradientBoostingRegressor()))\n"
   ]
  },
  {
   "cell_type": "code",
   "execution_count": null,
   "metadata": {},
   "outputs": [],
   "source": []
  },
  {
   "cell_type": "code",
   "execution_count": null,
   "metadata": {},
   "outputs": [],
   "source": []
  },
  {
   "cell_type": "code",
   "execution_count": 135,
   "metadata": {},
   "outputs": [],
   "source": [
    "mae_reg_scores = {}"
   ]
  },
  {
   "cell_type": "code",
   "execution_count": 136,
   "metadata": {},
   "outputs": [
    {
     "name": "stdout",
     "output_type": "stream",
     "text": [
      "LR: avg: -3.059978 (std: 0.006990, max: -3.052147, min: -3.069140) took 1.165939 seconds\n",
      "DT: avg: -3.403867 (std: 0.010441, max: -3.394063, min: -3.422605) took 0.568973 seconds\n",
      "KNN: avg: -2.996728 (std: 0.010126, max: -2.983957, min: -3.008701) took 0.564513 seconds\n",
      "RF: avg: -3.082501 (std: 0.006989, max: -3.073464, min: -3.092517) took 0.620200 seconds\n",
      "AB: avg: -3.617816 (std: 0.292926, max: -3.298612, min: -4.074427) took 1.106640 seconds\n",
      "B: avg: -3.122090 (std: 0.008598, max: -3.111329, min: -3.135726) took 0.603239 seconds\n",
      "GB: avg: -2.877799 (std: 0.004772, max: -2.869893, min: -2.882537) took 0.576103 seconds\n"
     ]
    }
   ],
   "source": [
    "for name, regressor in regressors:\n",
    "    cv = ShuffleSplit(n_splits=5, test_size=.2, random_state=42)\n",
    "    mdl_pipeline = Pipeline(steps=[('preprocessor', preprocessor), ('regressor', regressor)])\n",
    "    tic = time.process_time()\n",
    "    scores = cross_val_score(mdl_pipeline, X_train, y_train, cv=cv, scoring='neg_mean_absolute_error', error_score='raise', n_jobs=-1)\n",
    "    toc = time.process_time()\n",
    "    elapsed_time = toc - tic\n",
    "    mae_reg_scores[name] = scores\n",
    "    msg = \"%s: avg: %f (std: %f, max: %f, min: %f) took %f seconds\" % (name, scores.mean(), scores.std(), scores.max(), scores.min(), elapsed_time)\n",
    "    print(msg)"
   ]
  },
  {
   "cell_type": "code",
   "execution_count": 137,
   "metadata": {},
   "outputs": [
    {
     "data": {
      "text/plain": [
       "{'LR': array([-3.06696125, -3.05862735, -3.0530155 , -3.06913968, -3.0521468 ]),\n",
       " 'DT': array([-3.40141185, -3.40657943, -3.42260451, -3.3940633 , -3.39467491]),\n",
       " 'KNN': array([-3.00870071, -3.00487807, -2.98554232, -3.00056348, -2.98395744]),\n",
       " 'RF': array([-3.08180811, -3.09251679, -3.08791317, -3.07680459, -3.07346438]),\n",
       " 'AB': array([-3.84436783, -3.41253636, -4.07442727, -3.29861224, -3.45913832]),\n",
       " 'B': array([-3.11132937, -3.13572597, -3.12642344, -3.12188857, -3.11508163]),\n",
       " 'GB': array([-2.88253689, -2.88149571, -2.87478642, -2.88028149, -2.86989275])}"
      ]
     },
     "execution_count": 137,
     "metadata": {},
     "output_type": "execute_result"
    }
   ],
   "source": [
    "mae_reg_scores"
   ]
  },
  {
   "cell_type": "code",
   "execution_count": 138,
   "metadata": {},
   "outputs": [
    {
     "data": {
      "image/png": "[encoded data removed]",
      "text/plain": [
       "<Figure size 1152x648 with 1 Axes>"
      ]
     },
     "metadata": {
      "needs_background": "light"
     },
     "output_type": "display_data"
    }
   ],
   "source": [
    "fig = plt.figure(figsize=(16,9))\n",
    "fig.suptitle('Algorithm Comparison')\n",
    "ax = fig.add_subplot (111)\n",
    "\n",
    "plt.boxplot(mae_reg_scores.values())\n",
    "ax.set_xticklabels(mae_reg_scores.keys())\n",
    "\n",
    "plt.tight_layout()\n",
    "plt.plot()\n",
    "plt.xlabel('Models')\n",
    "plt.ylabel('Negated MAE Scores')\n",
    "plt.savefig('model_cv_multicollinearity_10prct/run0/scaler/South-Holland-10prct_MAE.png', dpi=600)"
   ]
  },
  {
   "cell_type": "code",
   "execution_count": 92,
   "metadata": {},
   "outputs": [
    {
     "name": "stdout",
     "output_type": "stream",
     "text": [
      "7\n",
      "7\n",
      "<class 'numpy.ndarray'>\n",
      "<class 'numpy.ndarray'>\n",
      "<class 'numpy.ndarray'>\n",
      "<class 'numpy.ndarray'>\n",
      "<class 'numpy.ndarray'>\n",
      "<class 'numpy.ndarray'>\n",
      "<class 'numpy.ndarray'>\n",
      "[-3.1271638  -3.12201071 -3.11798487 -3.12272322 -3.12100364]\n",
      "[-3.12871556 -3.1215762  -3.11853773 -3.1226472  -3.11999578]\n",
      "[-3.12691337 -3.12123238 -3.11821759 -3.12188063 -3.12005685]\n",
      "[-3.12486903 -3.11697878 -3.11326381 -3.12127242 -3.11448194]\n",
      "[-3.12698816 -3.12162678 -3.11843788 -3.12231569 -3.12024783]\n",
      "[-3.12679802 -3.12105487 -3.11788384 -3.12209045 -3.12041422]\n",
      "[-3.65660918 -3.11779824 -3.10533659 -3.4221624  -3.10583493]\n"
     ]
    }
   ],
   "source": []
  },
  {
   "cell_type": "code",
   "execution_count": 139,
   "metadata": {},
   "outputs": [],
   "source": [
    "abs_mae_reg_scores = {}\n",
    "for k, v in mae_reg_scores.items():\n",
    "    abs_mae_reg_scores[k] = np.absolute(v)"
   ]
  },
  {
   "cell_type": "code",
   "execution_count": 140,
   "metadata": {},
   "outputs": [
    {
     "data": {
      "image/png": "[encoded data removed]",
      "text/plain": [
       "<Figure size 1152x648 with 1 Axes>"
      ]
     },
     "metadata": {
      "needs_background": "light"
     },
     "output_type": "display_data"
    }
   ],
   "source": [
    "fig = plt.figure(figsize=(16,9))\n",
    "fig.suptitle('Algorithm Comparison')\n",
    "ax = fig.add_subplot (111)\n",
    "\n",
    "\n",
    "plt.boxplot(abs_mae_reg_scores.values())\n",
    "ax.set_xticklabels(abs_mae_reg_scores.keys())\n",
    "\n",
    "plt.tight_layout()\n",
    "plt.plot()\n",
    "plt.xlabel('Models')\n",
    "plt.ylabel('Absolute MAE Scores')\n",
    "plt.savefig('model_cv_multicollinearity_10prct/run0/scaler/South-Holland-10prct_ABS-MAE.png', dpi=600)"
   ]
  },
  {
   "cell_type": "code",
   "execution_count": 141,
   "metadata": {},
   "outputs": [
    {
     "data": {
      "text/plain": [
       "{'LR': array([-3.06696125, -3.05862735, -3.0530155 , -3.06913968, -3.0521468 ]),\n",
       " 'DT': array([-3.40141185, -3.40657943, -3.42260451, -3.3940633 , -3.39467491]),\n",
       " 'KNN': array([-3.00870071, -3.00487807, -2.98554232, -3.00056348, -2.98395744]),\n",
       " 'RF': array([-3.08180811, -3.09251679, -3.08791317, -3.07680459, -3.07346438]),\n",
       " 'B': array([-3.11132937, -3.13572597, -3.12642344, -3.12188857, -3.11508163]),\n",
       " 'GB': array([-2.88253689, -2.88149571, -2.87478642, -2.88028149, -2.86989275])}"
      ]
     },
     "execution_count": 141,
     "metadata": {},
     "output_type": "execute_result"
    }
   ],
   "source": [
    "\n",
    "if 'AB' in mae_reg_scores.keys():\n",
    "    del mae_reg_scores['AB'] \n",
    "mae_reg_scores"
   ]
  },
  {
   "cell_type": "code",
   "execution_count": null,
   "metadata": {},
   "outputs": [],
   "source": []
  },
  {
   "cell_type": "code",
   "execution_count": 142,
   "metadata": {},
   "outputs": [
    {
     "data": {
      "image/png": "[encoded data removed]",
      "text/plain": [
       "<Figure size 1152x648 with 1 Axes>"
      ]
     },
     "metadata": {
      "needs_background": "light"
     },
     "output_type": "display_data"
    }
   ],
   "source": [
    "fig = plt.figure(figsize=(16,9))\n",
    "fig.suptitle('Algorithm Comparison')\n",
    "ax = fig.add_subplot(111)\n",
    "\n",
    "plt.boxplot(mae_reg_scores.values())\n",
    "ax.set_xticklabels(mae_reg_scores.keys())\n",
    "\n",
    "plt.tight_layout()\n",
    "plt.plot()\n",
    "plt.xlabel('Models')\n",
    "plt.ylabel('Negated MAE Scores')\n",
    "plt.savefig('model_cv_multicollinearity_10prct/run0/scaler/South-Holland-10prct_MAE_Except-AB.png', dpi=600)\n"
   ]
  },
  {
   "cell_type": "code",
   "execution_count": 143,
   "metadata": {},
   "outputs": [
    {
     "data": {
      "text/plain": [
       "{'LR': array([3.06696125, 3.05862735, 3.0530155 , 3.06913968, 3.0521468 ]),\n",
       " 'DT': array([3.40141185, 3.40657943, 3.42260451, 3.3940633 , 3.39467491]),\n",
       " 'KNN': array([3.00870071, 3.00487807, 2.98554232, 3.00056348, 2.98395744]),\n",
       " 'RF': array([3.08180811, 3.09251679, 3.08791317, 3.07680459, 3.07346438]),\n",
       " 'B': array([3.11132937, 3.13572597, 3.12642344, 3.12188857, 3.11508163]),\n",
       " 'GB': array([2.88253689, 2.88149571, 2.87478642, 2.88028149, 2.86989275])}"
      ]
     },
     "execution_count": 143,
     "metadata": {},
     "output_type": "execute_result"
    }
   ],
   "source": [
    "if 'AB' in abs_mae_reg_scores.keys():\n",
    "    del abs_mae_reg_scores['AB'] \n",
    "abs_mae_reg_scores"
   ]
  },
  {
   "cell_type": "code",
   "execution_count": 144,
   "metadata": {},
   "outputs": [
    {
     "data": {
      "image/png": "[encoded data removed]",
      "text/plain": [
       "<Figure size 1152x648 with 1 Axes>"
      ]
     },
     "metadata": {
      "needs_background": "light"
     },
     "output_type": "display_data"
    }
   ],
   "source": [
    "fig = plt.figure(figsize=(16,9))\n",
    "fig.suptitle('Algorithm Comparison')\n",
    "ax = fig.add_subplot(111)\n",
    "\n",
    "plt.boxplot(abs_mae_reg_scores.values())\n",
    "ax.set_xticklabels(abs_mae_reg_scores.keys())\n",
    "\n",
    "plt.tight_layout()\n",
    "plt.plot()\n",
    "plt.xlabel('Models')\n",
    "plt.ylabel('Absolute MAE Scores')\n",
    "plt.savefig('model_cv_multicollinearity_10prct/run0/scaler/South-Holland-10prct_ABS-MAE_Except-AB.png', dpi=600)"
   ]
  },
  {
   "cell_type": "code",
   "execution_count": null,
   "metadata": {},
   "outputs": [],
   "source": []
  },
  {
   "cell_type": "code",
   "execution_count": null,
   "metadata": {},
   "outputs": [],
   "source": []
  },
  {
   "cell_type": "code",
   "execution_count": 145,
   "metadata": {},
   "outputs": [],
   "source": [
    "mse_reg_scores = {}"
   ]
  },
  {
   "cell_type": "code",
   "execution_count": 146,
   "metadata": {},
   "outputs": [
    {
     "name": "stdout",
     "output_type": "stream",
     "text": [
      "LR: avg: -13.276038 (std: 0.251452, max: -12.912285, min: -13.647378) took 1.372147 seconds\n",
      "DT: avg: -21.518729 (std: 0.353220, max: -21.108573, min: -22.095799) took 0.579306 seconds\n",
      "KNN: avg: -14.317389 (std: 0.258589, max: -13.969208, min: -14.626714) took 0.583049 seconds\n",
      "RF: avg: -15.924081 (std: 0.305143, max: -15.466619, min: -16.375669) took 0.620309 seconds\n",
      "AB: avg: -21.412509 (std: 7.991746, max: -12.935353, min: -36.497554) took 1.078523 seconds\n",
      "B: avg: -16.536510 (std: 0.257589, max: -16.124873, min: -16.889284) took 0.566714 seconds\n",
      "GB: avg: -12.133106 (std: 0.237151, max: -11.766079, min: -12.466728) took 0.558931 seconds\n"
     ]
    }
   ],
   "source": [
    "for name, regressor in regressors:\n",
    "    cv = ShuffleSplit(n_splits=5, test_size=.2, random_state=42)\n",
    "    mdl_pipeline = Pipeline(steps=[('preprocessor', preprocessor), ('regressor', regressor)])\n",
    "    tic = time.process_time()\n",
    "    scores = cross_val_score(mdl_pipeline, X_train, y_train, cv=cv, scoring='neg_mean_squared_error', error_score='raise', n_jobs=-1)\n",
    "    toc = time.process_time()\n",
    "    elapsed_time = toc - tic\n",
    "    mse_reg_scores[name] = scores\n",
    "    msg = \"%s: avg: %f (std: %f, max: %f, min: %f) took %f seconds\" % (name, scores.mean(), scores.std(), scores.max(), scores.min(), elapsed_time)\n",
    "    print(msg)"
   ]
  },
  {
   "cell_type": "code",
   "execution_count": null,
   "metadata": {},
   "outputs": [],
   "source": []
  },
  {
   "cell_type": "code",
   "execution_count": null,
   "metadata": {},
   "outputs": [],
   "source": []
  },
  {
   "cell_type": "code",
   "execution_count": 147,
   "metadata": {},
   "outputs": [
    {
     "data": {
      "image/png": "[encoded data removed]",
      "text/plain": [
       "<Figure size 1152x648 with 1 Axes>"
      ]
     },
     "metadata": {
      "needs_background": "light"
     },
     "output_type": "display_data"
    }
   ],
   "source": [
    "fig = plt.figure(figsize=(16,9))\n",
    "fig.suptitle('Algorithm Comparison')\n",
    "ax = fig.add_subplot(111)\n",
    "\n",
    "plt.boxplot(mse_reg_scores.values())\n",
    "ax.set_xticklabels(mse_reg_scores.keys())\n",
    "\n",
    "plt.tight_layout()\n",
    "plt.plot()\n",
    "plt.xlabel('Models')\n",
    "plt.ylabel('Negated MSE Scores')\n",
    "plt.savefig('model_cv_multicollinearity_10prct/run0/scaler/South-Holland-10prct_MSE.png', dpi=600)\n",
    "plt.show()"
   ]
  },
  {
   "cell_type": "code",
   "execution_count": 148,
   "metadata": {},
   "outputs": [
    {
     "data": {
      "text/plain": [
       "{'LR': array([13.34093733, 13.37960028, 13.09999017, 13.64737818, 12.91228524]),\n",
       " 'DT': array([21.10857299, 21.52136634, 21.66655147, 22.09579899, 21.20135714]),\n",
       " 'KNN': array([14.43557986, 14.50167767, 14.05376363, 14.62671421, 13.96920778]),\n",
       " 'RF': array([15.82990007, 16.11282256, 15.83539262, 16.3756692 , 15.46661896]),\n",
       " 'AB': array([21.05457012, 36.4975539 , 17.92680901, 18.64825929, 12.93535299]),\n",
       " 'B': array([16.52021188, 16.70595537, 16.44222728, 16.88928428, 16.12487309]),\n",
       " 'GB': array([12.16447602, 12.26489861, 12.00334732, 12.46672817, 11.76607881])}"
      ]
     },
     "execution_count": 148,
     "metadata": {},
     "output_type": "execute_result"
    }
   ],
   "source": [
    "abs_mse_reg_scores = {}\n",
    "for k, v in mse_reg_scores.items():\n",
    "    abs_mse_reg_scores[k] = np.absolute(v)\n",
    "    \n",
    "abs_mse_reg_scores"
   ]
  },
  {
   "cell_type": "code",
   "execution_count": 149,
   "metadata": {},
   "outputs": [
    {
     "data": {
      "image/png": "[encoded data removed]",
      "text/plain": [
       "<Figure size 1152x648 with 1 Axes>"
      ]
     },
     "metadata": {
      "needs_background": "light"
     },
     "output_type": "display_data"
    }
   ],
   "source": [
    "fig = plt.figure(figsize=(16,9))\n",
    "fig.suptitle('Algorithm Comparison')\n",
    "ax = fig.add_subplot (111)\n",
    "\n",
    "\n",
    "plt.boxplot(abs_mse_reg_scores.values())\n",
    "ax.set_xticklabels(abs_mse_reg_scores.keys())\n",
    "\n",
    "plt.tight_layout()\n",
    "plt.plot()\n",
    "plt.xlabel('Models')\n",
    "plt.ylabel('Absolute MSE Scores')\n",
    "plt.savefig('model_cv_multicollinearity_10prct/run0/scaler/South-Holland-10prct_ABS-MSE.png', dpi=600)"
   ]
  },
  {
   "cell_type": "code",
   "execution_count": null,
   "metadata": {},
   "outputs": [],
   "source": []
  },
  {
   "cell_type": "code",
   "execution_count": null,
   "metadata": {},
   "outputs": [],
   "source": []
  },
  {
   "cell_type": "code",
   "execution_count": 150,
   "metadata": {},
   "outputs": [
    {
     "data": {
      "text/plain": [
       "{'LR': array([-13.34093733, -13.37960028, -13.09999017, -13.64737818,\n",
       "        -12.91228524]),\n",
       " 'DT': array([-21.10857299, -21.52136634, -21.66655147, -22.09579899,\n",
       "        -21.20135714]),\n",
       " 'KNN': array([-14.43557986, -14.50167767, -14.05376363, -14.62671421,\n",
       "        -13.96920778]),\n",
       " 'RF': array([-15.82990007, -16.11282256, -15.83539262, -16.3756692 ,\n",
       "        -15.46661896]),\n",
       " 'B': array([-16.52021188, -16.70595537, -16.44222728, -16.88928428,\n",
       "        -16.12487309]),\n",
       " 'GB': array([-12.16447602, -12.26489861, -12.00334732, -12.46672817,\n",
       "        -11.76607881])}"
      ]
     },
     "execution_count": 150,
     "metadata": {},
     "output_type": "execute_result"
    }
   ],
   "source": [
    "if 'AB' in mse_reg_scores.keys():\n",
    "    del mse_reg_scores['AB'] \n",
    "mse_reg_scores"
   ]
  },
  {
   "cell_type": "code",
   "execution_count": 151,
   "metadata": {},
   "outputs": [
    {
     "data": {
      "image/png": "[encoded data removed]",
      "text/plain": [
       "<Figure size 1152x648 with 1 Axes>"
      ]
     },
     "metadata": {
      "needs_background": "light"
     },
     "output_type": "display_data"
    }
   ],
   "source": [
    "fig = plt.figure(figsize=(16,9))\n",
    "fig.suptitle('Algorithm Comparison')\n",
    "ax = fig.add_subplot(111)\n",
    "\n",
    "plt.boxplot(mse_reg_scores.values())\n",
    "ax.set_xticklabels(mse_reg_scores.keys())\n",
    "\n",
    "plt.tight_layout()\n",
    "plt.plot()\n",
    "plt.xlabel('Models')\n",
    "plt.ylabel('Negated MSE Scores')\n",
    "plt.savefig('model_cv_multicollinearity_10prct/run0/scaler/South-Holland-10prct_MSE_Except-AB.png', dpi=600)\n",
    "plt.show()"
   ]
  },
  {
   "cell_type": "code",
   "execution_count": 152,
   "metadata": {},
   "outputs": [
    {
     "data": {
      "text/plain": [
       "{'LR': array([13.34093733, 13.37960028, 13.09999017, 13.64737818, 12.91228524]),\n",
       " 'DT': array([21.10857299, 21.52136634, 21.66655147, 22.09579899, 21.20135714]),\n",
       " 'KNN': array([14.43557986, 14.50167767, 14.05376363, 14.62671421, 13.96920778]),\n",
       " 'RF': array([15.82990007, 16.11282256, 15.83539262, 16.3756692 , 15.46661896]),\n",
       " 'B': array([16.52021188, 16.70595537, 16.44222728, 16.88928428, 16.12487309]),\n",
       " 'GB': array([12.16447602, 12.26489861, 12.00334732, 12.46672817, 11.76607881])}"
      ]
     },
     "execution_count": 152,
     "metadata": {},
     "output_type": "execute_result"
    }
   ],
   "source": [
    "if 'AB' in abs_mse_reg_scores.keys():\n",
    "    del abs_mse_reg_scores['AB'] \n",
    "abs_mse_reg_scores"
   ]
  },
  {
   "cell_type": "code",
   "execution_count": 153,
   "metadata": {},
   "outputs": [
    {
     "data": {
      "image/png": "[encoded data removed]",
      "text/plain": [
       "<Figure size 1152x648 with 1 Axes>"
      ]
     },
     "metadata": {
      "needs_background": "light"
     },
     "output_type": "display_data"
    }
   ],
   "source": [
    "fig = plt.figure(figsize=(16,9))\n",
    "fig.suptitle('Algorithm Comparison')\n",
    "ax = fig.add_subplot(111)\n",
    "\n",
    "plt.boxplot(abs_mse_reg_scores.values())\n",
    "ax.set_xticklabels(abs_mse_reg_scores.keys())\n",
    "\n",
    "plt.tight_layout()\n",
    "plt.plot()\n",
    "plt.xlabel('Models')\n",
    "plt.ylabel('Absolute MSE Scores')\n",
    "plt.savefig('model_cv_multicollinearity_10prct/run0/scaler/South-Holland-10prct_ABS-MSE_Except-AB.png', dpi=600)\n",
    "plt.show()"
   ]
  },
  {
   "cell_type": "code",
   "execution_count": null,
   "metadata": {},
   "outputs": [],
   "source": []
  },
  {
   "cell_type": "code",
   "execution_count": null,
   "metadata": {},
   "outputs": [],
   "source": []
  },
  {
   "cell_type": "code",
   "execution_count": null,
   "metadata": {},
   "outputs": [],
   "source": []
  },
  {
   "cell_type": "code",
   "execution_count": null,
   "metadata": {},
   "outputs": [],
   "source": []
  },
  {
   "cell_type": "code",
   "execution_count": 154,
   "metadata": {},
   "outputs": [],
   "source": [
    "r2_reg_scores = {}"
   ]
  },
  {
   "cell_type": "code",
   "execution_count": 155,
   "metadata": {},
   "outputs": [
    {
     "name": "stdout",
     "output_type": "stream",
     "text": [
      "LR: avg: 0.068958 (std: 0.012635, max: 0.085011, min: 0.055114) took 0.984306 seconds\n",
      "DT: avg: -0.509540 (std: 0.010058, max: -0.494060, min: -0.525583) took 0.602019 seconds\n",
      "KNN: avg: -0.004103 (std: 0.014677, max: 0.018394, min: -0.019015) took 0.586546 seconds\n",
      "RF: avg: -0.114182 (std: 0.014700, max: -0.094523, min: -0.130595) took 0.616749 seconds\n",
      "AB: avg: -0.583467 (std: 0.357772, max: -0.072606, min: -1.125808) took 1.095865 seconds\n",
      "B: avg: -0.163985 (std: 0.011947, max: -0.144872, min: -0.180598) took 0.559708 seconds\n",
      "GB: avg: 0.149086 (std: 0.011562, max: 0.164546, min: 0.136695) took 0.551905 seconds\n"
     ]
    }
   ],
   "source": [
    "for name, regressor in regressors:\n",
    "    cv = ShuffleSplit(n_splits=5, test_size=.2, random_state=42)\n",
    "    mdl_pipeline = Pipeline(steps=[('preprocessor', preprocessor), ('regressor', regressor)])\n",
    "    tic = time.process_time()\n",
    "    scores = cross_val_score(mdl_pipeline, X_train, y_train, cv=cv, scoring='r2', error_score='raise', n_jobs=-1)\n",
    "    toc = time.process_time()\n",
    "    elapsed_time = toc - tic\n",
    "    r2_reg_scores[name] = scores\n",
    "    msg = \"%s: avg: %f (std: %f, max: %f, min: %f) took %f seconds\" % (name, scores.mean(), scores.std(), scores.max(), scores.min(), elapsed_time)\n",
    "    print(msg)"
   ]
  },
  {
   "cell_type": "code",
   "execution_count": 156,
   "metadata": {},
   "outputs": [
    {
     "data": {
      "image/png": "[encoded data removed]",
      "text/plain": [
       "<Figure size 1152x648 with 1 Axes>"
      ]
     },
     "metadata": {
      "needs_background": "light"
     },
     "output_type": "display_data"
    }
   ],
   "source": [
    "fig = plt.figure(figsize=(16,9))\n",
    "fig.suptitle('Algorithm Comparison')\n",
    "ax = fig.add_subplot(111)\n",
    "\n",
    "plt.boxplot(r2_reg_scores.values())\n",
    "ax.set_xticklabels(r2_reg_scores.keys())\n",
    "\n",
    "\n",
    "plt.tight_layout()\n",
    "plt.plot()\n",
    "plt.xlabel('Models')\n",
    "plt.ylabel('R^2 Scores')\n",
    "plt.savefig('model_cv_multicollinearity_10prct/run0/scaler/South-Holland-10prct_R2.png', dpi=600)\n",
    "plt.show()"
   ]
  },
  {
   "cell_type": "code",
   "execution_count": 157,
   "metadata": {},
   "outputs": [
    {
     "data": {
      "text/plain": [
       "{'LR': array([0.05825653, 0.06324708, 0.08501138, 0.05511391, 0.0831593 ]),\n",
       " 'DT': array([-0.49406016, -0.50947515, -0.51137742, -0.52558316, -0.50720228]),\n",
       " 'KNN': array([-0.01901484, -0.01531351,  0.01839363, -0.01269113,  0.0081122 ]),\n",
       " 'RF': array([-0.11718857, -0.12871639, -0.09988769, -0.13059487, -0.09452299]),\n",
       " 'B': array([-0.16580882, -0.18059809, -0.15845507, -0.17018981, -0.14487206]),\n",
       " 'GB': array([0.14131973, 0.14132203, 0.16154589, 0.13669503, 0.16454603])}"
      ]
     },
     "execution_count": 157,
     "metadata": {},
     "output_type": "execute_result"
    }
   ],
   "source": [
    "if 'AB' in r2_reg_scores.keys():\n",
    "    del r2_reg_scores['AB']\n",
    "r2_reg_scores"
   ]
  },
  {
   "cell_type": "code",
   "execution_count": 158,
   "metadata": {},
   "outputs": [
    {
     "data": {
      "image/png": "[encoded data removed]",
      "text/plain": [
       "<Figure size 1152x648 with 1 Axes>"
      ]
     },
     "metadata": {
      "needs_background": "light"
     },
     "output_type": "display_data"
    }
   ],
   "source": [
    "fig = plt.figure(figsize=(16,9))\n",
    "fig.suptitle('Algorithm Comparison')\n",
    "ax = fig.add_subplot(111)\n",
    "\n",
    "plt.boxplot(r2_reg_scores.values())\n",
    "ax.set_xticklabels(r2_reg_scores.keys())\n",
    "\n",
    "\n",
    "plt.tight_layout()\n",
    "plt.plot()\n",
    "plt.xlabel('Models')\n",
    "plt.ylabel('R^2 Scores')\n",
    "plt.savefig('model_cv_multicollinearity_10prct/run0/scaler/olland-10prct_R2_Except-AB.png', dpi=600)\n",
    "plt.show()"
   ]
  },
  {
   "cell_type": "code",
   "execution_count": null,
   "metadata": {},
   "outputs": [],
   "source": []
  },
  {
   "cell_type": "code",
   "execution_count": null,
   "metadata": {},
   "outputs": [],
   "source": []
  },
  {
   "cell_type": "code",
   "execution_count": null,
   "metadata": {},
   "outputs": [],
   "source": []
  },
  {
   "cell_type": "code",
   "execution_count": null,
   "metadata": {},
   "outputs": [],
   "source": []
  },
  {
   "cell_type": "code",
   "execution_count": null,
   "metadata": {},
   "outputs": [],
   "source": []
  },
  {
   "cell_type": "code",
   "execution_count": null,
   "metadata": {},
   "outputs": [],
   "source": []
  },
  {
   "cell_type": "code",
   "execution_count": null,
   "metadata": {},
   "outputs": [],
   "source": []
  },
  {
   "cell_type": "code",
   "execution_count": null,
   "metadata": {},
   "outputs": [],
   "source": []
  },
  {
   "cell_type": "code",
   "execution_count": null,
   "metadata": {},
   "outputs": [],
   "source": []
  },
  {
   "cell_type": "code",
   "execution_count": null,
   "metadata": {},
   "outputs": [],
   "source": []
  },
  {
   "cell_type": "code",
   "execution_count": null,
   "metadata": {},
   "outputs": [],
   "source": []
  },
  {
   "cell_type": "code",
   "execution_count": null,
   "metadata": {},
   "outputs": [],
   "source": []
  },
  {
   "cell_type": "code",
   "execution_count": null,
   "metadata": {},
   "outputs": [],
   "source": []
  },
  {
   "cell_type": "code",
   "execution_count": null,
   "metadata": {},
   "outputs": [],
   "source": []
  },
  {
   "cell_type": "code",
   "execution_count": null,
   "metadata": {},
   "outputs": [],
   "source": []
  },
  {
   "cell_type": "code",
   "execution_count": null,
   "metadata": {},
   "outputs": [],
   "source": []
  },
  {
   "cell_type": "code",
   "execution_count": null,
   "metadata": {},
   "outputs": [],
   "source": []
  },
  {
   "cell_type": "code",
   "execution_count": null,
   "metadata": {},
   "outputs": [],
   "source": []
  },
  {
   "cell_type": "code",
   "execution_count": null,
   "metadata": {},
   "outputs": [],
   "source": []
  },
  {
   "cell_type": "code",
   "execution_count": null,
   "metadata": {},
   "outputs": [],
   "source": []
  },
  {
   "cell_type": "code",
   "execution_count": null,
   "metadata": {},
   "outputs": [],
   "source": []
  },
  {
   "cell_type": "code",
   "execution_count": null,
   "metadata": {},
   "outputs": [],
   "source": []
  },
  {
   "cell_type": "code",
   "execution_count": null,
   "metadata": {},
   "outputs": [],
   "source": []
  },
  {
   "cell_type": "code",
   "execution_count": null,
   "metadata": {},
   "outputs": [],
   "source": []
  },
  {
   "cell_type": "code",
   "execution_count": null,
   "metadata": {},
   "outputs": [],
   "source": []
  },
  {
   "cell_type": "code",
   "execution_count": 103,
   "metadata": {},
   "outputs": [],
   "source": [
    "regressors = []\n",
    "regressors.append(('LR', LinearRegression()))\n",
    "# regressors.append(('DT', DecisionTreeRegressor()))\n",
    "regressors.append(('DT', DecisionTreeRegressor(max_depth=50, random_state=42)))\n",
    "# regressors.append(('KNN', KNeighborsRegressor()))\n",
    "regressors.append(('KNN', KNeighborsRegressor(n_neighbors=1500, weights=\"distance\")))\n",
    "# regressors.append(('RF', RandomForestRegressor()))\n",
    "regressors.append(('RF', RandomForestRegressor(n_estimators=100, max_depth=10)))\n",
    "regressors.append(('AB', AdaBoostRegressor()))\n",
    "regressors.append(('B', BaggingRegressor()))\n",
    "regressors.append(('GB', GradientBoostingRegressor()))\n",
    "reg_scores = {}"
   ]
  },
  {
   "cell_type": "code",
   "execution_count": 104,
   "metadata": {},
   "outputs": [
    {
     "name": "stdout",
     "output_type": "stream",
     "text": [
      "LR: avg: -13.494050 (std: 0.980452, max: -12.687081, min: -15.374159)\n",
      "DT: avg: -12.553752 (std: 1.045457, max: -11.558389, min: -14.449988)\n",
      "KNN: avg: -12.524554 (std: 1.245730, max: -11.119445, min: -14.763945)\n",
      "RF: avg: -12.363640 (std: 1.136406, max: -11.105269, min: -14.386154)\n",
      "AB: avg: -13.956395 (std: 1.016735, max: -12.490656, min: -15.010798)\n",
      "GB: avg: -12.336615 (std: 1.035473, max: -11.372554, min: -14.237003)\n"
     ]
    }
   ],
   "source": [
    "for name, regressor in regressors:\n",
    "    cv = ShuffleSplit(n_splits=5, test_size=.3, random_state=42)\n",
    "    mdl_pipeline = Pipeline(steps=[('preprocessor', preprocessor), ('regressor', regressor)])\n",
    "    scores = cross_val_score(mdl_pipeline, X_train, y_train, cv=cv, scoring='neg_mean_squared_error', error_score='raise')\n",
    "    reg_scores[name] = scores\n",
    "    msg = \"%s: avg: %f (std: %f, max: %f, min: %f)\" % (name, scores.mean(), scores.std(), scores.max(), scores.min())\n",
    "    print(msg)"
   ]
  },
  {
   "cell_type": "code",
   "execution_count": 105,
   "metadata": {},
   "outputs": [
    {
     "data": {
      "text/plain": [
       "[]"
      ]
     },
     "execution_count": 105,
     "metadata": {},
     "output_type": "execute_result"
    },
    {
     "data": {
      "image/png": "[encoded data removed]",
      "text/plain": [
       "<Figure size 432x288 with 1 Axes>"
      ]
     },
     "metadata": {
      "needs_background": "light"
     },
     "output_type": "display_data"
    }
   ],
   "source": [
    "fig = plt.figure()\n",
    "fig.suptitle('Algorithm Comparison')\n",
    "ax = fig.add_subplot(111)\n",
    "plt.boxplot(reg_scores.values())\n",
    "ax.set_xticklabels(reg_scores.keys())\n",
    "plt.plot()"
   ]
  },
  {
   "cell_type": "code",
   "execution_count": null,
   "metadata": {},
   "outputs": [],
   "source": []
  },
  {
   "cell_type": "code",
   "execution_count": null,
   "metadata": {},
   "outputs": [],
   "source": []
  },
  {
   "cell_type": "code",
   "execution_count": null,
   "metadata": {},
   "outputs": [],
   "source": []
  },
  {
   "cell_type": "code",
   "execution_count": null,
   "metadata": {},
   "outputs": [],
   "source": []
  },
  {
   "cell_type": "code",
   "execution_count": 115,
   "metadata": {},
   "outputs": [],
   "source": [
    "cv = ShuffleSplit(n_splits=5, test_size=.3, random_state=42)\n",
    "gs_pipeline = Pipeline(steps=[('preprocessor', preprocessor), ('regressor', RandomForestRegressor())])"
   ]
  },
  {
   "cell_type": "code",
   "execution_count": 117,
   "metadata": {},
   "outputs": [
    {
     "data": {
      "text/plain": [
       "GridSearchCV(cv=ShuffleSplit(n_splits=5, random_state=42, test_size=0.3, train_size=None),\n",
       "             error_score=nan,\n",
       "             estimator=Pipeline(memory=None,\n",
       "                                steps=[('preprocessor',\n",
       "                                        ColumnTransformer(n_jobs=None,\n",
       "                                                          remainder='drop',\n",
       "                                                          sparse_threshold=0.3,\n",
       "                                                          transformer_weights=None,\n",
       "                                                          transformers=[('year_transformer',\n",
       "                                                                         Pipeline(memory=None,\n",
       "                                                                                  steps=[('imputer',\n",
       "                                                                                          SimpleImputer(add_indicator...\n",
       "                                                                                    'median',\n",
       "                                                                                    'most_frequent'],\n",
       "                         'preprocessor__year_transformer__imputer__strategy': ['mean',\n",
       "                                                                               'median',\n",
       "                                                                               'most_frequent'],\n",
       "                         'regressor__max_depth': [3, 5, 10, 25, 30, 50],\n",
       "                         'regressor__max_features': ['auto', 'sqrt', 'log2'],\n",
       "                         'regressor__n_estimators': [10, 100, 500, 1000]},\n",
       "             pre_dispatch='2*n_jobs', refit=True, return_train_score=False,\n",
       "             scoring='neg_mean_squared_error', verbose=0)"
      ]
     },
     "execution_count": 117,
     "metadata": {},
     "output_type": "execute_result"
    }
   ],
   "source": [
    "grid_params = {\n",
    "    'preprocessor__year_transformer__imputer__strategy': ['mean', 'median', 'most_frequent'],\n",
    "    'preprocessor__bldg_lvls_transformer__imputer__strategy': ['mean', 'median', 'most_frequent'],\n",
    "    'regressor__max_depth': [3, 5, 10, 25, 30, 50],\n",
    "    'regressor__n_estimators': [10, 100, 500, 1000],\n",
    "    'regressor__max_features': ['auto', 'sqrt', 'log2']\n",
    "}\n",
    "\n",
    "grid_search = GridSearchCV(gs_pipeline, grid_params, cv=cv, scoring='neg_mean_squared_error')\n",
    "grid_search.fit(X_train, y_train)"
   ]
  },
  {
   "cell_type": "code",
   "execution_count": 118,
   "metadata": {},
   "outputs": [
    {
     "data": {
      "text/plain": [
       "{'preprocessor__bldg_lvls_transformer__imputer__strategy': 'most_frequent',\n",
       " 'preprocessor__year_transformer__imputer__strategy': 'most_frequent',\n",
       " 'regressor__max_depth': 10,\n",
       " 'regressor__max_features': 'sqrt',\n",
       " 'regressor__n_estimators': 100}"
      ]
     },
     "execution_count": 118,
     "metadata": {},
     "output_type": "execute_result"
    }
   ],
   "source": [
    "best_params = grid_search.best_params_\n",
    "best_params"
   ]
  },
  {
   "cell_type": "code",
   "execution_count": null,
   "metadata": {},
   "outputs": [],
   "source": [
    "best_estimator = grid_search.best_estimator_\n",
    "print(best_estimator)\n"
   ]
  },
  {
   "cell_type": "code",
   "execution_count": 120,
   "metadata": {},
   "outputs": [
    {
     "data": {
      "text/plain": [
       "-12.279197621416357"
      ]
     },
     "execution_count": 120,
     "metadata": {},
     "output_type": "execute_result"
    }
   ],
   "source": [
    "best_score = grid_search.best_score_\n",
    "best_score"
   ]
  },
  {
   "cell_type": "code",
   "execution_count": null,
   "metadata": {},
   "outputs": [],
   "source": []
  },
  {
   "cell_type": "code",
   "execution_count": null,
   "metadata": {},
   "outputs": [],
   "source": []
  },
  {
   "cell_type": "code",
   "execution_count": 121,
   "metadata": {},
   "outputs": [],
   "source": [
    "cv = ShuffleSplit(n_splits=5, test_size=.3, random_state=42)\n",
    "gs_pipeline = Pipeline(steps=[('preprocessor', preprocessor), ('regressor', GradientBoostingRegressor())])"
   ]
  },
  {
   "cell_type": "code",
   "execution_count": null,
   "metadata": {},
   "outputs": [],
   "source": [
    "grid_params = {\n",
    "    'preprocessor__year_transformer__imputer__strategy': ['mean', 'median', 'most_frequent'],\n",
    "    'preprocessor__bldg_lvls_transformer__imputer__strategy': ['mean', 'median', 'most_frequent'],\n",
    "    'regressor__loss': ['ls', 'lad', 'huber', 'quantile'],\n",
    "    'regressor__learning_rate': [0.05, 0.01, 0.1, 0.5],\n",
    "    'regressor__criterion': ['friedman_mse', 'mse'],\n",
    "    'regressor__max_depth': [3, 5, 10, 25, 30, 50],\n",
    "    'regressor__n_estimators': [10, 100, 500, 1000],\n",
    "    'regressor__max_features': ['auto', 'sqrt', 'log2']\n",
    "}\n",
    "\n",
    "grid_search = GridSearchCV(gs_pipeline, grid_params, cv=cv, scoring='neg_mean_squared_error')\n",
    "grid_search.fit(X_train, y_train)"
   ]
  },
  {
   "cell_type": "code",
   "execution_count": null,
   "metadata": {},
   "outputs": [],
   "source": []
  },
  {
   "cell_type": "code",
   "execution_count": null,
   "metadata": {},
   "outputs": [],
   "source": []
  },
  {
   "cell_type": "code",
   "execution_count": null,
   "metadata": {},
   "outputs": [],
   "source": [
    "y_pred = grid_search.predict(X_test)\n",
    "y_pred_probs = grid_search.predict_proba(X_test)\n",
    "display(y_pred)"
   ]
  },
  {
   "cell_type": "code",
   "execution_count": null,
   "metadata": {},
   "outputs": [],
   "source": [
    "print(mean_squared_error(y_test, y_pred))"
   ]
  }
 ],
 "metadata": {
  "environment": {
   "name": "common-cpu.m46",
   "type": "gcloud",
   "uri": "gcr.io/deeplearning-platform-release/base-cpu:m46"
  },
  "kernelspec": {
   "display_name": "Python 3",
   "language": "python",
   "name": "python3"
  },
  "language_info": {
   "codemirror_mode": {
    "name": "ipython",
    "version": 3
   },
   "file_extension": ".py",
   "mimetype": "text/x-python",
   "name": "python",
   "nbconvert_exporter": "python",
   "pygments_lexer": "ipython3",
   "version": "3.7.6"
  }
 },
 "nbformat": 4,
 "nbformat_minor": 4
}
