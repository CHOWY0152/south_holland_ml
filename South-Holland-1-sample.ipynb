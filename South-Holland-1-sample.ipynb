{
 "cells": [
  {
   "cell_type": "code",
   "execution_count": 1,
   "metadata": {},
   "outputs": [],
   "source": [
    "import pandas as pd\n",
    "import numpy as np\n",
    "import geopandas as gpd\n",
    "import csv\n",
    "import json\n",
    "import sklearn\n",
    "from google.cloud import bigquery as bq\n",
    "import seaborn as sns\n",
    "import matplotlib.pyplot as plt\n",
    "\n",
    "pd.set_option('display.max_columns', None)\n",
    "pd.set_option('display.max_rows', 100)\n",
    "pd.options.mode.chained_assignment = None\n",
    "%matplotlib inline"
   ]
  },
  {
   "cell_type": "code",
   "execution_count": 2,
   "metadata": {},
   "outputs": [],
   "source": [
    "from sklearn.compose import ColumnTransformer\n",
    "from sklearn.pipeline import Pipeline\n",
    "from sklearn.impute import SimpleImputer, KNNImputer\n",
    "from sklearn.preprocessing import StandardScaler, OneHotEncoder\n",
    "from sklearn.feature_selection import SelectKBest, f_regression, mutual_info_regression\n",
    "from sklearn.ensemble import RandomForestRegressor\n",
    "from sklearn.tree import DecisionTreeRegressor\n",
    "from sklearn.neighbors import KNeighborsRegressor\n",
    "from sklearn.linear_model import LinearRegression\n",
    "from sklearn.model_selection import train_test_split, ShuffleSplit, cross_val_score, GridSearchCV\n",
    "from sklearn.metrics import mean_squared_error"
   ]
  },
  {
   "cell_type": "code",
   "execution_count": 3,
   "metadata": {},
   "outputs": [
    {
     "data": {
      "text/html": [
       "<div>\n",
       "<style scoped>\n",
       "    .dataframe tbody tr th:only-of-type {\n",
       "        vertical-align: middle;\n",
       "    }\n",
       "\n",
       "    .dataframe tbody tr th {\n",
       "        vertical-align: top;\n",
       "    }\n",
       "\n",
       "    .dataframe thead th {\n",
       "        text-align: right;\n",
       "    }\n",
       "</style>\n",
       "<table border=\"1\" class=\"dataframe\">\n",
       "  <thead>\n",
       "    <tr style=\"text-align: right;\">\n",
       "      <th></th>\n",
       "      <th>osm_way_id</th>\n",
       "      <th>bldg_height</th>\n",
       "      <th>area</th>\n",
       "      <th>perimeter</th>\n",
       "      <th>length</th>\n",
       "      <th>building_levels</th>\n",
       "      <th>city</th>\n",
       "      <th>country</th>\n",
       "      <th>postcode</th>\n",
       "      <th>year</th>\n",
       "      <th>count_vertices</th>\n",
       "      <th>compactness</th>\n",
       "      <th>complexity</th>\n",
       "      <th>count_neighbor</th>\n",
       "      <th>state_name</th>\n",
       "    </tr>\n",
       "  </thead>\n",
       "  <tbody>\n",
       "    <tr>\n",
       "      <th>548056</th>\n",
       "      <td>286013813</td>\n",
       "      <td>2.42</td>\n",
       "      <td>31.668519</td>\n",
       "      <td>24.167790</td>\n",
       "      <td>9.742269</td>\n",
       "      <td>NaN</td>\n",
       "      <td>None</td>\n",
       "      <td>NL</td>\n",
       "      <td>None</td>\n",
       "      <td>1965.0</td>\n",
       "      <td>8</td>\n",
       "      <td>0.825433</td>\n",
       "      <td>10.187791</td>\n",
       "      <td>514.0</td>\n",
       "      <td>South Holland</td>\n",
       "    </tr>\n",
       "    <tr>\n",
       "      <th>257616</th>\n",
       "      <td>267740503</td>\n",
       "      <td>11.47</td>\n",
       "      <td>155.517230</td>\n",
       "      <td>54.253729</td>\n",
       "      <td>18.623922</td>\n",
       "      <td>NaN</td>\n",
       "      <td>None</td>\n",
       "      <td>NL</td>\n",
       "      <td>None</td>\n",
       "      <td>1930.0</td>\n",
       "      <td>10</td>\n",
       "      <td>0.814825</td>\n",
       "      <td>15.363316</td>\n",
       "      <td>24.0</td>\n",
       "      <td>South Holland</td>\n",
       "    </tr>\n",
       "    <tr>\n",
       "      <th>915702</th>\n",
       "      <td>269238132</td>\n",
       "      <td>9.09</td>\n",
       "      <td>53.454361</td>\n",
       "      <td>31.884644</td>\n",
       "      <td>11.823649</td>\n",
       "      <td>NaN</td>\n",
       "      <td>None</td>\n",
       "      <td>NL</td>\n",
       "      <td>None</td>\n",
       "      <td>1980.0</td>\n",
       "      <td>7</td>\n",
       "      <td>0.812858</td>\n",
       "      <td>11.791954</td>\n",
       "      <td>622.0</td>\n",
       "      <td>South Holland</td>\n",
       "    </tr>\n",
       "    <tr>\n",
       "      <th>606805</th>\n",
       "      <td>289342342</td>\n",
       "      <td>3.13</td>\n",
       "      <td>19.947939</td>\n",
       "      <td>18.831572</td>\n",
       "      <td>7.014432</td>\n",
       "      <td>NaN</td>\n",
       "      <td>None</td>\n",
       "      <td>NL</td>\n",
       "      <td>None</td>\n",
       "      <td>1967.0</td>\n",
       "      <td>6</td>\n",
       "      <td>0.840751</td>\n",
       "      <td>8.910705</td>\n",
       "      <td>1291.0</td>\n",
       "      <td>South Holland</td>\n",
       "    </tr>\n",
       "    <tr>\n",
       "      <th>836536</th>\n",
       "      <td>254955823</td>\n",
       "      <td>6.00</td>\n",
       "      <td>55.546692</td>\n",
       "      <td>37.396677</td>\n",
       "      <td>13.394829</td>\n",
       "      <td>NaN</td>\n",
       "      <td>None</td>\n",
       "      <td>NL</td>\n",
       "      <td>None</td>\n",
       "      <td>1976.0</td>\n",
       "      <td>9</td>\n",
       "      <td>0.706482</td>\n",
       "      <td>13.698356</td>\n",
       "      <td>890.0</td>\n",
       "      <td>South Holland</td>\n",
       "    </tr>\n",
       "  </tbody>\n",
       "</table>\n",
       "</div>"
      ],
      "text/plain": [
       "       osm_way_id  bldg_height        area  perimeter     length  \\\n",
       "548056  286013813         2.42   31.668519  24.167790   9.742269   \n",
       "257616  267740503        11.47  155.517230  54.253729  18.623922   \n",
       "915702  269238132         9.09   53.454361  31.884644  11.823649   \n",
       "606805  289342342         3.13   19.947939  18.831572   7.014432   \n",
       "836536  254955823         6.00   55.546692  37.396677  13.394829   \n",
       "\n",
       "        building_levels  city country postcode    year  count_vertices  \\\n",
       "548056              NaN  None      NL     None  1965.0               8   \n",
       "257616              NaN  None      NL     None  1930.0              10   \n",
       "915702              NaN  None      NL     None  1980.0               7   \n",
       "606805              NaN  None      NL     None  1967.0               6   \n",
       "836536              NaN  None      NL     None  1976.0               9   \n",
       "\n",
       "        compactness  complexity  count_neighbor     state_name  \n",
       "548056     0.825433   10.187791           514.0  South Holland  \n",
       "257616     0.814825   15.363316            24.0  South Holland  \n",
       "915702     0.812858   11.791954           622.0  South Holland  \n",
       "606805     0.840751    8.910705          1291.0  South Holland  \n",
       "836536     0.706482   13.698356           890.0  South Holland  "
      ]
     },
     "execution_count": 3,
     "metadata": {},
     "output_type": "execute_result"
    }
   ],
   "source": [
    "query=\"\"\"\n",
    "    SELECT\n",
    "      *\n",
    "    FROM\n",
    "      `ual3d-277909.nl.zuid_holland_ml_df`\n",
    "\"\"\"\n",
    "\n",
    "df = bq.Client().query(query).to_dataframe()\n",
    "df = df.sample(frac=0.1)\n",
    "df.head()"
   ]
  },
  {
   "cell_type": "code",
   "execution_count": 4,
   "metadata": {},
   "outputs": [],
   "source": [
    "df.set_index('osm_way_id', inplace=True)"
   ]
  },
  {
   "cell_type": "code",
   "execution_count": 5,
   "metadata": {},
   "outputs": [
    {
     "data": {
      "text/plain": [
       "(163867, 14)"
      ]
     },
     "execution_count": 5,
     "metadata": {},
     "output_type": "execute_result"
    }
   ],
   "source": [
    "df.shape"
   ]
  },
  {
   "cell_type": "code",
   "execution_count": 6,
   "metadata": {},
   "outputs": [
    {
     "data": {
      "text/plain": [
       "bldg_height        float64\n",
       "area               float64\n",
       "perimeter          float64\n",
       "length             float64\n",
       "building_levels    float64\n",
       "city                object\n",
       "country             object\n",
       "postcode            object\n",
       "year               float64\n",
       "count_vertices       int64\n",
       "compactness        float64\n",
       "complexity         float64\n",
       "count_neighbor     float64\n",
       "state_name          object\n",
       "dtype: object"
      ]
     },
     "execution_count": 6,
     "metadata": {},
     "output_type": "execute_result"
    }
   ],
   "source": [
    "df.dtypes"
   ]
  },
  {
   "cell_type": "code",
   "execution_count": 7,
   "metadata": {},
   "outputs": [
    {
     "data": {
      "text/plain": [
       "bldg_height         float64\n",
       "area                float64\n",
       "perimeter           float64\n",
       "length              float64\n",
       "building_levels     float64\n",
       "city               category\n",
       "country            category\n",
       "postcode           category\n",
       "year                float64\n",
       "count_vertices        int64\n",
       "compactness         float64\n",
       "complexity          float64\n",
       "count_neighbor      float64\n",
       "state_name         category\n",
       "dtype: object"
      ]
     },
     "execution_count": 7,
     "metadata": {},
     "output_type": "execute_result"
    }
   ],
   "source": [
    "\n",
    "df[\"city\"] = df[\"city\"].astype(\"category\")\n",
    "df[\"state_name\"] = df[\"state_name\"].astype(\"category\")\n",
    "df[\"country\"] = df[\"country\"].astype(\"category\")\n",
    "df[\"postcode\"] = df[\"postcode\"].astype(\"category\")\n",
    "# df[\"year\"] = df[\"year\"].astype(float).astype(\"Int64\")\n",
    "# df[\"count_vertices\"] = df[\"count_vertices\"].astype(float).astype(\"Int64\")\n",
    "# df[\"count_neighbor\"] = df[\"count_neighbor\"].astype(float).astype(\"Int64\")\n",
    "# df[\"building_levels\"] = df[\"building_levels\"].astype(float).astype(\"Int64\")\n",
    "df.dtypes"
   ]
  },
  {
   "cell_type": "code",
   "execution_count": 8,
   "metadata": {},
   "outputs": [],
   "source": [
    "label_col = [\"bldg_height\"]\n",
    "num_cols = [\"area\", \"perimeter\", \"length\", \"building_levels\", \"year\", \"count_vertices\", \"compactness\", \"complexity\", \"count_neighbor\"]\n",
    "# cat_cols = [\"city\", \"postcode\"]\n",
    "cat_cols = [col for col in df.columns if col not in (num_cols + label_col)]\n"
   ]
  },
  {
   "cell_type": "code",
   "execution_count": null,
   "metadata": {},
   "outputs": [],
   "source": []
  },
  {
   "cell_type": "code",
   "execution_count": null,
   "metadata": {},
   "outputs": [],
   "source": []
  },
  {
   "cell_type": "code",
   "execution_count": 9,
   "metadata": {},
   "outputs": [
    {
     "name": "stdout",
     "output_type": "stream",
     "text": [
      "count unique city: 37\n",
      "unique city: [NaN, Pijnacker, Voorburg, 's-Gravenhage, Rijswijk, ..., 's-Gravendeel, Alphen aan den Rijn, Ouddorp, Warmond, Mookhoek]\n",
      "Length: 37\n",
      "Categories (36, object): [Pijnacker, Voorburg, 's-Gravenhage, Rijswijk, ..., Alphen aan den Rijn, Ouddorp, Warmond, Mookhoek]\n",
      "\n",
      "count unique postcode: 77\n",
      "unique postcode: [NaN, 2641ZA, 2272AP, 2273AV, 2585BJ, ..., 2333CH, 3271AH, 2525NL, 2513AM, 2511VC]\n",
      "Length: 77\n",
      "Categories (76, object): [2641ZA, 2272AP, 2273AV, 2585BJ, ..., 3271AH, 2525NL, 2513AM, 2511VC]\n",
      "\n",
      "count unique year: 382\n",
      "unique year: [1965. 1930. 1980. 1967. 1976. 1932. 1950. 1987. 2003. 2019. 1951. 1984.\n",
      " 1978. 1991. 1982. 1908. 2002. 1968. 1986. 1938. 2006. 1958. 1981. 2005.\n",
      " 1920. 1874. 2018. 1993. 1889. 1997. 1964. 1957. 1972. 1988. 1995. 1960.\n",
      " 1900. 1919. 1940. 1926. 1949. 1913. 1910. 1963. 1925. 1928. 1941. 1937.\n",
      " 1969. 2010. 1970. 1800. 1948. 1974. 1998. 1911. 1931. 1961. 2004. 1966.\n",
      " 1975. 1945. 1917. 1955. 2016. 1971. 2008. 1985. 1983. 1979. 1860. 1934.\n",
      " 1992. 1929. 1921. 1870. 1977. 1956. 1922. 2013. 1994. 1914. 1973. 1935.\n",
      " 1990. 1936. 1996. 1923. 1916. 2009. 1989. 1999. 1850. 1890. 1927. 1918.\n",
      " 1912. 1959. 1924. 1540. 1897. 1899. 1668. 1901. 2014. 1953. 1902. 2011.\n",
      " 1933. 1750. 2000. 1946. 1954. 2007. 1873. 2017. 1906. 1820. 2001. 1904.\n",
      " 1947. 1962. 1825. 1952. 1915. 2015. 1896. 1867. 1885. 1853. 1892. 2012.\n",
      " 1869. 1880. 1939. 1895. 1907. 1903. 1909. 1905. 1856. 1942. 1886. 1893.\n",
      " 1898. 1700. 1690. 1882. 1878. 1881. 1943. 1875. 1851. 1650. 1887. 1894.\n",
      " 1877. 1845. 1883. 1868. 1840. 1755. 1607. 1876. 1769. 1583. 1859. 1879.\n",
      " 1790. 1728. 1888. 1780. 1754. 1723. 1863. 1738. 1740. 1468. 1872. 1636.\n",
      " 1669. 1891. 1835. 1775. 1810. 1770. 1500. 1730. 1861. 1600. 1827. 1837.\n",
      " 1705.   nan 1649. 1774. 1865. 1846. 1671. 1819. 1866. 1647. 1605. 1944.\n",
      " 1762. 1648. 1809. 2020. 1884. 1625. 1699. 1777. 1818. 1660. 1666. 1786.\n",
      " 1864. 1806. 1843. 1640. 1619. 1680. 1694. 1725. 1670. 1805. 1590. 1639.\n",
      " 1836. 1684. 1679. 1475. 1852. 1409. 1681. 1789. 1596. 1760. 1651. 1611.\n",
      " 1560. 1745. 1830. 1645. 1772. 1704. 1776. 1675. 1724. 1854. 1871. 1726.\n",
      " 1620. 1414. 1602. 1812. 1659. 1720. 1616. 1714. 1608. 1855. 1383. 1828.\n",
      " 1564. 1862. 1715. 1773. 1422. 1707. 1857. 1606. 1792. 1310. 1643. 1791.\n",
      " 1550. 1400. 1450. 1838. 1673. 1642. 1841. 1369. 1665. 1547. 1658. 1784.\n",
      " 1402. 1609. 1785. 1808. 1787. 1578. 1813. 1718. 1635. 1833. 1610. 1844.\n",
      " 1683. 1674. 1759. 1847. 1592. 1722. 1826. 1641. 1858. 1612. 1793. 1613.\n",
      " 1509. 1821. 1823. 1630. 1614. 1782. 1691. 1816. 1732. 1693. 1749. 1577.\n",
      " 1778. 1657. 1512. 1686. 1687. 1652. 1599. 1663. 1667. 1481. 1839. 1834.\n",
      " 1822. 1766. 1811. 1734. 1795. 1646. 1615. 1703. 1702. 1570. 1848. 1514.\n",
      " 1711. 1849. 1407. 1797. 1763. 1580. 1727. 1753. 1585. 1767. 1505. 1701.\n",
      " 1710. 1796. 1709. 1802. 1459. 1729. 1432. 1672. 1638. 1653. 1478. 1574.\n",
      " 1842. 1706. 1737. 1472. 1617. 1337. 1447. 1623. 1655. 1656.]\n"
     ]
    }
   ],
   "source": [
    "print('count unique city:', len(pd.unique(df['city'])))\n",
    "print('unique city:', pd.unique(df['city']))\n",
    "\n",
    "print('\\ncount unique postcode:', len(pd.unique(df['postcode'])))\n",
    "print('unique postcode:', pd.unique(df['postcode']))\n",
    "\n",
    "print('\\ncount unique year:', len(pd.unique(df['year'])))\n",
    "print('unique year:', pd.unique(df['year']))"
   ]
  },
  {
   "cell_type": "code",
   "execution_count": null,
   "metadata": {},
   "outputs": [],
   "source": []
  },
  {
   "cell_type": "code",
   "execution_count": 10,
   "metadata": {},
   "outputs": [
    {
     "data": {
      "text/plain": [
       "bldg_height             0\n",
       "area                    0\n",
       "perimeter               0\n",
       "length                  0\n",
       "building_levels    161537\n",
       "city               163780\n",
       "country                 0\n",
       "postcode           163790\n",
       "year                   13\n",
       "count_vertices          0\n",
       "compactness             0\n",
       "complexity              0\n",
       "count_neighbor         29\n",
       "state_name              0\n",
       "dtype: int64"
      ]
     },
     "execution_count": 10,
     "metadata": {},
     "output_type": "execute_result"
    }
   ],
   "source": [
    "df.isna().sum()"
   ]
  },
  {
   "cell_type": "code",
   "execution_count": 11,
   "metadata": {},
   "outputs": [],
   "source": [
    "\n",
    "num_df = df[num_cols]"
   ]
  },
  {
   "cell_type": "code",
   "execution_count": 12,
   "metadata": {},
   "outputs": [
    {
     "data": {
      "text/html": [
       "<div>\n",
       "<style scoped>\n",
       "    .dataframe tbody tr th:only-of-type {\n",
       "        vertical-align: middle;\n",
       "    }\n",
       "\n",
       "    .dataframe tbody tr th {\n",
       "        vertical-align: top;\n",
       "    }\n",
       "\n",
       "    .dataframe thead th {\n",
       "        text-align: right;\n",
       "    }\n",
       "</style>\n",
       "<table border=\"1\" class=\"dataframe\">\n",
       "  <thead>\n",
       "    <tr style=\"text-align: right;\">\n",
       "      <th></th>\n",
       "      <th>area</th>\n",
       "      <th>perimeter</th>\n",
       "      <th>length</th>\n",
       "      <th>building_levels</th>\n",
       "      <th>year</th>\n",
       "      <th>count_vertices</th>\n",
       "      <th>compactness</th>\n",
       "      <th>complexity</th>\n",
       "      <th>count_neighbor</th>\n",
       "    </tr>\n",
       "  </thead>\n",
       "  <tbody>\n",
       "    <tr>\n",
       "      <th>count</th>\n",
       "      <td>163867.000000</td>\n",
       "      <td>163867.000000</td>\n",
       "      <td>163867.000000</td>\n",
       "      <td>2330.000000</td>\n",
       "      <td>163854.000000</td>\n",
       "      <td>163867.000000</td>\n",
       "      <td>163867.000000</td>\n",
       "      <td>163867.000000</td>\n",
       "      <td>163838.000000</td>\n",
       "    </tr>\n",
       "    <tr>\n",
       "      <th>mean</th>\n",
       "      <td>129.216545</td>\n",
       "      <td>34.406317</td>\n",
       "      <td>12.482241</td>\n",
       "      <td>1.521459</td>\n",
       "      <td>1969.952879</td>\n",
       "      <td>7.289332</td>\n",
       "      <td>0.820333</td>\n",
       "      <td>11.499628</td>\n",
       "      <td>627.372673</td>\n",
       "    </tr>\n",
       "    <tr>\n",
       "      <th>std</th>\n",
       "      <td>1332.750250</td>\n",
       "      <td>43.736159</td>\n",
       "      <td>15.094950</td>\n",
       "      <td>1.579363</td>\n",
       "      <td>37.106089</td>\n",
       "      <td>5.151727</td>\n",
       "      <td>0.070051</td>\n",
       "      <td>5.159791</td>\n",
       "      <td>308.249104</td>\n",
       "    </tr>\n",
       "    <tr>\n",
       "      <th>min</th>\n",
       "      <td>0.009402</td>\n",
       "      <td>0.388354</td>\n",
       "      <td>0.140021</td>\n",
       "      <td>-3.000000</td>\n",
       "      <td>1310.000000</td>\n",
       "      <td>4.000000</td>\n",
       "      <td>0.270673</td>\n",
       "      <td>1.247153</td>\n",
       "      <td>1.000000</td>\n",
       "    </tr>\n",
       "    <tr>\n",
       "      <th>25%</th>\n",
       "      <td>11.069789</td>\n",
       "      <td>13.823555</td>\n",
       "      <td>5.052223</td>\n",
       "      <td>1.000000</td>\n",
       "      <td>1957.000000</td>\n",
       "      <td>5.000000</td>\n",
       "      <td>0.791849</td>\n",
       "      <td>7.570885</td>\n",
       "      <td>430.000000</td>\n",
       "    </tr>\n",
       "    <tr>\n",
       "      <th>50%</th>\n",
       "      <td>50.053991</td>\n",
       "      <td>29.757954</td>\n",
       "      <td>10.850732</td>\n",
       "      <td>1.000000</td>\n",
       "      <td>1976.000000</td>\n",
       "      <td>5.000000</td>\n",
       "      <td>0.843915</td>\n",
       "      <td>11.133280</td>\n",
       "      <td>640.000000</td>\n",
       "    </tr>\n",
       "    <tr>\n",
       "      <th>75%</th>\n",
       "      <td>71.386777</td>\n",
       "      <td>38.869056</td>\n",
       "      <td>14.321122</td>\n",
       "      <td>1.750000</td>\n",
       "      <td>1993.000000</td>\n",
       "      <td>8.000000</td>\n",
       "      <td>0.872023</td>\n",
       "      <td>13.328806</td>\n",
       "      <td>833.000000</td>\n",
       "    </tr>\n",
       "    <tr>\n",
       "      <th>max</th>\n",
       "      <td>256205.513826</td>\n",
       "      <td>3925.805649</td>\n",
       "      <td>965.213901</td>\n",
       "      <td>27.000000</td>\n",
       "      <td>2020.000000</td>\n",
       "      <td>394.000000</td>\n",
       "      <td>0.999942</td>\n",
       "      <td>174.494474</td>\n",
       "      <td>2125.000000</td>\n",
       "    </tr>\n",
       "  </tbody>\n",
       "</table>\n",
       "</div>"
      ],
      "text/plain": [
       "                area      perimeter         length  building_levels  \\\n",
       "count  163867.000000  163867.000000  163867.000000      2330.000000   \n",
       "mean      129.216545      34.406317      12.482241         1.521459   \n",
       "std      1332.750250      43.736159      15.094950         1.579363   \n",
       "min         0.009402       0.388354       0.140021        -3.000000   \n",
       "25%        11.069789      13.823555       5.052223         1.000000   \n",
       "50%        50.053991      29.757954      10.850732         1.000000   \n",
       "75%        71.386777      38.869056      14.321122         1.750000   \n",
       "max    256205.513826    3925.805649     965.213901        27.000000   \n",
       "\n",
       "                year  count_vertices    compactness     complexity  \\\n",
       "count  163854.000000   163867.000000  163867.000000  163867.000000   \n",
       "mean     1969.952879        7.289332       0.820333      11.499628   \n",
       "std        37.106089        5.151727       0.070051       5.159791   \n",
       "min      1310.000000        4.000000       0.270673       1.247153   \n",
       "25%      1957.000000        5.000000       0.791849       7.570885   \n",
       "50%      1976.000000        5.000000       0.843915      11.133280   \n",
       "75%      1993.000000        8.000000       0.872023      13.328806   \n",
       "max      2020.000000      394.000000       0.999942     174.494474   \n",
       "\n",
       "       count_neighbor  \n",
       "count   163838.000000  \n",
       "mean       627.372673  \n",
       "std        308.249104  \n",
       "min          1.000000  \n",
       "25%        430.000000  \n",
       "50%        640.000000  \n",
       "75%        833.000000  \n",
       "max       2125.000000  "
      ]
     },
     "execution_count": 12,
     "metadata": {},
     "output_type": "execute_result"
    }
   ],
   "source": [
    "num_df.describe()"
   ]
  },
  {
   "cell_type": "code",
   "execution_count": 13,
   "metadata": {},
   "outputs": [
    {
     "data": {
      "text/plain": [
       "[]"
      ]
     },
     "execution_count": 13,
     "metadata": {},
     "output_type": "execute_result"
    },
    {
     "data": {
      "image/png": "[encoded data removed]",
      "text/plain": [
       "<Figure size 1080x360 with 9 Axes>"
      ]
     },
     "metadata": {
      "needs_background": "light"
     },
     "output_type": "display_data"
    }
   ],
   "source": [
    "num_df.plot(kind='box', subplots=True, figsize=(15,5))\n",
    "plt.plot()"
   ]
  },
  {
   "cell_type": "code",
   "execution_count": 16,
   "metadata": {},
   "outputs": [],
   "source": [
    "num_df['count_neighbor'].fillna(0, inplace=True)"
   ]
  },
  {
   "cell_type": "code",
   "execution_count": 17,
   "metadata": {},
   "outputs": [
    {
     "data": {
      "text/html": [
       "<div>\n",
       "<style scoped>\n",
       "    .dataframe tbody tr th:only-of-type {\n",
       "        vertical-align: middle;\n",
       "    }\n",
       "\n",
       "    .dataframe tbody tr th {\n",
       "        vertical-align: top;\n",
       "    }\n",
       "\n",
       "    .dataframe thead th {\n",
       "        text-align: right;\n",
       "    }\n",
       "</style>\n",
       "<table border=\"1\" class=\"dataframe\">\n",
       "  <thead>\n",
       "    <tr style=\"text-align: right;\">\n",
       "      <th></th>\n",
       "      <th>area</th>\n",
       "      <th>perimeter</th>\n",
       "      <th>length</th>\n",
       "      <th>building_levels</th>\n",
       "      <th>year</th>\n",
       "      <th>count_vertices</th>\n",
       "      <th>compactness</th>\n",
       "      <th>complexity</th>\n",
       "      <th>count_neighbor</th>\n",
       "    </tr>\n",
       "  </thead>\n",
       "  <tbody>\n",
       "    <tr>\n",
       "      <th>count</th>\n",
       "      <td>163867.000000</td>\n",
       "      <td>163867.000000</td>\n",
       "      <td>163867.000000</td>\n",
       "      <td>2330.000000</td>\n",
       "      <td>163854.000000</td>\n",
       "      <td>163867.000000</td>\n",
       "      <td>163867.000000</td>\n",
       "      <td>163867.000000</td>\n",
       "      <td>163867.000000</td>\n",
       "    </tr>\n",
       "    <tr>\n",
       "      <th>mean</th>\n",
       "      <td>129.216545</td>\n",
       "      <td>34.406317</td>\n",
       "      <td>12.482241</td>\n",
       "      <td>1.521459</td>\n",
       "      <td>1969.952879</td>\n",
       "      <td>7.289332</td>\n",
       "      <td>0.820333</td>\n",
       "      <td>11.499628</td>\n",
       "      <td>627.261645</td>\n",
       "    </tr>\n",
       "    <tr>\n",
       "      <th>std</th>\n",
       "      <td>1332.750250</td>\n",
       "      <td>43.736159</td>\n",
       "      <td>15.094950</td>\n",
       "      <td>1.579363</td>\n",
       "      <td>37.106089</td>\n",
       "      <td>5.151727</td>\n",
       "      <td>0.070051</td>\n",
       "      <td>5.159791</td>\n",
       "      <td>308.334783</td>\n",
       "    </tr>\n",
       "    <tr>\n",
       "      <th>min</th>\n",
       "      <td>0.009402</td>\n",
       "      <td>0.388354</td>\n",
       "      <td>0.140021</td>\n",
       "      <td>-3.000000</td>\n",
       "      <td>1310.000000</td>\n",
       "      <td>4.000000</td>\n",
       "      <td>0.270673</td>\n",
       "      <td>1.247153</td>\n",
       "      <td>0.000000</td>\n",
       "    </tr>\n",
       "    <tr>\n",
       "      <th>25%</th>\n",
       "      <td>11.069789</td>\n",
       "      <td>13.823555</td>\n",
       "      <td>5.052223</td>\n",
       "      <td>1.000000</td>\n",
       "      <td>1957.000000</td>\n",
       "      <td>5.000000</td>\n",
       "      <td>0.791849</td>\n",
       "      <td>7.570885</td>\n",
       "      <td>430.000000</td>\n",
       "    </tr>\n",
       "    <tr>\n",
       "      <th>50%</th>\n",
       "      <td>50.053991</td>\n",
       "      <td>29.757954</td>\n",
       "      <td>10.850732</td>\n",
       "      <td>1.000000</td>\n",
       "      <td>1976.000000</td>\n",
       "      <td>5.000000</td>\n",
       "      <td>0.843915</td>\n",
       "      <td>11.133280</td>\n",
       "      <td>640.000000</td>\n",
       "    </tr>\n",
       "    <tr>\n",
       "      <th>75%</th>\n",
       "      <td>71.386777</td>\n",
       "      <td>38.869056</td>\n",
       "      <td>14.321122</td>\n",
       "      <td>1.750000</td>\n",
       "      <td>1993.000000</td>\n",
       "      <td>8.000000</td>\n",
       "      <td>0.872023</td>\n",
       "      <td>13.328806</td>\n",
       "      <td>833.000000</td>\n",
       "    </tr>\n",
       "    <tr>\n",
       "      <th>max</th>\n",
       "      <td>256205.513826</td>\n",
       "      <td>3925.805649</td>\n",
       "      <td>965.213901</td>\n",
       "      <td>27.000000</td>\n",
       "      <td>2020.000000</td>\n",
       "      <td>394.000000</td>\n",
       "      <td>0.999942</td>\n",
       "      <td>174.494474</td>\n",
       "      <td>2125.000000</td>\n",
       "    </tr>\n",
       "  </tbody>\n",
       "</table>\n",
       "</div>"
      ],
      "text/plain": [
       "                area      perimeter         length  building_levels  \\\n",
       "count  163867.000000  163867.000000  163867.000000      2330.000000   \n",
       "mean      129.216545      34.406317      12.482241         1.521459   \n",
       "std      1332.750250      43.736159      15.094950         1.579363   \n",
       "min         0.009402       0.388354       0.140021        -3.000000   \n",
       "25%        11.069789      13.823555       5.052223         1.000000   \n",
       "50%        50.053991      29.757954      10.850732         1.000000   \n",
       "75%        71.386777      38.869056      14.321122         1.750000   \n",
       "max    256205.513826    3925.805649     965.213901        27.000000   \n",
       "\n",
       "                year  count_vertices    compactness     complexity  \\\n",
       "count  163854.000000   163867.000000  163867.000000  163867.000000   \n",
       "mean     1969.952879        7.289332       0.820333      11.499628   \n",
       "std        37.106089        5.151727       0.070051       5.159791   \n",
       "min      1310.000000        4.000000       0.270673       1.247153   \n",
       "25%      1957.000000        5.000000       0.791849       7.570885   \n",
       "50%      1976.000000        5.000000       0.843915      11.133280   \n",
       "75%      1993.000000        8.000000       0.872023      13.328806   \n",
       "max      2020.000000      394.000000       0.999942     174.494474   \n",
       "\n",
       "       count_neighbor  \n",
       "count   163867.000000  \n",
       "mean       627.261645  \n",
       "std        308.334783  \n",
       "min          0.000000  \n",
       "25%        430.000000  \n",
       "50%        640.000000  \n",
       "75%        833.000000  \n",
       "max       2125.000000  "
      ]
     },
     "execution_count": 17,
     "metadata": {},
     "output_type": "execute_result"
    }
   ],
   "source": [
    "num_df.describe()"
   ]
  },
  {
   "cell_type": "code",
   "execution_count": 18,
   "metadata": {},
   "outputs": [
    {
     "data": {
      "text/plain": [
       "[]"
      ]
     },
     "execution_count": 18,
     "metadata": {},
     "output_type": "execute_result"
    },
    {
     "data": {
      "image/png": "[encoded data removed]",
      "text/plain": [
       "<Figure size 1080x360 with 9 Axes>"
      ]
     },
     "metadata": {
      "needs_background": "light"
     },
     "output_type": "display_data"
    }
   ],
   "source": [
    "num_df.plot(kind='box', subplots=True, figsize=(15,5))\n",
    "plt.plot()"
   ]
  },
  {
   "cell_type": "markdown",
   "metadata": {},
   "source": [
    "We assume that count_neighbor is 0 when null. "
   ]
  },
  {
   "cell_type": "code",
   "execution_count": 19,
   "metadata": {},
   "outputs": [
    {
     "data": {
      "text/plain": [
       "bldg_height             0\n",
       "area                    0\n",
       "perimeter               0\n",
       "length                  0\n",
       "building_levels    161537\n",
       "city               163780\n",
       "country                 0\n",
       "postcode           163790\n",
       "year                   13\n",
       "count_vertices          0\n",
       "compactness             0\n",
       "complexity              0\n",
       "count_neighbor          0\n",
       "state_name              0\n",
       "dtype: int64"
      ]
     },
     "execution_count": 19,
     "metadata": {},
     "output_type": "execute_result"
    }
   ],
   "source": [
    "df['count_neighbor'].fillna(0, inplace=True)\n",
    "df.isna().sum()"
   ]
  },
  {
   "cell_type": "code",
   "execution_count": 20,
   "metadata": {},
   "outputs": [
    {
     "data": {
      "text/plain": [
       "Index(['bldg_height', 'area', 'perimeter', 'length', 'building_levels', 'city',\n",
       "       'country', 'postcode', 'year', 'count_vertices', 'compactness',\n",
       "       'complexity', 'count_neighbor', 'state_name'],\n",
       "      dtype='object')"
      ]
     },
     "execution_count": 20,
     "metadata": {},
     "output_type": "execute_result"
    }
   ],
   "source": [
    "df.columns"
   ]
  },
  {
   "cell_type": "code",
   "execution_count": 21,
   "metadata": {},
   "outputs": [
    {
     "name": "stdout",
     "output_type": "stream",
     "text": [
      "Index(['bldg_height', 'area', 'perimeter', 'length', 'building_levels', 'city',\n",
      "       'postcode', 'year', 'count_vertices', 'compactness', 'complexity',\n",
      "       'count_neighbor'],\n",
      "      dtype='object')\n"
     ]
    }
   ],
   "source": [
    "# drop country and state_name as they are irrelevant \n",
    "df = df.drop(['country', 'state_name'], axis=1)\n",
    "print(df.columns)"
   ]
  },
  {
   "cell_type": "code",
   "execution_count": 23,
   "metadata": {},
   "outputs": [
    {
     "name": "stdout",
     "output_type": "stream",
     "text": [
      "Index(['bldg_height', 'area', 'building_levels', 'city', 'postcode', 'year',\n",
      "       'count_vertices', 'compactness', 'complexity', 'count_neighbor'],\n",
      "      dtype='object')\n"
     ]
    }
   ],
   "source": [
    "# drop length and perimeter as they are highly correlated \n",
    "df = df.drop(['length', 'perimeter'], axis=1)\n",
    "print(df.columns)"
   ]
  },
  {
   "cell_type": "code",
   "execution_count": 25,
   "metadata": {},
   "outputs": [
    {
     "name": "stdout",
     "output_type": "stream",
     "text": [
      "['area', 'building_levels', 'year', 'count_vertices', 'compactness', 'complexity', 'count_neighbor']\n"
     ]
    }
   ],
   "source": [
    "num_cols = ['area', 'building_levels', 'year', 'count_vertices', 'compactness', 'complexity', 'count_neighbor']\n",
    "print(num_cols)"
   ]
  },
  {
   "cell_type": "code",
   "execution_count": 26,
   "metadata": {},
   "outputs": [
    {
     "name": "stdout",
     "output_type": "stream",
     "text": [
      "['city', 'postcode']\n"
     ]
    }
   ],
   "source": [
    "cat_cols = [col for col in df.columns if col not in (num_cols + label_col)]\n",
    "print(cat_cols)\n"
   ]
  },
  {
   "cell_type": "code",
   "execution_count": null,
   "metadata": {},
   "outputs": [],
   "source": []
  },
  {
   "cell_type": "code",
   "execution_count": null,
   "metadata": {},
   "outputs": [],
   "source": []
  },
  {
   "cell_type": "code",
   "execution_count": null,
   "metadata": {},
   "outputs": [],
   "source": []
  },
  {
   "cell_type": "code",
   "execution_count": 27,
   "metadata": {},
   "outputs": [],
   "source": [
    "X = df.drop('bldg_height', axis=1)\n",
    "y = df['bldg_height']\n",
    "\n",
    "X_train, X_test, y_train, y_test = train_test_split(X, y, test_size=0.2, random_state=69)"
   ]
  },
  {
   "cell_type": "code",
   "execution_count": 28,
   "metadata": {},
   "outputs": [
    {
     "data": {
      "text/plain": [
       "(                  area  building_levels city postcode    year  count_vertices  \\\n",
       " osm_way_id                                                                      \n",
       " 286013813    31.668519              NaN  NaN      NaN  1965.0               8   \n",
       " 267740503   155.517230              NaN  NaN      NaN  1930.0              10   \n",
       " 269238132    53.454361              NaN  NaN      NaN  1980.0               7   \n",
       " 289342342    19.947939              NaN  NaN      NaN  1967.0               6   \n",
       " 254955823    55.546692              NaN  NaN      NaN  1976.0               9   \n",
       " ...                ...              ...  ...      ...     ...             ...   \n",
       " 281447074    40.180768              NaN  NaN      NaN  1910.0               7   \n",
       " 291474383    20.881269              NaN  NaN      NaN  1956.0               6   \n",
       " 289377741     9.795538              NaN  NaN      NaN  1939.0               6   \n",
       " 269387946    15.053732              NaN  NaN      NaN  1917.0               6   \n",
       " 253643931    12.046893              NaN  NaN      NaN  2003.0               4   \n",
       " \n",
       "             compactness  complexity  count_neighbor  \n",
       " osm_way_id                                           \n",
       " 286013813      0.825433   10.187791           514.0  \n",
       " 267740503      0.814825   15.363316            24.0  \n",
       " 269238132      0.812858   11.791954           622.0  \n",
       " 289342342      0.840751    8.910705          1291.0  \n",
       " 254955823      0.706482   13.698356           890.0  \n",
       " ...                 ...         ...             ...  \n",
       " 281447074      0.801394   11.136871           489.0  \n",
       " 291474383      0.824329    9.192705          1336.0  \n",
       " 289377741      0.830127    7.554705           600.0  \n",
       " 269387946      0.695505   10.039588           627.0  \n",
       " 253643931      0.768821    8.590108           129.0  \n",
       " \n",
       " [163867 rows x 9 columns],\n",
       " osm_way_id\n",
       " 286013813     2.42\n",
       " 267740503    11.47\n",
       " 269238132     9.09\n",
       " 289342342     3.13\n",
       " 254955823     6.00\n",
       "              ...  \n",
       " 281447074     6.94\n",
       " 291474383     2.57\n",
       " 289377741     2.61\n",
       " 269387946     2.17\n",
       " 253643931     5.31\n",
       " Name: bldg_height, Length: 163867, dtype: float64)"
      ]
     },
     "execution_count": 28,
     "metadata": {},
     "output_type": "execute_result"
    }
   ],
   "source": [
    "X, y"
   ]
  },
  {
   "cell_type": "code",
   "execution_count": null,
   "metadata": {},
   "outputs": [],
   "source": []
  },
  {
   "cell_type": "code",
   "execution_count": null,
   "metadata": {},
   "outputs": [],
   "source": []
  },
  {
   "cell_type": "code",
   "execution_count": 31,
   "metadata": {},
   "outputs": [],
   "source": [
    "num_transformer = Pipeline(steps=[\n",
    "    ('imputer', SimpleImputer(strategy='mean', add_indicator=True)),\n",
    "    ('scaler', StandardScaler()),\n",
    "    ('kbest', SelectKBest(f_regression, k='all'))])\n"
   ]
  },
  {
   "cell_type": "code",
   "execution_count": 33,
   "metadata": {},
   "outputs": [],
   "source": [
    "cat_transformer = Pipeline(steps=[\n",
    "    ('imputer', SimpleImputer(strategy='constant', add_indicator=True, fill_value=\"NA\")),\n",
    "    ('onehot', OneHotEncoder(drop='first', handle_unknown='ignore')),\n",
    "    ('kbest', SelectKBest(f_regression, k='all'))])"
   ]
  },
  {
   "cell_type": "code",
   "execution_count": null,
   "metadata": {},
   "outputs": [],
   "source": []
  },
  {
   "cell_type": "code",
   "execution_count": 34,
   "metadata": {},
   "outputs": [],
   "source": [
    "preprocessor = ColumnTransformer(transformers=[\n",
    "        ('num_transformer', num_transformer, num_cols),\n",
    "        ('cat_transfomer', cat_transformer, cat_cols)])"
   ]
  },
  {
   "cell_type": "code",
   "execution_count": null,
   "metadata": {},
   "outputs": [],
   "source": []
  },
  {
   "cell_type": "code",
   "execution_count": null,
   "metadata": {},
   "outputs": [],
   "source": []
  },
  {
   "cell_type": "code",
   "execution_count": null,
   "metadata": {},
   "outputs": [],
   "source": []
  },
  {
   "cell_type": "code",
   "execution_count": null,
   "metadata": {},
   "outputs": [],
   "source": []
  },
  {
   "cell_type": "code",
   "execution_count": null,
   "metadata": {},
   "outputs": [],
   "source": []
  },
  {
   "cell_type": "code",
   "execution_count": null,
   "metadata": {},
   "outputs": [],
   "source": []
  },
  {
   "cell_type": "code",
   "execution_count": null,
   "metadata": {},
   "outputs": [],
   "source": []
  },
  {
   "cell_type": "code",
   "execution_count": null,
   "metadata": {},
   "outputs": [],
   "source": []
  },
  {
   "cell_type": "code",
   "execution_count": null,
   "metadata": {},
   "outputs": [],
   "source": []
  },
  {
   "cell_type": "code",
   "execution_count": null,
   "metadata": {},
   "outputs": [],
   "source": []
  },
  {
   "cell_type": "code",
   "execution_count": null,
   "metadata": {},
   "outputs": [],
   "source": [
    "\n"
   ]
  },
  {
   "cell_type": "code",
   "execution_count": null,
   "metadata": {},
   "outputs": [],
   "source": []
  },
  {
   "cell_type": "code",
   "execution_count": 35,
   "metadata": {},
   "outputs": [],
   "source": [
    "# ('imputer', KNNImputer(n_neighbors=50, weights='uniform'))\n",
    "# ,('kbest', SelectKBest(f_regression, k=5))\n",
    "# ,('kbest', SelectKBest(f_regression, k=50))"
   ]
  },
  {
   "cell_type": "code",
   "execution_count": null,
   "metadata": {},
   "outputs": [],
   "source": []
  },
  {
   "cell_type": "code",
   "execution_count": 36,
   "metadata": {},
   "outputs": [],
   "source": [
    "from sklearn.ensemble import RandomForestRegressor, AdaBoostRegressor, GradientBoostingRegressor, BaggingRegressor\n",
    "from sklearn.tree import DecisionTreeRegressor\n",
    "from sklearn.neighbors import KNeighborsRegressor\n",
    "from sklearn.linear_model import LinearRegression"
   ]
  },
  {
   "cell_type": "code",
   "execution_count": 37,
   "metadata": {},
   "outputs": [],
   "source": [
    "# print(sorted(sklearn.metrics.SCORERS.keys()) )"
   ]
  },
  {
   "cell_type": "code",
   "execution_count": 38,
   "metadata": {},
   "outputs": [],
   "source": [
    "regressors = []\n",
    "regressors.append(('LR', LinearRegression()))\n",
    "regressors.append(('DT', DecisionTreeRegressor()))\n",
    "# regressors.append(('DT', DecisionTreeRegressor(max_depth=30, random_state=42)))\n",
    "regressors.append(('KNN', KNeighborsRegressor()))\n",
    "# regressors.append(('KNN', KNeighborsRegressor(n_neighborsint=30, weights=\"distance\")))\n",
    "regressors.append(('RF', RandomForestRegressor()))\n",
    "# regressors.append(('RF', RandomForestRegressor(n_estimators=100, max_depth=10)))\n",
    "regressors.append(('AB', AdaBoostRegressor()))\n",
    "regressors.append(('B', BaggingRegressor()))\n",
    "regressors.append(('GB', GradientBoostingRegressor()))\n"
   ]
  },
  {
   "cell_type": "code",
   "execution_count": null,
   "metadata": {},
   "outputs": [],
   "source": []
  },
  {
   "cell_type": "code",
   "execution_count": 39,
   "metadata": {},
   "outputs": [],
   "source": [
    "mae_reg_scores = {}"
   ]
  },
  {
   "cell_type": "code",
   "execution_count": 40,
   "metadata": {},
   "outputs": [
    {
     "name": "stdout",
     "output_type": "stream",
     "text": [
      "LR: avg: -2.196339 (std: 0.009112, max: -2.182816, min: -2.206639)\n",
      "DT: avg: -1.407385 (std: 0.013850, max: -1.382674, min: -1.424847)\n",
      "KNN: avg: -1.191013 (std: 0.005969, max: -1.180771, min: -1.197428)\n",
      "RF: avg: -1.045295 (std: 0.006342, max: -1.037155, min: -1.055631)\n",
      "AB: avg: -4.760441 (std: 2.024096, max: -1.759552, min: -7.659171)\n",
      "B: avg: -1.108461 (std: 0.007262, max: -1.102363, min: -1.122124)\n",
      "GB: avg: -1.161049 (std: 0.006272, max: -1.149568, min: -1.166902)\n"
     ]
    }
   ],
   "source": [
    "for name, regressor in regressors:\n",
    "    cv = ShuffleSplit(n_splits=5, test_size=.3, random_state=42)\n",
    "    mdl_pipeline = Pipeline(steps=[('preprocessor', preprocessor), ('regressor', regressor)])\n",
    "    scores = cross_val_score(mdl_pipeline, X_train, y_train, cv=cv, scoring='neg_mean_absolute_error', error_score='raise', n_jobs=-1)\n",
    "    mae_reg_scores[name] = scores\n",
    "    msg = \"%s: avg: %f (std: %f, max: %f, min: %f)\" % (name, scores.mean(), scores.std(), scores.max(), scores.min())\n",
    "    print(msg)"
   ]
  },
  {
   "cell_type": "code",
   "execution_count": 57,
   "metadata": {},
   "outputs": [
    {
     "data": {
      "image/png": "[encoded data removed]",
      "text/plain": [
       "<Figure size 432x288 with 1 Axes>"
      ]
     },
     "metadata": {
      "needs_background": "light"
     },
     "output_type": "display_data"
    }
   ],
   "source": [
    "fig = plt.figure()\n",
    "fig.suptitle('Algorithm Comparison')\n",
    "ax = fig.add_subplot(111)\n",
    "\n",
    "plt.boxplot(mae_reg_scores.values())\n",
    "ax.set_xticklabels(mae_reg_scores.keys())\n",
    "\n",
    "plt.plot()\n",
    "plt.xlabel('Models')\n",
    "plt.ylabel('MAE Scores')\n",
    "plt.savefig('model_selection_dropped_length_perimtr_cv/South-Holland-Sample_MAE.png', dpi=600)\n"
   ]
  },
  {
   "cell_type": "code",
   "execution_count": 42,
   "metadata": {},
   "outputs": [
    {
     "data": {
      "text/plain": [
       "<Figure size 432x288 with 0 Axes>"
      ]
     },
     "metadata": {},
     "output_type": "display_data"
    }
   ],
   "source": []
  },
  {
   "cell_type": "code",
   "execution_count": 63,
   "metadata": {},
   "outputs": [
    {
     "data": {
      "text/plain": [
       "{'LR': array([-2.20556828, -2.18994569, -2.19672848, -2.20663889, -2.18281595]),\n",
       " 'DT': array([-1.40566136, -1.41142074, -1.38267443, -1.42484667, -1.41232023]),\n",
       " 'KNN': array([-1.19742804, -1.1807711 , -1.1880864 , -1.19499008, -1.19378956]),\n",
       " 'RF': array([-1.04831115, -1.03715511, -1.04105307, -1.05563088, -1.04432345]),\n",
       " 'B': array([-1.10965381, -1.10401683, -1.1023629 , -1.12212378, -1.10414566]),\n",
       " 'GB': array([-1.15984338, -1.14956769, -1.1669018 , -1.16276176, -1.16616974])}"
      ]
     },
     "execution_count": 63,
     "metadata": {},
     "output_type": "execute_result"
    }
   ],
   "source": [
    "if 'AB' in mae_reg_scores.keys():\n",
    "    del mae_reg_scores['AB'] \n",
    "mae_reg_scores"
   ]
  },
  {
   "cell_type": "code",
   "execution_count": 61,
   "metadata": {},
   "outputs": [
    {
     "data": {
      "image/png": "[encoded data removed]",
      "text/plain": [
       "<Figure size 432x288 with 1 Axes>"
      ]
     },
     "metadata": {
      "needs_background": "light"
     },
     "output_type": "display_data"
    }
   ],
   "source": [
    "fig = plt.figure()\n",
    "fig.suptitle('Algorithm Comparison')\n",
    "ax = fig.add_subplot(111)\n",
    "\n",
    "plt.boxplot(mae_reg_scores.values())\n",
    "ax.set_xticklabels(mae_reg_scores.keys())\n",
    "\n",
    "plt.plot()\n",
    "plt.xlabel('Models')\n",
    "plt.ylabel('MAE Scores')\n",
    "plt.savefig('model_selection_dropped_length_perimtr_cv/South-Holland-Sample_MAE_Except-AB.png', dpi=600)\n",
    "\n"
   ]
  },
  {
   "cell_type": "code",
   "execution_count": null,
   "metadata": {},
   "outputs": [],
   "source": []
  },
  {
   "cell_type": "code",
   "execution_count": null,
   "metadata": {},
   "outputs": [],
   "source": []
  },
  {
   "cell_type": "code",
   "execution_count": null,
   "metadata": {},
   "outputs": [],
   "source": []
  },
  {
   "cell_type": "code",
   "execution_count": null,
   "metadata": {},
   "outputs": [],
   "source": []
  },
  {
   "cell_type": "code",
   "execution_count": 64,
   "metadata": {},
   "outputs": [],
   "source": [
    "mse_reg_scores = {}"
   ]
  },
  {
   "cell_type": "code",
   "execution_count": 65,
   "metadata": {},
   "outputs": [
    {
     "name": "stdout",
     "output_type": "stream",
     "text": [
      "LR: avg: -8.871507 (std: 0.409485, max: -8.473719, min: -9.427296)\n",
      "DT: avg: -8.898112 (std: 0.497577, max: -8.356114, min: -9.714631)\n",
      "KNN: avg: -5.049369 (std: 0.146694, max: -4.815735, min: -5.215162)\n",
      "RF: avg: -4.273277 (std: 0.108769, max: -4.109295, min: -4.407108)\n",
      "AB: avg: -27.787811 (std: 14.997299, max: -10.186093, min: -55.085067)\n",
      "B: avg: -4.686037 (std: 0.141402, max: -4.494697, min: -4.834635)\n",
      "GB: avg: -4.603839 (std: 0.165808, max: -4.439613, min: -4.820482)\n"
     ]
    }
   ],
   "source": [
    "for name, regressor in regressors:\n",
    "    cv = ShuffleSplit(n_splits=5, test_size=.3, random_state=42)\n",
    "    mdl_pipeline = Pipeline(steps=[('preprocessor', preprocessor), ('regressor', regressor)])\n",
    "    scores = cross_val_score(mdl_pipeline, X_train, y_train, cv=cv, scoring='neg_mean_squared_error', error_score='raise', n_jobs=-1)\n",
    "    mse_reg_scores[name] = scores\n",
    "    msg = \"%s: avg: %f (std: %f, max: %f, min: %f)\" % (name, scores.mean(), scores.std(), scores.max(), scores.min())\n",
    "    print(msg)"
   ]
  },
  {
   "cell_type": "code",
   "execution_count": 66,
   "metadata": {},
   "outputs": [
    {
     "data": {
      "image/png": "[encoded data removed]",
      "text/plain": [
       "<Figure size 432x288 with 1 Axes>"
      ]
     },
     "metadata": {
      "needs_background": "light"
     },
     "output_type": "display_data"
    }
   ],
   "source": [
    "fig = plt.figure()\n",
    "fig.suptitle('Algorithm Comparison')\n",
    "ax = fig.add_subplot(111)\n",
    "\n",
    "plt.boxplot(mse_reg_scores.values())\n",
    "ax.set_xticklabels(mse_reg_scores.keys())\n",
    "\n",
    "plt.plot()\n",
    "plt.xlabel('Models')\n",
    "plt.ylabel('MSE Scores')\n",
    "plt.savefig('model_selection_dropped_length_perimtr_cv/South-Holland-Sample_MSE.png', dpi=600)\n",
    "plt.show()"
   ]
  },
  {
   "cell_type": "code",
   "execution_count": null,
   "metadata": {},
   "outputs": [],
   "source": []
  },
  {
   "cell_type": "code",
   "execution_count": 67,
   "metadata": {},
   "outputs": [
    {
     "data": {
      "text/plain": [
       "{'LR': array([-8.61948949, -8.47371889, -9.30795156, -8.52907923, -9.42729562]),\n",
       " 'DT': array([-8.43072179, -9.71463093, -8.35611438, -9.13666499, -8.85242755]),\n",
       " 'KNN': array([-5.02243767, -4.81573454, -5.21516155, -4.99598976, -5.19752025]),\n",
       " 'RF': array([-4.2353807 , -4.10929535, -4.40710765, -4.23449527, -4.38010558]),\n",
       " 'B': array([-4.53862501, -4.49469668, -4.80823377, -4.83463517, -4.75399209]),\n",
       " 'GB': array([-4.50072393, -4.43961334, -4.8204822 , -4.46850434, -4.78987246])}"
      ]
     },
     "execution_count": 67,
     "metadata": {},
     "output_type": "execute_result"
    }
   ],
   "source": [
    "if 'AB' in mse_reg_scores.keys():\n",
    "    del mse_reg_scores['AB'] \n",
    "mse_reg_scores"
   ]
  },
  {
   "cell_type": "code",
   "execution_count": 68,
   "metadata": {},
   "outputs": [
    {
     "data": {
      "image/png": "[encoded data removed]",
      "text/plain": [
       "<Figure size 432x288 with 1 Axes>"
      ]
     },
     "metadata": {
      "needs_background": "light"
     },
     "output_type": "display_data"
    }
   ],
   "source": [
    "fig = plt.figure()\n",
    "fig.suptitle('Algorithm Comparison')\n",
    "ax = fig.add_subplot(111)\n",
    "\n",
    "plt.boxplot(mse_reg_scores.values())\n",
    "ax.set_xticklabels(mse_reg_scores.keys())\n",
    "\n",
    "plt.plot()\n",
    "plt.xlabel('Models')\n",
    "plt.ylabel('MSE Scores')\n",
    "plt.savefig('model_selection_dropped_length_perimtr_cv/South-Holland-Sample_MSE_Except-AB.png', dpi=600)\n",
    "plt.show()"
   ]
  },
  {
   "cell_type": "code",
   "execution_count": null,
   "metadata": {},
   "outputs": [],
   "source": []
  },
  {
   "cell_type": "code",
   "execution_count": null,
   "metadata": {},
   "outputs": [],
   "source": []
  },
  {
   "cell_type": "code",
   "execution_count": null,
   "metadata": {},
   "outputs": [],
   "source": []
  },
  {
   "cell_type": "code",
   "execution_count": null,
   "metadata": {},
   "outputs": [],
   "source": []
  },
  {
   "cell_type": "code",
   "execution_count": null,
   "metadata": {},
   "outputs": [],
   "source": []
  },
  {
   "cell_type": "code",
   "execution_count": 69,
   "metadata": {},
   "outputs": [],
   "source": [
    "r2_reg_scores = {}"
   ]
  },
  {
   "cell_type": "code",
   "execution_count": 70,
   "metadata": {},
   "outputs": [
    {
     "name": "stdout",
     "output_type": "stream",
     "text": [
      "LR: avg: 0.374344 (std: 0.024540, max: 0.400881, min: 0.343675)\n",
      "DT: avg: 0.375799 (std: 0.033418, max: 0.409033, min: 0.315290)\n",
      "KNN: avg: 0.643838 (std: 0.008709, max: 0.658305, min: 0.634355)\n",
      "RF: avg: 0.699384 (std: 0.005107, max: 0.708355, min: 0.693979)\n",
      "AB: avg: -0.866015 (std: 1.017316, max: 0.269766, min: -2.727325)\n",
      "B: avg: 0.670334 (std: 0.004470, max: 0.677619, min: 0.664577)\n",
      "GB: avg: 0.675444 (std: 0.009614, max: 0.686421, min: 0.662311)\n"
     ]
    }
   ],
   "source": [
    "for name, regressor in regressors:\n",
    "    cv = ShuffleSplit(n_splits=5, test_size=.3, random_state=42)\n",
    "    mdl_pipeline = Pipeline(steps=[('preprocessor', preprocessor), ('regressor', regressor)])\n",
    "    scores = cross_val_score(mdl_pipeline, X_train, y_train, cv=cv, scoring='r2', error_score='raise', n_jobs=-1)\n",
    "    r2_reg_scores[name] = scores\n",
    "    msg = \"%s: avg: %f (std: %f, max: %f, min: %f)\" % (name, scores.mean(), scores.std(), scores.max(), scores.min())\n",
    "    print(msg)"
   ]
  },
  {
   "cell_type": "code",
   "execution_count": 71,
   "metadata": {},
   "outputs": [
    {
     "data": {
      "image/png": "[encoded data removed]",
      "text/plain": [
       "<Figure size 432x288 with 1 Axes>"
      ]
     },
     "metadata": {
      "needs_background": "light"
     },
     "output_type": "display_data"
    }
   ],
   "source": [
    "fig = plt.figure()\n",
    "fig.suptitle('Algorithm Comparison')\n",
    "ax = fig.add_subplot(111)\n",
    "\n",
    "plt.boxplot(r2_reg_scores.values())\n",
    "ax.set_xticklabels(r2_reg_scores.keys())\n",
    "\n",
    "plt.plot()\n",
    "plt.xlabel('Models')\n",
    "plt.ylabel('R^2 Scores')\n",
    "plt.savefig('model_selection_dropped_length_perimtr_cv/South-Holland-Sample_R2.png', dpi=600)\n",
    "plt.show()"
   ]
  },
  {
   "cell_type": "code",
   "execution_count": null,
   "metadata": {},
   "outputs": [],
   "source": []
  },
  {
   "cell_type": "code",
   "execution_count": 72,
   "metadata": {},
   "outputs": [
    {
     "data": {
      "text/plain": [
       "{'LR': array([0.38100228, 0.39875771, 0.34740164, 0.40088117, 0.34367501]),\n",
       " 'DT': array([0.40903348, 0.31528964, 0.40320332, 0.36995417, 0.38151611]),\n",
       " 'KNN': array([0.63932   , 0.65830548, 0.63435501, 0.64906041, 0.63815048]),\n",
       " 'RF': array([0.6979779 , 0.70835532, 0.69397938, 0.70116528, 0.69544218]),\n",
       " 'B': array([0.66697175, 0.67761876, 0.67184363, 0.66457665, 0.6706584 ]),\n",
       " 'GB': array([0.67676051, 0.68500319, 0.66231128, 0.6864213 , 0.66672132])}"
      ]
     },
     "execution_count": 72,
     "metadata": {},
     "output_type": "execute_result"
    }
   ],
   "source": [
    "if 'AB' in r2_reg_scores.keys():\n",
    "    del r2_reg_scores['AB']\n",
    "r2_reg_scores"
   ]
  },
  {
   "cell_type": "code",
   "execution_count": null,
   "metadata": {},
   "outputs": [],
   "source": [
    "fig = plt.figure()\n",
    "fig.suptitle('Algorithm Comparison')\n",
    "ax = fig.add_subplot(111)\n",
    "\n",
    "plt.boxplot(r2_reg_scores.values())\n",
    "ax.set_xticklabels(r2_reg_scores.keys())\n",
    "\n",
    "plt.plot()\n",
    "plt.xlabel('Models')\n",
    "plt.ylabel('R^2 Scores')\n",
    "plt.savefig('model_selection_dropped_length_perimtr_cv/South-Holland-Sample_R2_Except-AB.png', dpi=600)\n",
    "plt.show()"
   ]
  },
  {
   "cell_type": "code",
   "execution_count": null,
   "metadata": {},
   "outputs": [],
   "source": []
  },
  {
   "cell_type": "code",
   "execution_count": null,
   "metadata": {},
   "outputs": [],
   "source": []
  },
  {
   "cell_type": "code",
   "execution_count": null,
   "metadata": {},
   "outputs": [],
   "source": []
  },
  {
   "cell_type": "code",
   "execution_count": null,
   "metadata": {},
   "outputs": [],
   "source": []
  },
  {
   "cell_type": "code",
   "execution_count": null,
   "metadata": {},
   "outputs": [],
   "source": []
  },
  {
   "cell_type": "code",
   "execution_count": null,
   "metadata": {},
   "outputs": [],
   "source": []
  },
  {
   "cell_type": "code",
   "execution_count": null,
   "metadata": {},
   "outputs": [],
   "source": []
  },
  {
   "cell_type": "code",
   "execution_count": null,
   "metadata": {},
   "outputs": [],
   "source": [
    "\n"
   ]
  },
  {
   "cell_type": "code",
   "execution_count": null,
   "metadata": {},
   "outputs": [],
   "source": []
  },
  {
   "cell_type": "code",
   "execution_count": null,
   "metadata": {},
   "outputs": [],
   "source": []
  },
  {
   "cell_type": "code",
   "execution_count": null,
   "metadata": {},
   "outputs": [],
   "source": []
  },
  {
   "cell_type": "code",
   "execution_count": null,
   "metadata": {},
   "outputs": [],
   "source": []
  },
  {
   "cell_type": "code",
   "execution_count": null,
   "metadata": {},
   "outputs": [],
   "source": []
  },
  {
   "cell_type": "code",
   "execution_count": null,
   "metadata": {},
   "outputs": [],
   "source": []
  },
  {
   "cell_type": "code",
   "execution_count": null,
   "metadata": {},
   "outputs": [],
   "source": []
  },
  {
   "cell_type": "code",
   "execution_count": 88,
   "metadata": {},
   "outputs": [
    {
     "data": {
      "text/plain": [
       "['city', 'postcode']"
      ]
     },
     "execution_count": 88,
     "metadata": {},
     "output_type": "execute_result"
    }
   ],
   "source": [
    "cat_cols"
   ]
  },
  {
   "cell_type": "code",
   "execution_count": 89,
   "metadata": {},
   "outputs": [
    {
     "data": {
      "text/plain": [
       "['area',\n",
       " 'building_levels',\n",
       " 'year',\n",
       " 'count_vertices',\n",
       " 'compactness',\n",
       " 'complexity',\n",
       " 'count_neighbor']"
      ]
     },
     "execution_count": 89,
     "metadata": {},
     "output_type": "execute_result"
    }
   ],
   "source": [
    "num_cols"
   ]
  },
  {
   "cell_type": "code",
   "execution_count": null,
   "metadata": {},
   "outputs": [],
   "source": []
  },
  {
   "cell_type": "code",
   "execution_count": 126,
   "metadata": {},
   "outputs": [],
   "source": [
    "num_transformer = Pipeline(steps=[\n",
    "    ('imputer', SimpleImputer(strategy='mean', add_indicator=True)),\n",
    "    ('scaler', StandardScaler()),\n",
    "    ('kbest', SelectKBest(f_regression, k='all'))])\n"
   ]
  },
  {
   "cell_type": "code",
   "execution_count": 127,
   "metadata": {},
   "outputs": [],
   "source": [
    "cat_transformer = Pipeline(steps=[\n",
    "    ('imputer', SimpleImputer(strategy='constant', add_indicator=True, fill_value=\"NA\")),\n",
    "    ('onehot', OneHotEncoder(handle_unknown='ignore')),\n",
    "    ('kbest', SelectKBest(f_regression, k='all'))])"
   ]
  },
  {
   "cell_type": "code",
   "execution_count": null,
   "metadata": {},
   "outputs": [],
   "source": []
  },
  {
   "cell_type": "code",
   "execution_count": 128,
   "metadata": {},
   "outputs": [],
   "source": [
    "preprocessor = ColumnTransformer(transformers=[\n",
    "        ('num_transformer', num_transformer, num_cols),\n",
    "        ('cat_transformer', cat_transformer, cat_cols)])"
   ]
  },
  {
   "cell_type": "code",
   "execution_count": null,
   "metadata": {},
   "outputs": [],
   "source": []
  },
  {
   "cell_type": "code",
   "execution_count": 129,
   "metadata": {},
   "outputs": [],
   "source": [
    "cv = ShuffleSplit(n_splits=5, test_size=.3, random_state=42)\n",
    "gs_pipeline = Pipeline(steps=[('preprocessor', preprocessor), ('regressor', RandomForestRegressor(n_jobs=-1))])"
   ]
  },
  {
   "cell_type": "code",
   "execution_count": null,
   "metadata": {},
   "outputs": [],
   "source": [
    "grid_params = {\n",
    "    'preprocessor__num_transformer__imputer__strategy': ['mean', 'median', 'most_frequent'],\n",
    "    'preprocessor__num_transformer__kbest__k': ['all', 5, 3],\n",
    "    'preprocessor__cat_transformer__kbest__k': ['all', 100, 50, 25],\n",
    "    'regressor__max_depth': [3, 5, 10, 25, 30, 50],\n",
    "    'regressor__n_estimators': [10, 100, 500, 1000],\n",
    "    'regressor__max_features': ['auto', 'sqrt']\n",
    "}\n",
    "\n",
    "grid_search = GridSearchCV(gs_pipeline, grid_params, cv=cv, scoring='neg_mean_absolute_error')\n",
    "grid_search.fit(X_train, y_train)"
   ]
  },
  {
   "cell_type": "code",
   "execution_count": null,
   "metadata": {},
   "outputs": [],
   "source": [
    "best_params = grid_search.best_params_\n",
    "best_params"
   ]
  },
  {
   "cell_type": "code",
   "execution_count": null,
   "metadata": {},
   "outputs": [],
   "source": [
    "best_estimator = grid_search.best_estimator_\n",
    "print(best_estimator)\n"
   ]
  },
  {
   "cell_type": "code",
   "execution_count": null,
   "metadata": {},
   "outputs": [],
   "source": [
    "best_score = grid_search.best_score_\n",
    "best_score"
   ]
  },
  {
   "cell_type": "code",
   "execution_count": null,
   "metadata": {},
   "outputs": [],
   "source": []
  },
  {
   "cell_type": "code",
   "execution_count": null,
   "metadata": {},
   "outputs": [],
   "source": []
  },
  {
   "cell_type": "code",
   "execution_count": null,
   "metadata": {},
   "outputs": [],
   "source": []
  },
  {
   "cell_type": "code",
   "execution_count": null,
   "metadata": {},
   "outputs": [],
   "source": []
  },
  {
   "cell_type": "code",
   "execution_count": null,
   "metadata": {},
   "outputs": [],
   "source": []
  },
  {
   "cell_type": "code",
   "execution_count": null,
   "metadata": {},
   "outputs": [],
   "source": []
  },
  {
   "cell_type": "code",
   "execution_count": null,
   "metadata": {},
   "outputs": [],
   "source": []
  },
  {
   "cell_type": "code",
   "execution_count": null,
   "metadata": {},
   "outputs": [],
   "source": []
  },
  {
   "cell_type": "code",
   "execution_count": null,
   "metadata": {},
   "outputs": [],
   "source": []
  },
  {
   "cell_type": "code",
   "execution_count": null,
   "metadata": {},
   "outputs": [],
   "source": []
  },
  {
   "cell_type": "code",
   "execution_count": null,
   "metadata": {},
   "outputs": [],
   "source": []
  },
  {
   "cell_type": "code",
   "execution_count": null,
   "metadata": {},
   "outputs": [],
   "source": []
  },
  {
   "cell_type": "code",
   "execution_count": null,
   "metadata": {},
   "outputs": [],
   "source": []
  },
  {
   "cell_type": "code",
   "execution_count": null,
   "metadata": {},
   "outputs": [],
   "source": []
  },
  {
   "cell_type": "code",
   "execution_count": null,
   "metadata": {},
   "outputs": [],
   "source": []
  }
 ],
 "metadata": {
  "environment": {
   "name": "common-cpu.m46",
   "type": "gcloud",
   "uri": "gcr.io/deeplearning-platform-release/base-cpu:m46"
  },
  "kernelspec": {
   "display_name": "Python 3",
   "language": "python",
   "name": "python3"
  },
  "language_info": {
   "codemirror_mode": {
    "name": "ipython",
    "version": 3
   },
   "file_extension": ".py",
   "mimetype": "text/x-python",
   "name": "python",
   "nbconvert_exporter": "python",
   "pygments_lexer": "ipython3",
   "version": "3.7.6"
  }
 },
 "nbformat": 4,
 "nbformat_minor": 4
}
