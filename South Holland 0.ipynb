{
 "cells": [
  {
   "cell_type": "code",
   "execution_count": 1,
   "metadata": {},
   "outputs": [],
   "source": [
    "import pandas as pd\n",
    "import numpy as np\n",
    "import geopandas as gpd\n",
    "import csv\n",
    "import json\n",
    "import sklearn\n",
    "from google.cloud import bigquery as bq\n",
    "import seaborn as sns\n",
    "import matplotlib.pyplot as plt\n",
    "\n",
    "from IPython.core.interactiveshell import InteractiveShell\n",
    "InteractiveShell.ast_node_interactivity = \"all\"\n",
    "\n",
    "pd.set_option('display.max_columns', None)\n",
    "pd.set_option('display.max_rows', 100)\n",
    "pd.options.mode.chained_assignment = None\n",
    "%matplotlib inline"
   ]
  },
  {
   "cell_type": "code",
   "execution_count": 2,
   "metadata": {},
   "outputs": [],
   "source": [
    "from sklearn.compose import ColumnTransformer\n",
    "from sklearn.pipeline import Pipeline\n",
    "from sklearn.impute import SimpleImputer\n",
    "from sklearn.preprocessing import StandardScaler, Normalizer, OneHotEncoder\n",
    "from sklearn.feature_selection import SelectKBest, f_regression, mutual_info_regression\n",
    "from sklearn.ensemble import RandomForestRegressor\n",
    "from sklearn.tree import DecisionTreeRegressor\n",
    "from sklearn.neighbors import KNeighborsRegressor\n",
    "from sklearn.linear_model import LinearRegression\n",
    "from sklearn.model_selection import train_test_split, ShuffleSplit, cross_val_score, GridSearchCV\n",
    "from sklearn.metrics import mean_squared_error"
   ]
  },
  {
   "cell_type": "code",
   "execution_count": 3,
   "metadata": {},
   "outputs": [],
   "source": [
    "# Set random seeds\n",
    "\n",
    "sampling_seed = np.random.seed(13)\n",
    "train_test_seed = np.random.seed(69)\n",
    "cv_seed = np.random.seed(37)\n",
    "model_seed = np.random.seed(73)\n",
    "np.random.seed(42) # set default seed value"
   ]
  },
  {
   "cell_type": "code",
   "execution_count": 4,
   "metadata": {},
   "outputs": [],
   "source": [
    "query=\"\"\"\n",
    "    SELECT\n",
    "      osm_way_id AS osm_way_id,\n",
    "      bag3d_height AS bldg_height,\n",
    "      area,\n",
    "      perimeter,\n",
    "      length,\n",
    "      IFNULL(SAFE_CAST(building_levels AS INT64), 1) AS building_levels,\n",
    "      IFNULL(city, \"\") AS city,\n",
    "      IFNULL(country, \"\") AS country,\n",
    "      IFNULL(postcode , \"\") AS postcode,\n",
    "      IFNULL(\n",
    "          CASE\n",
    "              WHEN SAFE_CAST(REGEXP_EXTRACT(start_date, r\"(\\d{4})\") AS INT64) > EXTRACT(YEAR FROM CURRENT_DATE()) THEN NULL\n",
    "              ELSE SAFE_CAST(REGEXP_EXTRACT(start_date, r\"(\\d{4})\") AS INT64)\n",
    "          END, \n",
    "          1970.0\n",
    "      ) AS year,\n",
    "      count_vertices,\n",
    "      compactness,\n",
    "      complexity,\n",
    "      IFNULL(SAFE_CAST(count_neighbor AS INT64), 0.0) AS count_neighbor,\n",
    "      IFNULL(state_name , \"\") AS state_name\n",
    "    FROM\n",
    "      `ual3d-277909.nl.zuid_holland_buildings_wide_features` \n",
    "    WHERE bag3d_height IS NOT NULL\n",
    "      AND state_name = 'South Holland'\n",
    "\"\"\"\n",
    "\n"
   ]
  },
  {
   "cell_type": "code",
   "execution_count": 5,
   "metadata": {},
   "outputs": [
    {
     "data": {
      "text/html": [
       "<div>\n",
       "<style scoped>\n",
       "    .dataframe tbody tr th:only-of-type {\n",
       "        vertical-align: middle;\n",
       "    }\n",
       "\n",
       "    .dataframe tbody tr th {\n",
       "        vertical-align: top;\n",
       "    }\n",
       "\n",
       "    .dataframe thead th {\n",
       "        text-align: right;\n",
       "    }\n",
       "</style>\n",
       "<table border=\"1\" class=\"dataframe\">\n",
       "  <thead>\n",
       "    <tr style=\"text-align: right;\">\n",
       "      <th></th>\n",
       "      <th>osm_way_id</th>\n",
       "      <th>bldg_height</th>\n",
       "      <th>area</th>\n",
       "      <th>perimeter</th>\n",
       "      <th>length</th>\n",
       "      <th>building_levels</th>\n",
       "      <th>city</th>\n",
       "      <th>country</th>\n",
       "      <th>postcode</th>\n",
       "      <th>year</th>\n",
       "      <th>count_vertices</th>\n",
       "      <th>compactness</th>\n",
       "      <th>complexity</th>\n",
       "      <th>count_neighbor</th>\n",
       "      <th>state_name</th>\n",
       "    </tr>\n",
       "  </thead>\n",
       "  <tbody>\n",
       "    <tr>\n",
       "      <th>0</th>\n",
       "      <td>274037235</td>\n",
       "      <td>2.35</td>\n",
       "      <td>13.908637</td>\n",
       "      <td>17.040154</td>\n",
       "      <td>6.691464</td>\n",
       "      <td>1</td>\n",
       "      <td></td>\n",
       "      <td>NL</td>\n",
       "      <td></td>\n",
       "      <td>1937.0</td>\n",
       "      <td>5</td>\n",
       "      <td>0.775843</td>\n",
       "      <td>8.823733</td>\n",
       "      <td>843.0</td>\n",
       "      <td>South Holland</td>\n",
       "    </tr>\n",
       "    <tr>\n",
       "      <th>1</th>\n",
       "      <td>287836907</td>\n",
       "      <td>8.29</td>\n",
       "      <td>90.610117</td>\n",
       "      <td>43.127338</td>\n",
       "      <td>16.339486</td>\n",
       "      <td>1</td>\n",
       "      <td></td>\n",
       "      <td>NL</td>\n",
       "      <td></td>\n",
       "      <td>1936.0</td>\n",
       "      <td>11</td>\n",
       "      <td>0.782421</td>\n",
       "      <td>13.978433</td>\n",
       "      <td>1031.0</td>\n",
       "      <td>South Holland</td>\n",
       "    </tr>\n",
       "    <tr>\n",
       "      <th>2</th>\n",
       "      <td>284521210</td>\n",
       "      <td>3.28</td>\n",
       "      <td>6.844828</td>\n",
       "      <td>10.619743</td>\n",
       "      <td>3.820897</td>\n",
       "      <td>1</td>\n",
       "      <td></td>\n",
       "      <td>NL</td>\n",
       "      <td></td>\n",
       "      <td>1943.0</td>\n",
       "      <td>5</td>\n",
       "      <td>0.873318</td>\n",
       "      <td>6.565584</td>\n",
       "      <td>767.0</td>\n",
       "      <td>South Holland</td>\n",
       "    </tr>\n",
       "    <tr>\n",
       "      <th>3</th>\n",
       "      <td>266451482</td>\n",
       "      <td>9.80</td>\n",
       "      <td>106.160289</td>\n",
       "      <td>57.199138</td>\n",
       "      <td>24.086881</td>\n",
       "      <td>1</td>\n",
       "      <td></td>\n",
       "      <td>NL</td>\n",
       "      <td></td>\n",
       "      <td>1905.0</td>\n",
       "      <td>13</td>\n",
       "      <td>0.638552</td>\n",
       "      <td>17.819642</td>\n",
       "      <td>639.0</td>\n",
       "      <td>South Holland</td>\n",
       "    </tr>\n",
       "    <tr>\n",
       "      <th>4</th>\n",
       "      <td>267557698</td>\n",
       "      <td>2.26</td>\n",
       "      <td>20.234171</td>\n",
       "      <td>21.339247</td>\n",
       "      <td>8.579122</td>\n",
       "      <td>1</td>\n",
       "      <td></td>\n",
       "      <td>NL</td>\n",
       "      <td></td>\n",
       "      <td>1887.0</td>\n",
       "      <td>8</td>\n",
       "      <td>0.747255</td>\n",
       "      <td>10.061384</td>\n",
       "      <td>784.0</td>\n",
       "      <td>South Holland</td>\n",
       "    </tr>\n",
       "  </tbody>\n",
       "</table>\n",
       "</div>"
      ],
      "text/plain": [
       "  osm_way_id  bldg_height        area  perimeter     length  building_levels  \\\n",
       "0  274037235         2.35   13.908637  17.040154   6.691464                1   \n",
       "1  287836907         8.29   90.610117  43.127338  16.339486                1   \n",
       "2  284521210         3.28    6.844828  10.619743   3.820897                1   \n",
       "3  266451482         9.80  106.160289  57.199138  24.086881                1   \n",
       "4  267557698         2.26   20.234171  21.339247   8.579122                1   \n",
       "\n",
       "  city country postcode    year  count_vertices  compactness  complexity  \\\n",
       "0           NL           1937.0               5     0.775843    8.823733   \n",
       "1           NL           1936.0              11     0.782421   13.978433   \n",
       "2           NL           1943.0               5     0.873318    6.565584   \n",
       "3           NL           1905.0              13     0.638552   17.819642   \n",
       "4           NL           1887.0               8     0.747255   10.061384   \n",
       "\n",
       "   count_neighbor     state_name  \n",
       "0           843.0  South Holland  \n",
       "1          1031.0  South Holland  \n",
       "2           767.0  South Holland  \n",
       "3           639.0  South Holland  \n",
       "4           784.0  South Holland  "
      ]
     },
     "execution_count": 5,
     "metadata": {},
     "output_type": "execute_result"
    }
   ],
   "source": [
    "df = bq.Client().query(query).to_dataframe()\n",
    "df.head()"
   ]
  },
  {
   "cell_type": "code",
   "execution_count": 6,
   "metadata": {},
   "outputs": [],
   "source": [
    "df.set_index('osm_way_id', inplace=True)"
   ]
  },
  {
   "cell_type": "code",
   "execution_count": 7,
   "metadata": {},
   "outputs": [
    {
     "data": {
      "text/plain": [
       "(1638666, 14)"
      ]
     },
     "execution_count": 7,
     "metadata": {},
     "output_type": "execute_result"
    }
   ],
   "source": [
    "df.shape"
   ]
  },
  {
   "cell_type": "code",
   "execution_count": 8,
   "metadata": {},
   "outputs": [
    {
     "data": {
      "text/plain": [
       "bldg_height        float64\n",
       "area               float64\n",
       "perimeter          float64\n",
       "length             float64\n",
       "building_levels      int64\n",
       "city                object\n",
       "country             object\n",
       "postcode            object\n",
       "year               float64\n",
       "count_vertices       int64\n",
       "compactness        float64\n",
       "complexity         float64\n",
       "count_neighbor     float64\n",
       "state_name          object\n",
       "dtype: object"
      ]
     },
     "execution_count": 8,
     "metadata": {},
     "output_type": "execute_result"
    }
   ],
   "source": [
    "df.dtypes"
   ]
  },
  {
   "cell_type": "code",
   "execution_count": 9,
   "metadata": {},
   "outputs": [
    {
     "data": {
      "text/plain": [
       "bldg_height         float64\n",
       "area                float64\n",
       "perimeter           float64\n",
       "length              float64\n",
       "building_levels       int64\n",
       "city               category\n",
       "country            category\n",
       "postcode           category\n",
       "year                float64\n",
       "count_vertices        int64\n",
       "compactness         float64\n",
       "complexity          float64\n",
       "count_neighbor      float64\n",
       "state_name         category\n",
       "dtype: object"
      ]
     },
     "execution_count": 9,
     "metadata": {},
     "output_type": "execute_result"
    }
   ],
   "source": [
    "df[\"city\"] = df[\"city\"].astype(\"category\")\n",
    "df[\"state_name\"] = df[\"state_name\"].astype(\"category\")\n",
    "df[\"country\"] = df[\"country\"].astype(\"category\")\n",
    "df[\"postcode\"] = df[\"postcode\"].astype(\"category\")\n",
    "df.dtypes"
   ]
  },
  {
   "cell_type": "code",
   "execution_count": 10,
   "metadata": {},
   "outputs": [],
   "source": [
    "label_col = [\"bldg_height\"]\n",
    "num_cols = [\"area\", \"perimeter\", \"length\", \"building_levels\", \"year\", \"count_vertices\", \"compactness\", \"complexity\", \"count_neighbor\"]\n",
    "# num_cols = [\"area\", \"perimeter\", \"length\", \"building_levels\", \"year\", \"count_vertices\", \"compactness\", \"complexity\"]\n",
    "# cat_cols = [\"city\", \"country\", postcode\", \"state_name\"]\n",
    "cat_cols = [col for col in df.columns if col not in (num_cols + label_col)]\n",
    "# drop country as it is irrelevant \n"
   ]
  },
  {
   "cell_type": "code",
   "execution_count": 11,
   "metadata": {},
   "outputs": [
    {
     "name": "stdout",
     "output_type": "stream",
     "text": [
      "unique city: [, Vlaardingen, 's-Gravenhage, Bodegraven, Rotterdam, ..., Klaaswaal, Ottoland, Rozenburg, Brielle, Nieuwveen]\n",
      "Length: 102\n",
      "Categories (102, object): [, Vlaardingen, 's-Gravenhage, Bodegraven, ..., Ottoland, Rozenburg, Brielle, Nieuwveen]\n",
      "unique postcode: [, 3135KP, 2411RX, 3029BP, 2513BA, ..., 3316AK, 2253XG, 2552SB, 3085KA, 3063NN]\n",
      "Length: 683\n",
      "Categories (683, object): [, 3135KP, 2411RX, 3029BP, ..., 2253XG, 2552SB, 3085KA, 3063NN]\n"
     ]
    }
   ],
   "source": [
    "print('unique city:', pd.unique(df['city']))\n",
    "print('unique postcode:', pd.unique(df['postcode']))"
   ]
  },
  {
   "cell_type": "code",
   "execution_count": null,
   "metadata": {},
   "outputs": [],
   "source": []
  },
  {
   "cell_type": "code",
   "execution_count": 12,
   "metadata": {},
   "outputs": [
    {
     "data": {
      "text/plain": [
       "bldg_height        0\n",
       "area               0\n",
       "perimeter          0\n",
       "length             0\n",
       "building_levels    0\n",
       "city               0\n",
       "country            0\n",
       "postcode           0\n",
       "year               0\n",
       "count_vertices     0\n",
       "compactness        0\n",
       "complexity         0\n",
       "count_neighbor     0\n",
       "state_name         0\n",
       "dtype: int64"
      ]
     },
     "execution_count": 12,
     "metadata": {},
     "output_type": "execute_result"
    }
   ],
   "source": [
    "df.isna().sum()"
   ]
  },
  {
   "cell_type": "code",
   "execution_count": 13,
   "metadata": {},
   "outputs": [],
   "source": [
    "cat_df = df[cat_cols]\n",
    "num_df = df[num_cols]"
   ]
  },
  {
   "cell_type": "code",
   "execution_count": 14,
   "metadata": {},
   "outputs": [
    {
     "data": {
      "text/html": [
       "<div>\n",
       "<style scoped>\n",
       "    .dataframe tbody tr th:only-of-type {\n",
       "        vertical-align: middle;\n",
       "    }\n",
       "\n",
       "    .dataframe tbody tr th {\n",
       "        vertical-align: top;\n",
       "    }\n",
       "\n",
       "    .dataframe thead th {\n",
       "        text-align: right;\n",
       "    }\n",
       "</style>\n",
       "<table border=\"1\" class=\"dataframe\">\n",
       "  <thead>\n",
       "    <tr style=\"text-align: right;\">\n",
       "      <th></th>\n",
       "      <th>area</th>\n",
       "      <th>perimeter</th>\n",
       "      <th>length</th>\n",
       "      <th>building_levels</th>\n",
       "      <th>year</th>\n",
       "      <th>count_vertices</th>\n",
       "      <th>compactness</th>\n",
       "      <th>complexity</th>\n",
       "      <th>count_neighbor</th>\n",
       "    </tr>\n",
       "  </thead>\n",
       "  <tbody>\n",
       "    <tr>\n",
       "      <th>count</th>\n",
       "      <td>1.638666e+06</td>\n",
       "      <td>1.638666e+06</td>\n",
       "      <td>1.638666e+06</td>\n",
       "      <td>1.638666e+06</td>\n",
       "      <td>1.638666e+06</td>\n",
       "      <td>1.638666e+06</td>\n",
       "      <td>1.638666e+06</td>\n",
       "      <td>1.638666e+06</td>\n",
       "      <td>1.638666e+06</td>\n",
       "    </tr>\n",
       "    <tr>\n",
       "      <th>mean</th>\n",
       "      <td>1.284413e+02</td>\n",
       "      <td>3.442989e+01</td>\n",
       "      <td>1.248890e+01</td>\n",
       "      <td>1.007538e+00</td>\n",
       "      <td>1.970038e+03</td>\n",
       "      <td>7.308884e+00</td>\n",
       "      <td>8.203220e-01</td>\n",
       "      <td>1.150416e+01</td>\n",
       "      <td>6.270549e+02</td>\n",
       "    </tr>\n",
       "    <tr>\n",
       "      <th>std</th>\n",
       "      <td>1.201438e+03</td>\n",
       "      <td>4.307075e+01</td>\n",
       "      <td>1.500313e+01</td>\n",
       "      <td>2.078337e-01</td>\n",
       "      <td>3.692439e+01</td>\n",
       "      <td>5.192885e+00</td>\n",
       "      <td>7.008799e-02</td>\n",
       "      <td>5.160273e+00</td>\n",
       "      <td>3.078407e+02</td>\n",
       "    </tr>\n",
       "    <tr>\n",
       "      <th>min</th>\n",
       "      <td>2.650812e-04</td>\n",
       "      <td>8.183244e-02</td>\n",
       "      <td>3.404680e-02</td>\n",
       "      <td>-4.000000e+00</td>\n",
       "      <td>1.131000e+03</td>\n",
       "      <td>4.000000e+00</td>\n",
       "      <td>2.828082e-02</td>\n",
       "      <td>6.413288e-01</td>\n",
       "      <td>0.000000e+00</td>\n",
       "    </tr>\n",
       "    <tr>\n",
       "      <th>25%</th>\n",
       "      <td>1.107290e+01</td>\n",
       "      <td>1.383930e+01</td>\n",
       "      <td>5.054998e+00</td>\n",
       "      <td>1.000000e+00</td>\n",
       "      <td>1.957000e+03</td>\n",
       "      <td>5.000000e+00</td>\n",
       "      <td>7.915906e-01</td>\n",
       "      <td>7.573893e+00</td>\n",
       "      <td>4.300000e+02</td>\n",
       "    </tr>\n",
       "    <tr>\n",
       "      <th>50%</th>\n",
       "      <td>5.009999e+01</td>\n",
       "      <td>2.977105e+01</td>\n",
       "      <td>1.085595e+01</td>\n",
       "      <td>1.000000e+00</td>\n",
       "      <td>1.976000e+03</td>\n",
       "      <td>5.000000e+00</td>\n",
       "      <td>8.439439e-01</td>\n",
       "      <td>1.113455e+01</td>\n",
       "      <td>6.390000e+02</td>\n",
       "    </tr>\n",
       "    <tr>\n",
       "      <th>75%</th>\n",
       "      <td>7.143773e+01</td>\n",
       "      <td>3.887442e+01</td>\n",
       "      <td>1.431944e+01</td>\n",
       "      <td>1.000000e+00</td>\n",
       "      <td>1.993000e+03</td>\n",
       "      <td>8.000000e+00</td>\n",
       "      <td>8.719881e-01</td>\n",
       "      <td>1.333404e+01</td>\n",
       "      <td>8.330000e+02</td>\n",
       "    </tr>\n",
       "    <tr>\n",
       "      <th>max</th>\n",
       "      <td>2.562055e+05</td>\n",
       "      <td>3.925806e+03</td>\n",
       "      <td>9.652139e+02</td>\n",
       "      <td>4.400000e+01</td>\n",
       "      <td>2.020000e+03</td>\n",
       "      <td>7.930000e+02</td>\n",
       "      <td>9.999417e-01</td>\n",
       "      <td>2.340868e+02</td>\n",
       "      <td>2.143000e+03</td>\n",
       "    </tr>\n",
       "  </tbody>\n",
       "</table>\n",
       "</div>"
      ],
      "text/plain": [
       "               area     perimeter        length  building_levels  \\\n",
       "count  1.638666e+06  1.638666e+06  1.638666e+06     1.638666e+06   \n",
       "mean   1.284413e+02  3.442989e+01  1.248890e+01     1.007538e+00   \n",
       "std    1.201438e+03  4.307075e+01  1.500313e+01     2.078337e-01   \n",
       "min    2.650812e-04  8.183244e-02  3.404680e-02    -4.000000e+00   \n",
       "25%    1.107290e+01  1.383930e+01  5.054998e+00     1.000000e+00   \n",
       "50%    5.009999e+01  2.977105e+01  1.085595e+01     1.000000e+00   \n",
       "75%    7.143773e+01  3.887442e+01  1.431944e+01     1.000000e+00   \n",
       "max    2.562055e+05  3.925806e+03  9.652139e+02     4.400000e+01   \n",
       "\n",
       "               year  count_vertices   compactness    complexity  \\\n",
       "count  1.638666e+06    1.638666e+06  1.638666e+06  1.638666e+06   \n",
       "mean   1.970038e+03    7.308884e+00  8.203220e-01  1.150416e+01   \n",
       "std    3.692439e+01    5.192885e+00  7.008799e-02  5.160273e+00   \n",
       "min    1.131000e+03    4.000000e+00  2.828082e-02  6.413288e-01   \n",
       "25%    1.957000e+03    5.000000e+00  7.915906e-01  7.573893e+00   \n",
       "50%    1.976000e+03    5.000000e+00  8.439439e-01  1.113455e+01   \n",
       "75%    1.993000e+03    8.000000e+00  8.719881e-01  1.333404e+01   \n",
       "max    2.020000e+03    7.930000e+02  9.999417e-01  2.340868e+02   \n",
       "\n",
       "       count_neighbor  \n",
       "count    1.638666e+06  \n",
       "mean     6.270549e+02  \n",
       "std      3.078407e+02  \n",
       "min      0.000000e+00  \n",
       "25%      4.300000e+02  \n",
       "50%      6.390000e+02  \n",
       "75%      8.330000e+02  \n",
       "max      2.143000e+03  "
      ]
     },
     "execution_count": 14,
     "metadata": {},
     "output_type": "execute_result"
    }
   ],
   "source": [
    "num_df.describe()"
   ]
  },
  {
   "cell_type": "code",
   "execution_count": 15,
   "metadata": {},
   "outputs": [
    {
     "data": {
      "text/plain": [
       "area                  AxesSubplot(0.125,0.125;0.0731132x0.755)\n",
       "perimeter          AxesSubplot(0.212736,0.125;0.0731132x0.755)\n",
       "length             AxesSubplot(0.300472,0.125;0.0731132x0.755)\n",
       "building_levels    AxesSubplot(0.388208,0.125;0.0731132x0.755)\n",
       "year               AxesSubplot(0.475943,0.125;0.0731132x0.755)\n",
       "count_vertices     AxesSubplot(0.563679,0.125;0.0731132x0.755)\n",
       "compactness        AxesSubplot(0.651415,0.125;0.0731132x0.755)\n",
       "complexity         AxesSubplot(0.739151,0.125;0.0731132x0.755)\n",
       "count_neighbor     AxesSubplot(0.826887,0.125;0.0731132x0.755)\n",
       "dtype: object"
      ]
     },
     "execution_count": 15,
     "metadata": {},
     "output_type": "execute_result"
    },
    {
     "data": {
      "text/plain": [
       "[]"
      ]
     },
     "execution_count": 15,
     "metadata": {},
     "output_type": "execute_result"
    },
    {
     "data": {
      "image/png": "[encoded data removed]",
      "text/plain": [
       "<Figure size 1728x648 with 9 Axes>"
      ]
     },
     "metadata": {
      "needs_background": "light"
     },
     "output_type": "display_data"
    }
   ],
   "source": [
    "num_df.plot(kind='box', subplots=True, figsize=(24,9))\n",
    "plt.plot()\n",
    "plt.savefig('exploratory_full/south_holland_basic_distribution.png')"
   ]
  },
  {
   "cell_type": "code",
   "execution_count": null,
   "metadata": {},
   "outputs": [],
   "source": []
  },
  {
   "cell_type": "code",
   "execution_count": null,
   "metadata": {},
   "outputs": [],
   "source": []
  },
  {
   "cell_type": "code",
   "execution_count": null,
   "metadata": {},
   "outputs": [],
   "source": []
  },
  {
   "cell_type": "code",
   "execution_count": null,
   "metadata": {},
   "outputs": [],
   "source": []
  },
  {
   "cell_type": "code",
   "execution_count": null,
   "metadata": {},
   "outputs": [],
   "source": []
  },
  {
   "cell_type": "code",
   "execution_count": null,
   "metadata": {},
   "outputs": [],
   "source": []
  },
  {
   "cell_type": "code",
   "execution_count": null,
   "metadata": {},
   "outputs": [],
   "source": []
  },
  {
   "cell_type": "code",
   "execution_count": null,
   "metadata": {},
   "outputs": [],
   "source": []
  },
  {
   "cell_type": "code",
   "execution_count": null,
   "metadata": {},
   "outputs": [],
   "source": []
  },
  {
   "cell_type": "code",
   "execution_count": null,
   "metadata": {},
   "outputs": [],
   "source": []
  },
  {
   "cell_type": "code",
   "execution_count": null,
   "metadata": {},
   "outputs": [],
   "source": []
  },
  {
   "cell_type": "code",
   "execution_count": null,
   "metadata": {},
   "outputs": [],
   "source": []
  },
  {
   "cell_type": "code",
   "execution_count": null,
   "metadata": {},
   "outputs": [],
   "source": []
  },
  {
   "cell_type": "code",
   "execution_count": null,
   "metadata": {},
   "outputs": [],
   "source": []
  },
  {
   "cell_type": "code",
   "execution_count": null,
   "metadata": {},
   "outputs": [],
   "source": []
  }
 ],
 "metadata": {
  "environment": {
   "name": "common-cpu.m46",
   "type": "gcloud",
   "uri": "gcr.io/deeplearning-platform-release/base-cpu:m46"
  },
  "kernelspec": {
   "display_name": "Python 3",
   "language": "python",
   "name": "python3"
  },
  "language_info": {
   "codemirror_mode": {
    "name": "ipython",
    "version": 3
   },
   "file_extension": ".py",
   "mimetype": "text/x-python",
   "name": "python",
   "nbconvert_exporter": "python",
   "pygments_lexer": "ipython3",
   "version": "3.7.6"
  }
 },
 "nbformat": 4,
 "nbformat_minor": 4
}
