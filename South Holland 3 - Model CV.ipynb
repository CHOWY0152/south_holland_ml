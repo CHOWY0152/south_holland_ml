{
 "cells": [
  {
   "cell_type": "code",
   "execution_count": null,
   "metadata": {},
   "outputs": [],
   "source": []
  },
  {
   "cell_type": "code",
   "execution_count": 1,
   "metadata": {},
   "outputs": [],
   "source": [
    "import pandas as pd\n",
    "import numpy as np\n",
    "import geopandas as gpd\n",
    "import csv\n",
    "import json\n",
    "import sklearn\n",
    "from google.cloud import bigquery as bq\n",
    "import seaborn as sns\n",
    "import matplotlib.pyplot as plt\n",
    "import time\n",
    "\n",
    "pd.set_option('display.max_columns', None)\n",
    "pd.set_option('display.max_rows', 100)\n",
    "pd.options.mode.chained_assignment = None\n",
    "%matplotlib inline"
   ]
  },
  {
   "cell_type": "code",
   "execution_count": 2,
   "metadata": {},
   "outputs": [],
   "source": [
    "from sklearn.compose import ColumnTransformer\n",
    "from sklearn.pipeline import Pipeline\n",
    "from sklearn.impute import SimpleImputer\n",
    "from sklearn.preprocessing import StandardScaler, Normalizer, OneHotEncoder\n",
    "from sklearn.feature_selection import SelectKBest, f_regression, mutual_info_regression\n",
    "from sklearn.ensemble import RandomForestRegressor\n",
    "from sklearn.tree import DecisionTreeRegressor\n",
    "from sklearn.neighbors import KNeighborsRegressor\n",
    "from sklearn.linear_model import LinearRegression\n",
    "from sklearn.model_selection import train_test_split, ShuffleSplit, cross_val_score, GridSearchCV\n",
    "from sklearn.metrics import mean_squared_error"
   ]
  },
  {
   "cell_type": "code",
   "execution_count": 3,
   "metadata": {},
   "outputs": [],
   "source": [
    "# Set random seeds\n",
    "\n",
    "sampling_seed = np.random.seed(13)\n",
    "train_test_seed = np.random.seed(69)\n",
    "cv_seed = np.random.seed(37)\n",
    "model_seed = np.random.seed(73)\n",
    "np.random.seed(42) # set default seed value"
   ]
  },
  {
   "cell_type": "code",
   "execution_count": 4,
   "metadata": {},
   "outputs": [],
   "source": [
    "query=\"\"\"\n",
    "    SELECT\n",
    "      *\n",
    "    FROM\n",
    "      `ual3d-277909.nl.zuid_holland_ml_df`\n",
    "\"\"\"\n",
    "\n"
   ]
  },
  {
   "cell_type": "code",
   "execution_count": 5,
   "metadata": {},
   "outputs": [
    {
     "data": {
      "text/html": [
       "<div>\n",
       "<style scoped>\n",
       "    .dataframe tbody tr th:only-of-type {\n",
       "        vertical-align: middle;\n",
       "    }\n",
       "\n",
       "    .dataframe tbody tr th {\n",
       "        vertical-align: top;\n",
       "    }\n",
       "\n",
       "    .dataframe thead th {\n",
       "        text-align: right;\n",
       "    }\n",
       "</style>\n",
       "<table border=\"1\" class=\"dataframe\">\n",
       "  <thead>\n",
       "    <tr style=\"text-align: right;\">\n",
       "      <th></th>\n",
       "      <th>osm_way_id</th>\n",
       "      <th>bldg_height</th>\n",
       "      <th>area</th>\n",
       "      <th>perimeter</th>\n",
       "      <th>length</th>\n",
       "      <th>building_levels</th>\n",
       "      <th>city</th>\n",
       "      <th>country</th>\n",
       "      <th>postcode</th>\n",
       "      <th>year</th>\n",
       "      <th>count_vertices</th>\n",
       "      <th>compactness</th>\n",
       "      <th>complexity</th>\n",
       "      <th>count_neighbor</th>\n",
       "      <th>state_name</th>\n",
       "    </tr>\n",
       "  </thead>\n",
       "  <tbody>\n",
       "    <tr>\n",
       "      <th>0</th>\n",
       "      <td>731216391</td>\n",
       "      <td>0.16</td>\n",
       "      <td>44.479494</td>\n",
       "      <td>27.560880</td>\n",
       "      <td>10.049467</td>\n",
       "      <td>NaN</td>\n",
       "      <td>None</td>\n",
       "      <td>NL</td>\n",
       "      <td>None</td>\n",
       "      <td>2019.0</td>\n",
       "      <td>5</td>\n",
       "      <td>0.857811</td>\n",
       "      <td>10.672179</td>\n",
       "      <td>268.0</td>\n",
       "      <td>South Holland</td>\n",
       "    </tr>\n",
       "    <tr>\n",
       "      <th>1</th>\n",
       "      <td>264784178</td>\n",
       "      <td>2.76</td>\n",
       "      <td>4.621876</td>\n",
       "      <td>9.091209</td>\n",
       "      <td>3.397903</td>\n",
       "      <td>NaN</td>\n",
       "      <td>None</td>\n",
       "      <td>NL</td>\n",
       "      <td>None</td>\n",
       "      <td>1937.0</td>\n",
       "      <td>5</td>\n",
       "      <td>0.838286</td>\n",
       "      <td>6.200362</td>\n",
       "      <td>652.0</td>\n",
       "      <td>South Holland</td>\n",
       "    </tr>\n",
       "    <tr>\n",
       "      <th>2</th>\n",
       "      <td>267127254</td>\n",
       "      <td>10.02</td>\n",
       "      <td>81.670494</td>\n",
       "      <td>36.149066</td>\n",
       "      <td>12.806890</td>\n",
       "      <td>NaN</td>\n",
       "      <td>None</td>\n",
       "      <td>NL</td>\n",
       "      <td>None</td>\n",
       "      <td>1859.0</td>\n",
       "      <td>5</td>\n",
       "      <td>0.886218</td>\n",
       "      <td>12.024881</td>\n",
       "      <td>725.0</td>\n",
       "      <td>South Holland</td>\n",
       "    </tr>\n",
       "    <tr>\n",
       "      <th>3</th>\n",
       "      <td>290426964</td>\n",
       "      <td>2.52</td>\n",
       "      <td>8.079158</td>\n",
       "      <td>11.398810</td>\n",
       "      <td>4.065097</td>\n",
       "      <td>NaN</td>\n",
       "      <td>None</td>\n",
       "      <td>NL</td>\n",
       "      <td>None</td>\n",
       "      <td>1921.0</td>\n",
       "      <td>5</td>\n",
       "      <td>0.883952</td>\n",
       "      <td>6.761110</td>\n",
       "      <td>578.0</td>\n",
       "      <td>South Holland</td>\n",
       "    </tr>\n",
       "    <tr>\n",
       "      <th>4</th>\n",
       "      <td>274124231</td>\n",
       "      <td>10.24</td>\n",
       "      <td>59.357758</td>\n",
       "      <td>32.029666</td>\n",
       "      <td>11.757340</td>\n",
       "      <td>NaN</td>\n",
       "      <td>None</td>\n",
       "      <td>NL</td>\n",
       "      <td>None</td>\n",
       "      <td>1936.0</td>\n",
       "      <td>5</td>\n",
       "      <td>0.852690</td>\n",
       "      <td>11.539395</td>\n",
       "      <td>769.0</td>\n",
       "      <td>South Holland</td>\n",
       "    </tr>\n",
       "  </tbody>\n",
       "</table>\n",
       "</div>"
      ],
      "text/plain": [
       "  osm_way_id  bldg_height       area  perimeter     length  building_levels  \\\n",
       "0  731216391         0.16  44.479494  27.560880  10.049467              NaN   \n",
       "1  264784178         2.76   4.621876   9.091209   3.397903              NaN   \n",
       "2  267127254        10.02  81.670494  36.149066  12.806890              NaN   \n",
       "3  290426964         2.52   8.079158  11.398810   4.065097              NaN   \n",
       "4  274124231        10.24  59.357758  32.029666  11.757340              NaN   \n",
       "\n",
       "   city country postcode    year  count_vertices  compactness  complexity  \\\n",
       "0  None      NL     None  2019.0               5     0.857811   10.672179   \n",
       "1  None      NL     None  1937.0               5     0.838286    6.200362   \n",
       "2  None      NL     None  1859.0               5     0.886218   12.024881   \n",
       "3  None      NL     None  1921.0               5     0.883952    6.761110   \n",
       "4  None      NL     None  1936.0               5     0.852690   11.539395   \n",
       "\n",
       "   count_neighbor     state_name  \n",
       "0           268.0  South Holland  \n",
       "1           652.0  South Holland  \n",
       "2           725.0  South Holland  \n",
       "3           578.0  South Holland  \n",
       "4           769.0  South Holland  "
      ]
     },
     "execution_count": 5,
     "metadata": {},
     "output_type": "execute_result"
    }
   ],
   "source": [
    "full_df = bq.Client().query(query).to_dataframe()\n",
    "full_df.head()"
   ]
  },
  {
   "cell_type": "code",
   "execution_count": 50,
   "metadata": {},
   "outputs": [
    {
     "data": {
      "text/html": [
       "<div>\n",
       "<style scoped>\n",
       "    .dataframe tbody tr th:only-of-type {\n",
       "        vertical-align: middle;\n",
       "    }\n",
       "\n",
       "    .dataframe tbody tr th {\n",
       "        vertical-align: top;\n",
       "    }\n",
       "\n",
       "    .dataframe thead th {\n",
       "        text-align: right;\n",
       "    }\n",
       "</style>\n",
       "<table border=\"1\" class=\"dataframe\">\n",
       "  <thead>\n",
       "    <tr style=\"text-align: right;\">\n",
       "      <th></th>\n",
       "      <th>osm_way_id</th>\n",
       "      <th>bldg_height</th>\n",
       "      <th>area</th>\n",
       "      <th>perimeter</th>\n",
       "      <th>length</th>\n",
       "      <th>building_levels</th>\n",
       "      <th>city</th>\n",
       "      <th>country</th>\n",
       "      <th>postcode</th>\n",
       "      <th>year</th>\n",
       "      <th>count_vertices</th>\n",
       "      <th>compactness</th>\n",
       "      <th>complexity</th>\n",
       "      <th>count_neighbor</th>\n",
       "      <th>state_name</th>\n",
       "    </tr>\n",
       "  </thead>\n",
       "  <tbody>\n",
       "    <tr>\n",
       "      <th>1548257</th>\n",
       "      <td>274130582</td>\n",
       "      <td>9.18</td>\n",
       "      <td>51.265734</td>\n",
       "      <td>30.970887</td>\n",
       "      <td>11.720190</td>\n",
       "      <td>NaN</td>\n",
       "      <td>None</td>\n",
       "      <td>NL</td>\n",
       "      <td>None</td>\n",
       "      <td>2012.0</td>\n",
       "      <td>5</td>\n",
       "      <td>0.819530</td>\n",
       "      <td>11.574357</td>\n",
       "      <td>760.0</td>\n",
       "      <td>South Holland</td>\n",
       "    </tr>\n",
       "    <tr>\n",
       "      <th>394538</th>\n",
       "      <td>264830939</td>\n",
       "      <td>8.75</td>\n",
       "      <td>50.846286</td>\n",
       "      <td>29.376824</td>\n",
       "      <td>10.723068</td>\n",
       "      <td>NaN</td>\n",
       "      <td>None</td>\n",
       "      <td>NL</td>\n",
       "      <td>None</td>\n",
       "      <td>1955.0</td>\n",
       "      <td>7</td>\n",
       "      <td>0.860458</td>\n",
       "      <td>11.001199</td>\n",
       "      <td>805.0</td>\n",
       "      <td>South Holland</td>\n",
       "    </tr>\n",
       "    <tr>\n",
       "      <th>1091015</th>\n",
       "      <td>270160330</td>\n",
       "      <td>7.08</td>\n",
       "      <td>109.712479</td>\n",
       "      <td>43.872996</td>\n",
       "      <td>14.938549</td>\n",
       "      <td>NaN</td>\n",
       "      <td>None</td>\n",
       "      <td>NL</td>\n",
       "      <td>None</td>\n",
       "      <td>1987.0</td>\n",
       "      <td>9</td>\n",
       "      <td>0.846322</td>\n",
       "      <td>13.556054</td>\n",
       "      <td>31.0</td>\n",
       "      <td>South Holland</td>\n",
       "    </tr>\n",
       "    <tr>\n",
       "      <th>323112</th>\n",
       "      <td>272961023</td>\n",
       "      <td>9.73</td>\n",
       "      <td>58.685714</td>\n",
       "      <td>31.387989</td>\n",
       "      <td>11.236293</td>\n",
       "      <td>NaN</td>\n",
       "      <td>None</td>\n",
       "      <td>NL</td>\n",
       "      <td>None</td>\n",
       "      <td>1939.0</td>\n",
       "      <td>7</td>\n",
       "      <td>0.865182</td>\n",
       "      <td>11.340453</td>\n",
       "      <td>319.0</td>\n",
       "      <td>South Holland</td>\n",
       "    </tr>\n",
       "    <tr>\n",
       "      <th>930066</th>\n",
       "      <td>287746717</td>\n",
       "      <td>8.33</td>\n",
       "      <td>59.761344</td>\n",
       "      <td>37.267746</td>\n",
       "      <td>14.254992</td>\n",
       "      <td>NaN</td>\n",
       "      <td>None</td>\n",
       "      <td>NL</td>\n",
       "      <td>None</td>\n",
       "      <td>1980.0</td>\n",
       "      <td>7</td>\n",
       "      <td>0.735329</td>\n",
       "      <td>13.403803</td>\n",
       "      <td>630.0</td>\n",
       "      <td>South Holland</td>\n",
       "    </tr>\n",
       "  </tbody>\n",
       "</table>\n",
       "</div>"
      ],
      "text/plain": [
       "        osm_way_id  bldg_height        area  perimeter     length  \\\n",
       "1548257  274130582         9.18   51.265734  30.970887  11.720190   \n",
       "394538   264830939         8.75   50.846286  29.376824  10.723068   \n",
       "1091015  270160330         7.08  109.712479  43.872996  14.938549   \n",
       "323112   272961023         9.73   58.685714  31.387989  11.236293   \n",
       "930066   287746717         8.33   59.761344  37.267746  14.254992   \n",
       "\n",
       "         building_levels  city country postcode    year  count_vertices  \\\n",
       "1548257              NaN  None      NL     None  2012.0               5   \n",
       "394538               NaN  None      NL     None  1955.0               7   \n",
       "1091015              NaN  None      NL     None  1987.0               9   \n",
       "323112               NaN  None      NL     None  1939.0               7   \n",
       "930066               NaN  None      NL     None  1980.0               7   \n",
       "\n",
       "         compactness  complexity  count_neighbor     state_name  \n",
       "1548257     0.819530   11.574357           760.0  South Holland  \n",
       "394538      0.860458   11.001199           805.0  South Holland  \n",
       "1091015     0.846322   13.556054            31.0  South Holland  \n",
       "323112      0.865182   11.340453           319.0  South Holland  \n",
       "930066      0.735329   13.403803           630.0  South Holland  "
      ]
     },
     "execution_count": 50,
     "metadata": {},
     "output_type": "execute_result"
    }
   ],
   "source": [
    "ml_df = full_df.sample(frac=0.1, random_state=sampling_seed)\n",
    "ml_df.head()"
   ]
  },
  {
   "cell_type": "code",
   "execution_count": 17,
   "metadata": {},
   "outputs": [
    {
     "name": "stdout",
     "output_type": "stream",
     "text": [
      "(163867, 15)\n"
     ]
    }
   ],
   "source": [
    "print(ml_df.shape)"
   ]
  },
  {
   "cell_type": "code",
   "execution_count": 18,
   "metadata": {},
   "outputs": [
    {
     "name": "stdout",
     "output_type": "stream",
     "text": [
      "osm_way_id          object\n",
      "bldg_height        float64\n",
      "area               float64\n",
      "perimeter          float64\n",
      "length             float64\n",
      "building_levels    float64\n",
      "city                object\n",
      "country             object\n",
      "postcode            object\n",
      "year               float64\n",
      "count_vertices       int64\n",
      "compactness        float64\n",
      "complexity         float64\n",
      "count_neighbor     float64\n",
      "state_name          object\n",
      "dtype: object\n"
     ]
    }
   ],
   "source": [
    "print(ml_df.dtypes)"
   ]
  },
  {
   "cell_type": "code",
   "execution_count": 19,
   "metadata": {},
   "outputs": [
    {
     "data": {
      "text/plain": [
       "bldg_height         float64\n",
       "area                float64\n",
       "perimeter           float64\n",
       "length              float64\n",
       "building_levels     float64\n",
       "city               category\n",
       "country            category\n",
       "postcode           category\n",
       "year                float64\n",
       "count_vertices        int64\n",
       "compactness         float64\n",
       "complexity          float64\n",
       "count_neighbor      float64\n",
       "state_name         category\n",
       "dtype: object"
      ]
     },
     "execution_count": 19,
     "metadata": {},
     "output_type": "execute_result"
    }
   ],
   "source": [
    "ml_df.set_index('osm_way_id', inplace=True)\n",
    "\n",
    "ml_df[\"city\"] = ml_df[\"city\"].astype(\"category\")\n",
    "ml_df[\"postcode\"] = ml_df[\"postcode\"].astype(\"category\")\n",
    "ml_df[\"country\"] = ml_df[\"country\"].astype(\"category\")\n",
    "ml_df[\"state_name\"] = ml_df[\"state_name\"].astype(\"category\")\n",
    "\n",
    "ml_df.dtypes"
   ]
  },
  {
   "cell_type": "code",
   "execution_count": 20,
   "metadata": {},
   "outputs": [
    {
     "name": "stdout",
     "output_type": "stream",
     "text": [
      "count unique city: 41\n",
      "unique city: [NaN, Katwijk, Zoetermeer, Alblasserdam, 's-Gravenhage, ..., Pijnacker, Hazerswoude-Dorp, Zwijndrecht, Dirksland, Gouda]\n",
      "Length: 41\n",
      "Categories (40, object): [Katwijk, Zoetermeer, Alblasserdam, 's-Gravenhage, ..., Hazerswoude-Dorp, Zwijndrecht, Dirksland, Gouda]\n",
      "\n",
      "count unique postcode: 79\n",
      "unique postcode: [NaN, 2225BB, 2717AX, 2952BG, 2513AG, ..., 3247BN, 2514AP, 2719EL, 2803DT, 2513AX]\n",
      "Length: 79\n",
      "Categories (78, object): [2225BB, 2717AX, 2952BG, 2513AG, ..., 2514AP, 2719EL, 2803DT, 2513AX]\n",
      "\n",
      "count unique year: 379\n",
      "unique year: [1910. 2017. 1920. 1993. 1949. 2004. 1997. 1980. 2011. 1981. 2018. 1989.\n",
      " 1933. 1959. 1957. 1973. 1990. 2006. 1979. 2002. 1987. 1927. 2014. 1962.\n",
      " 1984. 1963. 1965. 1999. 1922. 1925. 1966. 1870. 1929. 1995. 1972. 2001.\n",
      " 1971. 1938. 1930. 1903. 1998. 2010. 2007. 1985. 1952. 1936. 1939. 1950.\n",
      " 1983. 1951. 2005. 1928. 1982. 1935. 1975. 1967. 2003. 1909. 1923. 1960.\n",
      " 2000. 2009. 1954. 1850. 1996. 1953. 1986. 1977. 1908. 1974. 1900. 2012.\n",
      " 2016. 1941. 1994. 1842. 1964. 1940. 1916. 1978. 2008. 1961. 1600. 1946.\n",
      " 1976. 1970. 1969. 1906. 1968. 1896. 1926. 1924. 1501. 1921. 1991. 1988.\n",
      " 1907. 1895. 1915. 1934. 1958. 1918. 2015. 2013. 1914. 1911. 1642. 1956.\n",
      " 1912. 2019. 1992. 1937. 1942. 1879. 1875. 1917. 1650. 1750. 1932. 1905.\n",
      " 1894. 1955. 1881. 1891. 1899. 1800. 1885. 1948. 1844. 1725. 1947. 1931.\n",
      " 1774. 1883. 1890. 1550. 1496. 1675. 1680. 1913. 1860. 1904. 1757. 1888.\n",
      " 1792. 1874. 1943. 1825. 1902. 1945. 1836. 1893. 1876. 1884. 1919. 1897.\n",
      " 1889. 1810. 1616. 1857. 1901. 1892. 1853. 1878. 1898. 1880. 1833. 1700.\n",
      " 1785. 1711. 1871. 1887. 1660. 1813. 1408. 1862. 1625. 1799. 1848. 1886.\n",
      " 1944. 1861. 1869. 1665. 1858. 1630. 1828. 1823. 1877. 1131. 1702. 1666.\n",
      " 1882. 1778. 1712. 1868.   nan 1830. 1475. 1840. 1864. 1827. 1659. 1849.\n",
      " 1671. 1729. 1863. 1565. 1824. 1856. 1500. 1855. 1808. 1873. 1631. 1872.\n",
      " 1790. 2020. 1859. 1646. 1689. 1691. 1764. 1723. 1648. 1820. 1400. 1865.\n",
      " 1388. 1787. 1765. 1647. 1551. 1780. 1620. 1775. 1698. 1804. 1670. 1636.\n",
      " 1832. 1794. 1727. 1624. 1684. 1770. 1632. 1867. 1815. 1450. 1681. 1667.\n",
      " 1640. 1514. 1690. 1731. 1772. 1740. 1811. 1760. 1838. 1826. 1350. 1846.\n",
      " 1645. 1530. 1617. 1686. 1362. 1653. 1580. 1866. 1587. 1597. 1756. 1841.\n",
      " 1843. 1798. 1743. 1570. 1822. 1657. 1773. 1594. 1716. 1540. 1755. 1852.\n",
      " 1762. 1720. 1851. 1458. 1643. 1200. 1651. 1805. 1697. 1721. 1795. 1722.\n",
      " 1614. 1519. 1644. 1751. 1661. 1736. 1683. 1460. 1512. 1706. 1847. 1707.\n",
      " 1610. 1703. 1730. 1735. 1819. 1807. 1845. 1701. 1676. 1437. 1605. 1708.\n",
      " 1487. 1462. 1611. 1796. 1816. 1829. 1470. 1662. 1649. 1606. 1655. 1834.\n",
      " 1812. 1563. 1763. 1363. 1771. 1509. 1854. 1835. 1638. 1488. 1337. 1786.\n",
      " 1741. 1742. 1596. 1672. 1784. 1622. 1656. 1589. 1768. 1603. 1747. 1591.\n",
      " 1839. 1749. 1682. 1262. 1783. 1590. 1732. 1572. 1623. 1696. 1485. 1779.\n",
      " 1612. 1607. 1746. 1463. 1806. 1564. 1613.]\n"
     ]
    }
   ],
   "source": [
    "print('count unique city:', len(pd.unique(ml_df['city'])))\n",
    "print('unique city:', pd.unique(ml_df['city']))\n",
    "\n",
    "print('\\ncount unique postcode:', len(pd.unique(ml_df['postcode'])))\n",
    "print('unique postcode:', pd.unique(ml_df['postcode']))\n",
    "\n",
    "print('\\ncount unique year:', len(pd.unique(ml_df['year'])))\n",
    "print('unique year:', pd.unique(ml_df['year']))"
   ]
  },
  {
   "cell_type": "code",
   "execution_count": 21,
   "metadata": {},
   "outputs": [
    {
     "data": {
      "text/plain": [
       "bldg_height             0\n",
       "area                    0\n",
       "perimeter               0\n",
       "length                  0\n",
       "building_levels    161651\n",
       "city               163788\n",
       "country                 0\n",
       "postcode           163784\n",
       "year                   15\n",
       "count_vertices          0\n",
       "compactness             0\n",
       "complexity              0\n",
       "count_neighbor         26\n",
       "state_name              0\n",
       "dtype: int64"
      ]
     },
     "execution_count": 21,
     "metadata": {},
     "output_type": "execute_result"
    }
   ],
   "source": [
    "ml_df.isna().sum()\n"
   ]
  },
  {
   "cell_type": "code",
   "execution_count": null,
   "metadata": {},
   "outputs": [],
   "source": []
  },
  {
   "cell_type": "code",
   "execution_count": 22,
   "metadata": {},
   "outputs": [],
   "source": [
    "label_col = [\"bldg_height\"]\n",
    "# num_cols = [\"area\", \"perimeter\", \"length\", \"building_levels\", \"year\", \"count_vertices\", \"compactness\", \"complexity\", \"count_neighbor\"]\n",
    "num_cols = [\"area\", \"perimeter\", \"length\", \"building_levels\", \"year\", \"count_vertices\", \"compactness\", \"complexity\", \"count_neighbor\"]\n",
    "cat_cols = [\"city\", \"postcode\"]\n",
    "# cat_cols = [col for col in df.columns if col not in (num_cols + label_col)]\n"
   ]
  },
  {
   "cell_type": "code",
   "execution_count": null,
   "metadata": {},
   "outputs": [],
   "source": []
  },
  {
   "cell_type": "code",
   "execution_count": 23,
   "metadata": {},
   "outputs": [],
   "source": [
    "cat_df_10prct = ml_df[cat_cols]\n",
    "num_df_10prct = ml_df[num_cols]\n"
   ]
  },
  {
   "cell_type": "code",
   "execution_count": 24,
   "metadata": {},
   "outputs": [
    {
     "data": {
      "text/html": [
       "<div>\n",
       "<style scoped>\n",
       "    .dataframe tbody tr th:only-of-type {\n",
       "        vertical-align: middle;\n",
       "    }\n",
       "\n",
       "    .dataframe tbody tr th {\n",
       "        vertical-align: top;\n",
       "    }\n",
       "\n",
       "    .dataframe thead th {\n",
       "        text-align: right;\n",
       "    }\n",
       "</style>\n",
       "<table border=\"1\" class=\"dataframe\">\n",
       "  <thead>\n",
       "    <tr style=\"text-align: right;\">\n",
       "      <th></th>\n",
       "      <th>area</th>\n",
       "      <th>perimeter</th>\n",
       "      <th>length</th>\n",
       "      <th>building_levels</th>\n",
       "      <th>year</th>\n",
       "      <th>count_vertices</th>\n",
       "      <th>compactness</th>\n",
       "      <th>complexity</th>\n",
       "      <th>count_neighbor</th>\n",
       "    </tr>\n",
       "  </thead>\n",
       "  <tbody>\n",
       "    <tr>\n",
       "      <th>count</th>\n",
       "      <td>163867.000000</td>\n",
       "      <td>163867.000000</td>\n",
       "      <td>163867.000000</td>\n",
       "      <td>2216.000000</td>\n",
       "      <td>163852.000000</td>\n",
       "      <td>163867.000000</td>\n",
       "      <td>163867.000000</td>\n",
       "      <td>163867.000000</td>\n",
       "      <td>163841.000000</td>\n",
       "    </tr>\n",
       "    <tr>\n",
       "      <th>mean</th>\n",
       "      <td>129.271734</td>\n",
       "      <td>34.511920</td>\n",
       "      <td>12.520065</td>\n",
       "      <td>1.507220</td>\n",
       "      <td>1970.061049</td>\n",
       "      <td>7.317166</td>\n",
       "      <td>0.820175</td>\n",
       "      <td>11.511445</td>\n",
       "      <td>626.342991</td>\n",
       "    </tr>\n",
       "    <tr>\n",
       "      <th>std</th>\n",
       "      <td>1138.092355</td>\n",
       "      <td>43.352369</td>\n",
       "      <td>15.185624</td>\n",
       "      <td>1.308745</td>\n",
       "      <td>37.224477</td>\n",
       "      <td>5.298142</td>\n",
       "      <td>0.070192</td>\n",
       "      <td>5.191303</td>\n",
       "      <td>307.905560</td>\n",
       "    </tr>\n",
       "    <tr>\n",
       "      <th>min</th>\n",
       "      <td>0.010735</td>\n",
       "      <td>0.414524</td>\n",
       "      <td>0.146975</td>\n",
       "      <td>-2.000000</td>\n",
       "      <td>1131.000000</td>\n",
       "      <td>4.000000</td>\n",
       "      <td>0.234890</td>\n",
       "      <td>1.287812</td>\n",
       "      <td>1.000000</td>\n",
       "    </tr>\n",
       "    <tr>\n",
       "      <th>25%</th>\n",
       "      <td>11.059746</td>\n",
       "      <td>13.820474</td>\n",
       "      <td>5.048321</td>\n",
       "      <td>1.000000</td>\n",
       "      <td>1957.000000</td>\n",
       "      <td>5.000000</td>\n",
       "      <td>0.791506</td>\n",
       "      <td>7.567110</td>\n",
       "      <td>428.000000</td>\n",
       "    </tr>\n",
       "    <tr>\n",
       "      <th>50%</th>\n",
       "      <td>50.056473</td>\n",
       "      <td>29.755423</td>\n",
       "      <td>10.850295</td>\n",
       "      <td>1.000000</td>\n",
       "      <td>1976.000000</td>\n",
       "      <td>5.000000</td>\n",
       "      <td>0.843854</td>\n",
       "      <td>11.133248</td>\n",
       "      <td>638.000000</td>\n",
       "    </tr>\n",
       "    <tr>\n",
       "      <th>75%</th>\n",
       "      <td>71.412326</td>\n",
       "      <td>38.869905</td>\n",
       "      <td>14.320070</td>\n",
       "      <td>2.000000</td>\n",
       "      <td>1994.000000</td>\n",
       "      <td>8.000000</td>\n",
       "      <td>0.871964</td>\n",
       "      <td>13.344857</td>\n",
       "      <td>832.000000</td>\n",
       "    </tr>\n",
       "    <tr>\n",
       "      <th>max</th>\n",
       "      <td>105192.634351</td>\n",
       "      <td>2073.894484</td>\n",
       "      <td>521.545921</td>\n",
       "      <td>15.000000</td>\n",
       "      <td>2020.000000</td>\n",
       "      <td>388.000000</td>\n",
       "      <td>0.999666</td>\n",
       "      <td>140.535339</td>\n",
       "      <td>2135.000000</td>\n",
       "    </tr>\n",
       "  </tbody>\n",
       "</table>\n",
       "</div>"
      ],
      "text/plain": [
       "                area      perimeter         length  building_levels  \\\n",
       "count  163867.000000  163867.000000  163867.000000      2216.000000   \n",
       "mean      129.271734      34.511920      12.520065         1.507220   \n",
       "std      1138.092355      43.352369      15.185624         1.308745   \n",
       "min         0.010735       0.414524       0.146975        -2.000000   \n",
       "25%        11.059746      13.820474       5.048321         1.000000   \n",
       "50%        50.056473      29.755423      10.850295         1.000000   \n",
       "75%        71.412326      38.869905      14.320070         2.000000   \n",
       "max    105192.634351    2073.894484     521.545921        15.000000   \n",
       "\n",
       "                year  count_vertices    compactness     complexity  \\\n",
       "count  163852.000000   163867.000000  163867.000000  163867.000000   \n",
       "mean     1970.061049        7.317166       0.820175      11.511445   \n",
       "std        37.224477        5.298142       0.070192       5.191303   \n",
       "min      1131.000000        4.000000       0.234890       1.287812   \n",
       "25%      1957.000000        5.000000       0.791506       7.567110   \n",
       "50%      1976.000000        5.000000       0.843854      11.133248   \n",
       "75%      1994.000000        8.000000       0.871964      13.344857   \n",
       "max      2020.000000      388.000000       0.999666     140.535339   \n",
       "\n",
       "       count_neighbor  \n",
       "count   163841.000000  \n",
       "mean       626.342991  \n",
       "std        307.905560  \n",
       "min          1.000000  \n",
       "25%        428.000000  \n",
       "50%        638.000000  \n",
       "75%        832.000000  \n",
       "max       2135.000000  "
      ]
     },
     "execution_count": 24,
     "metadata": {},
     "output_type": "execute_result"
    }
   ],
   "source": [
    "num_df_10prct.describe()"
   ]
  },
  {
   "cell_type": "code",
   "execution_count": 25,
   "metadata": {},
   "outputs": [
    {
     "data": {
      "image/png": "[encoded data removed]",
      "text/plain": [
       "<Figure size 1728x648 with 9 Axes>"
      ]
     },
     "metadata": {
      "needs_background": "light"
     },
     "output_type": "display_data"
    }
   ],
   "source": [
    "\n",
    "num_df_10prct.plot(kind='box', subplots=True, figsize=(24,9))\n",
    "plt.plot()\n",
    "plt.savefig('model_cv_10prct/run4/exploratory/south_holland_basic_distribution_null.png')"
   ]
  },
  {
   "cell_type": "code",
   "execution_count": null,
   "metadata": {},
   "outputs": [],
   "source": []
  },
  {
   "cell_type": "code",
   "execution_count": null,
   "metadata": {},
   "outputs": [],
   "source": []
  },
  {
   "cell_type": "code",
   "execution_count": 26,
   "metadata": {},
   "outputs": [],
   "source": [
    "X = ml_df.drop('bldg_height', axis=1).drop(['country', 'state_name'], axis=1).drop(['perimeter'], axis=1)\n",
    "y = ml_df['bldg_height']\n",
    "\n",
    "X_train, X_test, y_train, y_test = train_test_split(X, y, test_size=0.2, random_state=train_test_seed)"
   ]
  },
  {
   "cell_type": "code",
   "execution_count": 27,
   "metadata": {},
   "outputs": [
    {
     "data": {
      "text/plain": [
       "(163867, 10)"
      ]
     },
     "execution_count": 27,
     "metadata": {},
     "output_type": "execute_result"
    }
   ],
   "source": [
    "X.shape"
   ]
  },
  {
   "cell_type": "code",
   "execution_count": 28,
   "metadata": {},
   "outputs": [
    {
     "data": {
      "text/plain": [
       "(163867,)"
      ]
     },
     "execution_count": 28,
     "metadata": {},
     "output_type": "execute_result"
    }
   ],
   "source": [
    "y.shape"
   ]
  },
  {
   "cell_type": "code",
   "execution_count": 29,
   "metadata": {},
   "outputs": [],
   "source": [
    "mean_transformer = Pipeline(steps=[\n",
    "    ('imputer', SimpleImputer(strategy='mean', add_indicator=True)),\n",
    "    ('normalizer', Normalizer())])\n",
    "\n",
    "freq_transformer = Pipeline(steps=[\n",
    "    ('imputer', SimpleImputer(strategy='most_frequent', add_indicator=True)),\n",
    "    ('normalizer', Normalizer())])\n",
    "\n",
    "zero_transformer = Pipeline(steps=[\n",
    "    ('imputer', SimpleImputer(strategy='constant', fill_value=0, add_indicator=True)),\n",
    "    ('normalizer', Normalizer())])"
   ]
  },
  {
   "cell_type": "code",
   "execution_count": 30,
   "metadata": {},
   "outputs": [],
   "source": [
    "cat_transformer = Pipeline(steps=[\n",
    "    ('imputer', SimpleImputer(strategy='constant', fill_value='NA', add_indicator=True)),\n",
    "    ('onehot', OneHotEncoder(handle_unknown='ignore'))])"
   ]
  },
  {
   "cell_type": "code",
   "execution_count": null,
   "metadata": {},
   "outputs": [],
   "source": []
  },
  {
   "cell_type": "code",
   "execution_count": 31,
   "metadata": {},
   "outputs": [],
   "source": [
    "preprocessor = ColumnTransformer(transformers=[\n",
    "        ('mean_transformer', mean_transformer, [\"year\"]),\n",
    "        ('freq_transformer', freq_transformer, [\"building_levels\"]),\n",
    "        ('zero_transformer', zero_transformer, [\"count_neighbor\"]),\n",
    "        ('cat_transfomer', cat_transformer, cat_cols)])"
   ]
  },
  {
   "cell_type": "code",
   "execution_count": null,
   "metadata": {},
   "outputs": [],
   "source": []
  },
  {
   "cell_type": "code",
   "execution_count": null,
   "metadata": {},
   "outputs": [],
   "source": []
  },
  {
   "cell_type": "code",
   "execution_count": 32,
   "metadata": {},
   "outputs": [],
   "source": [
    "from sklearn.ensemble import RandomForestRegressor, AdaBoostRegressor, GradientBoostingRegressor, BaggingRegressor\n",
    "from sklearn.tree import DecisionTreeRegressor\n",
    "from sklearn.neighbors import KNeighborsRegressor\n",
    "from sklearn.linear_model import LinearRegression"
   ]
  },
  {
   "cell_type": "code",
   "execution_count": 33,
   "metadata": {},
   "outputs": [
    {
     "name": "stdout",
     "output_type": "stream",
     "text": [
      "['accuracy', 'adjusted_mutual_info_score', 'adjusted_rand_score', 'average_precision', 'balanced_accuracy', 'completeness_score', 'explained_variance', 'f1', 'f1_macro', 'f1_micro', 'f1_samples', 'f1_weighted', 'fowlkes_mallows_score', 'homogeneity_score', 'jaccard', 'jaccard_macro', 'jaccard_micro', 'jaccard_samples', 'jaccard_weighted', 'max_error', 'mutual_info_score', 'neg_brier_score', 'neg_log_loss', 'neg_mean_absolute_error', 'neg_mean_gamma_deviance', 'neg_mean_poisson_deviance', 'neg_mean_squared_error', 'neg_mean_squared_log_error', 'neg_median_absolute_error', 'neg_root_mean_squared_error', 'normalized_mutual_info_score', 'precision', 'precision_macro', 'precision_micro', 'precision_samples', 'precision_weighted', 'r2', 'recall', 'recall_macro', 'recall_micro', 'recall_samples', 'recall_weighted', 'roc_auc', 'roc_auc_ovo', 'roc_auc_ovo_weighted', 'roc_auc_ovr', 'roc_auc_ovr_weighted', 'v_measure_score']\n"
     ]
    }
   ],
   "source": [
    "print(sorted(sklearn.metrics.SCORERS.keys()) )"
   ]
  },
  {
   "cell_type": "code",
   "execution_count": 34,
   "metadata": {},
   "outputs": [],
   "source": [
    "regressors = []\n",
    "regressors.append(('LR', LinearRegression()))\n",
    "regressors.append(('DT', DecisionTreeRegressor(random_state=model_seed)))\n",
    "# regressors.append(('DT', DecisionTreeRegressor(max_depth=30, random_state=42)))\n",
    "regressors.append(('KNN', KNeighborsRegressor()))\n",
    "# regressors.append(('KNN', KNeighborsRegressor(n_neighborsint=30, weights=\"distance\")))\n",
    "regressors.append(('RF', RandomForestRegressor(random_state=model_seed)))\n",
    "# regressors.append(('RF', RandomForestRegressor(n_estimators=100, max_depth=10)))\n",
    "regressors.append(('AB', AdaBoostRegressor(random_state=model_seed)))\n",
    "regressors.append(('B', BaggingRegressor(random_state=model_seed)))\n",
    "regressors.append(('GB', GradientBoostingRegressor(random_state=model_seed)))\n"
   ]
  },
  {
   "cell_type": "code",
   "execution_count": null,
   "metadata": {},
   "outputs": [],
   "source": []
  },
  {
   "cell_type": "code",
   "execution_count": null,
   "metadata": {},
   "outputs": [],
   "source": []
  },
  {
   "cell_type": "code",
   "execution_count": null,
   "metadata": {},
   "outputs": [],
   "source": []
  },
  {
   "cell_type": "code",
   "execution_count": 35,
   "metadata": {},
   "outputs": [],
   "source": [
    "mae_reg_scores = {}"
   ]
  },
  {
   "cell_type": "code",
   "execution_count": 36,
   "metadata": {},
   "outputs": [
    {
     "name": "stdout",
     "output_type": "stream",
     "text": [
      "LR: avg: -3.112621 (std: 0.008333, max: -3.102043, min: -3.124785) took 0.962961 seconds\n",
      "DT: avg: -3.105148 (std: 0.008260, max: -3.090922, min: -3.113853) took 0.566798 seconds\n",
      "KNN: avg: -3.305438 (std: 0.105162, max: -3.137773, min: -3.440709) took 0.562044 seconds\n",
      "RF: avg: -3.100554 (std: 0.010985, max: -3.084555, min: -3.118470) took 0.547515 seconds\n",
      "AB: avg: -3.112717 (std: 0.008556, max: -3.100466, min: -3.125503) took 0.570710 seconds\n",
      "B: avg: -3.104668 (std: 0.012022, max: -3.084884, min: -3.121257) took 0.582850 seconds\n",
      "GB: avg: -3.107527 (std: 0.008283, max: -3.096307, min: -3.117124) took 0.595537 seconds\n"
     ]
    }
   ],
   "source": [
    "for name, regressor in regressors:\n",
    "    cv = ShuffleSplit(n_splits=5, test_size=.2, random_state=cv_seed)\n",
    "    mdl_pipeline = Pipeline(steps=[('preprocessor', preprocessor), ('regressor', regressor)])\n",
    "    tic = time.process_time()\n",
    "    scores = cross_val_score(mdl_pipeline, X_train, y_train, cv=cv, scoring='neg_mean_absolute_error', error_score='raise', n_jobs=-1)\n",
    "    toc = time.process_time()\n",
    "    elapsed_time = toc - tic\n",
    "    mae_reg_scores[name] = scores\n",
    "    msg = \"%s: avg: %f (std: %f, max: %f, min: %f) took %f seconds\" % (name, scores.mean(), scores.std(), scores.max(), scores.min(), elapsed_time)\n",
    "    print(msg)"
   ]
  },
  {
   "cell_type": "code",
   "execution_count": 37,
   "metadata": {},
   "outputs": [
    {
     "data": {
      "text/plain": [
       "{'LR': array([-3.11956694, -3.10951923, -3.10718869, -3.12478488, -3.10204278]),\n",
       " 'DT': array([-3.11282614, -3.09092171, -3.11385331, -3.10315605, -3.10498048]),\n",
       " 'KNN': array([-3.44070865, -3.2458646 , -3.32788726, -3.37495557, -3.13777253]),\n",
       " 'RF': array([-3.08455505, -3.09928859, -3.10373658, -3.0967193 , -3.11847027]),\n",
       " 'AB': array([-3.10046551, -3.11451745, -3.1163714 , -3.12550262, -3.10673022]),\n",
       " 'B': array([-3.08488382, -3.10689412, -3.11018344, -3.12125713, -3.10012154]),\n",
       " 'GB': array([-3.09630703, -3.10227346, -3.117039  , -3.104891  , -3.11712416])}"
      ]
     },
     "execution_count": 37,
     "metadata": {},
     "output_type": "execute_result"
    }
   ],
   "source": [
    "mae_reg_scores"
   ]
  },
  {
   "cell_type": "code",
   "execution_count": 38,
   "metadata": {},
   "outputs": [
    {
     "data": {
      "image/png": "[encoded data removed]",
      "text/plain": [
       "<Figure size 1152x648 with 1 Axes>"
      ]
     },
     "metadata": {
      "needs_background": "light"
     },
     "output_type": "display_data"
    }
   ],
   "source": [
    "fig = plt.figure(figsize=(16,9))\n",
    "fig.suptitle('Algorithm Comparison')\n",
    "ax = fig.add_subplot (111)\n",
    "\n",
    "plt.boxplot(mae_reg_scores.values())\n",
    "ax.set_xticklabels(mae_reg_scores.keys())\n",
    "\n",
    "plt.tight_layout()\n",
    "plt.plot()\n",
    "plt.xlabel('Models')\n",
    "plt.ylabel('Negated MAE Scores')\n",
    "plt.savefig('model_cv_10prct/run4/normalizer/South-Holland-10prct_MAE.png', dpi=600)"
   ]
  },
  {
   "cell_type": "code",
   "execution_count": null,
   "metadata": {},
   "outputs": [],
   "source": []
  },
  {
   "cell_type": "code",
   "execution_count": 39,
   "metadata": {},
   "outputs": [],
   "source": [
    "abs_mae_reg_scores = {}\n",
    "for k, v in mae_reg_scores.items():\n",
    "    abs_mae_reg_scores[k] = np.absolute(v)"
   ]
  },
  {
   "cell_type": "code",
   "execution_count": 40,
   "metadata": {},
   "outputs": [
    {
     "data": {
      "image/png": "[encoded data removed]",
      "text/plain": [
       "<Figure size 1152x648 with 1 Axes>"
      ]
     },
     "metadata": {
      "needs_background": "light"
     },
     "output_type": "display_data"
    }
   ],
   "source": [
    "fig = plt.figure(figsize=(16,9))\n",
    "fig.suptitle('Algorithm Comparison')\n",
    "ax = fig.add_subplot (111)\n",
    "\n",
    "\n",
    "plt.boxplot(abs_mae_reg_scores.values())\n",
    "ax.set_xticklabels(abs_mae_reg_scores.keys())\n",
    "\n",
    "plt.tight_layout()\n",
    "plt.plot()\n",
    "plt.xlabel('Models')\n",
    "plt.ylabel('Absolute MAE Scores')\n",
    "plt.savefig('model_cv_10prct/run4/normalizer/South-Holland-10prct_ABS-MAE.png', dpi=600)"
   ]
  },
  {
   "cell_type": "code",
   "execution_count": 41,
   "metadata": {},
   "outputs": [
    {
     "data": {
      "text/plain": [
       "{'LR': array([-3.11956694, -3.10951923, -3.10718869, -3.12478488, -3.10204278]),\n",
       " 'DT': array([-3.11282614, -3.09092171, -3.11385331, -3.10315605, -3.10498048]),\n",
       " 'RF': array([-3.08455505, -3.09928859, -3.10373658, -3.0967193 , -3.11847027]),\n",
       " 'AB': array([-3.10046551, -3.11451745, -3.1163714 , -3.12550262, -3.10673022]),\n",
       " 'B': array([-3.08488382, -3.10689412, -3.11018344, -3.12125713, -3.10012154]),\n",
       " 'GB': array([-3.09630703, -3.10227346, -3.117039  , -3.104891  , -3.11712416])}"
      ]
     },
     "execution_count": 41,
     "metadata": {},
     "output_type": "execute_result"
    }
   ],
   "source": [
    "\n",
    "if 'KNN' in mae_reg_scores.keys():\n",
    "    del mae_reg_scores['KNN'] \n",
    "mae_reg_scores"
   ]
  },
  {
   "cell_type": "code",
   "execution_count": null,
   "metadata": {},
   "outputs": [],
   "source": []
  },
  {
   "cell_type": "code",
   "execution_count": 42,
   "metadata": {},
   "outputs": [
    {
     "data": {
      "image/png": "[encoded data removed]",
      "text/plain": [
       "<Figure size 1152x648 with 1 Axes>"
      ]
     },
     "metadata": {
      "needs_background": "light"
     },
     "output_type": "display_data"
    }
   ],
   "source": [
    "fig = plt.figure(figsize=(16,9))\n",
    "fig.suptitle('Algorithm Comparison')\n",
    "ax = fig.add_subplot(111)\n",
    "\n",
    "plt.boxplot(mae_reg_scores.values())\n",
    "ax.set_xticklabels(mae_reg_scores.keys())\n",
    "\n",
    "plt.tight_layout()\n",
    "plt.plot()\n",
    "plt.xlabel('Models')\n",
    "plt.ylabel('Negated MAE Scores')\n",
    "plt.savefig('model_cv_10prct/run4/normalizer/South-Holland-10prct_MAE_Except-KNN.png', dpi=600)\n"
   ]
  },
  {
   "cell_type": "code",
   "execution_count": 43,
   "metadata": {},
   "outputs": [
    {
     "data": {
      "text/plain": [
       "{'LR': array([3.11956694, 3.10951923, 3.10718869, 3.12478488, 3.10204278]),\n",
       " 'DT': array([3.11282614, 3.09092171, 3.11385331, 3.10315605, 3.10498048]),\n",
       " 'RF': array([3.08455505, 3.09928859, 3.10373658, 3.0967193 , 3.11847027]),\n",
       " 'AB': array([3.10046551, 3.11451745, 3.1163714 , 3.12550262, 3.10673022]),\n",
       " 'B': array([3.08488382, 3.10689412, 3.11018344, 3.12125713, 3.10012154]),\n",
       " 'GB': array([3.09630703, 3.10227346, 3.117039  , 3.104891  , 3.11712416])}"
      ]
     },
     "execution_count": 43,
     "metadata": {},
     "output_type": "execute_result"
    }
   ],
   "source": [
    "if 'KNN' in abs_mae_reg_scores.keys():\n",
    "    del abs_mae_reg_scores['KNN'] \n",
    "abs_mae_reg_scores"
   ]
  },
  {
   "cell_type": "code",
   "execution_count": 44,
   "metadata": {},
   "outputs": [
    {
     "data": {
      "image/png": "[encoded data removed]",
      "text/plain": [
       "<Figure size 1152x648 with 1 Axes>"
      ]
     },
     "metadata": {
      "needs_background": "light"
     },
     "output_type": "display_data"
    }
   ],
   "source": [
    "fig = plt.figure(figsize=(16,9))\n",
    "fig.suptitle('Algorithm Comparison')\n",
    "ax = fig.add_subplot(111)\n",
    "\n",
    "plt.boxplot(abs_mae_reg_scores.values())\n",
    "ax.set_xticklabels(abs_mae_reg_scores.keys())\n",
    "\n",
    "plt.tight_layout()\n",
    "plt.plot()\n",
    "plt.xlabel('Models')\n",
    "plt.ylabel('Absolute MAE Scores')\n",
    "plt.savefig('model_cv_10prct/run4/normalizer/South-Holland-10prct_ABS-MAE_Except-KNN.png', dpi=600)"
   ]
  },
  {
   "cell_type": "code",
   "execution_count": null,
   "metadata": {},
   "outputs": [],
   "source": []
  },
  {
   "cell_type": "code",
   "execution_count": null,
   "metadata": {},
   "outputs": [],
   "source": []
  },
  {
   "cell_type": "code",
   "execution_count": 45,
   "metadata": {},
   "outputs": [],
   "source": [
    "mse_reg_scores = {}"
   ]
  },
  {
   "cell_type": "code",
   "execution_count": 46,
   "metadata": {},
   "outputs": [
    {
     "name": "stdout",
     "output_type": "stream",
     "text": [
      "LR: avg: -14.222599 (std: 0.279418, max: -13.719510, min: -14.477511) took 0.589597 seconds\n",
      "DT: avg: -14.532792 (std: 0.344625, max: -14.039780, min: -14.986868) took 0.575773 seconds\n",
      "KNN: avg: -16.107785 (std: 1.850810, max: -14.165079, min: -19.487787) took 0.588954 seconds\n",
      "RF: avg: -13.935660 (std: 0.377732, max: -13.289442, min: -14.441708) took 0.772813 seconds\n",
      "AB: avg: -14.190682 (std: 0.283566, max: -13.835061, min: -14.573188) took 0.574966 seconds\n",
      "B: avg: -14.542017 (std: 0.526855, max: -13.952117, min: -15.199573) took 0.585112 seconds\n",
      "GB: avg: -14.286099 (std: 0.333767, max: -13.781434, min: -14.645844) took 0.557456 seconds\n"
     ]
    }
   ],
   "source": [
    "for name, regressor in regressors:\n",
    "    cv = ShuffleSplit(n_splits=5, test_size=.2, random_state=cv_seed)\n",
    "    mdl_pipeline = Pipeline(steps=[('preprocessor', preprocessor), ('regressor', regressor)])\n",
    "    tic = time.process_time()\n",
    "    scores = cross_val_score(mdl_pipeline, X_train, y_train, cv=cv, scoring='neg_mean_squared_error', error_score='raise', n_jobs=-1)\n",
    "    toc = time.process_time()\n",
    "    elapsed_time = toc - tic\n",
    "    mse_reg_scores[name] = scores\n",
    "    msg = \"%s: avg: %f (std: %f, max: %f, min: %f) took %f seconds\" % (name, scores.mean(), scores.std(), scores.max(), scores.min(), elapsed_time)\n",
    "    print(msg)"
   ]
  },
  {
   "cell_type": "code",
   "execution_count": null,
   "metadata": {},
   "outputs": [],
   "source": []
  },
  {
   "cell_type": "code",
   "execution_count": null,
   "metadata": {},
   "outputs": [],
   "source": []
  },
  {
   "cell_type": "code",
   "execution_count": 47,
   "metadata": {},
   "outputs": [
    {
     "data": {
      "image/png": "[encoded data removed]",
      "text/plain": [
       "<Figure size 1152x648 with 1 Axes>"
      ]
     },
     "metadata": {
      "needs_background": "light"
     },
     "output_type": "display_data"
    }
   ],
   "source": [
    "fig = plt.figure(figsize=(16,9))\n",
    "fig.suptitle('Algorithm Comparison')\n",
    "ax = fig.add_subplot(111)\n",
    "\n",
    "plt.boxplot(mse_reg_scores.values())\n",
    "ax.set_xticklabels(mse_reg_scores.keys())\n",
    "\n",
    "plt.tight_layout()\n",
    "plt.plot()\n",
    "plt.xlabel('Models')\n",
    "plt.ylabel('Negated MSE Scores')\n",
    "plt.savefig('model_cv_10prct/run4/normalizer/South-Holland-10prct_MSE.png', dpi=600)\n",
    "plt.show()"
   ]
  },
  {
   "cell_type": "code",
   "execution_count": 48,
   "metadata": {},
   "outputs": [
    {
     "data": {
      "text/plain": [
       "{'LR': array([14.14276168, 14.30875326, 14.47751088, 14.46445816, 13.71951031]),\n",
       " 'DT': array([14.77030825, 14.9868677 , 14.0397797 , 14.24849447, 14.61850938]),\n",
       " 'KNN': array([16.38778148, 15.68274273, 14.16507941, 14.81553216, 19.48778679]),\n",
       " 'RF': array([13.92454265, 13.89265198, 14.44170811, 14.12995647, 13.28944159]),\n",
       " 'AB': array([13.8350605 , 13.97819748, 14.10059184, 14.46637051, 14.57318795]),\n",
       " 'B': array([15.19957348, 14.01800013, 15.10842287, 14.43196975, 13.95211747]),\n",
       " 'GB': array([14.587514  , 14.39466696, 14.02103364, 13.7814342 , 14.6458439 ])}"
      ]
     },
     "execution_count": 48,
     "metadata": {},
     "output_type": "execute_result"
    }
   ],
   "source": [
    "abs_mse_reg_scores = {}\n",
    "for k, v in mse_reg_scores.items():\n",
    "    abs_mse_reg_scores[k] = np.absolute(v)\n",
    "    \n",
    "abs_mse_reg_scores"
   ]
  },
  {
   "cell_type": "code",
   "execution_count": 49,
   "metadata": {},
   "outputs": [
    {
     "data": {
      "image/png": "[encoded data removed]",
      "text/plain": [
       "<Figure size 1152x648 with 1 Axes>"
      ]
     },
     "metadata": {
      "needs_background": "light"
     },
     "output_type": "display_data"
    }
   ],
   "source": [
    "fig = plt.figure(figsize=(16,9))\n",
    "fig.suptitle('Algorithm Comparison')\n",
    "ax = fig.add_subplot (111)\n",
    "\n",
    "\n",
    "plt.boxplot(abs_mse_reg_scores.values())\n",
    "ax.set_xticklabels(abs_mse_reg_scores.keys())\n",
    "\n",
    "plt.tight_layout()\n",
    "plt.plot()\n",
    "plt.xlabel('Models')\n",
    "plt.ylabel('Absolute MSE Scores')\n",
    "plt.savefig('model_cv_10prct/run4/normalizer/South-Holland-10prct_ABS-MSE.png', dpi=600)"
   ]
  },
  {
   "cell_type": "code",
   "execution_count": null,
   "metadata": {},
   "outputs": [],
   "source": []
  },
  {
   "cell_type": "code",
   "execution_count": null,
   "metadata": {},
   "outputs": [],
   "source": []
  },
  {
   "cell_type": "code",
   "execution_count": 51,
   "metadata": {},
   "outputs": [
    {
     "data": {
      "text/plain": [
       "{'LR': array([-14.14276168, -14.30875326, -14.47751088, -14.46445816,\n",
       "        -13.71951031]),\n",
       " 'DT': array([-14.77030825, -14.9868677 , -14.0397797 , -14.24849447,\n",
       "        -14.61850938]),\n",
       " 'RF': array([-13.92454265, -13.89265198, -14.44170811, -14.12995647,\n",
       "        -13.28944159]),\n",
       " 'AB': array([-13.8350605 , -13.97819748, -14.10059184, -14.46637051,\n",
       "        -14.57318795]),\n",
       " 'B': array([-15.19957348, -14.01800013, -15.10842287, -14.43196975,\n",
       "        -13.95211747]),\n",
       " 'GB': array([-14.587514  , -14.39466696, -14.02103364, -13.7814342 ,\n",
       "        -14.6458439 ])}"
      ]
     },
     "execution_count": 51,
     "metadata": {},
     "output_type": "execute_result"
    }
   ],
   "source": [
    "if 'KNN' in mse_reg_scores.keys():\n",
    "    del mse_reg_scores['KNN'] \n",
    "mse_reg_scores"
   ]
  },
  {
   "cell_type": "code",
   "execution_count": 52,
   "metadata": {},
   "outputs": [
    {
     "data": {
      "image/png": "[encoded data removed]",
      "text/plain": [
       "<Figure size 1152x648 with 1 Axes>"
      ]
     },
     "metadata": {
      "needs_background": "light"
     },
     "output_type": "display_data"
    }
   ],
   "source": [
    "fig = plt.figure(figsize=(16,9))\n",
    "fig.suptitle('Algorithm Comparison')\n",
    "ax = fig.add_subplot(111)\n",
    "\n",
    "plt.boxplot(mse_reg_scores.values())\n",
    "ax.set_xticklabels(mse_reg_scores.keys())\n",
    "\n",
    "plt.tight_layout()\n",
    "plt.plot()\n",
    "plt.xlabel('Models')\n",
    "plt.ylabel('Negated MSE Scores')\n",
    "plt.savefig('model_cv_10prct/run4/normalizer/South-Holland-10prct_MSE_Except-KNN.png', dpi=600)\n",
    "plt.show()"
   ]
  },
  {
   "cell_type": "code",
   "execution_count": 53,
   "metadata": {},
   "outputs": [
    {
     "data": {
      "text/plain": [
       "{'LR': array([14.14276168, 14.30875326, 14.47751088, 14.46445816, 13.71951031]),\n",
       " 'DT': array([14.77030825, 14.9868677 , 14.0397797 , 14.24849447, 14.61850938]),\n",
       " 'RF': array([13.92454265, 13.89265198, 14.44170811, 14.12995647, 13.28944159]),\n",
       " 'AB': array([13.8350605 , 13.97819748, 14.10059184, 14.46637051, 14.57318795]),\n",
       " 'B': array([15.19957348, 14.01800013, 15.10842287, 14.43196975, 13.95211747]),\n",
       " 'GB': array([14.587514  , 14.39466696, 14.02103364, 13.7814342 , 14.6458439 ])}"
      ]
     },
     "execution_count": 53,
     "metadata": {},
     "output_type": "execute_result"
    }
   ],
   "source": [
    "if 'KNN' in abs_mse_reg_scores.keys():\n",
    "    del abs_mse_reg_scores['KNN'] \n",
    "abs_mse_reg_scores"
   ]
  },
  {
   "cell_type": "code",
   "execution_count": 54,
   "metadata": {},
   "outputs": [
    {
     "data": {
      "image/png": "[encoded data removed]",
      "text/plain": [
       "<Figure size 1152x648 with 1 Axes>"
      ]
     },
     "metadata": {
      "needs_background": "light"
     },
     "output_type": "display_data"
    }
   ],
   "source": [
    "fig = plt.figure(figsize=(16,9))\n",
    "fig.suptitle('Algorithm Comparison')\n",
    "ax = fig.add_subplot(111)\n",
    "\n",
    "plt.boxplot(abs_mse_reg_scores.values())\n",
    "ax.set_xticklabels(abs_mse_reg_scores.keys())\n",
    "\n",
    "plt.tight_layout()\n",
    "plt.plot()\n",
    "plt.xlabel('Models')\n",
    "plt.ylabel('Absolute MSE Scores')\n",
    "plt.savefig('model_cv_10prct/run4/normalizer/South-Holland-10prct_ABS-MSE_Except-KNN.png', dpi=600)\n",
    "plt.show()"
   ]
  },
  {
   "cell_type": "code",
   "execution_count": null,
   "metadata": {},
   "outputs": [],
   "source": []
  },
  {
   "cell_type": "code",
   "execution_count": null,
   "metadata": {},
   "outputs": [],
   "source": []
  },
  {
   "cell_type": "code",
   "execution_count": null,
   "metadata": {},
   "outputs": [],
   "source": []
  },
  {
   "cell_type": "code",
   "execution_count": null,
   "metadata": {},
   "outputs": [],
   "source": []
  },
  {
   "cell_type": "code",
   "execution_count": 55,
   "metadata": {},
   "outputs": [],
   "source": [
    "r2_reg_scores = {}"
   ]
  },
  {
   "cell_type": "code",
   "execution_count": 56,
   "metadata": {},
   "outputs": [
    {
     "name": "stdout",
     "output_type": "stream",
     "text": [
      "LR: avg: 0.001518 (std: 0.000994, max: 0.002685, min: -0.000002) took 0.596710 seconds\n",
      "DT: avg: 0.000343 (std: 0.001257, max: 0.002396, min: -0.001570) took 0.569301 seconds\n",
      "KNN: avg: -0.214838 (std: 0.294432, max: -0.008479, min: -0.790633) took 0.588901 seconds\n",
      "RF: avg: 0.001734 (std: 0.000583, max: 0.002736, min: 0.001134) took 0.779898 seconds\n",
      "AB: avg: -0.003993 (std: 0.004562, max: 0.000283, min: -0.012175) took 0.586288 seconds\n",
      "B: avg: 0.001369 (std: 0.000647, max: 0.002272, min: 0.000607) took 0.574222 seconds\n",
      "GB: avg: 0.001319 (std: 0.000784, max: 0.002650, min: 0.000468) took 0.552526 seconds\n"
     ]
    }
   ],
   "source": [
    "for name, regressor in regressors:\n",
    "    cv = ShuffleSplit(n_splits=5, test_size=.2, random_state=cv_seed)\n",
    "    mdl_pipeline = Pipeline(steps=[('preprocessor', preprocessor), ('regressor', regressor)])\n",
    "    tic = time.process_time()\n",
    "    scores = cross_val_score(mdl_pipeline, X_train, y_train, cv=cv, scoring='r2', error_score='raise', n_jobs=-1)\n",
    "    toc = time.process_time()\n",
    "    elapsed_time = toc - tic\n",
    "    r2_reg_scores[name] = scores\n",
    "    msg = \"%s: avg: %f (std: %f, max: %f, min: %f) took %f seconds\" % (name, scores.mean(), scores.std(), scores.max(), scores.min(), elapsed_time)\n",
    "    print(msg)"
   ]
  },
  {
   "cell_type": "code",
   "execution_count": 57,
   "metadata": {},
   "outputs": [
    {
     "data": {
      "image/png": "[encoded data removed]",
      "text/plain": [
       "<Figure size 1152x648 with 1 Axes>"
      ]
     },
     "metadata": {
      "needs_background": "light"
     },
     "output_type": "display_data"
    }
   ],
   "source": [
    "fig = plt.figure(figsize=(16,9))\n",
    "fig.suptitle('Algorithm Comparison')\n",
    "ax = fig.add_subplot(111)\n",
    "\n",
    "plt.boxplot(r2_reg_scores.values())\n",
    "ax.set_xticklabels(r2_reg_scores.keys())\n",
    "\n",
    "\n",
    "plt.tight_layout()\n",
    "plt.plot()\n",
    "plt.xlabel('Models')\n",
    "plt.ylabel('R^2 Scores')\n",
    "plt.savefig('model_cv_10prct/run4/normalizer/South-Holland-10prct_R2.png', dpi=600)\n",
    "plt.show()"
   ]
  },
  {
   "cell_type": "code",
   "execution_count": 58,
   "metadata": {},
   "outputs": [
    {
     "data": {
      "text/plain": [
       "{'LR': array([ 1.80394640e-03, -1.73948178e-06,  2.31928995e-03,  7.83268084e-04,\n",
       "         2.68545566e-03]),\n",
       " 'DT': array([ 0.00028342, -0.00157015,  0.00038764,  0.00239609,  0.00022018]),\n",
       " 'RF': array([0.00273578, 0.00203204, 0.00143107, 0.00133933, 0.00113388]),\n",
       " 'AB': array([-0.00323808,  0.0001602 , -0.00499701,  0.00028337, -0.01217477]),\n",
       " 'B': array([0.00195159, 0.00122297, 0.00227195, 0.00060743, 0.0007908 ]),\n",
       " 'GB': array([0.00265012, 0.00046788, 0.00076934, 0.00098231, 0.00172552])}"
      ]
     },
     "execution_count": 58,
     "metadata": {},
     "output_type": "execute_result"
    }
   ],
   "source": [
    "if 'KNN' in r2_reg_scores.keys():\n",
    "    del r2_reg_scores['KNN']\n",
    "r2_reg_scores"
   ]
  },
  {
   "cell_type": "code",
   "execution_count": 59,
   "metadata": {},
   "outputs": [
    {
     "data": {
      "image/png": "[encoded data removed]",
      "text/plain": [
       "<Figure size 1152x648 with 1 Axes>"
      ]
     },
     "metadata": {
      "needs_background": "light"
     },
     "output_type": "display_data"
    }
   ],
   "source": [
    "fig = plt.figure(figsize=(16,9))\n",
    "fig.suptitle('Algorithm Comparison')\n",
    "ax = fig.add_subplot(111)\n",
    "\n",
    "plt.boxplot(r2_reg_scores.values())\n",
    "ax.set_xticklabels(r2_reg_scores.keys())\n",
    "\n",
    "\n",
    "plt.tight_layout()\n",
    "plt.plot()\n",
    "plt.xlabel('Models')\n",
    "plt.ylabel('R^2 Scores')\n",
    "plt.savefig('model_cv_10prct/run4/normalizer/South-Holland-10prct_R2_Except-KNN.png', dpi=600)\n",
    "plt.show()"
   ]
  },
  {
   "cell_type": "code",
   "execution_count": null,
   "metadata": {},
   "outputs": [],
   "source": []
  },
  {
   "cell_type": "code",
   "execution_count": null,
   "metadata": {},
   "outputs": [],
   "source": []
  },
  {
   "cell_type": "code",
   "execution_count": null,
   "metadata": {},
   "outputs": [],
   "source": []
  },
  {
   "cell_type": "code",
   "execution_count": null,
   "metadata": {},
   "outputs": [],
   "source": []
  },
  {
   "cell_type": "code",
   "execution_count": null,
   "metadata": {},
   "outputs": [],
   "source": []
  },
  {
   "cell_type": "code",
   "execution_count": null,
   "metadata": {},
   "outputs": [],
   "source": []
  },
  {
   "cell_type": "code",
   "execution_count": null,
   "metadata": {},
   "outputs": [],
   "source": []
  },
  {
   "cell_type": "code",
   "execution_count": null,
   "metadata": {},
   "outputs": [],
   "source": []
  },
  {
   "cell_type": "code",
   "execution_count": 60,
   "metadata": {},
   "outputs": [],
   "source": [
    "mean_transformer = Pipeline(steps=[\n",
    "    ('imputer', SimpleImputer(strategy='mean', add_indicator=True)),\n",
    "    ('scaler', StandardScaler())])\n",
    "\n",
    "freq_transformer = Pipeline(steps=[\n",
    "    ('imputer', SimpleImputer(strategy='most_frequent', add_indicator=True)),\n",
    "    ('scaler', StandardScaler())])\n",
    "\n",
    "zero_transformer = Pipeline(steps=[\n",
    "    ('imputer', SimpleImputer(strategy='constant', fill_value=0, add_indicator=True)),\n",
    "    ('scaler', StandardScaler())])"
   ]
  },
  {
   "cell_type": "code",
   "execution_count": 61,
   "metadata": {},
   "outputs": [],
   "source": [
    "cat_transformer = Pipeline(steps=[\n",
    "    ('imputer', SimpleImputer(strategy='constant', fill_value='NA', add_indicator=True)),\n",
    "    ('onehot', OneHotEncoder(handle_unknown='ignore'))])"
   ]
  },
  {
   "cell_type": "code",
   "execution_count": null,
   "metadata": {},
   "outputs": [],
   "source": []
  },
  {
   "cell_type": "code",
   "execution_count": 62,
   "metadata": {},
   "outputs": [],
   "source": [
    "preprocessor = ColumnTransformer(transformers=[\n",
    "        ('mean_transformer', mean_transformer, [\"year\"]),\n",
    "        ('freq_transformer', freq_transformer, [\"building_levels\"]),\n",
    "        ('zero_transformer', zero_transformer, [\"count_neighbor\"]),\n",
    "        ('cat_transfomer', cat_transformer, cat_cols)])"
   ]
  },
  {
   "cell_type": "code",
   "execution_count": null,
   "metadata": {},
   "outputs": [],
   "source": []
  },
  {
   "cell_type": "code",
   "execution_count": null,
   "metadata": {},
   "outputs": [],
   "source": []
  },
  {
   "cell_type": "code",
   "execution_count": 63,
   "metadata": {},
   "outputs": [],
   "source": [
    "from sklearn.ensemble import RandomForestRegressor, AdaBoostRegressor, GradientBoostingRegressor, BaggingRegressor\n",
    "from sklearn.tree import DecisionTreeRegressor\n",
    "from sklearn.neighbors import KNeighborsRegressor\n",
    "from sklearn.linear_model import LinearRegression"
   ]
  },
  {
   "cell_type": "code",
   "execution_count": 64,
   "metadata": {},
   "outputs": [
    {
     "name": "stdout",
     "output_type": "stream",
     "text": [
      "['accuracy', 'adjusted_mutual_info_score', 'adjusted_rand_score', 'average_precision', 'balanced_accuracy', 'completeness_score', 'explained_variance', 'f1', 'f1_macro', 'f1_micro', 'f1_samples', 'f1_weighted', 'fowlkes_mallows_score', 'homogeneity_score', 'jaccard', 'jaccard_macro', 'jaccard_micro', 'jaccard_samples', 'jaccard_weighted', 'max_error', 'mutual_info_score', 'neg_brier_score', 'neg_log_loss', 'neg_mean_absolute_error', 'neg_mean_gamma_deviance', 'neg_mean_poisson_deviance', 'neg_mean_squared_error', 'neg_mean_squared_log_error', 'neg_median_absolute_error', 'neg_root_mean_squared_error', 'normalized_mutual_info_score', 'precision', 'precision_macro', 'precision_micro', 'precision_samples', 'precision_weighted', 'r2', 'recall', 'recall_macro', 'recall_micro', 'recall_samples', 'recall_weighted', 'roc_auc', 'roc_auc_ovo', 'roc_auc_ovo_weighted', 'roc_auc_ovr', 'roc_auc_ovr_weighted', 'v_measure_score']\n"
     ]
    }
   ],
   "source": [
    "print(sorted(sklearn.metrics.SCORERS.keys()) )"
   ]
  },
  {
   "cell_type": "code",
   "execution_count": 65,
   "metadata": {},
   "outputs": [],
   "source": [
    "regressors = []\n",
    "regressors.append(('LR', LinearRegression()))\n",
    "regressors.append(('DT', DecisionTreeRegressor(random_state=model_seed)))\n",
    "# regressors.append(('DT', DecisionTreeRegressor(max_depth=30, random_state=42)))\n",
    "regressors.append(('KNN', KNeighborsRegressor()))\n",
    "# regressors.append(('KNN', KNeighborsRegressor(n_neighborsint=30, weights=\"distance\")))\n",
    "regressors.append(('RF', RandomForestRegressor(random_state=model_seed)))\n",
    "# regressors.append(('RF', RandomForestRegressor(n_estimators=100, max_depth=10)))\n",
    "regressors.append(('AB', AdaBoostRegressor(random_state=model_seed)))\n",
    "regressors.append(('B', BaggingRegressor(random_state=model_seed)))\n",
    "regressors.append(('GB', GradientBoostingRegressor(random_state=model_seed)))\n"
   ]
  },
  {
   "cell_type": "code",
   "execution_count": null,
   "metadata": {},
   "outputs": [],
   "source": []
  },
  {
   "cell_type": "code",
   "execution_count": null,
   "metadata": {},
   "outputs": [],
   "source": []
  },
  {
   "cell_type": "code",
   "execution_count": 66,
   "metadata": {},
   "outputs": [],
   "source": [
    "mae_reg_scores = {}"
   ]
  },
  {
   "cell_type": "code",
   "execution_count": 67,
   "metadata": {},
   "outputs": [
    {
     "name": "stdout",
     "output_type": "stream",
     "text": [
      "LR: avg: -3.031485 (std: 0.005956, max: -3.024385, min: -3.039964) took 0.593042 seconds\n",
      "DT: avg: -3.366127 (std: 0.014380, max: -3.345248, min: -3.386617) took 0.584967 seconds\n",
      "KNN: avg: -2.983651 (std: 0.011653, max: -2.963617, min: -2.995844) took 0.593263 seconds\n",
      "RF: avg: -3.056298 (std: 0.012620, max: -3.037717, min: -3.077036) took 0.792818 seconds\n",
      "AB: avg: -3.369347 (std: 0.057882, max: -3.297382, min: -3.433181) took 0.957321 seconds\n",
      "B: avg: -3.094434 (std: 0.016551, max: -3.074649, min: -3.120500) took 0.564858 seconds\n",
      "GB: avg: -2.853199 (std: 0.005957, max: -2.842190, min: -2.859401) took 0.551400 seconds\n"
     ]
    }
   ],
   "source": [
    "for name, regressor in regressors:\n",
    "    cv = ShuffleSplit(n_splits=5, test_size=.2, random_state=cv_seed)\n",
    "    mdl_pipeline = Pipeline(steps=[('preprocessor', preprocessor), ('regressor', regressor)])\n",
    "    tic = time.process_time()\n",
    "    scores = cross_val_score(mdl_pipeline, X_train, y_train, cv=cv, scoring='neg_mean_absolute_error', error_score='raise', n_jobs=-1)\n",
    "    toc = time.process_time()\n",
    "    elapsed_time = toc - tic\n",
    "    mae_reg_scores[name] = scores\n",
    "    msg = \"%s: avg: %f (std: %f, max: %f, min: %f) took %f seconds\" % (name, scores.mean(), scores.std(), scores.max(), scores.min(), elapsed_time)\n",
    "    print(msg)"
   ]
  },
  {
   "cell_type": "code",
   "execution_count": 68,
   "metadata": {},
   "outputs": [
    {
     "data": {
      "text/plain": [
       "{'LR': array([-3.0399638 , -3.03581234, -3.0243849 , -3.03179936, -3.02546644]),\n",
       " 'DT': array([-3.34524844, -3.3764855 , -3.36439854, -3.38661657, -3.35788554]),\n",
       " 'KNN': array([-2.98808467, -2.99584355, -2.96361677, -2.97816011, -2.99254907]),\n",
       " 'RF': array([-3.05778236, -3.07703629, -3.03771705, -3.05694503, -3.05201164]),\n",
       " 'AB': array([-3.3089334 , -3.43318127, -3.29738165, -3.43099613, -3.37624208]),\n",
       " 'B': array([-3.0992795 , -3.07464927, -3.07854102, -3.0992029 , -3.12049973]),\n",
       " 'GB': array([-2.85662359, -2.8523012 , -2.84218985, -2.85940144, -2.85547881])}"
      ]
     },
     "execution_count": 68,
     "metadata": {},
     "output_type": "execute_result"
    }
   ],
   "source": [
    "mae_reg_scores"
   ]
  },
  {
   "cell_type": "code",
   "execution_count": 69,
   "metadata": {},
   "outputs": [
    {
     "data": {
      "image/png": "[encoded data removed]",
      "text/plain": [
       "<Figure size 1152x648 with 1 Axes>"
      ]
     },
     "metadata": {
      "needs_background": "light"
     },
     "output_type": "display_data"
    }
   ],
   "source": [
    "fig = plt.figure(figsize=(16,9))\n",
    "fig.suptitle('Algorithm Comparison')\n",
    "ax = fig.add_subplot (111)\n",
    "\n",
    "plt.boxplot(mae_reg_scores.values())\n",
    "ax.set_xticklabels(mae_reg_scores.keys())\n",
    "\n",
    "plt.tight_layout()\n",
    "plt.plot()\n",
    "plt.xlabel('Models')\n",
    "plt.ylabel('Negated MAE Scores')\n",
    "plt.savefig('model_cv_10prct/run4/scaler/South-Holland-10prct_MAE.png', dpi=600)"
   ]
  },
  {
   "cell_type": "code",
   "execution_count": null,
   "metadata": {},
   "outputs": [],
   "source": []
  },
  {
   "cell_type": "code",
   "execution_count": 70,
   "metadata": {},
   "outputs": [],
   "source": [
    "abs_mae_reg_scores = {}\n",
    "for k, v in mae_reg_scores.items():\n",
    "    abs_mae_reg_scores[k] = np.absolute(v)"
   ]
  },
  {
   "cell_type": "code",
   "execution_count": 71,
   "metadata": {},
   "outputs": [
    {
     "data": {
      "image/png": "[encoded data removed]",
      "text/plain": [
       "<Figure size 1152x648 with 1 Axes>"
      ]
     },
     "metadata": {
      "needs_background": "light"
     },
     "output_type": "display_data"
    }
   ],
   "source": [
    "fig = plt.figure(figsize=(16,9))\n",
    "fig.suptitle('Algorithm Comparison')\n",
    "ax = fig.add_subplot (111)\n",
    "\n",
    "\n",
    "plt.boxplot(abs_mae_reg_scores.values())\n",
    "ax.set_xticklabels(abs_mae_reg_scores.keys())\n",
    "\n",
    "plt.tight_layout()\n",
    "plt.plot()\n",
    "plt.xlabel('Models')\n",
    "plt.ylabel('Absolute MAE Scores')\n",
    "plt.savefig('model_cv_10prct/run4/scaler/South-Holland-10prct_ABS-MAE.png', dpi=600)"
   ]
  },
  {
   "cell_type": "code",
   "execution_count": 72,
   "metadata": {},
   "outputs": [
    {
     "data": {
      "text/plain": [
       "{'LR': array([-3.0399638 , -3.03581234, -3.0243849 , -3.03179936, -3.02546644]),\n",
       " 'DT': array([-3.34524844, -3.3764855 , -3.36439854, -3.38661657, -3.35788554]),\n",
       " 'KNN': array([-2.98808467, -2.99584355, -2.96361677, -2.97816011, -2.99254907]),\n",
       " 'RF': array([-3.05778236, -3.07703629, -3.03771705, -3.05694503, -3.05201164]),\n",
       " 'B': array([-3.0992795 , -3.07464927, -3.07854102, -3.0992029 , -3.12049973]),\n",
       " 'GB': array([-2.85662359, -2.8523012 , -2.84218985, -2.85940144, -2.85547881])}"
      ]
     },
     "execution_count": 72,
     "metadata": {},
     "output_type": "execute_result"
    }
   ],
   "source": [
    "\n",
    "if 'AB' in mae_reg_scores.keys():\n",
    "    del mae_reg_scores['AB'] \n",
    "mae_reg_scores"
   ]
  },
  {
   "cell_type": "code",
   "execution_count": null,
   "metadata": {},
   "outputs": [],
   "source": []
  },
  {
   "cell_type": "code",
   "execution_count": 73,
   "metadata": {},
   "outputs": [
    {
     "data": {
      "image/png": "[encoded data removed]",
      "text/plain": [
       "<Figure size 1152x648 with 1 Axes>"
      ]
     },
     "metadata": {
      "needs_background": "light"
     },
     "output_type": "display_data"
    }
   ],
   "source": [
    "fig = plt.figure(figsize=(16,9))\n",
    "fig.suptitle('Algorithm Comparison')\n",
    "ax = fig.add_subplot(111)\n",
    "\n",
    "plt.boxplot(mae_reg_scores.values())\n",
    "ax.set_xticklabels(mae_reg_scores.keys())\n",
    "\n",
    "plt.tight_layout()\n",
    "plt.plot()\n",
    "plt.xlabel('Models')\n",
    "plt.ylabel('Negated MAE Scores')\n",
    "plt.savefig('model_cv_10prct/run4/scaler/South-Holland-10prct_MAE_Except-AB.png', dpi=600)\n"
   ]
  },
  {
   "cell_type": "code",
   "execution_count": 74,
   "metadata": {},
   "outputs": [
    {
     "data": {
      "text/plain": [
       "{'LR': array([3.0399638 , 3.03581234, 3.0243849 , 3.03179936, 3.02546644]),\n",
       " 'DT': array([3.34524844, 3.3764855 , 3.36439854, 3.38661657, 3.35788554]),\n",
       " 'KNN': array([2.98808467, 2.99584355, 2.96361677, 2.97816011, 2.99254907]),\n",
       " 'RF': array([3.05778236, 3.07703629, 3.03771705, 3.05694503, 3.05201164]),\n",
       " 'B': array([3.0992795 , 3.07464927, 3.07854102, 3.0992029 , 3.12049973]),\n",
       " 'GB': array([2.85662359, 2.8523012 , 2.84218985, 2.85940144, 2.85547881])}"
      ]
     },
     "execution_count": 74,
     "metadata": {},
     "output_type": "execute_result"
    }
   ],
   "source": [
    "if 'AB' in abs_mae_reg_scores.keys():\n",
    "    del abs_mae_reg_scores['AB'] \n",
    "abs_mae_reg_scores"
   ]
  },
  {
   "cell_type": "code",
   "execution_count": 75,
   "metadata": {},
   "outputs": [
    {
     "data": {
      "image/png": "[encoded data removed]",
      "text/plain": [
       "<Figure size 1152x648 with 1 Axes>"
      ]
     },
     "metadata": {
      "needs_background": "light"
     },
     "output_type": "display_data"
    }
   ],
   "source": [
    "fig = plt.figure(figsize=(16,9))\n",
    "fig.suptitle('Algorithm Comparison')\n",
    "ax = fig.add_subplot(111)\n",
    "\n",
    "plt.boxplot(abs_mae_reg_scores.values())\n",
    "ax.set_xticklabels(abs_mae_reg_scores.keys())\n",
    "\n",
    "plt.tight_layout()\n",
    "plt.plot()\n",
    "plt.xlabel('Models')\n",
    "plt.ylabel('Absolute MAE Scores')\n",
    "plt.savefig('model_cv_10prct/run4/scaler/South-Holland-10prct_ABS-MAE_Except-AB.png', dpi=600)"
   ]
  },
  {
   "cell_type": "code",
   "execution_count": null,
   "metadata": {},
   "outputs": [],
   "source": []
  },
  {
   "cell_type": "code",
   "execution_count": null,
   "metadata": {},
   "outputs": [],
   "source": []
  },
  {
   "cell_type": "code",
   "execution_count": 76,
   "metadata": {},
   "outputs": [],
   "source": [
    "mse_reg_scores = {}"
   ]
  },
  {
   "cell_type": "code",
   "execution_count": 77,
   "metadata": {},
   "outputs": [
    {
     "name": "stdout",
     "output_type": "stream",
     "text": [
      "LR: avg: -13.779002 (std: 0.417559, max: -13.241548, min: -14.461377) took 0.573858 seconds\n",
      "DT: avg: -20.934550 (std: 0.373628, max: -20.347481, min: -21.422209) took 0.592668 seconds\n",
      "KNN: avg: -14.428968 (std: 0.115085, max: -14.281777, min: -14.569138) took 0.583864 seconds\n",
      "RF: avg: -15.973886 (std: 0.263704, max: -15.722259, min: -16.437419) took 0.591751 seconds\n",
      "AB: avg: -20.487051 (std: 5.714504, max: -16.125494, min: -31.676784) took 1.011929 seconds\n",
      "B: avg: -16.430796 (std: 0.390438, max: -15.961121, min: -17.020103) took 0.554515 seconds\n",
      "GB: avg: -12.327353 (std: 0.326232, max: -11.735829, min: -12.636728) took 0.561783 seconds\n"
     ]
    }
   ],
   "source": [
    "for name, regressor in regressors:\n",
    "    cv = ShuffleSplit(n_splits=5, test_size=.2, random_state=cv_seed)\n",
    "    mdl_pipeline = Pipeline(steps=[('preprocessor', preprocessor), ('regressor', regressor)])\n",
    "    tic = time.process_time()\n",
    "    scores = cross_val_score(mdl_pipeline, X_train, y_train, cv=cv, scoring='neg_mean_squared_error', error_score='raise', n_jobs=-1)\n",
    "    toc = time.process_time()\n",
    "    elapsed_time = toc - tic\n",
    "    mse_reg_scores[name] = scores\n",
    "    msg = \"%s: avg: %f (std: %f, max: %f, min: %f) took %f seconds\" % (name, scores.mean(), scores.std(), scores.max(), scores.min(), elapsed_time)\n",
    "    print(msg)"
   ]
  },
  {
   "cell_type": "code",
   "execution_count": null,
   "metadata": {},
   "outputs": [],
   "source": []
  },
  {
   "cell_type": "code",
   "execution_count": null,
   "metadata": {},
   "outputs": [],
   "source": []
  },
  {
   "cell_type": "code",
   "execution_count": 78,
   "metadata": {},
   "outputs": [
    {
     "data": {
      "image/png": "[encoded data removed]",
      "text/plain": [
       "<Figure size 1152x648 with 1 Axes>"
      ]
     },
     "metadata": {
      "needs_background": "light"
     },
     "output_type": "display_data"
    }
   ],
   "source": [
    "fig = plt.figure(figsize=(16,9))\n",
    "fig.suptitle('Algorithm Comparison')\n",
    "ax = fig.add_subplot(111)\n",
    "\n",
    "plt.boxplot(mse_reg_scores.values())\n",
    "ax.set_xticklabels(mse_reg_scores.keys())\n",
    "\n",
    "plt.tight_layout()\n",
    "plt.plot()\n",
    "plt.xlabel('Models')\n",
    "plt.ylabel('Negated MSE Scores')\n",
    "plt.savefig('model_cv_10prct/run4/scaler/South-Holland-10prct_MSE.png', dpi=600)\n",
    "plt.show()"
   ]
  },
  {
   "cell_type": "code",
   "execution_count": 79,
   "metadata": {},
   "outputs": [
    {
     "data": {
      "text/plain": [
       "{'LR': array([13.24154817, 14.4613772 , 13.98388785, 13.68813445, 13.52006206]),\n",
       " 'DT': array([21.42220868, 20.8262049 , 20.83568567, 21.24116965, 20.34748055]),\n",
       " 'KNN': array([14.5601186 , 14.36521639, 14.36859014, 14.56913769, 14.28177653]),\n",
       " 'RF': array([15.92797131, 15.72713059, 16.43741856, 15.72225935, 16.05465054]),\n",
       " 'AB': array([18.53334339, 16.12549444, 16.75611787, 31.67678361, 19.34351603]),\n",
       " 'B': array([16.54190577, 15.9611211 , 17.02010284, 16.59414376, 16.03670869]),\n",
       " 'GB': array([11.73582937, 12.63672826, 12.34669608, 12.29810921, 12.61940209])}"
      ]
     },
     "execution_count": 79,
     "metadata": {},
     "output_type": "execute_result"
    }
   ],
   "source": [
    "abs_mse_reg_scores = {}\n",
    "for k, v in mse_reg_scores.items():\n",
    "    abs_mse_reg_scores[k] = np.absolute(v)\n",
    "    \n",
    "abs_mse_reg_scores"
   ]
  },
  {
   "cell_type": "code",
   "execution_count": 80,
   "metadata": {},
   "outputs": [
    {
     "data": {
      "image/png": "[encoded data removed]",
      "text/plain": [
       "<Figure size 1152x648 with 1 Axes>"
      ]
     },
     "metadata": {
      "needs_background": "light"
     },
     "output_type": "display_data"
    }
   ],
   "source": [
    "fig = plt.figure(figsize=(16,9))\n",
    "fig.suptitle('Algorithm Comparison')\n",
    "ax = fig.add_subplot (111)\n",
    "\n",
    "\n",
    "plt.boxplot(abs_mse_reg_scores.values())\n",
    "ax.set_xticklabels(abs_mse_reg_scores.keys())\n",
    "\n",
    "plt.tight_layout()\n",
    "plt.plot()\n",
    "plt.xlabel('Models')\n",
    "plt.ylabel('Absolute MSE Scores')\n",
    "plt.savefig('model_cv_10prct/run4/scaler/South-Holland-10prct_ABS-MSE.png', dpi=600)"
   ]
  },
  {
   "cell_type": "code",
   "execution_count": null,
   "metadata": {},
   "outputs": [],
   "source": []
  },
  {
   "cell_type": "code",
   "execution_count": null,
   "metadata": {},
   "outputs": [],
   "source": []
  },
  {
   "cell_type": "code",
   "execution_count": 81,
   "metadata": {},
   "outputs": [
    {
     "data": {
      "text/plain": [
       "{'LR': array([-13.24154817, -14.4613772 , -13.98388785, -13.68813445,\n",
       "        -13.52006206]),\n",
       " 'DT': array([-21.42220868, -20.8262049 , -20.83568567, -21.24116965,\n",
       "        -20.34748055]),\n",
       " 'KNN': array([-14.5601186 , -14.36521639, -14.36859014, -14.56913769,\n",
       "        -14.28177653]),\n",
       " 'RF': array([-15.92797131, -15.72713059, -16.43741856, -15.72225935,\n",
       "        -16.05465054]),\n",
       " 'B': array([-16.54190577, -15.9611211 , -17.02010284, -16.59414376,\n",
       "        -16.03670869]),\n",
       " 'GB': array([-11.73582937, -12.63672826, -12.34669608, -12.29810921,\n",
       "        -12.61940209])}"
      ]
     },
     "execution_count": 81,
     "metadata": {},
     "output_type": "execute_result"
    }
   ],
   "source": [
    "if 'AB' in mse_reg_scores.keys():\n",
    "    del mse_reg_scores['AB'] \n",
    "mse_reg_scores"
   ]
  },
  {
   "cell_type": "code",
   "execution_count": 82,
   "metadata": {},
   "outputs": [
    {
     "data": {
      "image/png": "[encoded data removed]",
      "text/plain": [
       "<Figure size 1152x648 with 1 Axes>"
      ]
     },
     "metadata": {
      "needs_background": "light"
     },
     "output_type": "display_data"
    }
   ],
   "source": [
    "fig = plt.figure(figsize=(16,9))\n",
    "fig.suptitle('Algorithm Comparison')\n",
    "ax = fig.add_subplot(111)\n",
    "\n",
    "plt.boxplot(mse_reg_scores.values())\n",
    "ax.set_xticklabels(mse_reg_scores.keys())\n",
    "\n",
    "plt.tight_layout()\n",
    "plt.plot()\n",
    "plt.xlabel('Models')\n",
    "plt.ylabel('Negated MSE Scores')\n",
    "plt.savefig('model_cv_10prct/run4/scaler/South-Holland-10prct_MSE_Except-AB.png', dpi=600)\n",
    "plt.show()"
   ]
  },
  {
   "cell_type": "code",
   "execution_count": 83,
   "metadata": {},
   "outputs": [
    {
     "data": {
      "text/plain": [
       "{'LR': array([13.24154817, 14.4613772 , 13.98388785, 13.68813445, 13.52006206]),\n",
       " 'DT': array([21.42220868, 20.8262049 , 20.83568567, 21.24116965, 20.34748055]),\n",
       " 'KNN': array([14.5601186 , 14.36521639, 14.36859014, 14.56913769, 14.28177653]),\n",
       " 'RF': array([15.92797131, 15.72713059, 16.43741856, 15.72225935, 16.05465054]),\n",
       " 'B': array([16.54190577, 15.9611211 , 17.02010284, 16.59414376, 16.03670869]),\n",
       " 'GB': array([11.73582937, 12.63672826, 12.34669608, 12.29810921, 12.61940209])}"
      ]
     },
     "execution_count": 83,
     "metadata": {},
     "output_type": "execute_result"
    }
   ],
   "source": [
    "if 'AB' in abs_mse_reg_scores.keys():\n",
    "    del abs_mse_reg_scores['AB'] \n",
    "abs_mse_reg_scores"
   ]
  },
  {
   "cell_type": "code",
   "execution_count": 84,
   "metadata": {},
   "outputs": [
    {
     "data": {
      "image/png": "[encoded data removed]",
      "text/plain": [
       "<Figure size 1152x648 with 1 Axes>"
      ]
     },
     "metadata": {
      "needs_background": "light"
     },
     "output_type": "display_data"
    }
   ],
   "source": [
    "fig = plt.figure(figsize=(16,9))\n",
    "fig.suptitle('Algorithm Comparison')\n",
    "ax = fig.add_subplot(111)\n",
    "\n",
    "plt.boxplot(abs_mse_reg_scores.values())\n",
    "ax.set_xticklabels(abs_mse_reg_scores.keys())\n",
    "\n",
    "plt.tight_layout()\n",
    "plt.plot()\n",
    "plt.xlabel('Models')\n",
    "plt.ylabel('Absolute MSE Scores')\n",
    "plt.savefig('model_cv_10prct/run4/scaler/South-Holland-10prct_ABS-MSE_Except-AB.png', dpi=600)\n",
    "plt.show()"
   ]
  },
  {
   "cell_type": "code",
   "execution_count": null,
   "metadata": {},
   "outputs": [],
   "source": []
  },
  {
   "cell_type": "code",
   "execution_count": null,
   "metadata": {},
   "outputs": [],
   "source": []
  },
  {
   "cell_type": "code",
   "execution_count": null,
   "metadata": {},
   "outputs": [],
   "source": []
  },
  {
   "cell_type": "code",
   "execution_count": null,
   "metadata": {},
   "outputs": [],
   "source": []
  },
  {
   "cell_type": "code",
   "execution_count": 85,
   "metadata": {},
   "outputs": [],
   "source": [
    "r2_reg_scores = {}"
   ]
  },
  {
   "cell_type": "code",
   "execution_count": 86,
   "metadata": {},
   "outputs": [
    {
     "name": "stdout",
     "output_type": "stream",
     "text": [
      "LR: avg: 0.051706 (std: 0.004976, max: 0.057922, min: 0.045757) took 0.546407 seconds\n",
      "DT: avg: -0.505760 (std: 0.032066, max: -0.469396, min: -0.558742) took 0.573027 seconds\n",
      "KNN: avg: -0.018556 (std: 0.004832, max: -0.012114, min: -0.025104) took 0.576942 seconds\n",
      "RF: avg: -0.121517 (std: 0.015280, max: -0.107751, min: -0.150933) took 0.600440 seconds\n",
      "AB: avg: -0.365059 (std: 0.389099, max: -0.034328, min: -1.121434) took 1.065738 seconds\n",
      "B: avg: -0.165212 (std: 0.025052, max: -0.141334, min: -0.212787) took 0.561550 seconds\n",
      "GB: avg: 0.129466 (std: 0.005414, max: 0.137620, min: 0.123415) took 0.558836 seconds\n"
     ]
    }
   ],
   "source": [
    "for name, regressor in regressors:\n",
    "    cv = ShuffleSplit(n_splits=5, test_size=.2, random_state=cv_seed)\n",
    "    mdl_pipeline = Pipeline(steps=[('preprocessor', preprocessor), ('regressor', regressor)])\n",
    "    tic = time.process_time()\n",
    "    scores = cross_val_score(mdl_pipeline, X_train, y_train, cv=cv, scoring='r2', error_score='raise', n_jobs=-1)\n",
    "    toc = time.process_time()\n",
    "    elapsed_time = toc - tic\n",
    "    r2_reg_scores[name] = scores\n",
    "    msg = \"%s: avg: %f (std: %f, max: %f, min: %f) took %f seconds\" % (name, scores.mean(), scores.std(), scores.max(), scores.min(), elapsed_time)\n",
    "    print(msg)"
   ]
  },
  {
   "cell_type": "code",
   "execution_count": 87,
   "metadata": {},
   "outputs": [
    {
     "data": {
      "image/png": "[encoded data removed]",
      "text/plain": [
       "<Figure size 1152x648 with 1 Axes>"
      ]
     },
     "metadata": {
      "needs_background": "light"
     },
     "output_type": "display_data"
    }
   ],
   "source": [
    "fig = plt.figure(figsize=(16,9))\n",
    "fig.suptitle('Algorithm Comparison')\n",
    "ax = fig.add_subplot(111)\n",
    "\n",
    "plt.boxplot(r2_reg_scores.values())\n",
    "ax.set_xticklabels(r2_reg_scores.keys())\n",
    "\n",
    "\n",
    "plt.tight_layout()\n",
    "plt.plot()\n",
    "plt.xlabel('Models')\n",
    "plt.ylabel('R^2 Scores')\n",
    "plt.savefig('model_cv_10prct/run4/scaler/South-Holland-10prct_R2.png', dpi=600)\n",
    "plt.show()"
   ]
  },
  {
   "cell_type": "code",
   "execution_count": 88,
   "metadata": {},
   "outputs": [
    {
     "data": {
      "text/plain": [
       "{'LR': array([0.05792184, 0.05293112, 0.04575746, 0.05581609, 0.0461024 ]),\n",
       " 'DT': array([-0.4693955 , -0.47624451, -0.51756728, -0.55874202, -0.50685155]),\n",
       " 'KNN': array([-0.01901383, -0.01211403, -0.02510439, -0.01427601, -0.02227296]),\n",
       " 'RF': array([-0.11965855, -0.10775134, -0.11197873, -0.11726469, -0.15093346]),\n",
       " 'B': array([-0.21278714, -0.14967496, -0.15727186, -0.141334  , -0.16499106]),\n",
       " 'GB': array([0.12341484, 0.13761971, 0.13298484, 0.1294195 , 0.12388942])}"
      ]
     },
     "execution_count": 88,
     "metadata": {},
     "output_type": "execute_result"
    }
   ],
   "source": [
    "if 'AB' in r2_reg_scores.keys():\n",
    "    del r2_reg_scores['AB']\n",
    "r2_reg_scores"
   ]
  },
  {
   "cell_type": "code",
   "execution_count": 89,
   "metadata": {},
   "outputs": [
    {
     "data": {
      "image/png": "[encoded data removed]",
      "text/plain": [
       "<Figure size 1152x648 with 1 Axes>"
      ]
     },
     "metadata": {
      "needs_background": "light"
     },
     "output_type": "display_data"
    }
   ],
   "source": [
    "fig = plt.figure(figsize=(16,9))\n",
    "fig.suptitle('Algorithm Comparison')\n",
    "ax = fig.add_subplot(111)\n",
    "\n",
    "plt.boxplot(r2_reg_scores.values())\n",
    "ax.set_xticklabels(r2_reg_scores.keys())\n",
    "\n",
    "\n",
    "plt.tight_layout()\n",
    "plt.plot()\n",
    "plt.xlabel('Models')\n",
    "plt.ylabel('R^2 Scores')\n",
    "plt.savefig('model_cv_10prct/run4/scaler/South-Holland-10prct_R2_Except-AB.png', dpi=600)\n",
    "plt.show()"
   ]
  },
  {
   "cell_type": "code",
   "execution_count": null,
   "metadata": {},
   "outputs": [],
   "source": []
  },
  {
   "cell_type": "code",
   "execution_count": null,
   "metadata": {},
   "outputs": [],
   "source": []
  },
  {
   "cell_type": "code",
   "execution_count": null,
   "metadata": {},
   "outputs": [],
   "source": []
  },
  {
   "cell_type": "code",
   "execution_count": null,
   "metadata": {},
   "outputs": [],
   "source": []
  },
  {
   "cell_type": "code",
   "execution_count": null,
   "metadata": {},
   "outputs": [],
   "source": []
  },
  {
   "cell_type": "code",
   "execution_count": null,
   "metadata": {},
   "outputs": [],
   "source": []
  },
  {
   "cell_type": "code",
   "execution_count": null,
   "metadata": {},
   "outputs": [],
   "source": []
  },
  {
   "cell_type": "code",
   "execution_count": null,
   "metadata": {},
   "outputs": [],
   "source": []
  },
  {
   "cell_type": "code",
   "execution_count": null,
   "metadata": {},
   "outputs": [],
   "source": []
  },
  {
   "cell_type": "code",
   "execution_count": null,
   "metadata": {},
   "outputs": [],
   "source": []
  },
  {
   "cell_type": "code",
   "execution_count": null,
   "metadata": {},
   "outputs": [],
   "source": []
  }
 ],
 "metadata": {
  "environment": {
   "name": "common-cpu.m46",
   "type": "gcloud",
   "uri": "gcr.io/deeplearning-platform-release/base-cpu:m46"
  },
  "kernelspec": {
   "display_name": "Python 3",
   "language": "python",
   "name": "python3"
  },
  "language_info": {
   "codemirror_mode": {
    "name": "ipython",
    "version": 3
   },
   "file_extension": ".py",
   "mimetype": "text/x-python",
   "name": "python",
   "nbconvert_exporter": "python",
   "pygments_lexer": "ipython3",
   "version": "3.7.6"
  }
 },
 "nbformat": 4,
 "nbformat_minor": 4
}
