{
 "cells": [
  {
   "cell_type": "code",
   "execution_count": 1,
   "metadata": {},
   "outputs": [],
   "source": [
    "import pandas as pd\n",
    "import numpy as np\n",
    "import geopandas as gpd\n",
    "import csv\n",
    "import json\n",
    "import sklearn\n",
    "from google.cloud import bigquery as bq\n",
    "import seaborn as sns\n",
    "import matplotlib.pyplot as plt\n",
    "import time\n",
    "from IPython.core.interactiveshell import InteractiveShell\n",
    "InteractiveShell.ast_node_interactivity = \"all\"\n",
    "pd.set_option('display.max_columns', None)\n",
    "pd.set_option('display.max_rows', 100)\n",
    "pd.options.mode.chained_assignment = None\n",
    "%matplotlib inline"
   ]
  },
  {
   "cell_type": "code",
   "execution_count": 2,
   "metadata": {},
   "outputs": [],
   "source": [
    "from sklearn.compose import ColumnTransformer\n",
    "from sklearn.pipeline import Pipeline\n",
    "from sklearn.impute import SimpleImputer, KNNImputer\n",
    "from sklearn.preprocessing import StandardScaler, OneHotEncoder\n",
    "from sklearn.feature_selection import SelectKBest, f_regression, mutual_info_regression\n",
    "from sklearn.ensemble import RandomForestRegressor\n",
    "from sklearn.tree import DecisionTreeRegressor\n",
    "from sklearn.neighbors import KNeighborsRegressor\n",
    "from sklearn.linear_model import LinearRegression\n",
    "from sklearn.model_selection import train_test_split, ShuffleSplit, cross_val_score, GridSearchCV\n",
    "from sklearn.metrics import mean_squared_error"
   ]
  },
  {
   "cell_type": "code",
   "execution_count": null,
   "metadata": {},
   "outputs": [],
   "source": [
    "query=\"\"\"\n",
    "    SELECT\n",
    "      *\n",
    "    FROM\n",
    "      `ual3d-277909.nl.noord_holland_ml_df`\n",
    "\"\"\"\n",
    "\n",
    "full_df = bq.Client().query(query).to_dataframe()\n",
    "df = full_df\n",
    "df.head()"
   ]
  },
  {
   "cell_type": "code",
   "execution_count": 4,
   "metadata": {},
   "outputs": [],
   "source": [
    "df.set_index('osm_way_id', inplace=True)"
   ]
  },
  {
   "cell_type": "code",
   "execution_count": 5,
   "metadata": {},
   "outputs": [
    {
     "data": {
      "text/plain": [
       "(1314524, 14)"
      ]
     },
     "execution_count": 5,
     "metadata": {},
     "output_type": "execute_result"
    }
   ],
   "source": [
    "df.shape"
   ]
  },
  {
   "cell_type": "code",
   "execution_count": 6,
   "metadata": {},
   "outputs": [
    {
     "data": {
      "text/plain": [
       "bldg_height        float64\n",
       "area               float64\n",
       "perimeter          float64\n",
       "length             float64\n",
       "building_levels    float64\n",
       "city                object\n",
       "country             object\n",
       "postcode            object\n",
       "year               float64\n",
       "count_vertices       int64\n",
       "compactness        float64\n",
       "complexity         float64\n",
       "count_neighbor     float64\n",
       "state_name          object\n",
       "dtype: object"
      ]
     },
     "execution_count": 6,
     "metadata": {},
     "output_type": "execute_result"
    }
   ],
   "source": [
    "df.dtypes"
   ]
  },
  {
   "cell_type": "code",
   "execution_count": 7,
   "metadata": {},
   "outputs": [
    {
     "data": {
      "text/plain": [
       "bldg_height         float64\n",
       "area                float64\n",
       "perimeter           float64\n",
       "length              float64\n",
       "building_levels     float64\n",
       "city               category\n",
       "country            category\n",
       "postcode           category\n",
       "year                float64\n",
       "count_vertices        int64\n",
       "compactness         float64\n",
       "complexity          float64\n",
       "count_neighbor      float64\n",
       "state_name         category\n",
       "dtype: object"
      ]
     },
     "execution_count": 7,
     "metadata": {},
     "output_type": "execute_result"
    }
   ],
   "source": [
    "\n",
    "df[\"city\"] = df[\"city\"].astype(\"category\")\n",
    "df[\"state_name\"] = df[\"state_name\"].astype(\"category\")\n",
    "df[\"country\"] = df[\"country\"].astype(\"category\")\n",
    "df[\"postcode\"] = df[\"postcode\"].astype(\"category\")\n",
    "# df[\"year\"] = df[\"year\"].astype(float).astype(\"Int64\")\n",
    "# df[\"count_vertices\"] = df[\"count_vertices\"].astype(float).astype(\"Int64\")\n",
    "# df[\"count_neighbor\"] = df[\"count_neighbor\"].astype(float).astype(\"Int64\")\n",
    "# df[\"building_levels\"] = df[\"building_levels\"].astype(float).astype(\"Int64\")\n",
    "df.dtypes"
   ]
  },
  {
   "cell_type": "code",
   "execution_count": 8,
   "metadata": {},
   "outputs": [],
   "source": [
    "label_col = [\"bldg_height\"]\n",
    "num_cols = [\"area\", \"perimeter\", \"length\", \"building_levels\", \"year\", \"count_vertices\", \"compactness\", \"complexity\", \"count_neighbor\"]\n",
    "# cat_cols = [\"city\", \"postcode\"]\n",
    "cat_cols = [col for col in df.columns if col not in (num_cols + label_col)]\n"
   ]
  },
  {
   "cell_type": "code",
   "execution_count": null,
   "metadata": {},
   "outputs": [],
   "source": []
  },
  {
   "cell_type": "code",
   "execution_count": null,
   "metadata": {},
   "outputs": [],
   "source": []
  },
  {
   "cell_type": "code",
   "execution_count": 9,
   "metadata": {},
   "outputs": [
    {
     "name": "stdout",
     "output_type": "stream",
     "text": [
      "count unique city: 136\n",
      "unique city: [NaN, Amsterdam, Oterleek, Hilversum, Haarlem, ..., Egmond aan Zee, Oudkarspel, Middenmeer, Sint Pancras, Koedijk]\n",
      "Length: 136\n",
      "Categories (135, object): [Amsterdam, Oterleek, Hilversum, Haarlem, ..., Oudkarspel, Middenmeer, Sint Pancras, Koedijk]\n",
      "\n",
      "count unique postcode: 940\n",
      "unique postcode: [NaN, 1077WX, 1842EL, 1071CZ, 1211HD, ..., 1012NH, 1012LE, 1017HN, 1015CJ, 1017SP]\n",
      "Length: 940\n",
      "Categories (939, object): [1077WX, 1842EL, 1071CZ, 1211HD, ..., 1012LE, 1017HN, 1015CJ, 1017SP]\n",
      "\n",
      "count unique year: 507\n",
      "unique year: [1912. 1885. 1915. 1895. 1908. 1906. 1878. 1905. 1909. 1936. 1948. 1902.\n",
      " 1893. 1865. 1921. 1903. 1907. 2012. 2013. 1904. 1940. 1916. 1880. 1896.\n",
      " 1947. 1888. 1911. 1919. 1901. 1884. 1943. 1890. 1680. 1760. 1913. 1887.\n",
      " 1883. 1894. 1914. 1850. 1876. 1795. 1899. 1616. 1897. 2019. 1949. 1918.\n",
      " 1917. 1800. 1879. 1740. 1790. 1882. 1610. 1891. 1889. 1942. 1886. 1650.\n",
      " 1946. 1600. 1860. 1826. 1863. 1941. 1881. 1898. 1874. 1725. 1875. 1788.\n",
      " 1840. 1945. 1580. 1683. 1846. 1655. 1841. 1670. 1750. 1870. 1700. 1606.\n",
      " 1592. 1871. 1839. 1872. 1648. 1837. 1776. 1350. 1827. 1780. 1785. 1830.\n",
      " 1707. 1856. 1726. 1717. 1851. 1877. 1825. 1629. 1705. 1853. 1605. 1710.\n",
      " 1742. 1867. 1455. 1575. 1625. 1845. 1630. 1892. 1620. 1765. 1799. 1721.\n",
      " 1873. 1761. 1782. 1810. 1944. 1595. 1637. 1638. 1869. 1684. 1690. 1686.\n",
      " 1688. 1642. 1628. 1743. 1820. 1730. 1651. 1652. 1796. 1735. 1804. 1667.\n",
      " 1852. 1832. 1695. 1751. 1770. 1783. 1798. 1755. 1400. 1818. 1786. 1555.\n",
      " 1664. 1644. 1836. 1696. 1864. 1774. 1685. 1847. 1834. 1701. 1554. 1829.\n",
      " 1540. 1842. 1744. 1604. 1805. 1868. 1615. 1817. 1663. 1640. 1712. 1563.\n",
      " 1682. 1723. 1622. 1665. 1716. 1514. 1656. 1752. 1797. 1660. 1675. 1597.\n",
      " 1715. 1861. 1654. 1859. 1396. 1824. 1624. 1704. 1862. 1720. 1613. 1734.\n",
      " 1634. 1848. 1489. 1702. 1687. 1858. 1806. 1672. 1612. 1866. 1584. 1812.\n",
      " 1631. 1794. 1781. 1669. 1793. 1440. 1681. 1647. 1801. 1649. 1775. 1693.\n",
      " 1609.   nan 1602. 1822. 1843. 1659. 1855. 1623. 1835. 1450. 1608. 1766.\n",
      " 1803. 1559. 1823. 1854. 1636. 1635. 1150. 1807. 1587. 1639. 1745. 1500.\n",
      " 1732. 1691. 1757. 1719. 1601. 1550. 1857. 1668. 1724. 1821. 1838. 1632.\n",
      " 1641. 1828. 1676. 1619. 1849. 1627. 1590. 1678. 1779. 1560. 1536. 1778.\n",
      " 1746. 1737. 1697. 1773. 1777. 1728. 1643. 1769. 1844. 1525. 1658. 1772.\n",
      " 1633. 1813. 1662. 1617. 1586. 1815. 1467. 1549. 1316. 1566. 1598. 1692.\n",
      " 1709. 1767. 1784. 1547. 1558. 1749. 1748. 1811. 1261. 1738. 1578. 1831.\n",
      " 1768. 1699. 1621. 1570. 1711. 1762. 1833. 1771. 1679. 1646. 1626. 2020.\n",
      " 1516. 1611. 1565. 1754. 1698. 1517. 1706. 1519. 1430. 1671. 1607. 1618.\n",
      " 1764. 1462. 1657. 1614. 1288. 1703. 1593. 1741. 1747. 1603. 1819. 1731.\n",
      " 1515. 1722. 1809. 1086. 1645. 1591. 1789. 1713. 1677. 1802. 1569. 1808.\n",
      " 1733. 1215. 1763. 1390. 1736. 1739. 1661. 1689. 1756. 1480. 1673. 1589.\n",
      " 1792. 1791. 1524. 1814. 1718. 1571. 1753. 1674. 1759. 1511. 1573. 1420.\n",
      " 1535. 1694. 1787. 1300. 1596. 1599. 1572. 1532. 1250. 1192. 1187. 1441.\n",
      " 1475. 1355. 1470. 1727. 1380. 1816. 1567. 1666. 1576. 1530. 1729. 1294.\n",
      " 1100. 1714. 1143. 1431. 1330. 1481. 1527. 1581. 1485. 1537. 1508. 1900.\n",
      " 1910. 1920. 1922. 1923. 1924. 1925. 1926. 1927. 1928. 1929. 1930. 1931.\n",
      " 1932. 1933. 1934. 1935. 1937. 1938. 1939. 1950. 1951. 1952. 1953. 1954.\n",
      " 1955. 1956. 1957. 1958. 1959. 1960. 1961. 1962. 1963. 1964. 1965. 1966.\n",
      " 1967. 1968. 1969. 1970. 1971. 1972. 1973. 1974. 1975. 1976. 1977. 1978.\n",
      " 1979. 1980. 1981. 1982. 1983. 1984. 1985. 1986. 1987. 1988. 1989. 1990.\n",
      " 1991. 1992. 1993. 1994. 1995. 1996. 1997. 1998. 1999. 2000. 2001. 2002.\n",
      " 2003. 2004. 2005. 2006. 2007. 2008. 2009. 2010. 2011. 2014. 2015. 2016.\n",
      " 2017. 2018. 1005.]\n"
     ]
    }
   ],
   "source": [
    "print('count unique city:', len(pd.unique(df['city'])))\n",
    "print('unique city:', pd.unique(df['city']))\n",
    "\n",
    "print('\\ncount unique postcode:', len(pd.unique(df['postcode'])))\n",
    "print('unique postcode:', pd.unique(df['postcode']))\n",
    "\n",
    "print('\\ncount unique year:', len(pd.unique(df['year'])))\n",
    "print('unique year:', pd.unique(df['year']))"
   ]
  },
  {
   "cell_type": "code",
   "execution_count": null,
   "metadata": {},
   "outputs": [],
   "source": []
  },
  {
   "cell_type": "code",
   "execution_count": 10,
   "metadata": {},
   "outputs": [
    {
     "data": {
      "text/plain": [
       "bldg_height              0\n",
       "area                     0\n",
       "perimeter                0\n",
       "length                   0\n",
       "building_levels    1303332\n",
       "city               1313298\n",
       "country                  0\n",
       "postcode           1313405\n",
       "year                    43\n",
       "count_vertices           0\n",
       "compactness              0\n",
       "complexity               0\n",
       "count_neighbor         241\n",
       "state_name               0\n",
       "dtype: int64"
      ]
     },
     "execution_count": 10,
     "metadata": {},
     "output_type": "execute_result"
    }
   ],
   "source": [
    "df.isna().sum()"
   ]
  },
  {
   "cell_type": "code",
   "execution_count": 11,
   "metadata": {},
   "outputs": [],
   "source": [
    "\n",
    "num_df = df[num_cols]"
   ]
  },
  {
   "cell_type": "code",
   "execution_count": 12,
   "metadata": {},
   "outputs": [
    {
     "data": {
      "text/html": [
       "<div>\n",
       "<style scoped>\n",
       "    .dataframe tbody tr th:only-of-type {\n",
       "        vertical-align: middle;\n",
       "    }\n",
       "\n",
       "    .dataframe tbody tr th {\n",
       "        vertical-align: top;\n",
       "    }\n",
       "\n",
       "    .dataframe thead th {\n",
       "        text-align: right;\n",
       "    }\n",
       "</style>\n",
       "<table border=\"1\" class=\"dataframe\">\n",
       "  <thead>\n",
       "    <tr style=\"text-align: right;\">\n",
       "      <th></th>\n",
       "      <th>area</th>\n",
       "      <th>perimeter</th>\n",
       "      <th>length</th>\n",
       "      <th>building_levels</th>\n",
       "      <th>year</th>\n",
       "      <th>count_vertices</th>\n",
       "      <th>compactness</th>\n",
       "      <th>complexity</th>\n",
       "      <th>count_neighbor</th>\n",
       "    </tr>\n",
       "  </thead>\n",
       "  <tbody>\n",
       "    <tr>\n",
       "      <th>count</th>\n",
       "      <td>1.314524e+06</td>\n",
       "      <td>1.314524e+06</td>\n",
       "      <td>1.314524e+06</td>\n",
       "      <td>11192.000000</td>\n",
       "      <td>1.314481e+06</td>\n",
       "      <td>1.314524e+06</td>\n",
       "      <td>1.314524e+06</td>\n",
       "      <td>1.314524e+06</td>\n",
       "      <td>1.314283e+06</td>\n",
       "    </tr>\n",
       "    <tr>\n",
       "      <th>mean</th>\n",
       "      <td>1.099922e+02</td>\n",
       "      <td>3.484578e+01</td>\n",
       "      <td>1.259981e+01</td>\n",
       "      <td>2.153860</td>\n",
       "      <td>1.960014e+03</td>\n",
       "      <td>7.729859e+00</td>\n",
       "      <td>8.151709e-01</td>\n",
       "      <td>1.171995e+01</td>\n",
       "      <td>6.199751e+02</td>\n",
       "    </tr>\n",
       "    <tr>\n",
       "      <th>std</th>\n",
       "      <td>1.314488e+03</td>\n",
       "      <td>3.848158e+01</td>\n",
       "      <td>1.288578e+01</td>\n",
       "      <td>2.312644</td>\n",
       "      <td>8.977283e+01</td>\n",
       "      <td>6.085084e+00</td>\n",
       "      <td>7.327022e-02</td>\n",
       "      <td>4.941625e+00</td>\n",
       "      <td>3.447907e+02</td>\n",
       "    </tr>\n",
       "    <tr>\n",
       "      <th>min</th>\n",
       "      <td>3.782924e-05</td>\n",
       "      <td>3.741370e-02</td>\n",
       "      <td>1.757349e-02</td>\n",
       "      <td>0.000000</td>\n",
       "      <td>1.005000e+03</td>\n",
       "      <td>4.000000e+00</td>\n",
       "      <td>1.671508e-01</td>\n",
       "      <td>4.770608e-01</td>\n",
       "      <td>1.000000e+00</td>\n",
       "    </tr>\n",
       "    <tr>\n",
       "      <th>25%</th>\n",
       "      <td>1.564080e+01</td>\n",
       "      <td>1.681779e+01</td>\n",
       "      <td>6.253996e+00</td>\n",
       "      <td>1.000000</td>\n",
       "      <td>1.950000e+03</td>\n",
       "      <td>5.000000e+00</td>\n",
       "      <td>7.797024e-01</td>\n",
       "      <td>8.436867e+00</td>\n",
       "      <td>3.880000e+02</td>\n",
       "    </tr>\n",
       "    <tr>\n",
       "      <th>50%</th>\n",
       "      <td>5.128589e+01</td>\n",
       "      <td>3.038401e+01</td>\n",
       "      <td>1.109053e+01</td>\n",
       "      <td>1.000000</td>\n",
       "      <td>1.973000e+03</td>\n",
       "      <td>6.000000e+00</td>\n",
       "      <td>8.393897e-01</td>\n",
       "      <td>1.130409e+01</td>\n",
       "      <td>6.090000e+02</td>\n",
       "    </tr>\n",
       "    <tr>\n",
       "      <th>75%</th>\n",
       "      <td>7.499043e+01</td>\n",
       "      <td>4.004762e+01</td>\n",
       "      <td>1.471765e+01</td>\n",
       "      <td>2.000000</td>\n",
       "      <td>1.991000e+03</td>\n",
       "      <td>9.000000e+00</td>\n",
       "      <td>8.703869e-01</td>\n",
       "      <td>1.364787e+01</td>\n",
       "      <td>8.290000e+02</td>\n",
       "    </tr>\n",
       "    <tr>\n",
       "      <th>max</th>\n",
       "      <td>6.085322e+05</td>\n",
       "      <td>6.460936e+03</td>\n",
       "      <td>1.179823e+03</td>\n",
       "      <td>35.000000</td>\n",
       "      <td>2.020000e+03</td>\n",
       "      <td>1.159000e+03</td>\n",
       "      <td>9.998903e-01</td>\n",
       "      <td>2.330320e+02</td>\n",
       "      <td>2.086000e+03</td>\n",
       "    </tr>\n",
       "  </tbody>\n",
       "</table>\n",
       "</div>"
      ],
      "text/plain": [
       "               area     perimeter        length  building_levels  \\\n",
       "count  1.314524e+06  1.314524e+06  1.314524e+06     11192.000000   \n",
       "mean   1.099922e+02  3.484578e+01  1.259981e+01         2.153860   \n",
       "std    1.314488e+03  3.848158e+01  1.288578e+01         2.312644   \n",
       "min    3.782924e-05  3.741370e-02  1.757349e-02         0.000000   \n",
       "25%    1.564080e+01  1.681779e+01  6.253996e+00         1.000000   \n",
       "50%    5.128589e+01  3.038401e+01  1.109053e+01         1.000000   \n",
       "75%    7.499043e+01  4.004762e+01  1.471765e+01         2.000000   \n",
       "max    6.085322e+05  6.460936e+03  1.179823e+03        35.000000   \n",
       "\n",
       "               year  count_vertices   compactness    complexity  \\\n",
       "count  1.314481e+06    1.314524e+06  1.314524e+06  1.314524e+06   \n",
       "mean   1.960014e+03    7.729859e+00  8.151709e-01  1.171995e+01   \n",
       "std    8.977283e+01    6.085084e+00  7.327022e-02  4.941625e+00   \n",
       "min    1.005000e+03    4.000000e+00  1.671508e-01  4.770608e-01   \n",
       "25%    1.950000e+03    5.000000e+00  7.797024e-01  8.436867e+00   \n",
       "50%    1.973000e+03    6.000000e+00  8.393897e-01  1.130409e+01   \n",
       "75%    1.991000e+03    9.000000e+00  8.703869e-01  1.364787e+01   \n",
       "max    2.020000e+03    1.159000e+03  9.998903e-01  2.330320e+02   \n",
       "\n",
       "       count_neighbor  \n",
       "count    1.314283e+06  \n",
       "mean     6.199751e+02  \n",
       "std      3.447907e+02  \n",
       "min      1.000000e+00  \n",
       "25%      3.880000e+02  \n",
       "50%      6.090000e+02  \n",
       "75%      8.290000e+02  \n",
       "max      2.086000e+03  "
      ]
     },
     "execution_count": 12,
     "metadata": {},
     "output_type": "execute_result"
    }
   ],
   "source": [
    "num_df.describe()"
   ]
  },
  {
   "cell_type": "code",
   "execution_count": 13,
   "metadata": {},
   "outputs": [
    {
     "data": {
      "text/plain": [
       "[]"
      ]
     },
     "execution_count": 13,
     "metadata": {},
     "output_type": "execute_result"
    },
    {
     "data": {
      "image/png": "[encoded data removed]",
      "text/plain": [
       "<Figure size 1080x360 with 9 Axes>"
      ]
     },
     "metadata": {
      "needs_background": "light"
     },
     "output_type": "display_data"
    }
   ],
   "source": [
    "num_df.plot(kind='box', subplots=True, figsize=(15,5))\n",
    "plt.plot()"
   ]
  },
  {
   "cell_type": "code",
   "execution_count": 14,
   "metadata": {},
   "outputs": [],
   "source": [
    "num_df['count_neighbor'].fillna(0, inplace=True)"
   ]
  },
  {
   "cell_type": "code",
   "execution_count": 15,
   "metadata": {},
   "outputs": [
    {
     "data": {
      "text/html": [
       "<div>\n",
       "<style scoped>\n",
       "    .dataframe tbody tr th:only-of-type {\n",
       "        vertical-align: middle;\n",
       "    }\n",
       "\n",
       "    .dataframe tbody tr th {\n",
       "        vertical-align: top;\n",
       "    }\n",
       "\n",
       "    .dataframe thead th {\n",
       "        text-align: right;\n",
       "    }\n",
       "</style>\n",
       "<table border=\"1\" class=\"dataframe\">\n",
       "  <thead>\n",
       "    <tr style=\"text-align: right;\">\n",
       "      <th></th>\n",
       "      <th>area</th>\n",
       "      <th>perimeter</th>\n",
       "      <th>length</th>\n",
       "      <th>building_levels</th>\n",
       "      <th>year</th>\n",
       "      <th>count_vertices</th>\n",
       "      <th>compactness</th>\n",
       "      <th>complexity</th>\n",
       "      <th>count_neighbor</th>\n",
       "    </tr>\n",
       "  </thead>\n",
       "  <tbody>\n",
       "    <tr>\n",
       "      <th>count</th>\n",
       "      <td>1.314524e+06</td>\n",
       "      <td>1.314524e+06</td>\n",
       "      <td>1.314524e+06</td>\n",
       "      <td>11192.000000</td>\n",
       "      <td>1.314481e+06</td>\n",
       "      <td>1.314524e+06</td>\n",
       "      <td>1.314524e+06</td>\n",
       "      <td>1.314524e+06</td>\n",
       "      <td>1.314524e+06</td>\n",
       "    </tr>\n",
       "    <tr>\n",
       "      <th>mean</th>\n",
       "      <td>1.099922e+02</td>\n",
       "      <td>3.484578e+01</td>\n",
       "      <td>1.259981e+01</td>\n",
       "      <td>2.153860</td>\n",
       "      <td>1.960014e+03</td>\n",
       "      <td>7.729859e+00</td>\n",
       "      <td>8.151709e-01</td>\n",
       "      <td>1.171995e+01</td>\n",
       "      <td>6.198614e+02</td>\n",
       "    </tr>\n",
       "    <tr>\n",
       "      <th>std</th>\n",
       "      <td>1.314488e+03</td>\n",
       "      <td>3.848158e+01</td>\n",
       "      <td>1.288578e+01</td>\n",
       "      <td>2.312644</td>\n",
       "      <td>8.977283e+01</td>\n",
       "      <td>6.085084e+00</td>\n",
       "      <td>7.327022e-02</td>\n",
       "      <td>4.941625e+00</td>\n",
       "      <td>3.448612e+02</td>\n",
       "    </tr>\n",
       "    <tr>\n",
       "      <th>min</th>\n",
       "      <td>3.782924e-05</td>\n",
       "      <td>3.741370e-02</td>\n",
       "      <td>1.757349e-02</td>\n",
       "      <td>0.000000</td>\n",
       "      <td>1.005000e+03</td>\n",
       "      <td>4.000000e+00</td>\n",
       "      <td>1.671508e-01</td>\n",
       "      <td>4.770608e-01</td>\n",
       "      <td>0.000000e+00</td>\n",
       "    </tr>\n",
       "    <tr>\n",
       "      <th>25%</th>\n",
       "      <td>1.564080e+01</td>\n",
       "      <td>1.681779e+01</td>\n",
       "      <td>6.253996e+00</td>\n",
       "      <td>1.000000</td>\n",
       "      <td>1.950000e+03</td>\n",
       "      <td>5.000000e+00</td>\n",
       "      <td>7.797024e-01</td>\n",
       "      <td>8.436867e+00</td>\n",
       "      <td>3.880000e+02</td>\n",
       "    </tr>\n",
       "    <tr>\n",
       "      <th>50%</th>\n",
       "      <td>5.128589e+01</td>\n",
       "      <td>3.038401e+01</td>\n",
       "      <td>1.109053e+01</td>\n",
       "      <td>1.000000</td>\n",
       "      <td>1.973000e+03</td>\n",
       "      <td>6.000000e+00</td>\n",
       "      <td>8.393897e-01</td>\n",
       "      <td>1.130409e+01</td>\n",
       "      <td>6.090000e+02</td>\n",
       "    </tr>\n",
       "    <tr>\n",
       "      <th>75%</th>\n",
       "      <td>7.499043e+01</td>\n",
       "      <td>4.004762e+01</td>\n",
       "      <td>1.471765e+01</td>\n",
       "      <td>2.000000</td>\n",
       "      <td>1.991000e+03</td>\n",
       "      <td>9.000000e+00</td>\n",
       "      <td>8.703869e-01</td>\n",
       "      <td>1.364787e+01</td>\n",
       "      <td>8.290000e+02</td>\n",
       "    </tr>\n",
       "    <tr>\n",
       "      <th>max</th>\n",
       "      <td>6.085322e+05</td>\n",
       "      <td>6.460936e+03</td>\n",
       "      <td>1.179823e+03</td>\n",
       "      <td>35.000000</td>\n",
       "      <td>2.020000e+03</td>\n",
       "      <td>1.159000e+03</td>\n",
       "      <td>9.998903e-01</td>\n",
       "      <td>2.330320e+02</td>\n",
       "      <td>2.086000e+03</td>\n",
       "    </tr>\n",
       "  </tbody>\n",
       "</table>\n",
       "</div>"
      ],
      "text/plain": [
       "               area     perimeter        length  building_levels  \\\n",
       "count  1.314524e+06  1.314524e+06  1.314524e+06     11192.000000   \n",
       "mean   1.099922e+02  3.484578e+01  1.259981e+01         2.153860   \n",
       "std    1.314488e+03  3.848158e+01  1.288578e+01         2.312644   \n",
       "min    3.782924e-05  3.741370e-02  1.757349e-02         0.000000   \n",
       "25%    1.564080e+01  1.681779e+01  6.253996e+00         1.000000   \n",
       "50%    5.128589e+01  3.038401e+01  1.109053e+01         1.000000   \n",
       "75%    7.499043e+01  4.004762e+01  1.471765e+01         2.000000   \n",
       "max    6.085322e+05  6.460936e+03  1.179823e+03        35.000000   \n",
       "\n",
       "               year  count_vertices   compactness    complexity  \\\n",
       "count  1.314481e+06    1.314524e+06  1.314524e+06  1.314524e+06   \n",
       "mean   1.960014e+03    7.729859e+00  8.151709e-01  1.171995e+01   \n",
       "std    8.977283e+01    6.085084e+00  7.327022e-02  4.941625e+00   \n",
       "min    1.005000e+03    4.000000e+00  1.671508e-01  4.770608e-01   \n",
       "25%    1.950000e+03    5.000000e+00  7.797024e-01  8.436867e+00   \n",
       "50%    1.973000e+03    6.000000e+00  8.393897e-01  1.130409e+01   \n",
       "75%    1.991000e+03    9.000000e+00  8.703869e-01  1.364787e+01   \n",
       "max    2.020000e+03    1.159000e+03  9.998903e-01  2.330320e+02   \n",
       "\n",
       "       count_neighbor  \n",
       "count    1.314524e+06  \n",
       "mean     6.198614e+02  \n",
       "std      3.448612e+02  \n",
       "min      0.000000e+00  \n",
       "25%      3.880000e+02  \n",
       "50%      6.090000e+02  \n",
       "75%      8.290000e+02  \n",
       "max      2.086000e+03  "
      ]
     },
     "execution_count": 15,
     "metadata": {},
     "output_type": "execute_result"
    }
   ],
   "source": [
    "num_df.describe()"
   ]
  },
  {
   "cell_type": "code",
   "execution_count": 16,
   "metadata": {},
   "outputs": [
    {
     "data": {
      "text/plain": [
       "[]"
      ]
     },
     "execution_count": 16,
     "metadata": {},
     "output_type": "execute_result"
    },
    {
     "data": {
      "image/png": "[encoded data removed]",
      "text/plain": [
       "<Figure size 1080x360 with 9 Axes>"
      ]
     },
     "metadata": {
      "needs_background": "light"
     },
     "output_type": "display_data"
    }
   ],
   "source": [
    "num_df.plot(kind='box', subplots=True, figsize=(15,5))\n",
    "plt.plot()"
   ]
  },
  {
   "cell_type": "markdown",
   "metadata": {},
   "source": [
    "We assume that count_neighbor is 0 when null. "
   ]
  },
  {
   "cell_type": "code",
   "execution_count": 17,
   "metadata": {},
   "outputs": [
    {
     "data": {
      "text/plain": [
       "bldg_height              0\n",
       "area                     0\n",
       "perimeter                0\n",
       "length                   0\n",
       "building_levels    1303332\n",
       "city               1313298\n",
       "country                  0\n",
       "postcode           1313405\n",
       "year                    43\n",
       "count_vertices           0\n",
       "compactness              0\n",
       "complexity               0\n",
       "count_neighbor           0\n",
       "state_name               0\n",
       "dtype: int64"
      ]
     },
     "execution_count": 17,
     "metadata": {},
     "output_type": "execute_result"
    }
   ],
   "source": [
    "df['count_neighbor'].fillna(0, inplace=True)\n",
    "df.isna().sum()"
   ]
  },
  {
   "cell_type": "code",
   "execution_count": 18,
   "metadata": {},
   "outputs": [
    {
     "data": {
      "text/plain": [
       "Index(['bldg_height', 'area', 'perimeter', 'length', 'building_levels', 'city',\n",
       "       'country', 'postcode', 'year', 'count_vertices', 'compactness',\n",
       "       'complexity', 'count_neighbor', 'state_name'],\n",
       "      dtype='object')"
      ]
     },
     "execution_count": 18,
     "metadata": {},
     "output_type": "execute_result"
    }
   ],
   "source": [
    "df.columns"
   ]
  },
  {
   "cell_type": "code",
   "execution_count": 19,
   "metadata": {},
   "outputs": [
    {
     "name": "stdout",
     "output_type": "stream",
     "text": [
      "Index(['bldg_height', 'area', 'perimeter', 'length', 'building_levels', 'city',\n",
      "       'postcode', 'year', 'count_vertices', 'compactness', 'complexity',\n",
      "       'count_neighbor'],\n",
      "      dtype='object')\n"
     ]
    }
   ],
   "source": [
    "# drop country and state_name as they are irrelevant \n",
    "df = df.drop(['country', 'state_name'], axis=1)\n",
    "print(df.columns)"
   ]
  },
  {
   "cell_type": "code",
   "execution_count": 20,
   "metadata": {},
   "outputs": [
    {
     "name": "stdout",
     "output_type": "stream",
     "text": [
      "Index(['bldg_height', 'area', 'building_levels', 'city', 'postcode', 'year',\n",
      "       'count_vertices', 'compactness', 'complexity', 'count_neighbor'],\n",
      "      dtype='object')\n"
     ]
    }
   ],
   "source": [
    "# drop length and perimeter as they are highly correlated \n",
    "df = df.drop(['length', 'perimeter'], axis=1)\n",
    "print(df.columns)"
   ]
  },
  {
   "cell_type": "code",
   "execution_count": 21,
   "metadata": {},
   "outputs": [
    {
     "name": "stdout",
     "output_type": "stream",
     "text": [
      "['area', 'building_levels', 'year', 'count_vertices', 'compactness', 'complexity', 'count_neighbor']\n"
     ]
    }
   ],
   "source": [
    "num_cols = ['area', 'building_levels', 'year', 'count_vertices', 'compactness', 'complexity', 'count_neighbor']\n",
    "print(num_cols)"
   ]
  },
  {
   "cell_type": "code",
   "execution_count": 22,
   "metadata": {},
   "outputs": [
    {
     "name": "stdout",
     "output_type": "stream",
     "text": [
      "['city', 'postcode']\n"
     ]
    }
   ],
   "source": [
    "cat_cols = [col for col in df.columns if col not in (num_cols + label_col)]\n",
    "print(cat_cols)\n"
   ]
  },
  {
   "cell_type": "code",
   "execution_count": null,
   "metadata": {},
   "outputs": [],
   "source": []
  },
  {
   "cell_type": "code",
   "execution_count": null,
   "metadata": {},
   "outputs": [],
   "source": []
  },
  {
   "cell_type": "code",
   "execution_count": null,
   "metadata": {},
   "outputs": [],
   "source": []
  },
  {
   "cell_type": "code",
   "execution_count": null,
   "metadata": {},
   "outputs": [],
   "source": [
    "X = df.drop('bldg_height', axis=1)\n",
    "y = df['bldg_height']\n",
    "\n",
    "X_train, X_test, y_train, y_test = train_test_split(X, y, test_size=0.999999, random_state=69)"
   ]
  },
  {
   "cell_type": "code",
   "execution_count": null,
   "metadata": {},
   "outputs": [],
   "source": [
    "X, y"
   ]
  },
  {
   "cell_type": "code",
   "execution_count": null,
   "metadata": {},
   "outputs": [],
   "source": []
  },
  {
   "cell_type": "code",
   "execution_count": null,
   "metadata": {},
   "outputs": [],
   "source": []
  },
  {
   "cell_type": "code",
   "execution_count": 87,
   "metadata": {},
   "outputs": [],
   "source": [
    "num_transformer_1 = Pipeline(steps=[\n",
    "    ('imputer', SimpleImputer(strategy='median', add_indicator=True)),\n",
    "    ('scaler', StandardScaler()),\n",
    "    ('kbest', SelectKBest(f_regression, k='all'))])\n"
   ]
  },
  {
   "cell_type": "code",
   "execution_count": 88,
   "metadata": {},
   "outputs": [],
   "source": [
    "cat_transformer_1 = Pipeline(steps=[\n",
    "    ('imputer', SimpleImputer(strategy='constant', add_indicator=True, fill_value=\"NA\")),\n",
    "    ('onehot', OneHotEncoder(handle_unknown='ignore')),\n",
    "    ('kbest', SelectKBest(f_regression, k='all'))])"
   ]
  },
  {
   "cell_type": "code",
   "execution_count": null,
   "metadata": {},
   "outputs": [],
   "source": []
  },
  {
   "cell_type": "code",
   "execution_count": 89,
   "metadata": {},
   "outputs": [],
   "source": [
    "preprocessor_1 = ColumnTransformer(transformers=[\n",
    "        ('num_transformer', num_transformer_1, num_cols),\n",
    "        ('cat_transformer', cat_transformer_1, cat_cols)])"
   ]
  },
  {
   "cell_type": "code",
   "execution_count": null,
   "metadata": {},
   "outputs": [],
   "source": []
  },
  {
   "cell_type": "code",
   "execution_count": null,
   "metadata": {},
   "outputs": [],
   "source": []
  },
  {
   "cell_type": "code",
   "execution_count": 66,
   "metadata": {},
   "outputs": [],
   "source": [
    "rf_reg_1 = RandomForestRegressor(criterion='mae', max_depth=50, max_features='sqrt', n_estimators=1000, n_jobs=-1)"
   ]
  },
  {
   "cell_type": "code",
   "execution_count": 90,
   "metadata": {},
   "outputs": [],
   "source": [
    "rf_reg_3 = RandomForestRegressor(criterion='mse', max_depth=50, max_features='sqrt', n_estimators=1000, n_jobs=-1)"
   ]
  },
  {
   "cell_type": "code",
   "execution_count": 91,
   "metadata": {},
   "outputs": [],
   "source": [
    "\n",
    "gs_pipeline = Pipeline(steps=[('preprocessor', preprocessor_1), ('regressor', rf_reg_3)])"
   ]
  },
  {
   "cell_type": "code",
   "execution_count": null,
   "metadata": {},
   "outputs": [],
   "source": [
    "gs_pipeline.fit(X, y)"
   ]
  },
  {
   "cell_type": "code",
   "execution_count": 84,
   "metadata": {},
   "outputs": [
    {
     "data": {
      "text/plain": [
       "-0.10376602274541757"
      ]
     },
     "execution_count": 84,
     "metadata": {},
     "output_type": "execute_result"
    }
   ],
   "source": [
    "gs_pipeline.score(X, y)"
   ]
  },
  {
   "cell_type": "code",
   "execution_count": 85,
   "metadata": {},
   "outputs": [
    {
     "data": {
      "text/plain": [
       "array([7.66, 7.66, 7.66, ..., 7.66, 7.66, 7.66])"
      ]
     },
     "execution_count": 85,
     "metadata": {},
     "output_type": "execute_result"
    }
   ],
   "source": [
    "y_pred = gs_pipeline.predict(X_test)\n",
    "y_pred"
   ]
  },
  {
   "cell_type": "code",
   "execution_count": null,
   "metadata": {},
   "outputs": [],
   "source": []
  },
  {
   "cell_type": "code",
   "execution_count": null,
   "metadata": {},
   "outputs": [],
   "source": []
  },
  {
   "cell_type": "code",
   "execution_count": 70,
   "metadata": {},
   "outputs": [],
   "source": [
    "num_transformer_2 = Pipeline(steps=[\n",
    "    ('imputer', SimpleImputer(strategy='mean', add_indicator=True)),\n",
    "    ('scaler', StandardScaler()),\n",
    "    ('kbest', SelectKBest(f_regression, k='all'))])\n"
   ]
  },
  {
   "cell_type": "code",
   "execution_count": 71,
   "metadata": {},
   "outputs": [],
   "source": [
    "cat_transformer_2 = Pipeline(steps=[\n",
    "    ('imputer', SimpleImputer(strategy='constant', add_indicator=True, fill_value=\"NA\")),\n",
    "    ('onehot', OneHotEncoder(handle_unknown='ignore')),\n",
    "    ('kbest', SelectKBest(f_regression, k='all'))])"
   ]
  },
  {
   "cell_type": "code",
   "execution_count": null,
   "metadata": {},
   "outputs": [],
   "source": []
  },
  {
   "cell_type": "code",
   "execution_count": 72,
   "metadata": {},
   "outputs": [],
   "source": [
    "preprocessor_2 = ColumnTransformer(transformers=[\n",
    "        ('num_transformer', num_transformer_2, num_cols),\n",
    "        ('cat_transformer', cat_transformer_2, cat_cols)])"
   ]
  },
  {
   "cell_type": "code",
   "execution_count": null,
   "metadata": {},
   "outputs": [],
   "source": []
  },
  {
   "cell_type": "code",
   "execution_count": 73,
   "metadata": {},
   "outputs": [],
   "source": [
    "rf_reg_2 = RandomForestRegressor(criterion='mae', max_depth=25, max_features='sqrt', n_estimators=1000, n_jobs=-1)"
   ]
  },
  {
   "cell_type": "code",
   "execution_count": 74,
   "metadata": {},
   "outputs": [
    {
     "name": "stderr",
     "output_type": "stream",
     "text": [
      "/opt/conda/lib/python3.7/site-packages/sklearn/feature_selection/_univariate_selection.py:299: RuntimeWarning: invalid value encountered in true_divide\n",
      "  corr /= X_norms\n",
      "/opt/conda/lib/python3.7/site-packages/scipy/stats/_distn_infrastructure.py:903: RuntimeWarning: invalid value encountered in greater\n",
      "  return (a < x) & (x < b)\n",
      "/opt/conda/lib/python3.7/site-packages/scipy/stats/_distn_infrastructure.py:903: RuntimeWarning: invalid value encountered in less\n",
      "  return (a < x) & (x < b)\n",
      "/opt/conda/lib/python3.7/site-packages/scipy/stats/_distn_infrastructure.py:1912: RuntimeWarning: invalid value encountered in less_equal\n",
      "  cond2 = cond0 & (x <= _a)\n",
      "/opt/conda/lib/python3.7/site-packages/sklearn/feature_selection/_univariate_selection.py:299: RuntimeWarning: invalid value encountered in true_divide\n",
      "  corr /= X_norms\n",
      "/opt/conda/lib/python3.7/site-packages/scipy/stats/_distn_infrastructure.py:903: RuntimeWarning: invalid value encountered in greater\n",
      "  return (a < x) & (x < b)\n",
      "/opt/conda/lib/python3.7/site-packages/scipy/stats/_distn_infrastructure.py:903: RuntimeWarning: invalid value encountered in less\n",
      "  return (a < x) & (x < b)\n",
      "/opt/conda/lib/python3.7/site-packages/scipy/stats/_distn_infrastructure.py:1912: RuntimeWarning: invalid value encountered in less_equal\n",
      "  cond2 = cond0 & (x <= _a)\n"
     ]
    },
    {
     "data": {
      "text/plain": [
       "Pipeline(memory=None,\n",
       "         steps=[('preprocessor',\n",
       "                 ColumnTransformer(n_jobs=None, remainder='drop',\n",
       "                                   sparse_threshold=0.3,\n",
       "                                   transformer_weights=None,\n",
       "                                   transformers=[('num_transformer',\n",
       "                                                  Pipeline(memory=None,\n",
       "                                                           steps=[('imputer',\n",
       "                                                                   SimpleImputer(add_indicator=True,\n",
       "                                                                                 copy=True,\n",
       "                                                                                 fill_value=None,\n",
       "                                                                                 missing_values=nan,\n",
       "                                                                                 strategy='mean',\n",
       "                                                                                 verbose=0)),\n",
       "                                                                  ('scaler',\n",
       "                                                                   StandardScaler(copy=True,...\n",
       "                 RandomForestRegressor(bootstrap=True, ccp_alpha=0.0,\n",
       "                                       criterion='mae', max_depth=25,\n",
       "                                       max_features='sqrt', max_leaf_nodes=None,\n",
       "                                       max_samples=None,\n",
       "                                       min_impurity_decrease=0.0,\n",
       "                                       min_impurity_split=None,\n",
       "                                       min_samples_leaf=1, min_samples_split=2,\n",
       "                                       min_weight_fraction_leaf=0.0,\n",
       "                                       n_estimators=1000, n_jobs=-1,\n",
       "                                       oob_score=False, random_state=None,\n",
       "                                       verbose=0, warm_start=False))],\n",
       "         verbose=False)"
      ]
     },
     "execution_count": 74,
     "metadata": {},
     "output_type": "execute_result"
    }
   ],
   "source": [
    "gs_pipeline_2 = Pipeline(steps=[('preprocessor', preprocessor_2), ('regressor', rf_reg_2)])\n",
    "gs_pipeline_2.fit(X_train, y_train)"
   ]
  },
  {
   "cell_type": "code",
   "execution_count": 75,
   "metadata": {},
   "outputs": [
    {
     "name": "stderr",
     "output_type": "stream",
     "text": [
      "/opt/conda/lib/python3.7/site-packages/sklearn/feature_selection/_univariate_selection.py:299: RuntimeWarning: invalid value encountered in true_divide\n",
      "  corr /= X_norms\n",
      "/opt/conda/lib/python3.7/site-packages/scipy/stats/_distn_infrastructure.py:903: RuntimeWarning: invalid value encountered in greater\n",
      "  return (a < x) & (x < b)\n",
      "/opt/conda/lib/python3.7/site-packages/scipy/stats/_distn_infrastructure.py:903: RuntimeWarning: invalid value encountered in less\n",
      "  return (a < x) & (x < b)\n",
      "/opt/conda/lib/python3.7/site-packages/scipy/stats/_distn_infrastructure.py:1912: RuntimeWarning: invalid value encountered in less_equal\n",
      "  cond2 = cond0 & (x <= _a)\n",
      "/opt/conda/lib/python3.7/site-packages/sklearn/feature_selection/_univariate_selection.py:299: RuntimeWarning: invalid value encountered in true_divide\n",
      "  corr /= X_norms\n",
      "/opt/conda/lib/python3.7/site-packages/scipy/stats/_distn_infrastructure.py:903: RuntimeWarning: invalid value encountered in greater\n",
      "  return (a < x) & (x < b)\n",
      "/opt/conda/lib/python3.7/site-packages/scipy/stats/_distn_infrastructure.py:903: RuntimeWarning: invalid value encountered in less\n",
      "  return (a < x) & (x < b)\n",
      "/opt/conda/lib/python3.7/site-packages/scipy/stats/_distn_infrastructure.py:1912: RuntimeWarning: invalid value encountered in less_equal\n",
      "  cond2 = cond0 & (x <= _a)\n"
     ]
    },
    {
     "data": {
      "text/plain": [
       "Pipeline(memory=None,\n",
       "         steps=[('preprocessor',\n",
       "                 ColumnTransformer(n_jobs=None, remainder='drop',\n",
       "                                   sparse_threshold=0.3,\n",
       "                                   transformer_weights=None,\n",
       "                                   transformers=[('num_transformer',\n",
       "                                                  Pipeline(memory=None,\n",
       "                                                           steps=[('imputer',\n",
       "                                                                   SimpleImputer(add_indicator=True,\n",
       "                                                                                 copy=True,\n",
       "                                                                                 fill_value=None,\n",
       "                                                                                 missing_values=nan,\n",
       "                                                                                 strategy='mean',\n",
       "                                                                                 verbose=0)),\n",
       "                                                                  ('scaler',\n",
       "                                                                   StandardScaler(copy=True,...\n",
       "                 RandomForestRegressor(bootstrap=True, ccp_alpha=0.0,\n",
       "                                       criterion='mae', max_depth=25,\n",
       "                                       max_features='sqrt', max_leaf_nodes=None,\n",
       "                                       max_samples=None,\n",
       "                                       min_impurity_decrease=0.0,\n",
       "                                       min_impurity_split=None,\n",
       "                                       min_samples_leaf=1, min_samples_split=2,\n",
       "                                       min_weight_fraction_leaf=0.0,\n",
       "                                       n_estimators=1000, n_jobs=-1,\n",
       "                                       oob_score=False, random_state=None,\n",
       "                                       verbose=0, warm_start=False))],\n",
       "         verbose=False)"
      ]
     },
     "execution_count": 75,
     "metadata": {},
     "output_type": "execute_result"
    }
   ],
   "source": [
    "gs_pipeline_2.fit(X_train, y_train)"
   ]
  },
  {
   "cell_type": "code",
   "execution_count": 76,
   "metadata": {},
   "outputs": [
    {
     "data": {
      "text/plain": [
       "-0.10376602274541757"
      ]
     },
     "execution_count": 76,
     "metadata": {},
     "output_type": "execute_result"
    }
   ],
   "source": [
    "gs_pipeline_2.score(X_test, y_test)"
   ]
  },
  {
   "cell_type": "code",
   "execution_count": 79,
   "metadata": {},
   "outputs": [
    {
     "data": {
      "text/plain": [
       "array([7.66, 7.66, 7.66, ..., 7.66, 7.66, 7.66])"
      ]
     },
     "execution_count": 79,
     "metadata": {},
     "output_type": "execute_result"
    }
   ],
   "source": [
    "y_pred_2 = gs_pipeline.predict(X_test)\n",
    "y_pred_2"
   ]
  },
  {
   "cell_type": "code",
   "execution_count": null,
   "metadata": {},
   "outputs": [],
   "source": []
  },
  {
   "cell_type": "code",
   "execution_count": null,
   "metadata": {},
   "outputs": [],
   "source": []
  },
  {
   "cell_type": "code",
   "execution_count": null,
   "metadata": {},
   "outputs": [],
   "source": []
  },
  {
   "cell_type": "code",
   "execution_count": null,
   "metadata": {},
   "outputs": [],
   "source": []
  },
  {
   "cell_type": "code",
   "execution_count": null,
   "metadata": {},
   "outputs": [],
   "source": [
    "\n"
   ]
  },
  {
   "cell_type": "code",
   "execution_count": null,
   "metadata": {},
   "outputs": [],
   "source": []
  },
  {
   "cell_type": "code",
   "execution_count": 25,
   "metadata": {},
   "outputs": [],
   "source": [
    "num_transformer = Pipeline(steps=[\n",
    "    ('imputer', SimpleImputer(strategy='mean', add_indicator=True)),\n",
    "    ('scaler', StandardScaler()),\n",
    "    ('kbest', SelectKBest(f_regression, k='all'))])\n"
   ]
  },
  {
   "cell_type": "code",
   "execution_count": 26,
   "metadata": {},
   "outputs": [],
   "source": [
    "cat_transformer = Pipeline(steps=[\n",
    "    ('imputer', SimpleImputer(strategy='constant', add_indicator=True, fill_value=\"NA\")),\n",
    "    ('onehot', OneHotEncoder(handle_unknown='ignore')),\n",
    "    ('kbest', SelectKBest(f_regression, k='all'))])"
   ]
  },
  {
   "cell_type": "code",
   "execution_count": null,
   "metadata": {},
   "outputs": [],
   "source": []
  },
  {
   "cell_type": "code",
   "execution_count": 27,
   "metadata": {},
   "outputs": [],
   "source": [
    "preprocessor = ColumnTransformer(transformers=[\n",
    "        ('num_transformer', num_transformer, num_cols),\n",
    "        ('cat_transfomer', cat_transformer, cat_cols)])"
   ]
  },
  {
   "cell_type": "code",
   "execution_count": 28,
   "metadata": {},
   "outputs": [],
   "source": [
    "# ('imputer', KNNImputer(n_neighbors=50, weights='uniform'))\n",
    "# ,('kbest', SelectKBest(f_regression, k=5))\n",
    "# ,('kbest', SelectKBest(f_regression, k=50))"
   ]
  },
  {
   "cell_type": "code",
   "execution_count": null,
   "metadata": {},
   "outputs": [],
   "source": []
  },
  {
   "cell_type": "code",
   "execution_count": 29,
   "metadata": {},
   "outputs": [],
   "source": [
    "from sklearn.ensemble import RandomForestRegressor, AdaBoostRegressor, GradientBoostingRegressor, BaggingRegressor\n",
    "from sklearn.tree import DecisionTreeRegressor\n",
    "from sklearn.neighbors import KNeighborsRegressor\n",
    "from sklearn.linear_model import LinearRegression"
   ]
  },
  {
   "cell_type": "code",
   "execution_count": 30,
   "metadata": {},
   "outputs": [],
   "source": [
    "# print(sorted(sklearn.metrics.SCORERS.keys()) )"
   ]
  },
  {
   "cell_type": "code",
   "execution_count": 31,
   "metadata": {},
   "outputs": [],
   "source": [
    "regressors = []\n",
    "regressors.append(('LR', LinearRegression()))\n",
    "regressors.append(('DT', DecisionTreeRegressor()))\n",
    "# regressors.append(('DT', DecisionTreeRegressor(max_depth=30, random_state=42)))\n",
    "regressors.append(('KNN', KNeighborsRegressor()))\n",
    "# regressors.append(('KNN', KNeighborsRegressor(n_neighborsint=30, weights=\"distance\")))\n",
    "regressors.append(('RF', RandomForestRegressor()))\n",
    "# regressors.append(('RF', RandomForestRegressor(n_estimators=100, max_depth=10)))\n",
    "regressors.append(('AB', AdaBoostRegressor()))\n",
    "regressors.append(('B', BaggingRegressor()))\n",
    "regressors.append(('GB', GradientBoostingRegressor()))\n"
   ]
  },
  {
   "cell_type": "code",
   "execution_count": null,
   "metadata": {},
   "outputs": [],
   "source": []
  },
  {
   "cell_type": "code",
   "execution_count": 32,
   "metadata": {},
   "outputs": [],
   "source": [
    "mae_reg_scores = {}"
   ]
  },
  {
   "cell_type": "code",
   "execution_count": 33,
   "metadata": {},
   "outputs": [
    {
     "name": "stdout",
     "output_type": "stream",
     "text": [
      "LR: avg: -2.233702 (std: 0.004947, max: -2.226666, min: -2.240879)  took 0.686517 seconds\n",
      "DT: avg: -1.476141 (std: 0.012784, max: -1.455431, min: -1.490331)  took 0.241447 seconds\n",
      "KNN: avg: -1.238824 (std: 0.007812, max: -1.224877, min: -1.247365)  took 0.239261 seconds\n",
      "RF: avg: -1.090266 (std: 0.010196, max: -1.081427, min: -1.110213)  took 0.304794 seconds\n",
      "AB: avg: -1.982611 (std: 0.412593, max: -1.598941, min: -2.766003)  took 0.534410 seconds\n",
      "B: avg: -1.158304 (std: 0.010729, max: -1.148891, min: -1.177795)  took 0.253242 seconds\n",
      "GB: avg: -1.170024 (std: 0.010939, max: -1.159000, min: -1.189781)  took 0.285140 seconds\n"
     ]
    }
   ],
   "source": [
    "for name, regressor in regressors:\n",
    "    cv = ShuffleSplit(n_splits=5, test_size=.3, random_state=42)\n",
    "    mdl_pipeline = Pipeline(steps=[('preprocessor', preprocessor), ('regressor', regressor)])\n",
    "    tic = time.process_time()\n",
    "    scores = cross_val_score(mdl_pipeline, X_train, y_train, cv=cv, scoring='neg_mean_absolute_error', error_score='raise', n_jobs=-1)\n",
    "    toc = time.process_time()    \n",
    "    mae_reg_scores[name] = scores\n",
    "    train_time = toc - tic\n",
    "    msg = \"%s: avg: %f (std: %f, max: %f, min: %f)  took %f seconds\" % (name, scores.mean(), scores.std(), scores.max(), scores.min(), train_time)\n",
    "    print(msg)"
   ]
  },
  {
   "cell_type": "code",
   "execution_count": 34,
   "metadata": {},
   "outputs": [
    {
     "data": {
      "image/png": "[encoded data removed]",
      "text/plain": [
       "<Figure size 432x288 with 1 Axes>"
      ]
     },
     "metadata": {
      "needs_background": "light"
     },
     "output_type": "display_data"
    }
   ],
   "source": [
    "fig = plt.figure()\n",
    "fig.suptitle('Algorithm Comparison')\n",
    "ax = fig.add_subplot(111)\n",
    "\n",
    "plt.boxplot(mae_reg_scores.values())\n",
    "ax.set_xticklabels(mae_reg_scores.keys())\n",
    "\n",
    "plt.plot()\n",
    "plt.xlabel('Models')\n",
    "plt.ylabel('MAE Scores')\n",
    "plt.savefig('model_selection_dropped_length_perimtr_cv_5prct/South-Holland-Sample_MAE.png', dpi=600)\n"
   ]
  },
  {
   "cell_type": "code",
   "execution_count": null,
   "metadata": {},
   "outputs": [],
   "source": []
  },
  {
   "cell_type": "code",
   "execution_count": 35,
   "metadata": {},
   "outputs": [
    {
     "data": {
      "text/plain": [
       "{'LR': array([-2.22666553, -2.23687555, -2.2337452 , -2.24087913, -2.23034284]),\n",
       " 'DT': array([-1.49033055, -1.45543074, -1.48469131, -1.46765155, -1.48260323]),\n",
       " 'KNN': array([-1.23934957, -1.24483147, -1.22487653, -1.23769721, -1.24736503]),\n",
       " 'RF': array([-1.08633752, -1.08142678, -1.08552997, -1.08782298, -1.11021269]),\n",
       " 'B': array([-1.16192321, -1.15175615, -1.15115577, -1.14889122, -1.17779511]),\n",
       " 'GB': array([-1.16292839, -1.15899965, -1.16503724, -1.17337283, -1.18978101])}"
      ]
     },
     "execution_count": 35,
     "metadata": {},
     "output_type": "execute_result"
    }
   ],
   "source": [
    "if 'AB' in mae_reg_scores.keys():\n",
    "    del mae_reg_scores['AB'] \n",
    "mae_reg_scores"
   ]
  },
  {
   "cell_type": "code",
   "execution_count": 36,
   "metadata": {},
   "outputs": [
    {
     "data": {
      "image/png": "[encoded data removed]",
      "text/plain": [
       "<Figure size 432x288 with 1 Axes>"
      ]
     },
     "metadata": {
      "needs_background": "light"
     },
     "output_type": "display_data"
    }
   ],
   "source": [
    "fig = plt.figure()\n",
    "fig.suptitle('Algorithm Comparison')\n",
    "ax = fig.add_subplot(111)\n",
    "\n",
    "plt.boxplot(mae_reg_scores.values())\n",
    "ax.set_xticklabels(mae_reg_scores.keys())\n",
    "\n",
    "plt.plot()\n",
    "plt.xlabel('Models')\n",
    "plt.ylabel('MAE Scores')\n",
    "plt.savefig('model_selection_dropped_length_perimtr_cv_5prct/South-Holland-Sample_MAE_Except-AB.png', dpi=600)\n",
    "\n"
   ]
  },
  {
   "cell_type": "code",
   "execution_count": null,
   "metadata": {},
   "outputs": [],
   "source": []
  },
  {
   "cell_type": "code",
   "execution_count": null,
   "metadata": {},
   "outputs": [],
   "source": []
  },
  {
   "cell_type": "code",
   "execution_count": null,
   "metadata": {},
   "outputs": [],
   "source": []
  },
  {
   "cell_type": "code",
   "execution_count": null,
   "metadata": {},
   "outputs": [],
   "source": []
  },
  {
   "cell_type": "code",
   "execution_count": 37,
   "metadata": {},
   "outputs": [],
   "source": [
    "mse_reg_scores = {}"
   ]
  },
  {
   "cell_type": "code",
   "execution_count": 38,
   "metadata": {},
   "outputs": [
    {
     "name": "stdout",
     "output_type": "stream",
     "text": [
      "LR: avg: -8.991161 (std: 0.263314, max: -8.679987, min: -9.320959)  took 0.231729 seconds\n",
      "DT: avg: -9.512648 (std: 0.743599, max: -8.156805, min: -10.110972)  took 0.255737 seconds\n",
      "KNN: avg: -5.470925 (std: 0.231660, max: -5.145682, min: -5.760630)  took 0.254284 seconds\n",
      "RF: avg: -4.872257 (std: 0.532803, max: -4.397549, min: -5.749039)  took 0.290026 seconds\n",
      "AB: avg: -15.964421 (std: 13.310492, max: -8.694612, min: -42.564647)  took 0.551093 seconds\n",
      "B: avg: -5.143406 (std: 0.358321, max: -4.758347, min: -5.700361)  took 0.248235 seconds\n",
      "GB: avg: -4.924780 (std: 0.441556, max: -4.478487, min: -5.650590)  took 0.256969 seconds\n"
     ]
    }
   ],
   "source": [
    "for name, regressor in regressors:\n",
    "    cv = ShuffleSplit(n_splits=5, test_size=.3, random_state=42)\n",
    "    mdl_pipeline = Pipeline(steps=[('preprocessor', preprocessor), ('regressor', regressor)])\n",
    "    tic = time.process_time()\n",
    "    scores = cross_val_score(mdl_pipeline, X_train, y_train, cv=cv, scoring='neg_mean_squared_error', error_score='raise', n_jobs=-1)\n",
    "    toc = time.process_time()\n",
    "    mse_reg_scores[name] = scores\n",
    "    train_time = toc - tic\n",
    "    msg = \"%s: avg: %f (std: %f, max: %f, min: %f)  took %f seconds\" % (name, scores.mean(), scores.std(), scores.max(), scores.min(), train_time)\n",
    "    print(msg)"
   ]
  },
  {
   "cell_type": "code",
   "execution_count": 39,
   "metadata": {},
   "outputs": [
    {
     "data": {
      "image/png": "[encoded data removed]",
      "text/plain": [
       "<Figure size 432x288 with 1 Axes>"
      ]
     },
     "metadata": {
      "needs_background": "light"
     },
     "output_type": "display_data"
    }
   ],
   "source": [
    "fig = plt.figure()\n",
    "fig.suptitle('Algorithm Comparison')\n",
    "ax = fig.add_subplot(111)\n",
    "\n",
    "plt.boxplot(mse_reg_scores.values())\n",
    "ax.set_xticklabels(mse_reg_scores.keys())\n",
    "\n",
    "plt.plot()\n",
    "plt.xlabel('Models')\n",
    "plt.ylabel('MSE Scores')\n",
    "plt.savefig('model_selection_dropped_length_perimtr_cv_5prct/South-Holland-Sample_MSE.png', dpi=600)\n",
    "plt.show()"
   ]
  },
  {
   "cell_type": "code",
   "execution_count": null,
   "metadata": {},
   "outputs": [],
   "source": []
  },
  {
   "cell_type": "code",
   "execution_count": 40,
   "metadata": {},
   "outputs": [
    {
     "data": {
      "text/plain": [
       "{'LR': array([-8.69808586, -9.03479042, -8.67998697, -9.32095903, -9.22198109]),\n",
       " 'DT': array([-10.11097195,  -8.15680454,  -9.9324387 ,  -9.27215912,\n",
       "        -10.09086489]),\n",
       " 'KNN': array([-5.25599362, -5.61914266, -5.14568237, -5.7606296 , -5.57317861]),\n",
       " 'RF': array([-4.39754917, -4.51485396, -4.46484579, -5.23499805, -5.74903855]),\n",
       " 'B': array([-4.75834651, -4.88996195, -4.94340879, -5.42495261, -5.70036096]),\n",
       " 'GB': array([-4.5285908 , -4.77682682, -4.47848736, -5.18940608, -5.6505901 ])}"
      ]
     },
     "execution_count": 40,
     "metadata": {},
     "output_type": "execute_result"
    }
   ],
   "source": [
    "if 'AB' in mse_reg_scores.keys():\n",
    "    del mse_reg_scores['AB'] \n",
    "mse_reg_scores"
   ]
  },
  {
   "cell_type": "code",
   "execution_count": 41,
   "metadata": {},
   "outputs": [
    {
     "data": {
      "image/png": "[encoded data removed]",
      "text/plain": [
       "<Figure size 432x288 with 1 Axes>"
      ]
     },
     "metadata": {
      "needs_background": "light"
     },
     "output_type": "display_data"
    }
   ],
   "source": [
    "fig = plt.figure()\n",
    "fig.suptitle('Algorithm Comparison')\n",
    "ax = fig.add_subplot(111)\n",
    "\n",
    "plt.boxplot(mse_reg_scores.values())\n",
    "ax.set_xticklabels(mse_reg_scores.keys())\n",
    "\n",
    "plt.plot()\n",
    "plt.xlabel('Models')\n",
    "plt.ylabel('MSE Scores')\n",
    "plt.savefig('model_selection_dropped_length_perimtr_cv_5prct/South-Holland-Sample_MSE_Except-AB.png', dpi=600)\n",
    "plt.show()"
   ]
  },
  {
   "cell_type": "code",
   "execution_count": null,
   "metadata": {},
   "outputs": [],
   "source": []
  },
  {
   "cell_type": "code",
   "execution_count": null,
   "metadata": {},
   "outputs": [],
   "source": []
  },
  {
   "cell_type": "code",
   "execution_count": null,
   "metadata": {},
   "outputs": [],
   "source": []
  },
  {
   "cell_type": "code",
   "execution_count": null,
   "metadata": {},
   "outputs": [],
   "source": []
  },
  {
   "cell_type": "code",
   "execution_count": null,
   "metadata": {},
   "outputs": [],
   "source": []
  },
  {
   "cell_type": "code",
   "execution_count": 42,
   "metadata": {},
   "outputs": [],
   "source": [
    "r2_reg_scores = {}"
   ]
  },
  {
   "cell_type": "code",
   "execution_count": 43,
   "metadata": {},
   "outputs": [
    {
     "name": "stdout",
     "output_type": "stream",
     "text": [
      "LR: avg: 0.376287 (std: 0.015159, max: 0.402933, min: 0.357559)  took 0.353326 seconds\n",
      "DT: avg: 0.340459 (std: 0.042693, max: 0.396724, min: 0.288129)  took 0.238224 seconds\n",
      "KNN: avg: 0.620509 (std: 0.014105, max: 0.646046, min: 0.606890)  took 0.259639 seconds\n",
      "RF: avg: 0.666596 (std: 0.031458, max: 0.692382, min: 0.612162)  took 0.274880 seconds\n",
      "AB: avg: -0.206929 (std: 0.776544, max: 0.534361, min: -1.404946)  took 0.551304 seconds\n",
      "B: avg: 0.638856 (std: 0.024573, max: 0.665464, min: 0.606808)  took 0.272686 seconds\n",
      "GB: avg: 0.659089 (std: 0.029234, max: 0.694285, min: 0.607686)  took 0.236871 seconds\n"
     ]
    }
   ],
   "source": [
    "for name, regressor in regressors:\n",
    "    cv = ShuffleSplit(n_splits=5, test_size=.3, random_state=42)\n",
    "    mdl_pipeline = Pipeline(steps=[('preprocessor', preprocessor), ('regressor', regressor)])\n",
    "    tic = time.process_time()\n",
    "    scores = cross_val_score(mdl_pipeline, X_train, y_train, cv=cv, scoring='r2', error_score='raise', n_jobs=-1)\n",
    "    toc = time.process_time()\n",
    "    r2_reg_scores[name] = scores\n",
    "    train_time = toc - tic\n",
    "    msg = \"%s: avg: %f (std: %f, max: %f, min: %f)  took %f seconds\" % (name, scores.mean(), scores.std(), scores.max(), scores.min(), train_time)\n",
    "    print(msg)"
   ]
  },
  {
   "cell_type": "code",
   "execution_count": 44,
   "metadata": {},
   "outputs": [
    {
     "data": {
      "image/png": "[encoded data removed]",
      "text/plain": [
       "<Figure size 432x288 with 1 Axes>"
      ]
     },
     "metadata": {
      "needs_background": "light"
     },
     "output_type": "display_data"
    }
   ],
   "source": [
    "fig = plt.figure()\n",
    "fig.suptitle('Algorithm Comparison')\n",
    "ax = fig.add_subplot(111)\n",
    "\n",
    "plt.boxplot(r2_reg_scores.values())\n",
    "ax.set_xticklabels(r2_reg_scores.keys())\n",
    "\n",
    "plt.plot()\n",
    "plt.xlabel('Models')\n",
    "plt.ylabel('R^2 Scores')\n",
    "plt.savefig('model_selection_dropped_length_perimtr_cv_5prct/South-Holland-Sample_R2.png', dpi=600)\n",
    "plt.show()"
   ]
  },
  {
   "cell_type": "code",
   "execution_count": null,
   "metadata": {},
   "outputs": [],
   "source": []
  },
  {
   "cell_type": "code",
   "execution_count": 45,
   "metadata": {},
   "outputs": [
    {
     "data": {
      "text/plain": [
       "{'LR': array([0.3795345 , 0.36793369, 0.40293253, 0.37347562, 0.35755918]),\n",
       " 'DT': array([0.2936353 , 0.39672413, 0.35493624, 0.3688719 , 0.28812934]),\n",
       " 'KNN': array([0.62507122, 0.60688952, 0.6460456 , 0.61278932, 0.61174964]),\n",
       " 'RF': array([0.69238182, 0.6883539 , 0.69032708, 0.64975543, 0.61216191]),\n",
       " 'B': array([0.65992763, 0.64998542, 0.66546441, 0.61209483, 0.60680762]),\n",
       " 'GB': array([0.67619398, 0.66567564, 0.69428546, 0.65160226, 0.60768595])}"
      ]
     },
     "execution_count": 45,
     "metadata": {},
     "output_type": "execute_result"
    }
   ],
   "source": [
    "if 'AB' in r2_reg_scores.keys():\n",
    "    del r2_reg_scores['AB']\n",
    "r2_reg_scores"
   ]
  },
  {
   "cell_type": "code",
   "execution_count": 46,
   "metadata": {},
   "outputs": [
    {
     "data": {
      "image/png": "[encoded data removed]",
      "text/plain": [
       "<Figure size 432x288 with 1 Axes>"
      ]
     },
     "metadata": {
      "needs_background": "light"
     },
     "output_type": "display_data"
    }
   ],
   "source": [
    "fig = plt.figure()\n",
    "fig.suptitle('Algorithm Comparison')\n",
    "ax = fig.add_subplot(111)\n",
    "\n",
    "plt.boxplot(r2_reg_scores.values())\n",
    "ax.set_xticklabels(r2_reg_scores.keys())\n",
    "\n",
    "plt.plot()\n",
    "plt.xlabel('Models')\n",
    "plt.ylabel('R^2 Scores')\n",
    "plt.savefig('model_selection_dropped_length_perimtr_cv_5prct/South-Holland-Sample_R2_Except-AB.png', dpi=600)\n",
    "plt.show()"
   ]
  },
  {
   "cell_type": "code",
   "execution_count": null,
   "metadata": {},
   "outputs": [],
   "source": []
  },
  {
   "cell_type": "code",
   "execution_count": null,
   "metadata": {},
   "outputs": [],
   "source": []
  },
  {
   "cell_type": "code",
   "execution_count": null,
   "metadata": {},
   "outputs": [],
   "source": []
  },
  {
   "cell_type": "code",
   "execution_count": null,
   "metadata": {},
   "outputs": [],
   "source": []
  },
  {
   "cell_type": "code",
   "execution_count": null,
   "metadata": {},
   "outputs": [],
   "source": []
  },
  {
   "cell_type": "code",
   "execution_count": null,
   "metadata": {},
   "outputs": [],
   "source": []
  },
  {
   "cell_type": "code",
   "execution_count": null,
   "metadata": {},
   "outputs": [],
   "source": []
  },
  {
   "cell_type": "code",
   "execution_count": null,
   "metadata": {},
   "outputs": [],
   "source": [
    "\n"
   ]
  },
  {
   "cell_type": "code",
   "execution_count": null,
   "metadata": {},
   "outputs": [],
   "source": []
  },
  {
   "cell_type": "code",
   "execution_count": null,
   "metadata": {},
   "outputs": [],
   "source": []
  },
  {
   "cell_type": "code",
   "execution_count": null,
   "metadata": {},
   "outputs": [],
   "source": []
  },
  {
   "cell_type": "code",
   "execution_count": null,
   "metadata": {},
   "outputs": [],
   "source": []
  },
  {
   "cell_type": "code",
   "execution_count": null,
   "metadata": {},
   "outputs": [],
   "source": []
  },
  {
   "cell_type": "code",
   "execution_count": null,
   "metadata": {},
   "outputs": [],
   "source": []
  },
  {
   "cell_type": "code",
   "execution_count": null,
   "metadata": {},
   "outputs": [],
   "source": []
  },
  {
   "cell_type": "code",
   "execution_count": 47,
   "metadata": {},
   "outputs": [
    {
     "data": {
      "text/plain": [
       "['city', 'postcode']"
      ]
     },
     "execution_count": 47,
     "metadata": {},
     "output_type": "execute_result"
    }
   ],
   "source": [
    "cat_cols"
   ]
  },
  {
   "cell_type": "code",
   "execution_count": 48,
   "metadata": {},
   "outputs": [
    {
     "data": {
      "text/plain": [
       "['area',\n",
       " 'building_levels',\n",
       " 'year',\n",
       " 'count_vertices',\n",
       " 'compactness',\n",
       " 'complexity',\n",
       " 'count_neighbor']"
      ]
     },
     "execution_count": 48,
     "metadata": {},
     "output_type": "execute_result"
    }
   ],
   "source": [
    "num_cols"
   ]
  },
  {
   "cell_type": "code",
   "execution_count": null,
   "metadata": {},
   "outputs": [],
   "source": []
  },
  {
   "cell_type": "code",
   "execution_count": 49,
   "metadata": {},
   "outputs": [],
   "source": [
    "num_transformer = Pipeline(steps=[\n",
    "    ('imputer', SimpleImputer(strategy='mean', add_indicator=True)),\n",
    "    ('scaler', StandardScaler()),\n",
    "    ('kbest', SelectKBest(f_regression, k='all'))])\n"
   ]
  },
  {
   "cell_type": "code",
   "execution_count": 50,
   "metadata": {},
   "outputs": [],
   "source": [
    "cat_transformer = Pipeline(steps=[\n",
    "    ('imputer', SimpleImputer(strategy='constant', add_indicator=True, fill_value=\"NA\")),\n",
    "    ('onehot', OneHotEncoder(handle_unknown='ignore')),\n",
    "    ('kbest', SelectKBest(f_regression, k='all'))])"
   ]
  },
  {
   "cell_type": "code",
   "execution_count": null,
   "metadata": {},
   "outputs": [],
   "source": []
  },
  {
   "cell_type": "code",
   "execution_count": 51,
   "metadata": {},
   "outputs": [],
   "source": [
    "preprocessor = ColumnTransformer(transformers=[\n",
    "        ('num_transformer', num_transformer, num_cols),\n",
    "        ('cat_transformer', cat_transformer, cat_cols)])"
   ]
  },
  {
   "cell_type": "code",
   "execution_count": null,
   "metadata": {},
   "outputs": [],
   "source": []
  },
  {
   "cell_type": "code",
   "execution_count": 52,
   "metadata": {},
   "outputs": [],
   "source": [
    "cv = ShuffleSplit(n_splits=5, test_size=.3, random_state=42)\n",
    "gs_pipeline = Pipeline(steps=[('preprocessor', preprocessor), ('regressor', RandomForestRegressor(n_jobs=-1))])"
   ]
  },
  {
   "cell_type": "code",
   "execution_count": 53,
   "metadata": {},
   "outputs": [
    {
     "name": "stdout",
     "output_type": "stream",
     "text": [
      "Gridsearch took 83074.145173 seconds\n"
     ]
    }
   ],
   "source": [
    "grid_params = {\n",
    "    'preprocessor__num_transformer__imputer__strategy': ['mean', 'median', 'most_frequent'],\n",
    "    'preprocessor__num_transformer__kbest__k': ['all', 5, 3],\n",
    "    'preprocessor__cat_transformer__kbest__k': ['all', 10, 7, 5],\n",
    "    'regressor__max_depth': [3, 5, 10, 25, 30, 50],\n",
    "    'regressor__n_estimators': [10, 100, 500, 1000],\n",
    "    'regressor__max_features': ['auto', 'sqrt']\n",
    "}\n",
    "tic = time.process_time()\n",
    "grid_search = GridSearchCV(gs_pipeline, grid_params, cv=cv, scoring='neg_mean_absolute_error')\n",
    "grid_search.fit(X_train, y_train)\n",
    "toc = time.process_time()\n",
    "train_time = toc - tic  \n",
    "msg = \"Gridsearch took %f seconds\" % (train_time)\n",
    "print(msg)"
   ]
  },
  {
   "cell_type": "code",
   "execution_count": 54,
   "metadata": {},
   "outputs": [
    {
     "data": {
      "text/plain": [
       "{'preprocessor__cat_transformer__kbest__k': 7,\n",
       " 'preprocessor__num_transformer__imputer__strategy': 'median',\n",
       " 'preprocessor__num_transformer__kbest__k': 'all',\n",
       " 'regressor__max_depth': 50,\n",
       " 'regressor__max_features': 'sqrt',\n",
       " 'regressor__n_estimators': 1000}"
      ]
     },
     "execution_count": 54,
     "metadata": {},
     "output_type": "execute_result"
    }
   ],
   "source": [
    "best_params = grid_search.best_params_\n",
    "best_params"
   ]
  },
  {
   "cell_type": "code",
   "execution_count": 55,
   "metadata": {},
   "outputs": [
    {
     "name": "stdout",
     "output_type": "stream",
     "text": [
      "Pipeline(memory=None,\n",
      "         steps=[('preprocessor',\n",
      "                 ColumnTransformer(n_jobs=None, remainder='drop',\n",
      "                                   sparse_threshold=0.3,\n",
      "                                   transformer_weights=None,\n",
      "                                   transformers=[('num_transformer',\n",
      "                                                  Pipeline(memory=None,\n",
      "                                                           steps=[('imputer',\n",
      "                                                                   SimpleImputer(add_indicator=True,\n",
      "                                                                                 copy=True,\n",
      "                                                                                 fill_value=None,\n",
      "                                                                                 missing_values=nan,\n",
      "                                                                                 strategy='median',\n",
      "                                                                                 verbose=0)),\n",
      "                                                                  ('scaler',\n",
      "                                                                   StandardScaler(copy=Tru...\n",
      "                 RandomForestRegressor(bootstrap=True, ccp_alpha=0.0,\n",
      "                                       criterion='mse', max_depth=50,\n",
      "                                       max_features='sqrt', max_leaf_nodes=None,\n",
      "                                       max_samples=None,\n",
      "                                       min_impurity_decrease=0.0,\n",
      "                                       min_impurity_split=None,\n",
      "                                       min_samples_leaf=1, min_samples_split=2,\n",
      "                                       min_weight_fraction_leaf=0.0,\n",
      "                                       n_estimators=1000, n_jobs=-1,\n",
      "                                       oob_score=False, random_state=None,\n",
      "                                       verbose=0, warm_start=False))],\n",
      "         verbose=False)\n"
     ]
    }
   ],
   "source": [
    "best_estimator = grid_search.best_estimator_\n",
    "print(best_estimator)\n"
   ]
  },
  {
   "cell_type": "code",
   "execution_count": 56,
   "metadata": {},
   "outputs": [
    {
     "data": {
      "text/plain": [
       "-1.0659925700529582"
      ]
     },
     "execution_count": 56,
     "metadata": {},
     "output_type": "execute_result"
    }
   ],
   "source": [
    "best_score = grid_search.best_score_\n",
    "best_score"
   ]
  },
  {
   "cell_type": "code",
   "execution_count": null,
   "metadata": {},
   "outputs": [],
   "source": []
  },
  {
   "cell_type": "code",
   "execution_count": null,
   "metadata": {},
   "outputs": [],
   "source": []
  },
  {
   "cell_type": "code",
   "execution_count": null,
   "metadata": {},
   "outputs": [],
   "source": []
  },
  {
   "cell_type": "code",
   "execution_count": null,
   "metadata": {},
   "outputs": [],
   "source": []
  },
  {
   "cell_type": "code",
   "execution_count": null,
   "metadata": {},
   "outputs": [],
   "source": []
  },
  {
   "cell_type": "code",
   "execution_count": null,
   "metadata": {},
   "outputs": [],
   "source": []
  },
  {
   "cell_type": "code",
   "execution_count": null,
   "metadata": {},
   "outputs": [],
   "source": []
  },
  {
   "cell_type": "code",
   "execution_count": null,
   "metadata": {},
   "outputs": [],
   "source": []
  },
  {
   "cell_type": "code",
   "execution_count": null,
   "metadata": {},
   "outputs": [],
   "source": []
  },
  {
   "cell_type": "code",
   "execution_count": null,
   "metadata": {},
   "outputs": [],
   "source": []
  },
  {
   "cell_type": "code",
   "execution_count": null,
   "metadata": {},
   "outputs": [],
   "source": []
  },
  {
   "cell_type": "code",
   "execution_count": null,
   "metadata": {},
   "outputs": [],
   "source": []
  },
  {
   "cell_type": "code",
   "execution_count": null,
   "metadata": {},
   "outputs": [],
   "source": []
  },
  {
   "cell_type": "code",
   "execution_count": null,
   "metadata": {},
   "outputs": [],
   "source": []
  },
  {
   "cell_type": "code",
   "execution_count": null,
   "metadata": {},
   "outputs": [],
   "source": []
  }
 ],
 "metadata": {
  "environment": {
   "name": "common-cpu.m46",
   "type": "gcloud",
   "uri": "gcr.io/deeplearning-platform-release/base-cpu:m46"
  },
  "kernelspec": {
   "display_name": "Python 3",
   "language": "python",
   "name": "python3"
  },
  "language_info": {
   "codemirror_mode": {
    "name": "ipython",
    "version": 3
   },
   "file_extension": ".py",
   "mimetype": "text/x-python",
   "name": "python",
   "nbconvert_exporter": "python",
   "pygments_lexer": "ipython3",
   "version": "3.7.6"
  }
 },
 "nbformat": 4,
 "nbformat_minor": 4
}
