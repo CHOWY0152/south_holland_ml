{
 "cells": [
  {
   "cell_type": "code",
   "execution_count": 1,
   "metadata": {},
   "outputs": [],
   "source": [
    "import pandas as pd\n",
    "import numpy as np\n",
    "import geopandas as gpd\n",
    "import csv\n",
    "import json\n",
    "import sklearn\n",
    "from google.cloud import bigquery as bq\n",
    "import seaborn as sns\n",
    "import matplotlib.pyplot as plt\n",
    "\n",
    "pd.set_option('display.max_columns', None)\n",
    "pd.set_option('display.max_rows', 100)\n",
    "pd.options.mode.chained_assignment = None\n",
    "%matplotlib inline"
   ]
  },
  {
   "cell_type": "code",
   "execution_count": 2,
   "metadata": {},
   "outputs": [],
   "source": [
    "from sklearn.compose import ColumnTransformer\n",
    "from sklearn.pipeline import Pipeline\n",
    "from sklearn.impute import SimpleImputer, KNNImputer\n",
    "from sklearn.preprocessing import StandardScaler, OneHotEncoder\n",
    "from sklearn.feature_selection import SelectKBest, f_regression, mutual_info_regression\n",
    "from sklearn.ensemble import RandomForestRegressor\n",
    "from sklearn.tree import DecisionTreeRegressor\n",
    "from sklearn.neighbors import KNeighborsRegressor\n",
    "from sklearn.linear_model import LinearRegression\n",
    "from sklearn.model_selection import train_test_split, ShuffleSplit, cross_val_score, GridSearchCV\n",
    "from sklearn.metrics import mean_squared_error"
   ]
  },
  {
   "cell_type": "code",
   "execution_count": null,
   "metadata": {},
   "outputs": [],
   "source": [
    "# Set random seeds\n",
    "sampling_seed = np.random.seed(13)\n",
    "train_test_seed = np.random.seed(69)\n",
    "cv_split = np.random.seed(42)\n",
    "model_seed = np.random.seed(73)"
   ]
  },
  {
   "cell_type": "code",
   "execution_count": 3,
   "metadata": {},
   "outputs": [
    {
     "data": {
      "text/html": [
       "<div>\n",
       "<style scoped>\n",
       "    .dataframe tbody tr th:only-of-type {\n",
       "        vertical-align: middle;\n",
       "    }\n",
       "\n",
       "    .dataframe tbody tr th {\n",
       "        vertical-align: top;\n",
       "    }\n",
       "\n",
       "    .dataframe thead th {\n",
       "        text-align: right;\n",
       "    }\n",
       "</style>\n",
       "<table border=\"1\" class=\"dataframe\">\n",
       "  <thead>\n",
       "    <tr style=\"text-align: right;\">\n",
       "      <th></th>\n",
       "      <th>osm_way_id</th>\n",
       "      <th>bldg_height</th>\n",
       "      <th>area</th>\n",
       "      <th>perimeter</th>\n",
       "      <th>length</th>\n",
       "      <th>building_levels</th>\n",
       "      <th>city</th>\n",
       "      <th>country</th>\n",
       "      <th>postcode</th>\n",
       "      <th>year</th>\n",
       "      <th>count_vertices</th>\n",
       "      <th>compactness</th>\n",
       "      <th>complexity</th>\n",
       "      <th>count_neighbor</th>\n",
       "      <th>state_name</th>\n",
       "    </tr>\n",
       "  </thead>\n",
       "  <tbody>\n",
       "    <tr>\n",
       "      <th>1261133</th>\n",
       "      <td>272179791</td>\n",
       "      <td>8.10</td>\n",
       "      <td>55.867402</td>\n",
       "      <td>30.627942</td>\n",
       "      <td>11.085899</td>\n",
       "      <td>NaN</td>\n",
       "      <td>None</td>\n",
       "      <td>NL</td>\n",
       "      <td>None</td>\n",
       "      <td>1969.0</td>\n",
       "      <td>5</td>\n",
       "      <td>0.865100</td>\n",
       "      <td>11.202841</td>\n",
       "      <td>556.0</td>\n",
       "      <td>South Holland</td>\n",
       "    </tr>\n",
       "    <tr>\n",
       "      <th>179634</th>\n",
       "      <td>270914429</td>\n",
       "      <td>7.01</td>\n",
       "      <td>106.684473</td>\n",
       "      <td>46.583981</td>\n",
       "      <td>18.451951</td>\n",
       "      <td>NaN</td>\n",
       "      <td>None</td>\n",
       "      <td>NL</td>\n",
       "      <td>None</td>\n",
       "      <td>1920.0</td>\n",
       "      <td>8</td>\n",
       "      <td>0.785993</td>\n",
       "      <td>14.494769</td>\n",
       "      <td>692.0</td>\n",
       "      <td>South Holland</td>\n",
       "    </tr>\n",
       "    <tr>\n",
       "      <th>1000509</th>\n",
       "      <td>271604097</td>\n",
       "      <td>7.92</td>\n",
       "      <td>71.714472</td>\n",
       "      <td>42.267066</td>\n",
       "      <td>16.199849</td>\n",
       "      <td>NaN</td>\n",
       "      <td>None</td>\n",
       "      <td>NL</td>\n",
       "      <td>None</td>\n",
       "      <td>1956.0</td>\n",
       "      <td>7</td>\n",
       "      <td>0.710242</td>\n",
       "      <td>14.524474</td>\n",
       "      <td>535.0</td>\n",
       "      <td>South Holland</td>\n",
       "    </tr>\n",
       "    <tr>\n",
       "      <th>1147293</th>\n",
       "      <td>279653820</td>\n",
       "      <td>7.77</td>\n",
       "      <td>44.937904</td>\n",
       "      <td>26.973740</td>\n",
       "      <td>9.604454</td>\n",
       "      <td>NaN</td>\n",
       "      <td>None</td>\n",
       "      <td>NL</td>\n",
       "      <td>None</td>\n",
       "      <td>1964.0</td>\n",
       "      <td>5</td>\n",
       "      <td>0.880988</td>\n",
       "      <td>10.418087</td>\n",
       "      <td>620.0</td>\n",
       "      <td>South Holland</td>\n",
       "    </tr>\n",
       "    <tr>\n",
       "      <th>1217167</th>\n",
       "      <td>264135079</td>\n",
       "      <td>2.34</td>\n",
       "      <td>8.834287</td>\n",
       "      <td>12.025071</td>\n",
       "      <td>4.303666</td>\n",
       "      <td>NaN</td>\n",
       "      <td>None</td>\n",
       "      <td>NL</td>\n",
       "      <td>None</td>\n",
       "      <td>1968.0</td>\n",
       "      <td>5</td>\n",
       "      <td>0.876200</td>\n",
       "      <td>6.975009</td>\n",
       "      <td>662.0</td>\n",
       "      <td>South Holland</td>\n",
       "    </tr>\n",
       "  </tbody>\n",
       "</table>\n",
       "</div>"
      ],
      "text/plain": [
       "        osm_way_id  bldg_height        area  perimeter     length  \\\n",
       "1261133  272179791         8.10   55.867402  30.627942  11.085899   \n",
       "179634   270914429         7.01  106.684473  46.583981  18.451951   \n",
       "1000509  271604097         7.92   71.714472  42.267066  16.199849   \n",
       "1147293  279653820         7.77   44.937904  26.973740   9.604454   \n",
       "1217167  264135079         2.34    8.834287  12.025071   4.303666   \n",
       "\n",
       "         building_levels  city country postcode    year  count_vertices  \\\n",
       "1261133              NaN  None      NL     None  1969.0               5   \n",
       "179634               NaN  None      NL     None  1920.0               8   \n",
       "1000509              NaN  None      NL     None  1956.0               7   \n",
       "1147293              NaN  None      NL     None  1964.0               5   \n",
       "1217167              NaN  None      NL     None  1968.0               5   \n",
       "\n",
       "         compactness  complexity  count_neighbor     state_name  \n",
       "1261133     0.865100   11.202841           556.0  South Holland  \n",
       "179634      0.785993   14.494769           692.0  South Holland  \n",
       "1000509     0.710242   14.524474           535.0  South Holland  \n",
       "1147293     0.880988   10.418087           620.0  South Holland  \n",
       "1217167     0.876200    6.975009           662.0  South Holland  "
      ]
     },
     "execution_count": 3,
     "metadata": {},
     "output_type": "execute_result"
    }
   ],
   "source": [
    "query=\"\"\"\n",
    "    SELECT\n",
    "      *\n",
    "    FROM\n",
    "      `ual3d-277909.nl.zuid_holland_ml_df`\n",
    "\"\"\"\n",
    "\n",
    "df = bq.Client().query(query).to_dataframe()\n",
    "df = df.sample(frac=0.1)\n",
    "df.head()"
   ]
  },
  {
   "cell_type": "code",
   "execution_count": 4,
   "metadata": {},
   "outputs": [],
   "source": [
    "df.set_index('osm_way_id', inplace=True)"
   ]
  },
  {
   "cell_type": "code",
   "execution_count": 5,
   "metadata": {},
   "outputs": [
    {
     "data": {
      "text/plain": [
       "(163867, 14)"
      ]
     },
     "execution_count": 5,
     "metadata": {},
     "output_type": "execute_result"
    }
   ],
   "source": [
    "df.shape"
   ]
  },
  {
   "cell_type": "code",
   "execution_count": 6,
   "metadata": {},
   "outputs": [
    {
     "data": {
      "text/plain": [
       "bldg_height        float64\n",
       "area               float64\n",
       "perimeter          float64\n",
       "length             float64\n",
       "building_levels    float64\n",
       "city                object\n",
       "country             object\n",
       "postcode            object\n",
       "year               float64\n",
       "count_vertices       int64\n",
       "compactness        float64\n",
       "complexity         float64\n",
       "count_neighbor     float64\n",
       "state_name          object\n",
       "dtype: object"
      ]
     },
     "execution_count": 6,
     "metadata": {},
     "output_type": "execute_result"
    }
   ],
   "source": [
    "df.dtypes"
   ]
  },
  {
   "cell_type": "code",
   "execution_count": 7,
   "metadata": {},
   "outputs": [
    {
     "data": {
      "text/plain": [
       "bldg_height         float64\n",
       "area                float64\n",
       "perimeter           float64\n",
       "length              float64\n",
       "building_levels     float64\n",
       "city               category\n",
       "country            category\n",
       "postcode           category\n",
       "year                float64\n",
       "count_vertices        int64\n",
       "compactness         float64\n",
       "complexity          float64\n",
       "count_neighbor      float64\n",
       "state_name         category\n",
       "dtype: object"
      ]
     },
     "execution_count": 7,
     "metadata": {},
     "output_type": "execute_result"
    }
   ],
   "source": [
    "\n",
    "df[\"city\"] = df[\"city\"].astype(\"category\")\n",
    "df[\"state_name\"] = df[\"state_name\"].astype(\"category\")\n",
    "df[\"country\"] = df[\"country\"].astype(\"category\")\n",
    "df[\"postcode\"] = df[\"postcode\"].astype(\"category\")\n",
    "# df[\"year\"] = df[\"year\"].astype(float).astype(\"Int64\")\n",
    "# df[\"count_vertices\"] = df[\"count_vertices\"].astype(float).astype(\"Int64\")\n",
    "# df[\"count_neighbor\"] = df[\"count_neighbor\"].astype(float).astype(\"Int64\")\n",
    "# df[\"building_levels\"] = df[\"building_levels\"].astype(float).astype(\"Int64\")\n",
    "df.dtypes"
   ]
  },
  {
   "cell_type": "code",
   "execution_count": 8,
   "metadata": {},
   "outputs": [
    {
     "data": {
      "text/plain": [
       "bldg_height             0\n",
       "area                    0\n",
       "perimeter               0\n",
       "length                  0\n",
       "building_levels    161573\n",
       "city               163765\n",
       "country                 0\n",
       "postcode           163771\n",
       "year                    7\n",
       "count_vertices          0\n",
       "compactness             0\n",
       "complexity              0\n",
       "count_neighbor         33\n",
       "state_name              0\n",
       "dtype: int64"
      ]
     },
     "execution_count": 8,
     "metadata": {},
     "output_type": "execute_result"
    }
   ],
   "source": [
    "df.isna().sum()"
   ]
  },
  {
   "cell_type": "code",
   "execution_count": 9,
   "metadata": {},
   "outputs": [
    {
     "name": "stdout",
     "output_type": "stream",
     "text": [
      "count unique city: 43\n",
      "unique city: [NaN, 's-Gravendeel, 's-Gravenhage, Voorburg, Spijkenisse, ..., Westmaas, 's-Gravenzande, Vlaardingen, Puttershoek, Leiden]\n",
      "Length: 43\n",
      "Categories (42, object): ['s-Gravendeel, 's-Gravenhage, Voorburg, Spijkenisse, ..., 's-Gravenzande, Vlaardingen, Puttershoek, Leiden]\n",
      "\n",
      "count unique postcode: 90\n",
      "unique postcode: [NaN, 3295KG, 2493WZ, 2517JS, 2544EK, ..., 3297AB, 2316CZ, 2912RB, 3076BB, 2521EN]\n",
      "Length: 90\n",
      "Categories (89, object): [3295KG, 2493WZ, 2517JS, 2544EK, ..., 2316CZ, 2912RB, 3076BB, 2521EN]\n",
      "\n",
      "count unique year: 385\n",
      "unique year: [1969.         1920.         1956.         1964.         1968.\n",
      " 1935.         2003.         1983.         1994.         1980.\n",
      " 1986.         2009.         2001.         2017.         1996.\n",
      " 1970.         1998.         2015.         1976.         2002.\n",
      " 1992.         1930.         1974.         1973.         1987.\n",
      " 1904.         1963.         2005.         2006.         1926.\n",
      " 2016.         1906.         1919.         1953.         1982.\n",
      " 2008.         2018.         1951.         1936.         1961.\n",
      " 2007.         1948.         1979.         2004.         1966.\n",
      " 1981.         1958.         1967.         1928.         1972.\n",
      " 1990.         1960.         1959.         1995.         1997.\n",
      " 2012.         1978.         1934.         1975.         1985.\n",
      " 1950.         1971.         1962.         1933.         2014.\n",
      " 1988.         1989.         1991.         1993.         1984.\n",
      " 1925.         1889.         1999.         1923.         1937.\n",
      " 1954.         1910.         2000.         1890.         1924.\n",
      " 1915.         1896.         1650.         1922.         1977.\n",
      " 1955.         1898.         1938.         2010.         1957.\n",
      " 1725.         1901.         1885.         1965.         2011.\n",
      " 1913.         1905.         1675.         1916.         1932.\n",
      " 2013.         1840.         2019.         1931.         1750.\n",
      " 1909.         1921.         1939.         1929.         1941.\n",
      " 1927.         1907.         1940.         1952.         1912.\n",
      " 1949.         1900.         1918.         1887.         1656.\n",
      " 1763.         1914.         1637.         1813.         1946.\n",
      " 1700.         1911.         1868.         1942.         1902.\n",
      " 1947.         1865.         1903.         1776.         1875.\n",
      " 1616.         1899.         2020.         1897.         1880.\n",
      " 1732.         1969.85169505 1730.         1870.         1884.\n",
      " 1872.         1718.         1881.         1894.         1800.\n",
      " 1877.         1917.         1883.         1851.         1496.\n",
      " 1850.         1757.         1873.         1879.         1501.\n",
      " 1895.         1943.         1908.         1944.         1707.\n",
      " 1945.         1828.         1632.         1457.         1660.\n",
      " 1605.         1888.         1859.         1878.         1874.\n",
      " 1826.         1773.         1860.         1892.         1680.\n",
      " 1833.         1703.         1600.         1780.         1893.\n",
      " 1886.         1681.         1856.         1882.         1706.\n",
      " 1792.         1550.         1876.         1869.         1825.\n",
      " 1810.         1647.         1891.         1847.         1662.\n",
      " 1834.         1863.         1862.         1809.         1634.\n",
      " 1762.                   nan 1640.         1820.         1841.\n",
      " 1818.         1836.         1752.         1636.         1777.\n",
      " 1665.         1770.         1597.         1755.         1866.\n",
      " 1488.         1659.         1760.         1612.         1871.\n",
      " 1817.         1784.         1653.         1764.         1808.\n",
      " 1625.         1855.         1830.         1801.         1749.\n",
      " 1644.         1609.         1790.         1867.         1739.\n",
      " 1692.         1864.         1775.         1799.         1861.\n",
      " 1843.         1821.         1422.         1848.         1838.\n",
      " 1525.         1615.         1723.         1624.         1839.\n",
      " 1588.         1786.         1778.         1754.         1805.\n",
      " 1857.         1620.         1835.         1564.         1785.\n",
      " 1682.         1717.         1709.         1829.         1789.\n",
      " 1704.         1702.         1569.         1367.         1731.\n",
      " 1470.         1747.         1641.         1694.         1844.\n",
      " 1601.         1611.         1798.         1639.         1450.\n",
      " 1621.         1803.         1711.         1500.         1849.\n",
      " 1802.         1667.         1815.         1787.         1666.\n",
      " 1846.         1583.         1796.         1689.         1670.\n",
      " 1658.         1837.         1845.         1708.         1735.\n",
      " 1350.         1824.         1853.         1768.         1713.\n",
      " 1743.         1779.         1578.         1742.         1467.\n",
      " 1788.         1729.         1719.         1701.         1575.\n",
      " 1852.         1364.         1607.         1722.         1673.\n",
      " 1460.         1642.         1791.         1630.         1651.\n",
      " 1604.         1721.         1654.         1740.         1638.\n",
      " 1664.         1606.         1781.         1671.         1497.\n",
      " 1610.         1771.         1250.         1555.         1858.\n",
      " 1668.         1519.         1619.         1720.         1437.\n",
      " 1400.         1690.         1409.         1811.         1758.\n",
      " 1816.         1842.         1649.         1812.         1635.\n",
      " 1769.         1602.         1648.         1726.         1230.\n",
      " 1714.         1613.         1536.         1698.         1366.\n",
      " 1746.         1475.         1674.         1710.         1444.\n",
      " 1672.         1657.         1622.         1765.         1471.\n",
      " 1617.         1806.         1727.         1783.         1509.        ]\n"
     ]
    }
   ],
   "source": [
    "print('count unique city:', len(pd.unique(df['city'])))\n",
    "print('unique city:', pd.unique(df['city']))\n",
    "\n",
    "print('\\ncount unique postcode:', len(pd.unique(df['postcode'])))\n",
    "print('unique postcode:', pd.unique(df['postcode']))\n",
    "\n",
    "print('\\ncount unique year:', len(pd.unique(df['year'])))\n",
    "print('unique year:', pd.unique(df['year']))"
   ]
  },
  {
   "cell_type": "code",
   "execution_count": null,
   "metadata": {},
   "outputs": [],
   "source": []
  },
  {
   "cell_type": "code",
   "execution_count": 10,
   "metadata": {},
   "outputs": [],
   "source": [
    "label_col = [\"bldg_height\"]\n",
    "num_cols = [\"area\", \"perimeter\", \"length\", \"building_levels\", \"year\", \"count_vertices\", \"compactness\", \"complexity\", \"count_neighbor\"]\n",
    "# cat_cols = [\"city\", \"postcode\"]\n",
    "cat_cols = [col for col in df.columns if col not in (num_cols + label_col)]\n"
   ]
  },
  {
   "cell_type": "code",
   "execution_count": null,
   "metadata": {},
   "outputs": [],
   "source": []
  },
  {
   "cell_type": "code",
   "execution_count": 11,
   "metadata": {},
   "outputs": [
    {
     "data": {
      "text/html": [
       "<div>\n",
       "<style scoped>\n",
       "    .dataframe tbody tr th:only-of-type {\n",
       "        vertical-align: middle;\n",
       "    }\n",
       "\n",
       "    .dataframe tbody tr th {\n",
       "        vertical-align: top;\n",
       "    }\n",
       "\n",
       "    .dataframe thead th {\n",
       "        text-align: right;\n",
       "    }\n",
       "</style>\n",
       "<table border=\"1\" class=\"dataframe\">\n",
       "  <thead>\n",
       "    <tr style=\"text-align: right;\">\n",
       "      <th></th>\n",
       "      <th>city</th>\n",
       "      <th>country</th>\n",
       "      <th>postcode</th>\n",
       "      <th>state_name</th>\n",
       "    </tr>\n",
       "    <tr>\n",
       "      <th>osm_way_id</th>\n",
       "      <th></th>\n",
       "      <th></th>\n",
       "      <th></th>\n",
       "      <th></th>\n",
       "    </tr>\n",
       "  </thead>\n",
       "  <tbody>\n",
       "    <tr>\n",
       "      <th>272179791</th>\n",
       "      <td>NaN</td>\n",
       "      <td>NL</td>\n",
       "      <td>NaN</td>\n",
       "      <td>South Holland</td>\n",
       "    </tr>\n",
       "    <tr>\n",
       "      <th>270914429</th>\n",
       "      <td>NaN</td>\n",
       "      <td>NL</td>\n",
       "      <td>NaN</td>\n",
       "      <td>South Holland</td>\n",
       "    </tr>\n",
       "    <tr>\n",
       "      <th>271604097</th>\n",
       "      <td>NaN</td>\n",
       "      <td>NL</td>\n",
       "      <td>NaN</td>\n",
       "      <td>South Holland</td>\n",
       "    </tr>\n",
       "    <tr>\n",
       "      <th>279653820</th>\n",
       "      <td>NaN</td>\n",
       "      <td>NL</td>\n",
       "      <td>NaN</td>\n",
       "      <td>South Holland</td>\n",
       "    </tr>\n",
       "    <tr>\n",
       "      <th>264135079</th>\n",
       "      <td>NaN</td>\n",
       "      <td>NL</td>\n",
       "      <td>NaN</td>\n",
       "      <td>South Holland</td>\n",
       "    </tr>\n",
       "    <tr>\n",
       "      <th>...</th>\n",
       "      <td>...</td>\n",
       "      <td>...</td>\n",
       "      <td>...</td>\n",
       "      <td>...</td>\n",
       "    </tr>\n",
       "    <tr>\n",
       "      <th>269646293</th>\n",
       "      <td>NaN</td>\n",
       "      <td>NL</td>\n",
       "      <td>NaN</td>\n",
       "      <td>South Holland</td>\n",
       "    </tr>\n",
       "    <tr>\n",
       "      <th>285553360</th>\n",
       "      <td>NaN</td>\n",
       "      <td>NL</td>\n",
       "      <td>NaN</td>\n",
       "      <td>South Holland</td>\n",
       "    </tr>\n",
       "    <tr>\n",
       "      <th>427606715</th>\n",
       "      <td>NaN</td>\n",
       "      <td>NL</td>\n",
       "      <td>NaN</td>\n",
       "      <td>South Holland</td>\n",
       "    </tr>\n",
       "    <tr>\n",
       "      <th>253318868</th>\n",
       "      <td>NaN</td>\n",
       "      <td>NL</td>\n",
       "      <td>NaN</td>\n",
       "      <td>South Holland</td>\n",
       "    </tr>\n",
       "    <tr>\n",
       "      <th>265836952</th>\n",
       "      <td>NaN</td>\n",
       "      <td>NL</td>\n",
       "      <td>NaN</td>\n",
       "      <td>South Holland</td>\n",
       "    </tr>\n",
       "  </tbody>\n",
       "</table>\n",
       "<p>163867 rows × 4 columns</p>\n",
       "</div>"
      ],
      "text/plain": [
       "           city country postcode     state_name\n",
       "osm_way_id                                     \n",
       "272179791   NaN      NL      NaN  South Holland\n",
       "270914429   NaN      NL      NaN  South Holland\n",
       "271604097   NaN      NL      NaN  South Holland\n",
       "279653820   NaN      NL      NaN  South Holland\n",
       "264135079   NaN      NL      NaN  South Holland\n",
       "...         ...     ...      ...            ...\n",
       "269646293   NaN      NL      NaN  South Holland\n",
       "285553360   NaN      NL      NaN  South Holland\n",
       "427606715   NaN      NL      NaN  South Holland\n",
       "253318868   NaN      NL      NaN  South Holland\n",
       "265836952   NaN      NL      NaN  South Holland\n",
       "\n",
       "[163867 rows x 4 columns]"
      ]
     },
     "execution_count": 11,
     "metadata": {},
     "output_type": "execute_result"
    }
   ],
   "source": [
    "cat_df = df[cat_cols]\n",
    "cat_df"
   ]
  },
  {
   "cell_type": "code",
   "execution_count": null,
   "metadata": {},
   "outputs": [],
   "source": []
  },
  {
   "cell_type": "code",
   "execution_count": 12,
   "metadata": {},
   "outputs": [
    {
     "data": {
      "text/html": [
       "<div>\n",
       "<style scoped>\n",
       "    .dataframe tbody tr th:only-of-type {\n",
       "        vertical-align: middle;\n",
       "    }\n",
       "\n",
       "    .dataframe tbody tr th {\n",
       "        vertical-align: top;\n",
       "    }\n",
       "\n",
       "    .dataframe thead th {\n",
       "        text-align: right;\n",
       "    }\n",
       "</style>\n",
       "<table border=\"1\" class=\"dataframe\">\n",
       "  <thead>\n",
       "    <tr style=\"text-align: right;\">\n",
       "      <th></th>\n",
       "      <th>area</th>\n",
       "      <th>perimeter</th>\n",
       "      <th>length</th>\n",
       "      <th>building_levels</th>\n",
       "      <th>year</th>\n",
       "      <th>count_vertices</th>\n",
       "      <th>compactness</th>\n",
       "      <th>complexity</th>\n",
       "      <th>count_neighbor</th>\n",
       "    </tr>\n",
       "  </thead>\n",
       "  <tbody>\n",
       "    <tr>\n",
       "      <th>count</th>\n",
       "      <td>163867.000000</td>\n",
       "      <td>163867.000000</td>\n",
       "      <td>163867.000000</td>\n",
       "      <td>2294.000000</td>\n",
       "      <td>163860.000000</td>\n",
       "      <td>163867.000000</td>\n",
       "      <td>163867.000000</td>\n",
       "      <td>163867.000000</td>\n",
       "      <td>163834.000000</td>\n",
       "    </tr>\n",
       "    <tr>\n",
       "      <th>mean</th>\n",
       "      <td>130.765575</td>\n",
       "      <td>34.547900</td>\n",
       "      <td>12.537839</td>\n",
       "      <td>1.527027</td>\n",
       "      <td>1970.070212</td>\n",
       "      <td>7.309739</td>\n",
       "      <td>0.820272</td>\n",
       "      <td>11.516670</td>\n",
       "      <td>626.205220</td>\n",
       "    </tr>\n",
       "    <tr>\n",
       "      <th>std</th>\n",
       "      <td>1182.297173</td>\n",
       "      <td>44.164229</td>\n",
       "      <td>15.424906</td>\n",
       "      <td>1.764087</td>\n",
       "      <td>36.822677</td>\n",
       "      <td>5.038604</td>\n",
       "      <td>0.070138</td>\n",
       "      <td>5.193384</td>\n",
       "      <td>307.696479</td>\n",
       "    </tr>\n",
       "    <tr>\n",
       "      <th>min</th>\n",
       "      <td>0.104378</td>\n",
       "      <td>2.253801</td>\n",
       "      <td>0.845110</td>\n",
       "      <td>-3.000000</td>\n",
       "      <td>1230.000000</td>\n",
       "      <td>4.000000</td>\n",
       "      <td>0.103714</td>\n",
       "      <td>3.103151</td>\n",
       "      <td>1.000000</td>\n",
       "    </tr>\n",
       "    <tr>\n",
       "      <th>25%</th>\n",
       "      <td>11.218958</td>\n",
       "      <td>13.927939</td>\n",
       "      <td>5.090746</td>\n",
       "      <td>1.000000</td>\n",
       "      <td>1957.000000</td>\n",
       "      <td>5.000000</td>\n",
       "      <td>0.791563</td>\n",
       "      <td>7.598820</td>\n",
       "      <td>429.000000</td>\n",
       "    </tr>\n",
       "    <tr>\n",
       "      <th>50%</th>\n",
       "      <td>50.177249</td>\n",
       "      <td>29.795345</td>\n",
       "      <td>10.867664</td>\n",
       "      <td>1.000000</td>\n",
       "      <td>1976.000000</td>\n",
       "      <td>5.000000</td>\n",
       "      <td>0.843833</td>\n",
       "      <td>11.141753</td>\n",
       "      <td>638.000000</td>\n",
       "    </tr>\n",
       "    <tr>\n",
       "      <th>75%</th>\n",
       "      <td>71.670580</td>\n",
       "      <td>38.925523</td>\n",
       "      <td>14.331393</td>\n",
       "      <td>1.000000</td>\n",
       "      <td>1993.000000</td>\n",
       "      <td>8.000000</td>\n",
       "      <td>0.871962</td>\n",
       "      <td>13.339646</td>\n",
       "      <td>832.000000</td>\n",
       "    </tr>\n",
       "    <tr>\n",
       "      <th>max</th>\n",
       "      <td>105192.634351</td>\n",
       "      <td>3386.650409</td>\n",
       "      <td>841.186456</td>\n",
       "      <td>39.000000</td>\n",
       "      <td>2020.000000</td>\n",
       "      <td>270.000000</td>\n",
       "      <td>0.999655</td>\n",
       "      <td>234.086835</td>\n",
       "      <td>2129.000000</td>\n",
       "    </tr>\n",
       "  </tbody>\n",
       "</table>\n",
       "</div>"
      ],
      "text/plain": [
       "                area      perimeter         length  building_levels  \\\n",
       "count  163867.000000  163867.000000  163867.000000      2294.000000   \n",
       "mean      130.765575      34.547900      12.537839         1.527027   \n",
       "std      1182.297173      44.164229      15.424906         1.764087   \n",
       "min         0.104378       2.253801       0.845110        -3.000000   \n",
       "25%        11.218958      13.927939       5.090746         1.000000   \n",
       "50%        50.177249      29.795345      10.867664         1.000000   \n",
       "75%        71.670580      38.925523      14.331393         1.000000   \n",
       "max    105192.634351    3386.650409     841.186456        39.000000   \n",
       "\n",
       "                year  count_vertices    compactness     complexity  \\\n",
       "count  163860.000000   163867.000000  163867.000000  163867.000000   \n",
       "mean     1970.070212        7.309739       0.820272      11.516670   \n",
       "std        36.822677        5.038604       0.070138       5.193384   \n",
       "min      1230.000000        4.000000       0.103714       3.103151   \n",
       "25%      1957.000000        5.000000       0.791563       7.598820   \n",
       "50%      1976.000000        5.000000       0.843833      11.141753   \n",
       "75%      1993.000000        8.000000       0.871962      13.339646   \n",
       "max      2020.000000      270.000000       0.999655     234.086835   \n",
       "\n",
       "       count_neighbor  \n",
       "count   163834.000000  \n",
       "mean       626.205220  \n",
       "std        307.696479  \n",
       "min          1.000000  \n",
       "25%        429.000000  \n",
       "50%        638.000000  \n",
       "75%        832.000000  \n",
       "max       2129.000000  "
      ]
     },
     "execution_count": 12,
     "metadata": {},
     "output_type": "execute_result"
    }
   ],
   "source": [
    "num_df = df[num_cols]\n",
    "num_df.describe()\n"
   ]
  },
  {
   "cell_type": "code",
   "execution_count": 13,
   "metadata": {},
   "outputs": [
    {
     "data": {
      "text/plain": [
       "area                    0\n",
       "perimeter               0\n",
       "length                  0\n",
       "building_levels    161573\n",
       "year                    7\n",
       "count_vertices          0\n",
       "compactness             0\n",
       "complexity              0\n",
       "count_neighbor         33\n",
       "dtype: int64"
      ]
     },
     "execution_count": 13,
     "metadata": {},
     "output_type": "execute_result"
    }
   ],
   "source": [
    "num_df.isna().sum()"
   ]
  },
  {
   "cell_type": "code",
   "execution_count": null,
   "metadata": {},
   "outputs": [],
   "source": []
  },
  {
   "cell_type": "code",
   "execution_count": 14,
   "metadata": {},
   "outputs": [
    {
     "data": {
      "text/plain": [
       "area               0\n",
       "perimeter          0\n",
       "length             0\n",
       "building_levels    0\n",
       "year               0\n",
       "count_vertices     0\n",
       "compactness        0\n",
       "complexity         0\n",
       "count_neighbor     0\n",
       "dtype: int64"
      ]
     },
     "execution_count": 14,
     "metadata": {},
     "output_type": "execute_result"
    }
   ],
   "source": [
    "num_df = df[num_cols].fillna(df[num_cols].mean())\n",
    "num_df.isna().sum()"
   ]
  },
  {
   "cell_type": "code",
   "execution_count": null,
   "metadata": {},
   "outputs": [],
   "source": []
  },
  {
   "cell_type": "code",
   "execution_count": null,
   "metadata": {},
   "outputs": [],
   "source": []
  },
  {
   "cell_type": "code",
   "execution_count": null,
   "metadata": {},
   "outputs": [],
   "source": []
  },
  {
   "cell_type": "code",
   "execution_count": 11,
   "metadata": {},
   "outputs": [],
   "source": []
  },
  {
   "cell_type": "code",
   "execution_count": 28,
   "metadata": {},
   "outputs": [
    {
     "data": {
      "text/html": [
       "<div>\n",
       "<style scoped>\n",
       "    .dataframe tbody tr th:only-of-type {\n",
       "        vertical-align: middle;\n",
       "    }\n",
       "\n",
       "    .dataframe tbody tr th {\n",
       "        vertical-align: top;\n",
       "    }\n",
       "\n",
       "    .dataframe thead th {\n",
       "        text-align: right;\n",
       "    }\n",
       "</style>\n",
       "<table border=\"1\" class=\"dataframe\">\n",
       "  <thead>\n",
       "    <tr style=\"text-align: right;\">\n",
       "      <th></th>\n",
       "      <th>area</th>\n",
       "      <th>perimeter</th>\n",
       "      <th>length</th>\n",
       "      <th>building_levels</th>\n",
       "      <th>year</th>\n",
       "      <th>count_vertices</th>\n",
       "      <th>compactness</th>\n",
       "      <th>complexity</th>\n",
       "      <th>count_neighbor</th>\n",
       "    </tr>\n",
       "  </thead>\n",
       "  <tbody>\n",
       "    <tr>\n",
       "      <th>count</th>\n",
       "      <td>163867.000000</td>\n",
       "      <td>163867.000000</td>\n",
       "      <td>163867.000000</td>\n",
       "      <td>163867.000000</td>\n",
       "      <td>163867.000000</td>\n",
       "      <td>163867.000000</td>\n",
       "      <td>163867.000000</td>\n",
       "      <td>163867.000000</td>\n",
       "      <td>163867.000000</td>\n",
       "    </tr>\n",
       "    <tr>\n",
       "      <th>mean</th>\n",
       "      <td>130.765575</td>\n",
       "      <td>34.547900</td>\n",
       "      <td>12.537839</td>\n",
       "      <td>1.527027</td>\n",
       "      <td>1970.070212</td>\n",
       "      <td>7.309739</td>\n",
       "      <td>0.820272</td>\n",
       "      <td>11.516670</td>\n",
       "      <td>626.205220</td>\n",
       "    </tr>\n",
       "    <tr>\n",
       "      <th>std</th>\n",
       "      <td>1182.297173</td>\n",
       "      <td>44.164229</td>\n",
       "      <td>15.424906</td>\n",
       "      <td>0.208678</td>\n",
       "      <td>36.821891</td>\n",
       "      <td>5.038604</td>\n",
       "      <td>0.070138</td>\n",
       "      <td>5.193384</td>\n",
       "      <td>307.665495</td>\n",
       "    </tr>\n",
       "    <tr>\n",
       "      <th>min</th>\n",
       "      <td>0.104378</td>\n",
       "      <td>2.253801</td>\n",
       "      <td>0.845110</td>\n",
       "      <td>-3.000000</td>\n",
       "      <td>1230.000000</td>\n",
       "      <td>4.000000</td>\n",
       "      <td>0.103714</td>\n",
       "      <td>3.103151</td>\n",
       "      <td>1.000000</td>\n",
       "    </tr>\n",
       "    <tr>\n",
       "      <th>25%</th>\n",
       "      <td>11.218958</td>\n",
       "      <td>13.927939</td>\n",
       "      <td>5.090746</td>\n",
       "      <td>1.527027</td>\n",
       "      <td>1957.000000</td>\n",
       "      <td>5.000000</td>\n",
       "      <td>0.791563</td>\n",
       "      <td>7.598820</td>\n",
       "      <td>429.000000</td>\n",
       "    </tr>\n",
       "    <tr>\n",
       "      <th>50%</th>\n",
       "      <td>50.177249</td>\n",
       "      <td>29.795345</td>\n",
       "      <td>10.867664</td>\n",
       "      <td>1.527027</td>\n",
       "      <td>1976.000000</td>\n",
       "      <td>5.000000</td>\n",
       "      <td>0.843833</td>\n",
       "      <td>11.141753</td>\n",
       "      <td>638.000000</td>\n",
       "    </tr>\n",
       "    <tr>\n",
       "      <th>75%</th>\n",
       "      <td>71.670580</td>\n",
       "      <td>38.925523</td>\n",
       "      <td>14.331393</td>\n",
       "      <td>1.527027</td>\n",
       "      <td>1993.000000</td>\n",
       "      <td>8.000000</td>\n",
       "      <td>0.871962</td>\n",
       "      <td>13.339646</td>\n",
       "      <td>832.000000</td>\n",
       "    </tr>\n",
       "    <tr>\n",
       "      <th>max</th>\n",
       "      <td>105192.634351</td>\n",
       "      <td>3386.650409</td>\n",
       "      <td>841.186456</td>\n",
       "      <td>39.000000</td>\n",
       "      <td>2020.000000</td>\n",
       "      <td>270.000000</td>\n",
       "      <td>0.999655</td>\n",
       "      <td>234.086835</td>\n",
       "      <td>2129.000000</td>\n",
       "    </tr>\n",
       "  </tbody>\n",
       "</table>\n",
       "</div>"
      ],
      "text/plain": [
       "                area      perimeter         length  building_levels  \\\n",
       "count  163867.000000  163867.000000  163867.000000    163867.000000   \n",
       "mean      130.765575      34.547900      12.537839         1.527027   \n",
       "std      1182.297173      44.164229      15.424906         0.208678   \n",
       "min         0.104378       2.253801       0.845110        -3.000000   \n",
       "25%        11.218958      13.927939       5.090746         1.527027   \n",
       "50%        50.177249      29.795345      10.867664         1.527027   \n",
       "75%        71.670580      38.925523      14.331393         1.527027   \n",
       "max    105192.634351    3386.650409     841.186456        39.000000   \n",
       "\n",
       "                year  count_vertices    compactness     complexity  \\\n",
       "count  163867.000000   163867.000000  163867.000000  163867.000000   \n",
       "mean     1970.070212        7.309739       0.820272      11.516670   \n",
       "std        36.821891        5.038604       0.070138       5.193384   \n",
       "min      1230.000000        4.000000       0.103714       3.103151   \n",
       "25%      1957.000000        5.000000       0.791563       7.598820   \n",
       "50%      1976.000000        5.000000       0.843833      11.141753   \n",
       "75%      1993.000000        8.000000       0.871962      13.339646   \n",
       "max      2020.000000      270.000000       0.999655     234.086835   \n",
       "\n",
       "       count_neighbor  \n",
       "count   163867.000000  \n",
       "mean       626.205220  \n",
       "std        307.665495  \n",
       "min          1.000000  \n",
       "25%        429.000000  \n",
       "50%        638.000000  \n",
       "75%        832.000000  \n",
       "max       2129.000000  "
      ]
     },
     "execution_count": 28,
     "metadata": {},
     "output_type": "execute_result"
    }
   ],
   "source": [
    "num_df.describe()"
   ]
  },
  {
   "cell_type": "code",
   "execution_count": 77,
   "metadata": {},
   "outputs": [
    {
     "data": {
      "image/png": "[encoded data removed]",
      "text/plain": [
       "<Figure size 1080x360 with 9 Axes>"
      ]
     },
     "metadata": {
      "needs_background": "light"
     },
     "output_type": "display_data"
    }
   ],
   "source": [
    "num_df.plot(kind='box', subplots=True, figsize=(15,5))\n",
    "plt.plot()\n",
    "plt.savefig('feature_engineering/num_df.png', dpi=600)"
   ]
  },
  {
   "cell_type": "code",
   "execution_count": null,
   "metadata": {},
   "outputs": [],
   "source": []
  },
  {
   "cell_type": "code",
   "execution_count": 31,
   "metadata": {},
   "outputs": [
    {
     "data": {
      "text/html": [
       "<div>\n",
       "<style scoped>\n",
       "    .dataframe tbody tr th:only-of-type {\n",
       "        vertical-align: middle;\n",
       "    }\n",
       "\n",
       "    .dataframe tbody tr th {\n",
       "        vertical-align: top;\n",
       "    }\n",
       "\n",
       "    .dataframe thead th {\n",
       "        text-align: right;\n",
       "    }\n",
       "</style>\n",
       "<table border=\"1\" class=\"dataframe\">\n",
       "  <thead>\n",
       "    <tr style=\"text-align: right;\">\n",
       "      <th></th>\n",
       "      <th>area</th>\n",
       "      <th>perimeter</th>\n",
       "      <th>length</th>\n",
       "      <th>building_levels</th>\n",
       "      <th>year</th>\n",
       "      <th>count_vertices</th>\n",
       "      <th>compactness</th>\n",
       "      <th>complexity</th>\n",
       "      <th>count_neighbor</th>\n",
       "    </tr>\n",
       "    <tr>\n",
       "      <th>osm_way_id</th>\n",
       "      <th></th>\n",
       "      <th></th>\n",
       "      <th></th>\n",
       "      <th></th>\n",
       "      <th></th>\n",
       "      <th></th>\n",
       "      <th></th>\n",
       "      <th></th>\n",
       "      <th></th>\n",
       "    </tr>\n",
       "  </thead>\n",
       "  <tbody>\n",
       "    <tr>\n",
       "      <th>272179791</th>\n",
       "      <td>55.867402</td>\n",
       "      <td>30.627942</td>\n",
       "      <td>11.085899</td>\n",
       "      <td>1.527027</td>\n",
       "      <td>1969.0</td>\n",
       "      <td>5</td>\n",
       "      <td>0.865100</td>\n",
       "      <td>11.202841</td>\n",
       "      <td>556.0</td>\n",
       "    </tr>\n",
       "    <tr>\n",
       "      <th>270914429</th>\n",
       "      <td>106.684473</td>\n",
       "      <td>46.583981</td>\n",
       "      <td>18.451951</td>\n",
       "      <td>1.527027</td>\n",
       "      <td>1920.0</td>\n",
       "      <td>8</td>\n",
       "      <td>0.785993</td>\n",
       "      <td>14.494769</td>\n",
       "      <td>692.0</td>\n",
       "    </tr>\n",
       "    <tr>\n",
       "      <th>271604097</th>\n",
       "      <td>71.714472</td>\n",
       "      <td>42.267066</td>\n",
       "      <td>16.199849</td>\n",
       "      <td>1.527027</td>\n",
       "      <td>1956.0</td>\n",
       "      <td>7</td>\n",
       "      <td>0.710242</td>\n",
       "      <td>14.524474</td>\n",
       "      <td>535.0</td>\n",
       "    </tr>\n",
       "    <tr>\n",
       "      <th>279653820</th>\n",
       "      <td>44.937904</td>\n",
       "      <td>26.973740</td>\n",
       "      <td>9.604454</td>\n",
       "      <td>1.527027</td>\n",
       "      <td>1964.0</td>\n",
       "      <td>5</td>\n",
       "      <td>0.880988</td>\n",
       "      <td>10.418087</td>\n",
       "      <td>620.0</td>\n",
       "    </tr>\n",
       "    <tr>\n",
       "      <th>264135079</th>\n",
       "      <td>8.834287</td>\n",
       "      <td>12.025071</td>\n",
       "      <td>4.303666</td>\n",
       "      <td>1.527027</td>\n",
       "      <td>1968.0</td>\n",
       "      <td>5</td>\n",
       "      <td>0.876200</td>\n",
       "      <td>6.975009</td>\n",
       "      <td>662.0</td>\n",
       "    </tr>\n",
       "    <tr>\n",
       "      <th>...</th>\n",
       "      <td>...</td>\n",
       "      <td>...</td>\n",
       "      <td>...</td>\n",
       "      <td>...</td>\n",
       "      <td>...</td>\n",
       "      <td>...</td>\n",
       "      <td>...</td>\n",
       "      <td>...</td>\n",
       "      <td>...</td>\n",
       "    </tr>\n",
       "    <tr>\n",
       "      <th>269646293</th>\n",
       "      <td>403.303557</td>\n",
       "      <td>114.049462</td>\n",
       "      <td>38.311298</td>\n",
       "      <td>1.527027</td>\n",
       "      <td>1926.0</td>\n",
       "      <td>26</td>\n",
       "      <td>0.624206</td>\n",
       "      <td>25.449850</td>\n",
       "      <td>728.0</td>\n",
       "    </tr>\n",
       "    <tr>\n",
       "      <th>285553360</th>\n",
       "      <td>17.360519</td>\n",
       "      <td>17.642582</td>\n",
       "      <td>6.567306</td>\n",
       "      <td>1.527027</td>\n",
       "      <td>1970.0</td>\n",
       "      <td>7</td>\n",
       "      <td>0.837190</td>\n",
       "      <td>8.643139</td>\n",
       "      <td>539.0</td>\n",
       "    </tr>\n",
       "    <tr>\n",
       "      <th>427606715</th>\n",
       "      <td>6.280046</td>\n",
       "      <td>10.068793</td>\n",
       "      <td>3.578123</td>\n",
       "      <td>1.527027</td>\n",
       "      <td>2016.0</td>\n",
       "      <td>5</td>\n",
       "      <td>0.882285</td>\n",
       "      <td>6.360434</td>\n",
       "      <td>815.0</td>\n",
       "    </tr>\n",
       "    <tr>\n",
       "      <th>253318868</th>\n",
       "      <td>6.044720</td>\n",
       "      <td>10.030255</td>\n",
       "      <td>3.626005</td>\n",
       "      <td>1.527027</td>\n",
       "      <td>1984.0</td>\n",
       "      <td>5</td>\n",
       "      <td>0.868923</td>\n",
       "      <td>6.396876</td>\n",
       "      <td>457.0</td>\n",
       "    </tr>\n",
       "    <tr>\n",
       "      <th>265836952</th>\n",
       "      <td>200.324355</td>\n",
       "      <td>59.544742</td>\n",
       "      <td>22.177997</td>\n",
       "      <td>1.527027</td>\n",
       "      <td>2001.0</td>\n",
       "      <td>5</td>\n",
       "      <td>0.842613</td>\n",
       "      <td>15.827415</td>\n",
       "      <td>99.0</td>\n",
       "    </tr>\n",
       "  </tbody>\n",
       "</table>\n",
       "<p>163867 rows × 9 columns</p>\n",
       "</div>"
      ],
      "text/plain": [
       "                  area   perimeter     length  building_levels    year  \\\n",
       "osm_way_id                                                               \n",
       "272179791    55.867402   30.627942  11.085899         1.527027  1969.0   \n",
       "270914429   106.684473   46.583981  18.451951         1.527027  1920.0   \n",
       "271604097    71.714472   42.267066  16.199849         1.527027  1956.0   \n",
       "279653820    44.937904   26.973740   9.604454         1.527027  1964.0   \n",
       "264135079     8.834287   12.025071   4.303666         1.527027  1968.0   \n",
       "...                ...         ...        ...              ...     ...   \n",
       "269646293   403.303557  114.049462  38.311298         1.527027  1926.0   \n",
       "285553360    17.360519   17.642582   6.567306         1.527027  1970.0   \n",
       "427606715     6.280046   10.068793   3.578123         1.527027  2016.0   \n",
       "253318868     6.044720   10.030255   3.626005         1.527027  1984.0   \n",
       "265836952   200.324355   59.544742  22.177997         1.527027  2001.0   \n",
       "\n",
       "            count_vertices  compactness  complexity  count_neighbor  \n",
       "osm_way_id                                                           \n",
       "272179791                5     0.865100   11.202841           556.0  \n",
       "270914429                8     0.785993   14.494769           692.0  \n",
       "271604097                7     0.710242   14.524474           535.0  \n",
       "279653820                5     0.880988   10.418087           620.0  \n",
       "264135079                5     0.876200    6.975009           662.0  \n",
       "...                    ...          ...         ...             ...  \n",
       "269646293               26     0.624206   25.449850           728.0  \n",
       "285553360                7     0.837190    8.643139           539.0  \n",
       "427606715                5     0.882285    6.360434           815.0  \n",
       "253318868                5     0.868923    6.396876           457.0  \n",
       "265836952                5     0.842613   15.827415            99.0  \n",
       "\n",
       "[163867 rows x 9 columns]"
      ]
     },
     "execution_count": 31,
     "metadata": {},
     "output_type": "execute_result"
    }
   ],
   "source": [
    "num_df"
   ]
  },
  {
   "cell_type": "code",
   "execution_count": 33,
   "metadata": {},
   "outputs": [
    {
     "data": {
      "text/html": [
       "<div>\n",
       "<style scoped>\n",
       "    .dataframe tbody tr th:only-of-type {\n",
       "        vertical-align: middle;\n",
       "    }\n",
       "\n",
       "    .dataframe tbody tr th {\n",
       "        vertical-align: top;\n",
       "    }\n",
       "\n",
       "    .dataframe thead th {\n",
       "        text-align: right;\n",
       "    }\n",
       "</style>\n",
       "<table border=\"1\" class=\"dataframe\">\n",
       "  <thead>\n",
       "    <tr style=\"text-align: right;\">\n",
       "      <th></th>\n",
       "      <th>area</th>\n",
       "      <th>perimeter</th>\n",
       "      <th>length</th>\n",
       "      <th>building_levels</th>\n",
       "      <th>year</th>\n",
       "      <th>count_vertices</th>\n",
       "      <th>compactness</th>\n",
       "      <th>complexity</th>\n",
       "      <th>count_neighbor</th>\n",
       "      <th>bldg_height</th>\n",
       "    </tr>\n",
       "    <tr>\n",
       "      <th>osm_way_id</th>\n",
       "      <th></th>\n",
       "      <th></th>\n",
       "      <th></th>\n",
       "      <th></th>\n",
       "      <th></th>\n",
       "      <th></th>\n",
       "      <th></th>\n",
       "      <th></th>\n",
       "      <th></th>\n",
       "      <th></th>\n",
       "    </tr>\n",
       "  </thead>\n",
       "  <tbody>\n",
       "    <tr>\n",
       "      <th>272179791</th>\n",
       "      <td>55.867402</td>\n",
       "      <td>30.627942</td>\n",
       "      <td>11.085899</td>\n",
       "      <td>NaN</td>\n",
       "      <td>1969.0</td>\n",
       "      <td>5</td>\n",
       "      <td>0.865100</td>\n",
       "      <td>11.202841</td>\n",
       "      <td>556.0</td>\n",
       "      <td>8.10</td>\n",
       "    </tr>\n",
       "    <tr>\n",
       "      <th>270914429</th>\n",
       "      <td>106.684473</td>\n",
       "      <td>46.583981</td>\n",
       "      <td>18.451951</td>\n",
       "      <td>NaN</td>\n",
       "      <td>1920.0</td>\n",
       "      <td>8</td>\n",
       "      <td>0.785993</td>\n",
       "      <td>14.494769</td>\n",
       "      <td>692.0</td>\n",
       "      <td>7.01</td>\n",
       "    </tr>\n",
       "    <tr>\n",
       "      <th>271604097</th>\n",
       "      <td>71.714472</td>\n",
       "      <td>42.267066</td>\n",
       "      <td>16.199849</td>\n",
       "      <td>NaN</td>\n",
       "      <td>1956.0</td>\n",
       "      <td>7</td>\n",
       "      <td>0.710242</td>\n",
       "      <td>14.524474</td>\n",
       "      <td>535.0</td>\n",
       "      <td>7.92</td>\n",
       "    </tr>\n",
       "    <tr>\n",
       "      <th>279653820</th>\n",
       "      <td>44.937904</td>\n",
       "      <td>26.973740</td>\n",
       "      <td>9.604454</td>\n",
       "      <td>NaN</td>\n",
       "      <td>1964.0</td>\n",
       "      <td>5</td>\n",
       "      <td>0.880988</td>\n",
       "      <td>10.418087</td>\n",
       "      <td>620.0</td>\n",
       "      <td>7.77</td>\n",
       "    </tr>\n",
       "    <tr>\n",
       "      <th>264135079</th>\n",
       "      <td>8.834287</td>\n",
       "      <td>12.025071</td>\n",
       "      <td>4.303666</td>\n",
       "      <td>NaN</td>\n",
       "      <td>1968.0</td>\n",
       "      <td>5</td>\n",
       "      <td>0.876200</td>\n",
       "      <td>6.975009</td>\n",
       "      <td>662.0</td>\n",
       "      <td>2.34</td>\n",
       "    </tr>\n",
       "    <tr>\n",
       "      <th>...</th>\n",
       "      <td>...</td>\n",
       "      <td>...</td>\n",
       "      <td>...</td>\n",
       "      <td>...</td>\n",
       "      <td>...</td>\n",
       "      <td>...</td>\n",
       "      <td>...</td>\n",
       "      <td>...</td>\n",
       "      <td>...</td>\n",
       "      <td>...</td>\n",
       "    </tr>\n",
       "    <tr>\n",
       "      <th>269646293</th>\n",
       "      <td>403.303557</td>\n",
       "      <td>114.049462</td>\n",
       "      <td>38.311298</td>\n",
       "      <td>NaN</td>\n",
       "      <td>1926.0</td>\n",
       "      <td>26</td>\n",
       "      <td>0.624206</td>\n",
       "      <td>25.449850</td>\n",
       "      <td>728.0</td>\n",
       "      <td>7.39</td>\n",
       "    </tr>\n",
       "    <tr>\n",
       "      <th>285553360</th>\n",
       "      <td>17.360519</td>\n",
       "      <td>17.642582</td>\n",
       "      <td>6.567306</td>\n",
       "      <td>NaN</td>\n",
       "      <td>1970.0</td>\n",
       "      <td>7</td>\n",
       "      <td>0.837190</td>\n",
       "      <td>8.643139</td>\n",
       "      <td>539.0</td>\n",
       "      <td>3.26</td>\n",
       "    </tr>\n",
       "    <tr>\n",
       "      <th>427606715</th>\n",
       "      <td>6.280046</td>\n",
       "      <td>10.068793</td>\n",
       "      <td>3.578123</td>\n",
       "      <td>NaN</td>\n",
       "      <td>2016.0</td>\n",
       "      <td>5</td>\n",
       "      <td>0.882285</td>\n",
       "      <td>6.360434</td>\n",
       "      <td>815.0</td>\n",
       "      <td>3.65</td>\n",
       "    </tr>\n",
       "    <tr>\n",
       "      <th>253318868</th>\n",
       "      <td>6.044720</td>\n",
       "      <td>10.030255</td>\n",
       "      <td>3.626005</td>\n",
       "      <td>NaN</td>\n",
       "      <td>1984.0</td>\n",
       "      <td>5</td>\n",
       "      <td>0.868923</td>\n",
       "      <td>6.396876</td>\n",
       "      <td>457.0</td>\n",
       "      <td>2.57</td>\n",
       "    </tr>\n",
       "    <tr>\n",
       "      <th>265836952</th>\n",
       "      <td>200.324355</td>\n",
       "      <td>59.544742</td>\n",
       "      <td>22.177997</td>\n",
       "      <td>NaN</td>\n",
       "      <td>2001.0</td>\n",
       "      <td>5</td>\n",
       "      <td>0.842613</td>\n",
       "      <td>15.827415</td>\n",
       "      <td>99.0</td>\n",
       "      <td>21.95</td>\n",
       "    </tr>\n",
       "  </tbody>\n",
       "</table>\n",
       "<p>163867 rows × 10 columns</p>\n",
       "</div>"
      ],
      "text/plain": [
       "                  area   perimeter     length  building_levels    year  \\\n",
       "osm_way_id                                                               \n",
       "272179791    55.867402   30.627942  11.085899              NaN  1969.0   \n",
       "270914429   106.684473   46.583981  18.451951              NaN  1920.0   \n",
       "271604097    71.714472   42.267066  16.199849              NaN  1956.0   \n",
       "279653820    44.937904   26.973740   9.604454              NaN  1964.0   \n",
       "264135079     8.834287   12.025071   4.303666              NaN  1968.0   \n",
       "...                ...         ...        ...              ...     ...   \n",
       "269646293   403.303557  114.049462  38.311298              NaN  1926.0   \n",
       "285553360    17.360519   17.642582   6.567306              NaN  1970.0   \n",
       "427606715     6.280046   10.068793   3.578123              NaN  2016.0   \n",
       "253318868     6.044720   10.030255   3.626005              NaN  1984.0   \n",
       "265836952   200.324355   59.544742  22.177997              NaN  2001.0   \n",
       "\n",
       "            count_vertices  compactness  complexity  count_neighbor  \\\n",
       "osm_way_id                                                            \n",
       "272179791                5     0.865100   11.202841           556.0   \n",
       "270914429                8     0.785993   14.494769           692.0   \n",
       "271604097                7     0.710242   14.524474           535.0   \n",
       "279653820                5     0.880988   10.418087           620.0   \n",
       "264135079                5     0.876200    6.975009           662.0   \n",
       "...                    ...          ...         ...             ...   \n",
       "269646293               26     0.624206   25.449850           728.0   \n",
       "285553360                7     0.837190    8.643139           539.0   \n",
       "427606715                5     0.882285    6.360434           815.0   \n",
       "253318868                5     0.868923    6.396876           457.0   \n",
       "265836952                5     0.842613   15.827415            99.0   \n",
       "\n",
       "            bldg_height  \n",
       "osm_way_id               \n",
       "272179791          8.10  \n",
       "270914429          7.01  \n",
       "271604097          7.92  \n",
       "279653820          7.77  \n",
       "264135079          2.34  \n",
       "...                 ...  \n",
       "269646293          7.39  \n",
       "285553360          3.26  \n",
       "427606715          3.65  \n",
       "253318868          2.57  \n",
       "265836952         21.95  \n",
       "\n",
       "[163867 rows x 10 columns]"
      ]
     },
     "execution_count": 33,
     "metadata": {},
     "output_type": "execute_result"
    }
   ],
   "source": [
    "corr_df = df[num_cols+ label_col]\n",
    "corr_df"
   ]
  },
  {
   "cell_type": "code",
   "execution_count": 34,
   "metadata": {},
   "outputs": [
    {
     "data": {
      "text/plain": [
       "area               0\n",
       "perimeter          0\n",
       "length             0\n",
       "building_levels    0\n",
       "year               0\n",
       "count_vertices     0\n",
       "compactness        0\n",
       "complexity         0\n",
       "count_neighbor     0\n",
       "bldg_height        0\n",
       "dtype: int64"
      ]
     },
     "execution_count": 34,
     "metadata": {},
     "output_type": "execute_result"
    }
   ],
   "source": [
    "corr_df = corr_df.fillna(corr_df.mean())\n",
    "corr_df.isna().sum()"
   ]
  },
  {
   "cell_type": "code",
   "execution_count": null,
   "metadata": {},
   "outputs": [],
   "source": []
  },
  {
   "cell_type": "code",
   "execution_count": 35,
   "metadata": {},
   "outputs": [
    {
     "data": {
      "text/html": [
       "<div>\n",
       "<style scoped>\n",
       "    .dataframe tbody tr th:only-of-type {\n",
       "        vertical-align: middle;\n",
       "    }\n",
       "\n",
       "    .dataframe tbody tr th {\n",
       "        vertical-align: top;\n",
       "    }\n",
       "\n",
       "    .dataframe thead th {\n",
       "        text-align: right;\n",
       "    }\n",
       "</style>\n",
       "<table border=\"1\" class=\"dataframe\">\n",
       "  <thead>\n",
       "    <tr style=\"text-align: right;\">\n",
       "      <th></th>\n",
       "      <th>area</th>\n",
       "      <th>perimeter</th>\n",
       "      <th>length</th>\n",
       "      <th>building_levels</th>\n",
       "      <th>year</th>\n",
       "      <th>count_vertices</th>\n",
       "      <th>compactness</th>\n",
       "      <th>complexity</th>\n",
       "      <th>count_neighbor</th>\n",
       "      <th>bldg_height</th>\n",
       "    </tr>\n",
       "  </thead>\n",
       "  <tbody>\n",
       "    <tr>\n",
       "      <th>area</th>\n",
       "      <td>1.000000</td>\n",
       "      <td>0.774402</td>\n",
       "      <td>0.770202</td>\n",
       "      <td>0.013214</td>\n",
       "      <td>0.025409</td>\n",
       "      <td>0.221346</td>\n",
       "      <td>-0.095221</td>\n",
       "      <td>0.496802</td>\n",
       "      <td>-0.115997</td>\n",
       "      <td>0.071537</td>\n",
       "    </tr>\n",
       "    <tr>\n",
       "      <th>perimeter</th>\n",
       "      <td>0.774402</td>\n",
       "      <td>1.000000</td>\n",
       "      <td>0.984919</td>\n",
       "      <td>0.052349</td>\n",
       "      <td>-0.015611</td>\n",
       "      <td>0.532567</td>\n",
       "      <td>-0.414636</td>\n",
       "      <td>0.902301</td>\n",
       "      <td>-0.251396</td>\n",
       "      <td>0.339087</td>\n",
       "    </tr>\n",
       "    <tr>\n",
       "      <th>length</th>\n",
       "      <td>0.770202</td>\n",
       "      <td>0.984919</td>\n",
       "      <td>1.000000</td>\n",
       "      <td>0.057283</td>\n",
       "      <td>-0.020590</td>\n",
       "      <td>0.488943</td>\n",
       "      <td>-0.421582</td>\n",
       "      <td>0.897482</td>\n",
       "      <td>-0.254783</td>\n",
       "      <td>0.346582</td>\n",
       "    </tr>\n",
       "    <tr>\n",
       "      <th>building_levels</th>\n",
       "      <td>0.013214</td>\n",
       "      <td>0.052349</td>\n",
       "      <td>0.057283</td>\n",
       "      <td>1.000000</td>\n",
       "      <td>-0.004792</td>\n",
       "      <td>0.046847</td>\n",
       "      <td>-0.029795</td>\n",
       "      <td>0.067100</td>\n",
       "      <td>-0.030008</td>\n",
       "      <td>0.194235</td>\n",
       "    </tr>\n",
       "    <tr>\n",
       "      <th>year</th>\n",
       "      <td>0.025409</td>\n",
       "      <td>-0.015611</td>\n",
       "      <td>-0.020590</td>\n",
       "      <td>-0.004792</td>\n",
       "      <td>1.000000</td>\n",
       "      <td>-0.076841</td>\n",
       "      <td>0.151086</td>\n",
       "      <td>-0.075877</td>\n",
       "      <td>-0.082732</td>\n",
       "      <td>-0.184848</td>\n",
       "    </tr>\n",
       "    <tr>\n",
       "      <th>count_vertices</th>\n",
       "      <td>0.221346</td>\n",
       "      <td>0.532567</td>\n",
       "      <td>0.488943</td>\n",
       "      <td>0.046847</td>\n",
       "      <td>-0.076841</td>\n",
       "      <td>1.000000</td>\n",
       "      <td>-0.529934</td>\n",
       "      <td>0.630754</td>\n",
       "      <td>-0.140718</td>\n",
       "      <td>0.347237</td>\n",
       "    </tr>\n",
       "    <tr>\n",
       "      <th>compactness</th>\n",
       "      <td>-0.095221</td>\n",
       "      <td>-0.414636</td>\n",
       "      <td>-0.421582</td>\n",
       "      <td>-0.029795</td>\n",
       "      <td>0.151086</td>\n",
       "      <td>-0.529934</td>\n",
       "      <td>1.000000</td>\n",
       "      <td>-0.649427</td>\n",
       "      <td>0.114681</td>\n",
       "      <td>-0.329176</td>\n",
       "    </tr>\n",
       "    <tr>\n",
       "      <th>complexity</th>\n",
       "      <td>0.496802</td>\n",
       "      <td>0.902301</td>\n",
       "      <td>0.897482</td>\n",
       "      <td>0.067100</td>\n",
       "      <td>-0.075877</td>\n",
       "      <td>0.630754</td>\n",
       "      <td>-0.649427</td>\n",
       "      <td>1.000000</td>\n",
       "      <td>-0.293838</td>\n",
       "      <td>0.522271</td>\n",
       "    </tr>\n",
       "    <tr>\n",
       "      <th>count_neighbor</th>\n",
       "      <td>-0.115997</td>\n",
       "      <td>-0.251396</td>\n",
       "      <td>-0.254783</td>\n",
       "      <td>-0.030008</td>\n",
       "      <td>-0.082732</td>\n",
       "      <td>-0.140718</td>\n",
       "      <td>0.114681</td>\n",
       "      <td>-0.293838</td>\n",
       "      <td>1.000000</td>\n",
       "      <td>-0.032727</td>\n",
       "    </tr>\n",
       "    <tr>\n",
       "      <th>bldg_height</th>\n",
       "      <td>0.071537</td>\n",
       "      <td>0.339087</td>\n",
       "      <td>0.346582</td>\n",
       "      <td>0.194235</td>\n",
       "      <td>-0.184848</td>\n",
       "      <td>0.347237</td>\n",
       "      <td>-0.329176</td>\n",
       "      <td>0.522271</td>\n",
       "      <td>-0.032727</td>\n",
       "      <td>1.000000</td>\n",
       "    </tr>\n",
       "  </tbody>\n",
       "</table>\n",
       "</div>"
      ],
      "text/plain": [
       "                     area  perimeter    length  building_levels      year  \\\n",
       "area             1.000000   0.774402  0.770202         0.013214  0.025409   \n",
       "perimeter        0.774402   1.000000  0.984919         0.052349 -0.015611   \n",
       "length           0.770202   0.984919  1.000000         0.057283 -0.020590   \n",
       "building_levels  0.013214   0.052349  0.057283         1.000000 -0.004792   \n",
       "year             0.025409  -0.015611 -0.020590        -0.004792  1.000000   \n",
       "count_vertices   0.221346   0.532567  0.488943         0.046847 -0.076841   \n",
       "compactness     -0.095221  -0.414636 -0.421582        -0.029795  0.151086   \n",
       "complexity       0.496802   0.902301  0.897482         0.067100 -0.075877   \n",
       "count_neighbor  -0.115997  -0.251396 -0.254783        -0.030008 -0.082732   \n",
       "bldg_height      0.071537   0.339087  0.346582         0.194235 -0.184848   \n",
       "\n",
       "                 count_vertices  compactness  complexity  count_neighbor  \\\n",
       "area                   0.221346    -0.095221    0.496802       -0.115997   \n",
       "perimeter              0.532567    -0.414636    0.902301       -0.251396   \n",
       "length                 0.488943    -0.421582    0.897482       -0.254783   \n",
       "building_levels        0.046847    -0.029795    0.067100       -0.030008   \n",
       "year                  -0.076841     0.151086   -0.075877       -0.082732   \n",
       "count_vertices         1.000000    -0.529934    0.630754       -0.140718   \n",
       "compactness           -0.529934     1.000000   -0.649427        0.114681   \n",
       "complexity             0.630754    -0.649427    1.000000       -0.293838   \n",
       "count_neighbor        -0.140718     0.114681   -0.293838        1.000000   \n",
       "bldg_height            0.347237    -0.329176    0.522271       -0.032727   \n",
       "\n",
       "                 bldg_height  \n",
       "area                0.071537  \n",
       "perimeter           0.339087  \n",
       "length              0.346582  \n",
       "building_levels     0.194235  \n",
       "year               -0.184848  \n",
       "count_vertices      0.347237  \n",
       "compactness        -0.329176  \n",
       "complexity          0.522271  \n",
       "count_neighbor     -0.032727  \n",
       "bldg_height         1.000000  "
      ]
     },
     "execution_count": 35,
     "metadata": {},
     "output_type": "execute_result"
    }
   ],
   "source": [
    "corr = corr_df.corr()\n",
    "corr"
   ]
  },
  {
   "cell_type": "code",
   "execution_count": 36,
   "metadata": {},
   "outputs": [],
   "source": [
    "import seaborn as sns\n"
   ]
  },
  {
   "cell_type": "code",
   "execution_count": 76,
   "metadata": {},
   "outputs": [
    {
     "data": {
      "image/png": "[encoded data removed]",
      "text/plain": [
       "<Figure size 432x288 with 2 Axes>"
      ]
     },
     "metadata": {
      "needs_background": "light"
     },
     "output_type": "display_data"
    }
   ],
   "source": [
    "sns.heatmap(corr)\n",
    "plt.savefig('feature_engineering/corr_heatmap.png', dpi=600)"
   ]
  },
  {
   "cell_type": "code",
   "execution_count": null,
   "metadata": {},
   "outputs": [],
   "source": []
  },
  {
   "cell_type": "code",
   "execution_count": null,
   "metadata": {},
   "outputs": [],
   "source": []
  },
  {
   "cell_type": "code",
   "execution_count": 80,
   "metadata": {},
   "outputs": [],
   "source": [
    "from sklearn.model_selection import train_test_split\n",
    "from sklearn.feature_selection import SelectKBest, f_regression, mutual_info_regression"
   ]
  },
  {
   "cell_type": "markdown",
   "metadata": {},
   "source": [
    "length, perimeter and complexity are highly correlated to each other, we should drop a couple of them. Looking at the correlation between those 3 features to bldg_height, complexity is a better indicator of bldg_height. Therefore it is chosen to keep. "
   ]
  },
  {
   "cell_type": "code",
   "execution_count": 81,
   "metadata": {},
   "outputs": [
    {
     "data": {
      "text/plain": [
       "(                  area  building_levels    year  count_vertices  compactness  \\\n",
       " osm_way_id                                                                     \n",
       " 272179791    55.867402         1.527027  1969.0               5     0.865100   \n",
       " 270914429   106.684473         1.527027  1920.0               8     0.785993   \n",
       " 271604097    71.714472         1.527027  1956.0               7     0.710242   \n",
       " 279653820    44.937904         1.527027  1964.0               5     0.880988   \n",
       " 264135079     8.834287         1.527027  1968.0               5     0.876200   \n",
       " ...                ...              ...     ...             ...          ...   \n",
       " 269646293   403.303557         1.527027  1926.0              26     0.624206   \n",
       " 285553360    17.360519         1.527027  1970.0               7     0.837190   \n",
       " 427606715     6.280046         1.527027  2016.0               5     0.882285   \n",
       " 253318868     6.044720         1.527027  1984.0               5     0.868923   \n",
       " 265836952   200.324355         1.527027  2001.0               5     0.842613   \n",
       " \n",
       "             complexity  count_neighbor  \n",
       " osm_way_id                              \n",
       " 272179791    11.202841           556.0  \n",
       " 270914429    14.494769           692.0  \n",
       " 271604097    14.524474           535.0  \n",
       " 279653820    10.418087           620.0  \n",
       " 264135079     6.975009           662.0  \n",
       " ...                ...             ...  \n",
       " 269646293    25.449850           728.0  \n",
       " 285553360     8.643139           539.0  \n",
       " 427606715     6.360434           815.0  \n",
       " 253318868     6.396876           457.0  \n",
       " 265836952    15.827415            99.0  \n",
       " \n",
       " [163867 rows x 7 columns],\n",
       " osm_way_id\n",
       " 272179791     8.10\n",
       " 270914429     7.01\n",
       " 271604097     7.92\n",
       " 279653820     7.77\n",
       " 264135079     2.34\n",
       "              ...  \n",
       " 269646293     7.39\n",
       " 285553360     3.26\n",
       " 427606715     3.65\n",
       " 253318868     2.57\n",
       " 265836952    21.95\n",
       " Name: bldg_height, Length: 163867, dtype: float64)"
      ]
     },
     "execution_count": 81,
     "metadata": {},
     "output_type": "execute_result"
    }
   ],
   "source": [
    "X = df.drop('bldg_height', axis=1).drop(cat_cols, axis=1).drop(['length', 'perimeter'], axis=1)    # drop cat_cols since can't evaluate non-numeric\n",
    "y = df['bldg_height']\n",
    "X = X.fillna(X.mean())\n",
    "X, y"
   ]
  },
  {
   "cell_type": "code",
   "execution_count": 82,
   "metadata": {},
   "outputs": [
    {
     "data": {
      "text/plain": [
       "Index(['area', 'building_levels', 'year', 'count_vertices', 'compactness',\n",
       "       'complexity', 'count_neighbor'],\n",
       "      dtype='object')"
      ]
     },
     "execution_count": 82,
     "metadata": {},
     "output_type": "execute_result"
    }
   ],
   "source": [
    "X.columns\n"
   ]
  },
  {
   "cell_type": "code",
   "execution_count": 83,
   "metadata": {},
   "outputs": [],
   "source": [
    "X_train, X_test, y_train, y_test = train_test_split(X, y, test_size=0.2,  random_state=1)"
   ]
  },
  {
   "cell_type": "code",
   "execution_count": null,
   "metadata": {},
   "outputs": [],
   "source": []
  },
  {
   "cell_type": "code",
   "execution_count": 84,
   "metadata": {},
   "outputs": [],
   "source": [
    "# feature selection function\n",
    "def select_features(score_function, X_train, y_train, X_test, k):\n",
    "\t# configure to select all features\n",
    "\tfs = SelectKBest(score_func=score_function, k=k, )\n",
    "\t# learn relationship from training data\n",
    "\tfs.fit(X_train, y_train)\n",
    "\t# transform train input data\n",
    "\tX_train_fs = fs.transform(X_train)\n",
    "\t# transform test input data\n",
    "\tX_test_fs = fs.transform(X_test)\n",
    "\treturn X_train_fs, X_test_fs, fs\n"
   ]
  },
  {
   "cell_type": "code",
   "execution_count": null,
   "metadata": {},
   "outputs": [],
   "source": []
  },
  {
   "cell_type": "code",
   "execution_count": 85,
   "metadata": {},
   "outputs": [
    {
     "name": "stdout",
     "output_type": "stream",
     "text": [
      "Feature 0: 717.149939\n",
      "Feature 1: 5037.902843\n",
      "Feature 2: 4672.149227\n",
      "Feature 3: 18466.923345\n",
      "Feature 4: 15899.321649\n",
      "Feature 5: 49537.353273\n",
      "Feature 6: 150.213545\n"
     ]
    },
    {
     "data": {
      "image/png": "[encoded data removed]",
      "text/plain": [
       "<Figure size 432x288 with 1 Axes>"
      ]
     },
     "metadata": {
      "needs_background": "light"
     },
     "output_type": "display_data"
    }
   ],
   "source": [
    "# feature selection\n",
    "X_train_fs, X_test_fs, fs = select_features(f_regression, X_train, y_train, X_test, 'all')\n",
    "# what are scores for the features\n",
    "for i in range(len(fs.scores_)):\n",
    "\tprint('Feature %d: %f' % (i, fs.scores_[i]))\n",
    "# plot the scores\n",
    "plt.bar([i for i in range(len(fs.scores_))], fs.scores_)\n",
    "plt.savefig('feature_engineering/f_regression_scores_except_length_perimeter.png', dpi=600)\n",
    "plt.show()"
   ]
  },
  {
   "cell_type": "code",
   "execution_count": null,
   "metadata": {},
   "outputs": [],
   "source": []
  },
  {
   "cell_type": "code",
   "execution_count": null,
   "metadata": {},
   "outputs": [],
   "source": []
  },
  {
   "cell_type": "code",
   "execution_count": null,
   "metadata": {},
   "outputs": [],
   "source": []
  },
  {
   "cell_type": "code",
   "execution_count": null,
   "metadata": {},
   "outputs": [],
   "source": []
  },
  {
   "cell_type": "code",
   "execution_count": null,
   "metadata": {},
   "outputs": [],
   "source": []
  },
  {
   "cell_type": "code",
   "execution_count": null,
   "metadata": {},
   "outputs": [],
   "source": []
  },
  {
   "cell_type": "code",
   "execution_count": null,
   "metadata": {},
   "outputs": [],
   "source": []
  },
  {
   "cell_type": "code",
   "execution_count": null,
   "metadata": {},
   "outputs": [],
   "source": []
  },
  {
   "cell_type": "code",
   "execution_count": null,
   "metadata": {},
   "outputs": [],
   "source": []
  },
  {
   "cell_type": "code",
   "execution_count": 66,
   "metadata": {},
   "outputs": [
    {
     "data": {
      "text/plain": [
       "(                  area   perimeter     length  building_levels    year  \\\n",
       " osm_way_id                                                               \n",
       " 272179791    55.867402   30.627942  11.085899         1.527027  1969.0   \n",
       " 270914429   106.684473   46.583981  18.451951         1.527027  1920.0   \n",
       " 271604097    71.714472   42.267066  16.199849         1.527027  1956.0   \n",
       " 279653820    44.937904   26.973740   9.604454         1.527027  1964.0   \n",
       " 264135079     8.834287   12.025071   4.303666         1.527027  1968.0   \n",
       " ...                ...         ...        ...              ...     ...   \n",
       " 269646293   403.303557  114.049462  38.311298         1.527027  1926.0   \n",
       " 285553360    17.360519   17.642582   6.567306         1.527027  1970.0   \n",
       " 427606715     6.280046   10.068793   3.578123         1.527027  2016.0   \n",
       " 253318868     6.044720   10.030255   3.626005         1.527027  1984.0   \n",
       " 265836952   200.324355   59.544742  22.177997         1.527027  2001.0   \n",
       " \n",
       "             count_vertices  compactness  complexity  count_neighbor  \n",
       " osm_way_id                                                           \n",
       " 272179791                5     0.865100   11.202841           556.0  \n",
       " 270914429                8     0.785993   14.494769           692.0  \n",
       " 271604097                7     0.710242   14.524474           535.0  \n",
       " 279653820                5     0.880988   10.418087           620.0  \n",
       " 264135079                5     0.876200    6.975009           662.0  \n",
       " ...                    ...          ...         ...             ...  \n",
       " 269646293               26     0.624206   25.449850           728.0  \n",
       " 285553360                7     0.837190    8.643139           539.0  \n",
       " 427606715                5     0.882285    6.360434           815.0  \n",
       " 253318868                5     0.868923    6.396876           457.0  \n",
       " 265836952                5     0.842613   15.827415            99.0  \n",
       " \n",
       " [163867 rows x 9 columns],\n",
       " osm_way_id\n",
       " 272179791     8.10\n",
       " 270914429     7.01\n",
       " 271604097     7.92\n",
       " 279653820     7.77\n",
       " 264135079     2.34\n",
       "              ...  \n",
       " 269646293     7.39\n",
       " 285553360     3.26\n",
       " 427606715     3.65\n",
       " 253318868     2.57\n",
       " 265836952    21.95\n",
       " Name: bldg_height, Length: 163867, dtype: float64)"
      ]
     },
     "execution_count": 66,
     "metadata": {},
     "output_type": "execute_result"
    }
   ],
   "source": [
    "X = df.drop('bldg_height', axis=1).drop(cat_cols, axis=1)\n",
    "y = df['bldg_height']\n",
    "X = X.fillna(X.mean())\n",
    "X, y"
   ]
  },
  {
   "cell_type": "code",
   "execution_count": null,
   "metadata": {},
   "outputs": [],
   "source": []
  },
  {
   "cell_type": "code",
   "execution_count": 67,
   "metadata": {},
   "outputs": [],
   "source": [
    "X_train, X_test, y_train, y_test = train_test_split(X, y, test_size=0.2,  random_state=1)"
   ]
  },
  {
   "cell_type": "code",
   "execution_count": 68,
   "metadata": {},
   "outputs": [],
   "source": [
    "from sklearn.inspection import permutation_importance\n",
    "from sklearn.ensemble import RandomForestRegressor"
   ]
  },
  {
   "cell_type": "code",
   "execution_count": 69,
   "metadata": {},
   "outputs": [
    {
     "name": "stdout",
     "output_type": "stream",
     "text": [
      "Accuracy on test data: 0.72\n"
     ]
    }
   ],
   "source": [
    "\n",
    "\n",
    "reg = RandomForestRegressor(n_jobs=-1)\n",
    "reg.fit(X_train, y_train)\n",
    "print(\"Accuracy on test data: {:.2f}\".format(reg.score(X_test, y_test)))"
   ]
  },
  {
   "cell_type": "code",
   "execution_count": 70,
   "metadata": {},
   "outputs": [],
   "source": [
    "result = permutation_importance(reg, X_train, y_train, n_repeats=10,\n",
    "                                random_state=42, n_jobs=-1)\n",
    "perm_sorted_idx = result.importances_mean.argsort()\n"
   ]
  },
  {
   "cell_type": "code",
   "execution_count": 71,
   "metadata": {},
   "outputs": [],
   "source": [
    "\n",
    "tree_importance_sorted_idx = np.argsort(reg.feature_importances_)\n",
    "tree_indices = np.arange(0, len(reg.feature_importances_)) + 0.5\n"
   ]
  },
  {
   "cell_type": "code",
   "execution_count": 74,
   "metadata": {},
   "outputs": [
    {
     "data": {
      "text/plain": [
       "Index(['area', 'perimeter', 'length', 'building_levels', 'year',\n",
       "       'count_vertices', 'compactness', 'complexity', 'count_neighbor'],\n",
       "      dtype='object')"
      ]
     },
     "execution_count": 74,
     "metadata": {},
     "output_type": "execute_result"
    }
   ],
   "source": [
    "feature_names = X.columns\n",
    "feature_names"
   ]
  },
  {
   "cell_type": "code",
   "execution_count": 75,
   "metadata": {},
   "outputs": [
    {
     "data": {
      "image/png": "[encoded data removed]",
      "text/plain": [
       "<Figure size 864x576 with 2 Axes>"
      ]
     },
     "metadata": {
      "needs_background": "light"
     },
     "output_type": "display_data"
    }
   ],
   "source": [
    "\n",
    "fig, (ax1, ax2) = plt.subplots(1, 2, figsize=(12, 8))\n",
    "ax1.barh(tree_indices,\n",
    "         reg.feature_importances_[tree_importance_sorted_idx], height=0.7)\n",
    "ax1.set_yticklabels(feature_names[tree_importance_sorted_idx])\n",
    "ax1.set_yticks(tree_indices)\n",
    "ax1.set_ylim((0, len(reg.feature_importances_)))\n",
    "ax2.boxplot(result.importances[perm_sorted_idx].T, vert=False,\n",
    "            labels=feature_names[perm_sorted_idx])\n",
    "fig.tight_layout()\n",
    "plt.show()"
   ]
  },
  {
   "cell_type": "code",
   "execution_count": null,
   "metadata": {},
   "outputs": [],
   "source": []
  },
  {
   "cell_type": "code",
   "execution_count": null,
   "metadata": {},
   "outputs": [],
   "source": []
  },
  {
   "cell_type": "code",
   "execution_count": null,
   "metadata": {},
   "outputs": [],
   "source": []
  },
  {
   "cell_type": "code",
   "execution_count": null,
   "metadata": {},
   "outputs": [],
   "source": []
  },
  {
   "cell_type": "code",
   "execution_count": null,
   "metadata": {},
   "outputs": [],
   "source": [
    "# feature selection\n",
    "X_train_fs, X_test_fs, fs = select_features(mutual_info_regression, X_train, y_train, X_test, 'all')\n",
    "# what are scores for the features\n",
    "for i in range(len(fs.scores_)):\n",
    "\tprint('Feature %d: %f' % (i, fs.scores_[i]))\n",
    "# plot the scores\n",
    "plt.bar([i for i in range(len(fs.scores_))], fs.scores_)\n",
    "plt.show()"
   ]
  },
  {
   "cell_type": "code",
   "execution_count": null,
   "metadata": {},
   "outputs": [],
   "source": []
  },
  {
   "cell_type": "code",
   "execution_count": null,
   "metadata": {},
   "outputs": [],
   "source": []
  },
  {
   "cell_type": "code",
   "execution_count": null,
   "metadata": {},
   "outputs": [],
   "source": []
  },
  {
   "cell_type": "code",
   "execution_count": null,
   "metadata": {},
   "outputs": [],
   "source": []
  },
  {
   "cell_type": "code",
   "execution_count": null,
   "metadata": {},
   "outputs": [],
   "source": []
  },
  {
   "cell_type": "code",
   "execution_count": null,
   "metadata": {},
   "outputs": [],
   "source": []
  },
  {
   "cell_type": "code",
   "execution_count": null,
   "metadata": {},
   "outputs": [],
   "source": []
  },
  {
   "cell_type": "code",
   "execution_count": null,
   "metadata": {},
   "outputs": [],
   "source": []
  },
  {
   "cell_type": "code",
   "execution_count": null,
   "metadata": {},
   "outputs": [],
   "source": []
  },
  {
   "cell_type": "code",
   "execution_count": null,
   "metadata": {},
   "outputs": [],
   "source": []
  },
  {
   "cell_type": "code",
   "execution_count": null,
   "metadata": {},
   "outputs": [],
   "source": []
  },
  {
   "cell_type": "code",
   "execution_count": null,
   "metadata": {},
   "outputs": [],
   "source": []
  },
  {
   "cell_type": "code",
   "execution_count": null,
   "metadata": {},
   "outputs": [],
   "source": []
  },
  {
   "cell_type": "code",
   "execution_count": null,
   "metadata": {},
   "outputs": [],
   "source": []
  },
  {
   "cell_type": "code",
   "execution_count": 14,
   "metadata": {},
   "outputs": [
    {
     "data": {
      "text/plain": [
       "Index(['bldg_height', 'area', 'perimeter', 'length', 'building_levels', 'city',\n",
       "       'country', 'postcode', 'year', 'count_vertices', 'compactness',\n",
       "       'complexity', 'count_neighbor', 'state_name'],\n",
       "      dtype='object')"
      ]
     },
     "execution_count": 14,
     "metadata": {},
     "output_type": "execute_result"
    }
   ],
   "source": [
    "df.columns"
   ]
  },
  {
   "cell_type": "code",
   "execution_count": null,
   "metadata": {},
   "outputs": [],
   "source": []
  },
  {
   "cell_type": "code",
   "execution_count": 15,
   "metadata": {},
   "outputs": [
    {
     "name": "stdout",
     "output_type": "stream",
     "text": [
      "Index(['bldg_height', 'area', 'perimeter', 'length', 'building_levels', 'city',\n",
      "       'postcode', 'year', 'count_vertices', 'compactness', 'complexity',\n",
      "       'count_neighbor'],\n",
      "      dtype='object')\n"
     ]
    }
   ],
   "source": [
    "# drop country and state_name as they are irrelevant \n",
    "df = df.drop(['country', 'state_name'], axis=1)\n",
    "print(df.columns)"
   ]
  },
  {
   "cell_type": "code",
   "execution_count": 16,
   "metadata": {},
   "outputs": [
    {
     "name": "stdout",
     "output_type": "stream",
     "text": [
      "['city', 'postcode']\n",
      "['area', 'perimeter', 'length', 'building_levels', 'year', 'count_vertices', 'compactness', 'complexity', 'count_neighbor']\n"
     ]
    }
   ],
   "source": [
    "cat_cols = [col for col in df.columns if col not in (num_cols + label_col)]\n",
    "print(cat_cols)\n",
    "print(num_cols)"
   ]
  },
  {
   "cell_type": "code",
   "execution_count": 17,
   "metadata": {},
   "outputs": [],
   "source": [
    "cat_df = df[cat_cols]"
   ]
  },
  {
   "cell_type": "code",
   "execution_count": 18,
   "metadata": {},
   "outputs": [],
   "source": [
    "X = df.drop('bldg_height', axis=1)\n",
    "y = df['bldg_height']\n",
    "\n",
    "X_train, X_test, y_train, y_test = train_test_split(X, y, test_size=0.2, random_state=69)"
   ]
  },
  {
   "cell_type": "code",
   "execution_count": 19,
   "metadata": {},
   "outputs": [
    {
     "data": {
      "text/plain": [
       "(                 area  perimeter     length  building_levels city postcode  \\\n",
       " osm_way_id                                                                   \n",
       " 277888450    7.865621  11.414314   4.107010              NaN  NaN      NaN   \n",
       " 279597957   37.598584  24.965267   8.752577              NaN  NaN      NaN   \n",
       " 272135179   53.874613  37.381286  13.882549              NaN  NaN      NaN   \n",
       " 268257032   51.870176  29.729731  10.702916              NaN  NaN      NaN   \n",
       " 270835938   67.162535  40.157170  16.511125              NaN  NaN      NaN   \n",
       " ...               ...        ...        ...              ...  ...      ...   \n",
       " 268873072   11.911142  14.044602   4.904979              NaN  NaN      NaN   \n",
       " 289163195   48.823792  28.889704  10.542592              NaN  NaN      NaN   \n",
       " 274106342   55.111097  32.177520  11.840878              NaN  NaN      NaN   \n",
       " 280059992   21.833957  16.757716   5.405664              NaN  NaN      NaN   \n",
       " 272960802   48.395291  29.143001  10.558516              NaN  NaN      NaN   \n",
       " \n",
       "               year  count_vertices  compactness  complexity  count_neighbor  \n",
       " osm_way_id                                                                   \n",
       " 277888450   1950.0               5     0.871007    6.815795           424.0  \n",
       " 279597957   1953.0              11     0.870672   10.081922           508.0  \n",
       " 272135179   1984.0              10     0.696054   13.797748           381.0  \n",
       " 268257032   1966.0               7     0.858762   11.078005           774.0  \n",
       " 270835938   1991.0               7     0.723445   14.027534           432.0  \n",
       " ...            ...             ...          ...         ...             ...  \n",
       " 268873072   1906.0               9     0.871108    7.559988           567.0  \n",
       " 289163195   1974.0               5     0.857388   10.929121           737.0  \n",
       " 274106342   1990.0               7     0.817847   11.809807           412.0  \n",
       " 280059992   1962.0              13     0.988454    7.752320            94.0  \n",
       " 272960802   1985.0               7     0.846198   11.049268           525.0  \n",
       " \n",
       " [163867 rows x 11 columns],\n",
       " osm_way_id\n",
       " 277888450    3.50\n",
       " 279597957    7.36\n",
       " 272135179    8.29\n",
       " 268257032    7.79\n",
       " 270835938    7.43\n",
       "              ... \n",
       " 268873072    2.72\n",
       " 289163195    9.15\n",
       " 274106342    9.17\n",
       " 280059992    1.89\n",
       " 272960802    8.68\n",
       " Name: bldg_height, Length: 163867, dtype: float64)"
      ]
     },
     "execution_count": 19,
     "metadata": {},
     "output_type": "execute_result"
    }
   ],
   "source": [
    "X, y"
   ]
  },
  {
   "cell_type": "code",
   "execution_count": null,
   "metadata": {},
   "outputs": [],
   "source": [
    "\n"
   ]
  },
  {
   "cell_type": "code",
   "execution_count": 20,
   "metadata": {},
   "outputs": [],
   "source": [
    "num_transformer = Pipeline(steps=[\n",
    "    ('imputer', SimpleImputer(strategy='mean', add_indicator=True)),\n",
    "    ('scaler', StandardScaler())])\n"
   ]
  },
  {
   "cell_type": "code",
   "execution_count": 21,
   "metadata": {},
   "outputs": [],
   "source": [
    "cat_transformer = Pipeline(steps=[\n",
    "    ('imputer', SimpleImputer(strategy='constant', add_indicator=True, fill_value=\"NA\")),\n",
    "    ('onehot', OneHotEncoder(handle_unknown='ignore'))])"
   ]
  },
  {
   "cell_type": "code",
   "execution_count": 22,
   "metadata": {},
   "outputs": [
    {
     "name": "stdout",
     "output_type": "stream",
     "text": [
      "2\n",
      "9\n",
      "12\n"
     ]
    }
   ],
   "source": [
    "print(len(cat_cols))\n",
    "print(len(num_cols))\n",
    "print(len(df.columns))"
   ]
  },
  {
   "cell_type": "code",
   "execution_count": 23,
   "metadata": {},
   "outputs": [],
   "source": [
    "preprocessor = ColumnTransformer(transformers=[\n",
    "        ('num_transformer', num_transformer, num_cols),\n",
    "        ('cat_transfomer', cat_transformer, cat_cols)])"
   ]
  },
  {
   "cell_type": "code",
   "execution_count": 24,
   "metadata": {},
   "outputs": [],
   "source": [
    "# ('imputer', KNNImputer(n_neighbors=50, weights='uniform'))\n",
    "# ,('kbest', SelectKBest(f_regression, k=5))\n",
    "# ,('kbest', SelectKBest(f_regression, k=50))"
   ]
  },
  {
   "cell_type": "code",
   "execution_count": null,
   "metadata": {},
   "outputs": [],
   "source": []
  },
  {
   "cell_type": "code",
   "execution_count": 25,
   "metadata": {},
   "outputs": [],
   "source": [
    "from sklearn.ensemble import RandomForestRegressor, AdaBoostRegressor, GradientBoostingRegressor, BaggingRegressor\n",
    "from sklearn.tree import DecisionTreeRegressor\n",
    "from sklearn.neighbors import KNeighborsRegressor\n",
    "from sklearn.linear_model import LinearRegression"
   ]
  },
  {
   "cell_type": "code",
   "execution_count": 26,
   "metadata": {},
   "outputs": [],
   "source": [
    "# print(sorted(sklearn.metrics.SCORERS.keys()) )"
   ]
  },
  {
   "cell_type": "code",
   "execution_count": 47,
   "metadata": {},
   "outputs": [],
   "source": [
    "regressors = []\n",
    "regressors.append(('LR', LinearRegression()))\n",
    "regressors.append(('DT', DecisionTreeRegressor()))\n",
    "# regressors.append(('DT', DecisionTreeRegressor(max_depth=30, random_state=42)))\n",
    "regressors.append(('KNN', KNeighborsRegressor()))\n",
    "# regressors.append(('KNN', KNeighborsRegressor(n_neighborsint=30, weights=\"distance\")))\n",
    "regressors.append(('RF', RandomForestRegressor()))\n",
    "# regressors.append(('RF', RandomForestRegressor(n_estimators=100, max_depth=10)))\n",
    "regressors.append(('AB', AdaBoostRegressor()))\n",
    "regressors.append(('B', BaggingRegressor()))\n",
    "regressors.append(('GB', GradientBoostingRegressor()))\n"
   ]
  },
  {
   "cell_type": "code",
   "execution_count": null,
   "metadata": {},
   "outputs": [],
   "source": []
  },
  {
   "cell_type": "code",
   "execution_count": 48,
   "metadata": {},
   "outputs": [],
   "source": [
    "mae_reg_scores = {}"
   ]
  },
  {
   "cell_type": "code",
   "execution_count": 50,
   "metadata": {},
   "outputs": [
    {
     "name": "stdout",
     "output_type": "stream",
     "text": [
      "LR: avg: -1.816336 (std: 0.010333, max: -1.799928, min: -1.831252)\n",
      "DT: avg: -1.404466 (std: 0.015408, max: -1.379275, min: -1.420870)\n",
      "KNN: avg: -1.199057 (std: 0.006564, max: -1.189417, min: -1.209794)\n",
      "RF: avg: -1.047294 (std: 0.007239, max: -1.035608, min: -1.055216)\n",
      "AB: avg: -3.565269 (std: 1.979672, max: -1.646388, min: -7.236738)\n",
      "B: avg: -1.106571 (std: 0.006693, max: -1.096321, min: -1.114045)\n",
      "GB: avg: -1.160853 (std: 0.006087, max: -1.151424, min: -1.170653)\n"
     ]
    }
   ],
   "source": [
    "for name, regressor in regressors:\n",
    "    cv = ShuffleSplit(n_splits=5, test_size=.3, random_state=42)\n",
    "    mdl_pipeline = Pipeline(steps=[('preprocessor', preprocessor), ('regressor', regressor)])\n",
    "    scores = cross_val_score(mdl_pipeline, X_train, y_train, cv=cv, scoring='neg_mean_absolute_error', error_score='raise', n_jobs=-1)\n",
    "    mae_reg_scores[name] = scores\n",
    "    msg = \"%s: avg: %f (std: %f, max: %f, min: %f)\" % (name, scores.mean(), scores.std(), scores.max(), scores.min())\n",
    "    print(msg)"
   ]
  },
  {
   "cell_type": "code",
   "execution_count": 52,
   "metadata": {},
   "outputs": [
    {
     "data": {
      "image/png": "[encoded data removed]",
      "text/plain": [
       "<Figure size 432x288 with 1 Axes>"
      ]
     },
     "metadata": {
      "needs_background": "light"
     },
     "output_type": "display_data"
    }
   ],
   "source": [
    "fig = plt.figure()\n",
    "fig.suptitle('Algorithm Comparison')\n",
    "ax = fig.add_subplot(111)\n",
    "\n",
    "plt.boxplot(mae_reg_scores.values())\n",
    "ax.set_xticklabels(mae_reg_scores.keys())\n",
    "\n",
    "plt.plot()\n",
    "plt.xlabel('Models')\n",
    "plt.ylabel('MAE Scores')\n",
    "plt.show()"
   ]
  },
  {
   "cell_type": "code",
   "execution_count": 53,
   "metadata": {},
   "outputs": [
    {
     "data": {
      "text/plain": [
       "<Figure size 432x288 with 0 Axes>"
      ]
     },
     "metadata": {},
     "output_type": "display_data"
    }
   ],
   "source": [
    "plt.savefig('South-Holland-Sample_MAE.png', dpi=300)"
   ]
  },
  {
   "cell_type": "code",
   "execution_count": 54,
   "metadata": {},
   "outputs": [
    {
     "data": {
      "text/plain": [
       "{'LR': array([-1.81998226, -1.81890122, -1.81161801, -1.83125165, -1.79992825]),\n",
       " 'DT': array([-1.41294192, -1.41490363, -1.37927482, -1.42087037, -1.39434016]),\n",
       " 'KNN': array([-1.19892346, -1.20040836, -1.19674476, -1.20979389, -1.1894169 ]),\n",
       " 'RF': array([-1.04745913, -1.05521568, -1.04379044, -1.05439495, -1.03560847]),\n",
       " 'B': array([-1.10642315, -1.11345517, -1.10261332, -1.11404521, -1.0963206 ]),\n",
       " 'GB': array([-1.16067112, -1.17065332, -1.16037441, -1.16113929, -1.15142448])}"
      ]
     },
     "execution_count": 54,
     "metadata": {},
     "output_type": "execute_result"
    }
   ],
   "source": [
    "del mae_reg_scores['AB']\n",
    "mae_reg_scores"
   ]
  },
  {
   "cell_type": "code",
   "execution_count": 55,
   "metadata": {},
   "outputs": [
    {
     "data": {
      "image/png": "[encoded data removed]",
      "text/plain": [
       "<Figure size 432x288 with 1 Axes>"
      ]
     },
     "metadata": {
      "needs_background": "light"
     },
     "output_type": "display_data"
    }
   ],
   "source": [
    "fig = plt.figure()\n",
    "fig.suptitle('Algorithm Comparison')\n",
    "ax = fig.add_subplot(111)\n",
    "\n",
    "plt.boxplot(mae_reg_scores.values())\n",
    "ax.set_xticklabels(mae_reg_scores.keys())\n",
    "\n",
    "plt.plot()\n",
    "plt.xlabel('Models')\n",
    "plt.ylabel('MAE Scores')\n",
    "plt.show()\n"
   ]
  },
  {
   "cell_type": "code",
   "execution_count": 56,
   "metadata": {},
   "outputs": [
    {
     "data": {
      "text/plain": [
       "<Figure size 432x288 with 0 Axes>"
      ]
     },
     "metadata": {},
     "output_type": "display_data"
    }
   ],
   "source": [
    "plt.savefig('South-Holland-Sample_MAE_Except-AB.png', dpi=300)"
   ]
  },
  {
   "cell_type": "code",
   "execution_count": null,
   "metadata": {},
   "outputs": [],
   "source": []
  },
  {
   "cell_type": "code",
   "execution_count": null,
   "metadata": {},
   "outputs": [],
   "source": []
  },
  {
   "cell_type": "code",
   "execution_count": null,
   "metadata": {},
   "outputs": [],
   "source": []
  },
  {
   "cell_type": "code",
   "execution_count": 57,
   "metadata": {},
   "outputs": [],
   "source": [
    "mse_reg_scores = {}"
   ]
  },
  {
   "cell_type": "code",
   "execution_count": 58,
   "metadata": {},
   "outputs": [
    {
     "name": "stdout",
     "output_type": "stream",
     "text": [
      "LR: avg: -7.422129 (std: 0.360516, max: -6.893300, min: -7.788291)\n",
      "DT: avg: -8.433696 (std: 0.432031, max: -7.922503, min: -9.025510)\n",
      "KNN: avg: -5.320080 (std: 0.275134, max: -4.845582, min: -5.580188)\n",
      "RF: avg: -4.405509 (std: 0.277818, max: -3.918235, min: -4.638007)\n",
      "AB: avg: -26.382746 (std: 16.676621, max: -11.853235, min: -50.933697)\n",
      "B: avg: -4.819208 (std: 0.263251, max: -4.313381, min: -5.000472)\n",
      "GB: avg: -4.753524 (std: 0.356573, max: -4.199881, min: -5.092138)\n"
     ]
    }
   ],
   "source": [
    "for name, regressor in regressors:\n",
    "    cv = ShuffleSplit(n_splits=5, test_size=.3, random_state=42)\n",
    "    mdl_pipeline = Pipeline(steps=[('preprocessor', preprocessor), ('regressor', regressor)])\n",
    "    scores = cross_val_score(mdl_pipeline, X_train, y_train, cv=cv, scoring='neg_mean_squared_error', error_score='raise', n_jobs=-1)\n",
    "    mse_reg_scores[name] = scores\n",
    "    msg = \"%s: avg: %f (std: %f, max: %f, min: %f)\" % (name, scores.mean(), scores.std(), scores.max(), scores.min())\n",
    "    print(msg)"
   ]
  },
  {
   "cell_type": "code",
   "execution_count": 59,
   "metadata": {},
   "outputs": [
    {
     "data": {
      "image/png": "[encoded data removed]",
      "text/plain": [
       "<Figure size 432x288 with 1 Axes>"
      ]
     },
     "metadata": {
      "needs_background": "light"
     },
     "output_type": "display_data"
    }
   ],
   "source": [
    "fig = plt.figure()\n",
    "fig.suptitle('Algorithm Comparison')\n",
    "ax = fig.add_subplot(111)\n",
    "\n",
    "plt.boxplot(mse_reg_scores.values())\n",
    "ax.set_xticklabels(mse_reg_scores.keys())\n",
    "\n",
    "plt.plot()\n",
    "plt.xlabel('Models')\n",
    "plt.ylabel('MSE Scores')\n",
    "plt.show()"
   ]
  },
  {
   "cell_type": "code",
   "execution_count": 60,
   "metadata": {},
   "outputs": [
    {
     "data": {
      "text/plain": [
       "<Figure size 432x288 with 0 Axes>"
      ]
     },
     "metadata": {},
     "output_type": "display_data"
    }
   ],
   "source": [
    "plt.savefig('South-Holland-Sample_MSE.png', dpi=300)"
   ]
  },
  {
   "cell_type": "code",
   "execution_count": 62,
   "metadata": {},
   "outputs": [
    {
     "data": {
      "text/plain": [
       "{'LR': array([-7.78829073, -7.64683462, -7.69418554, -7.08803568, -6.8933001 ]),\n",
       " 'DT': array([-8.76107826, -8.48589714, -7.92250297, -9.02550995, -7.97349309]),\n",
       " 'KNN': array([-5.48366679, -5.51524265, -5.58018807, -5.17571874, -4.84558155]),\n",
       " 'RF': array([-4.60446387, -4.59664178, -4.63800662, -4.27019606, -3.91823513]),\n",
       " 'B': array([-4.98290992, -4.99463979, -5.00047249, -4.80463661, -4.31338108]),\n",
       " 'GB': array([-5.00971008, -5.09213752, -5.00503159, -4.46085806, -4.19988141])}"
      ]
     },
     "execution_count": 62,
     "metadata": {},
     "output_type": "execute_result"
    }
   ],
   "source": [
    "del mse_reg_scores['AB']\n",
    "mse_reg_scores"
   ]
  },
  {
   "cell_type": "code",
   "execution_count": 63,
   "metadata": {},
   "outputs": [
    {
     "data": {
      "image/png": "[encoded data removed]",
      "text/plain": [
       "<Figure size 432x288 with 1 Axes>"
      ]
     },
     "metadata": {
      "needs_background": "light"
     },
     "output_type": "display_data"
    }
   ],
   "source": [
    "fig = plt.figure()\n",
    "fig.suptitle('Algorithm Comparison')\n",
    "ax = fig.add_subplot(111)\n",
    "\n",
    "plt.boxplot(mse_reg_scores.values())\n",
    "ax.set_xticklabels(mse_reg_scores.keys())\n",
    "\n",
    "plt.plot()\n",
    "plt.xlabel('Models')\n",
    "plt.ylabel('MSE Scores')\n",
    "plt.show()"
   ]
  },
  {
   "cell_type": "code",
   "execution_count": 64,
   "metadata": {},
   "outputs": [
    {
     "data": {
      "text/plain": [
       "<Figure size 432x288 with 0 Axes>"
      ]
     },
     "metadata": {},
     "output_type": "display_data"
    }
   ],
   "source": [
    "plt.savefig('South-Holland-Sample_MSE_Except-AB.png', dpi=300)"
   ]
  },
  {
   "cell_type": "code",
   "execution_count": null,
   "metadata": {},
   "outputs": [],
   "source": []
  },
  {
   "cell_type": "code",
   "execution_count": null,
   "metadata": {},
   "outputs": [],
   "source": []
  },
  {
   "cell_type": "code",
   "execution_count": null,
   "metadata": {},
   "outputs": [],
   "source": []
  },
  {
   "cell_type": "code",
   "execution_count": null,
   "metadata": {},
   "outputs": [],
   "source": []
  },
  {
   "cell_type": "code",
   "execution_count": 65,
   "metadata": {},
   "outputs": [],
   "source": [
    "r2_reg_scores = {}"
   ]
  },
  {
   "cell_type": "code",
   "execution_count": 66,
   "metadata": {},
   "outputs": [
    {
     "name": "stdout",
     "output_type": "stream",
     "text": [
      "LR: avg: 0.492259 (std: 0.009467, max: 0.504397, min: 0.481174)\n",
      "DT: avg: 0.413305 (std: 0.030832, max: 0.471272, min: 0.382493)\n",
      "KNN: avg: 0.636084 (std: 0.008596, max: 0.650080, min: 0.623723)\n",
      "RF: avg: 0.699121 (std: 0.011391, max: 0.720305, min: 0.687125)\n",
      "AB: avg: -0.396400 (std: 0.640346, max: 0.330139, min: -1.564800)\n",
      "B: avg: 0.669879 (std: 0.011833, max: 0.689830, min: 0.658716)\n",
      "GB: avg: 0.674916 (std: 0.014446, max: 0.696017, min: 0.660086)\n"
     ]
    }
   ],
   "source": [
    "for name, regressor in regressors:\n",
    "    cv = ShuffleSplit(n_splits=5, test_size=.3, random_state=42)\n",
    "    mdl_pipeline = Pipeline(steps=[('preprocessor', preprocessor), ('regressor', regressor)])\n",
    "    scores = cross_val_score(mdl_pipeline, X_train, y_train, cv=cv, scoring='r2', error_score='raise', n_jobs=-1)\n",
    "    r2_reg_scores[name] = scores\n",
    "    msg = \"%s: avg: %f (std: %f, max: %f, min: %f)\" % (name, scores.mean(), scores.std(), scores.max(), scores.min())\n",
    "    print(msg)"
   ]
  },
  {
   "cell_type": "code",
   "execution_count": 67,
   "metadata": {},
   "outputs": [
    {
     "data": {
      "image/png": "[encoded data removed]",
      "text/plain": [
       "<Figure size 432x288 with 1 Axes>"
      ]
     },
     "metadata": {
      "needs_background": "light"
     },
     "output_type": "display_data"
    }
   ],
   "source": [
    "fig = plt.figure()\n",
    "fig.suptitle('Algorithm Comparison')\n",
    "ax = fig.add_subplot(111)\n",
    "\n",
    "plt.boxplot(r2_reg_scores.values())\n",
    "ax.set_xticklabels(r2_reg_scores.keys())\n",
    "\n",
    "plt.plot()\n",
    "plt.xlabel('Models')\n",
    "plt.ylabel('R^2 Scores')\n",
    "plt.show()"
   ]
  },
  {
   "cell_type": "code",
   "execution_count": 68,
   "metadata": {},
   "outputs": [
    {
     "data": {
      "text/plain": [
       "<Figure size 432x288 with 0 Axes>"
      ]
     },
     "metadata": {},
     "output_type": "display_data"
    }
   ],
   "source": [
    "plt.savefig('South-Holland-Sample_R2.png', dpi=300)"
   ]
  },
  {
   "cell_type": "code",
   "execution_count": 69,
   "metadata": {},
   "outputs": [
    {
     "data": {
      "text/plain": [
       "{'LR': array([0.48371979, 0.48979651, 0.48117372, 0.50439716, 0.50220607]),\n",
       " 'DT': array([0.4157211 , 0.39808859, 0.4712717 , 0.382493  , 0.39895007]),\n",
       " 'KNN': array([0.63649166, 0.63201819, 0.62372259, 0.63810835, 0.65008036]),\n",
       " 'RF': array([0.69506387, 0.6929133 , 0.68712507, 0.70019655, 0.72030501]),\n",
       " 'B': array([0.6587159 , 0.66310914, 0.66082098, 0.67691931, 0.68983042]),\n",
       " 'GB': array([0.66788884, 0.66008608, 0.66247664, 0.6881096 , 0.69601735])}"
      ]
     },
     "execution_count": 69,
     "metadata": {},
     "output_type": "execute_result"
    }
   ],
   "source": [
    "del r2_reg_scores['AB']\n",
    "r2_reg_scores"
   ]
  },
  {
   "cell_type": "code",
   "execution_count": 72,
   "metadata": {},
   "outputs": [
    {
     "data": {
      "image/png": "[encoded data removed]",
      "text/plain": [
       "<Figure size 432x288 with 1 Axes>"
      ]
     },
     "metadata": {
      "needs_background": "light"
     },
     "output_type": "display_data"
    }
   ],
   "source": [
    "fig = plt.figure()\n",
    "fig.suptitle('Algorithm Comparison')\n",
    "ax = fig.add_subplot(111)\n",
    "\n",
    "plt.boxplot(r2_reg_scores.values())\n",
    "ax.set_xticklabels(r2_reg_scores.keys())\n",
    "\n",
    "plt.plot()\n",
    "plt.xlabel('Models')\n",
    "plt.ylabel('R^2 Scores')\n",
    "plt.show()"
   ]
  },
  {
   "cell_type": "code",
   "execution_count": 73,
   "metadata": {},
   "outputs": [
    {
     "data": {
      "text/plain": [
       "<Figure size 432x288 with 0 Axes>"
      ]
     },
     "metadata": {},
     "output_type": "display_data"
    }
   ],
   "source": [
    "plt.savefig('South-Holland-Sample_R2_Except-AB.png', dpi=300)"
   ]
  },
  {
   "cell_type": "code",
   "execution_count": null,
   "metadata": {},
   "outputs": [],
   "source": []
  },
  {
   "cell_type": "code",
   "execution_count": null,
   "metadata": {},
   "outputs": [],
   "source": []
  },
  {
   "cell_type": "code",
   "execution_count": null,
   "metadata": {},
   "outputs": [],
   "source": []
  },
  {
   "cell_type": "code",
   "execution_count": null,
   "metadata": {},
   "outputs": [],
   "source": []
  },
  {
   "cell_type": "code",
   "execution_count": null,
   "metadata": {},
   "outputs": [],
   "source": []
  },
  {
   "cell_type": "code",
   "execution_count": null,
   "metadata": {},
   "outputs": [],
   "source": []
  },
  {
   "cell_type": "code",
   "execution_count": null,
   "metadata": {},
   "outputs": [],
   "source": [
    "\n"
   ]
  },
  {
   "cell_type": "code",
   "execution_count": null,
   "metadata": {},
   "outputs": [],
   "source": []
  },
  {
   "cell_type": "code",
   "execution_count": null,
   "metadata": {},
   "outputs": [],
   "source": []
  },
  {
   "cell_type": "code",
   "execution_count": null,
   "metadata": {},
   "outputs": [],
   "source": []
  },
  {
   "cell_type": "code",
   "execution_count": null,
   "metadata": {},
   "outputs": [],
   "source": []
  },
  {
   "cell_type": "code",
   "execution_count": null,
   "metadata": {},
   "outputs": [],
   "source": []
  },
  {
   "cell_type": "code",
   "execution_count": null,
   "metadata": {},
   "outputs": [],
   "source": []
  },
  {
   "cell_type": "code",
   "execution_count": null,
   "metadata": {},
   "outputs": [],
   "source": []
  },
  {
   "cell_type": "code",
   "execution_count": null,
   "metadata": {},
   "outputs": [],
   "source": []
  },
  {
   "cell_type": "code",
   "execution_count": null,
   "metadata": {},
   "outputs": [],
   "source": []
  },
  {
   "cell_type": "code",
   "execution_count": 78,
   "metadata": {},
   "outputs": [],
   "source": [
    "cv = ShuffleSplit(n_splits=5, test_size=.3, random_state=42)\n",
    "gs_pipeline = Pipeline(steps=[('preprocessor', preprocessor), ('regressor', RandomForestRegressor(n_jobs=-1))])"
   ]
  },
  {
   "cell_type": "code",
   "execution_count": null,
   "metadata": {},
   "outputs": [],
   "source": [
    "grid_params = {\n",
    "    'preprocessor__num_transformer__imputer__strategy': ['mean', 'median', 'most_frequent'],\n",
    "    'regressor__max_depth': [3, 5, 10, 25, 30, 50],\n",
    "    'regressor__n_estimators': [10, 100, 500, 1000],\n",
    "    'regressor__max_features': ['auto', 'sqrt', 'log2']\n",
    "}\n",
    "\n",
    "grid_search = GridSearchCV(gs_pipeline, grid_params, cv=cv, scoring='neg_mean_absolute_error')\n",
    "grid_search.fit(X_train, y_train)"
   ]
  },
  {
   "cell_type": "code",
   "execution_count": null,
   "metadata": {},
   "outputs": [],
   "source": [
    "best_params = grid_search.best_params_\n",
    "best_params"
   ]
  },
  {
   "cell_type": "code",
   "execution_count": null,
   "metadata": {},
   "outputs": [],
   "source": [
    "best_estimator = grid_search.best_estimator_\n",
    "print(best_estimator)\n"
   ]
  },
  {
   "cell_type": "code",
   "execution_count": null,
   "metadata": {},
   "outputs": [],
   "source": [
    "best_score = grid_search.best_score_\n",
    "best_score"
   ]
  },
  {
   "cell_type": "code",
   "execution_count": null,
   "metadata": {},
   "outputs": [],
   "source": []
  },
  {
   "cell_type": "code",
   "execution_count": null,
   "metadata": {},
   "outputs": [],
   "source": []
  },
  {
   "cell_type": "code",
   "execution_count": null,
   "metadata": {},
   "outputs": [],
   "source": [
    "cv = ShuffleSplit(n_splits=5, test_size=.3, random_state=42)\n",
    "gs_pipeline = Pipeline(steps=[('preprocessor', preprocessor), ('regressor', BaggingRegressor())])"
   ]
  },
  {
   "cell_type": "code",
   "execution_count": null,
   "metadata": {},
   "outputs": [],
   "source": [
    "grid_params = {\n",
    "    'preprocessor__year_transformer__imputer__strategy': ['mean', 'median', 'most_frequent'],\n",
    "    'preprocessor__bldg_lvls_transformer__imputer__strategy': ['mean', 'median', 'most_frequent'],\n",
    "    'regressor__loss': ['ls', 'lad', 'huber', 'quantile'],\n",
    "    'regressor__learning_rate': [0.05, 0.01, 0.1, 0.5],\n",
    "    'regressor__criterion': ['friedman_mse', 'mse'],\n",
    "    'regressor__max_depth': [3, 5, 10, 25, 30, 50],\n",
    "    'regressor__n_estimators': [10, 100, 500, 1000],\n",
    "    'regressor__max_features': ['auto', 'sqrt', 'log2']\n",
    "}\n",
    "\n",
    "grid_search = GridSearchCV(gs_pipeline, grid_params, cv=cv, scoring='neg_mean_absolute_error', n_jobs=-1)\n",
    "grid_search.fit(X_train, y_train)"
   ]
  },
  {
   "cell_type": "code",
   "execution_count": null,
   "metadata": {},
   "outputs": [],
   "source": []
  },
  {
   "cell_type": "code",
   "execution_count": null,
   "metadata": {},
   "outputs": [],
   "source": []
  },
  {
   "cell_type": "code",
   "execution_count": null,
   "metadata": {},
   "outputs": [],
   "source": []
  },
  {
   "cell_type": "code",
   "execution_count": null,
   "metadata": {},
   "outputs": [],
   "source": []
  },
  {
   "cell_type": "code",
   "execution_count": null,
   "metadata": {},
   "outputs": [],
   "source": []
  },
  {
   "cell_type": "code",
   "execution_count": null,
   "metadata": {},
   "outputs": [],
   "source": []
  },
  {
   "cell_type": "code",
   "execution_count": null,
   "metadata": {},
   "outputs": [],
   "source": []
  },
  {
   "cell_type": "code",
   "execution_count": null,
   "metadata": {},
   "outputs": [],
   "source": []
  },
  {
   "cell_type": "code",
   "execution_count": null,
   "metadata": {},
   "outputs": [],
   "source": []
  },
  {
   "cell_type": "code",
   "execution_count": null,
   "metadata": {},
   "outputs": [],
   "source": []
  },
  {
   "cell_type": "code",
   "execution_count": null,
   "metadata": {},
   "outputs": [],
   "source": []
  }
 ],
 "metadata": {
  "environment": {
   "name": "common-cpu.m46",
   "type": "gcloud",
   "uri": "gcr.io/deeplearning-platform-release/base-cpu:m46"
  },
  "kernelspec": {
   "display_name": "Python 3",
   "language": "python",
   "name": "python3"
  },
  "language_info": {
   "codemirror_mode": {
    "name": "ipython",
    "version": 3
   },
   "file_extension": ".py",
   "mimetype": "text/x-python",
   "name": "python",
   "nbconvert_exporter": "python",
   "pygments_lexer": "ipython3",
   "version": "3.7.6"
  }
 },
 "nbformat": 4,
 "nbformat_minor": 4
}
