{
 "cells": [
  {
   "cell_type": "code",
   "execution_count": 1,
   "metadata": {},
   "outputs": [],
   "source": [
    "import pandas as pd\n",
    "import numpy as np\n",
    "import geopandas as gpd\n",
    "import csv\n",
    "import json\n",
    "import sklearn\n",
    "from google.cloud import bigquery as bq\n",
    "import seaborn as sns\n",
    "import matplotlib.pyplot as plt\n",
    "import time\n",
    "\n",
    "pd.set_option('display.max_columns', None)\n",
    "pd.set_option('display.max_rows', 100)\n",
    "pd.options.mode.chained_assignment = None\n",
    "%matplotlib inline"
   ]
  },
  {
   "cell_type": "code",
   "execution_count": 2,
   "metadata": {},
   "outputs": [],
   "source": [
    "from sklearn.compose import ColumnTransformer\n",
    "from sklearn.pipeline import Pipeline\n",
    "from sklearn.impute import SimpleImputer\n",
    "from sklearn.preprocessing import StandardScaler, Normalizer, OneHotEncoder\n",
    "from sklearn.feature_selection import SelectKBest, f_regression, mutual_info_regression\n",
    "from sklearn.ensemble import RandomForestRegressor\n",
    "from sklearn.tree import DecisionTreeRegressor\n",
    "from sklearn.neighbors import KNeighborsRegressor\n",
    "from sklearn.linear_model import LinearRegression\n",
    "from sklearn.model_selection import train_test_split, ShuffleSplit, cross_val_score, GridSearchCV\n",
    "from sklearn.metrics import mean_squared_error"
   ]
  },
  {
   "cell_type": "code",
   "execution_count": 3,
   "metadata": {},
   "outputs": [],
   "source": [
    "# Set random seeds\n",
    "\n",
    "sampling_seed = np.random.seed(13)\n",
    "train_test_seed = np.random.seed(69)\n",
    "cv_seed = np.random.seed(37)\n",
    "model_seed = np.random.seed(73)\n",
    "np.random.seed(42) # set default seed value"
   ]
  },
  {
   "cell_type": "code",
   "execution_count": 4,
   "metadata": {},
   "outputs": [
    {
     "data": {
      "text/html": [
       "<div>\n",
       "<style scoped>\n",
       "    .dataframe tbody tr th:only-of-type {\n",
       "        vertical-align: middle;\n",
       "    }\n",
       "\n",
       "    .dataframe tbody tr th {\n",
       "        vertical-align: top;\n",
       "    }\n",
       "\n",
       "    .dataframe thead th {\n",
       "        text-align: right;\n",
       "    }\n",
       "</style>\n",
       "<table border=\"1\" class=\"dataframe\">\n",
       "  <thead>\n",
       "    <tr style=\"text-align: right;\">\n",
       "      <th></th>\n",
       "      <th>osm_way_id</th>\n",
       "      <th>bldg_height</th>\n",
       "      <th>area</th>\n",
       "      <th>perimeter</th>\n",
       "      <th>length</th>\n",
       "      <th>building_levels</th>\n",
       "      <th>city</th>\n",
       "      <th>country</th>\n",
       "      <th>postcode</th>\n",
       "      <th>year</th>\n",
       "      <th>count_vertices</th>\n",
       "      <th>compactness</th>\n",
       "      <th>complexity</th>\n",
       "      <th>count_neighbor</th>\n",
       "      <th>state_name</th>\n",
       "    </tr>\n",
       "  </thead>\n",
       "  <tbody>\n",
       "    <tr>\n",
       "      <th>813085</th>\n",
       "      <td>285720529</td>\n",
       "      <td>3.16</td>\n",
       "      <td>12.208234</td>\n",
       "      <td>14.216320</td>\n",
       "      <td>5.237787</td>\n",
       "      <td>NaN</td>\n",
       "      <td>None</td>\n",
       "      <td>NL</td>\n",
       "      <td>None</td>\n",
       "      <td>1975.0</td>\n",
       "      <td>5</td>\n",
       "      <td>0.871253</td>\n",
       "      <td>7.605434</td>\n",
       "      <td>769.0</td>\n",
       "      <td>South Holland</td>\n",
       "    </tr>\n",
       "    <tr>\n",
       "      <th>690109</th>\n",
       "      <td>307016317</td>\n",
       "      <td>2.57</td>\n",
       "      <td>19.561703</td>\n",
       "      <td>18.828951</td>\n",
       "      <td>7.053405</td>\n",
       "      <td>NaN</td>\n",
       "      <td>None</td>\n",
       "      <td>NL</td>\n",
       "      <td>None</td>\n",
       "      <td>1970.0</td>\n",
       "      <td>5</td>\n",
       "      <td>0.832688</td>\n",
       "      <td>8.953121</td>\n",
       "      <td>1011.0</td>\n",
       "      <td>South Holland</td>\n",
       "    </tr>\n",
       "    <tr>\n",
       "      <th>1210306</th>\n",
       "      <td>273627957</td>\n",
       "      <td>3.00</td>\n",
       "      <td>5.074582</td>\n",
       "      <td>9.894413</td>\n",
       "      <td>3.794322</td>\n",
       "      <td>NaN</td>\n",
       "      <td>None</td>\n",
       "      <td>NL</td>\n",
       "      <td>None</td>\n",
       "      <td>1992.0</td>\n",
       "      <td>5</td>\n",
       "      <td>0.807077</td>\n",
       "      <td>6.592345</td>\n",
       "      <td>478.0</td>\n",
       "      <td>South Holland</td>\n",
       "    </tr>\n",
       "    <tr>\n",
       "      <th>876731</th>\n",
       "      <td>270947348</td>\n",
       "      <td>6.09</td>\n",
       "      <td>113.670222</td>\n",
       "      <td>43.119975</td>\n",
       "      <td>15.420618</td>\n",
       "      <td>NaN</td>\n",
       "      <td>None</td>\n",
       "      <td>NL</td>\n",
       "      <td>None</td>\n",
       "      <td>1978.0</td>\n",
       "      <td>5</td>\n",
       "      <td>0.876496</td>\n",
       "      <td>13.205864</td>\n",
       "      <td>201.0</td>\n",
       "      <td>South Holland</td>\n",
       "    </tr>\n",
       "    <tr>\n",
       "      <th>1497770</th>\n",
       "      <td>254771777</td>\n",
       "      <td>9.80</td>\n",
       "      <td>65.167027</td>\n",
       "      <td>34.959673</td>\n",
       "      <td>12.361194</td>\n",
       "      <td>NaN</td>\n",
       "      <td>None</td>\n",
       "      <td>NL</td>\n",
       "      <td>None</td>\n",
       "      <td>2008.0</td>\n",
       "      <td>11</td>\n",
       "      <td>0.818562</td>\n",
       "      <td>12.304398</td>\n",
       "      <td>464.0</td>\n",
       "      <td>South Holland</td>\n",
       "    </tr>\n",
       "  </tbody>\n",
       "</table>\n",
       "</div>"
      ],
      "text/plain": [
       "        osm_way_id  bldg_height        area  perimeter     length  \\\n",
       "813085   285720529         3.16   12.208234  14.216320   5.237787   \n",
       "690109   307016317         2.57   19.561703  18.828951   7.053405   \n",
       "1210306  273627957         3.00    5.074582   9.894413   3.794322   \n",
       "876731   270947348         6.09  113.670222  43.119975  15.420618   \n",
       "1497770  254771777         9.80   65.167027  34.959673  12.361194   \n",
       "\n",
       "         building_levels  city country postcode    year  count_vertices  \\\n",
       "813085               NaN  None      NL     None  1975.0               5   \n",
       "690109               NaN  None      NL     None  1970.0               5   \n",
       "1210306              NaN  None      NL     None  1992.0               5   \n",
       "876731               NaN  None      NL     None  1978.0               5   \n",
       "1497770              NaN  None      NL     None  2008.0              11   \n",
       "\n",
       "         compactness  complexity  count_neighbor     state_name  \n",
       "813085      0.871253    7.605434           769.0  South Holland  \n",
       "690109      0.832688    8.953121          1011.0  South Holland  \n",
       "1210306     0.807077    6.592345           478.0  South Holland  \n",
       "876731      0.876496   13.205864           201.0  South Holland  \n",
       "1497770     0.818562   12.304398           464.0  South Holland  "
      ]
     },
     "execution_count": 4,
     "metadata": {},
     "output_type": "execute_result"
    }
   ],
   "source": [
    "query=\"\"\"\n",
    "    SELECT\n",
    "      *\n",
    "    FROM\n",
    "      `ual3d-277909.nl.zuid_holland_ml_df`\n",
    "\"\"\"\n",
    "\n"
   ]
  },
  {
   "cell_type": "code",
   "execution_count": null,
   "metadata": {},
   "outputs": [],
   "source": [
    "full_df = bq.Client().query(query).to_dataframe()\n",
    "full_df.head()"
   ]
  },
  {
   "cell_type": "code",
   "execution_count": null,
   "metadata": {},
   "outputs": [],
   "source": [
    "ml_df = full_df.sample(frac=0.1, random_state=sampling_seed)\n",
    "ml_df.head()"
   ]
  },
  {
   "cell_type": "code",
   "execution_count": 5,
   "metadata": {},
   "outputs": [
    {
     "name": "stdout",
     "output_type": "stream",
     "text": [
      "(163867, 15)\n"
     ]
    }
   ],
   "source": [
    "print(ml_df.shape)"
   ]
  },
  {
   "cell_type": "code",
   "execution_count": 6,
   "metadata": {},
   "outputs": [
    {
     "name": "stdout",
     "output_type": "stream",
     "text": [
      "osm_way_id          object\n",
      "bldg_height        float64\n",
      "area               float64\n",
      "perimeter          float64\n",
      "length             float64\n",
      "building_levels    float64\n",
      "city                object\n",
      "country             object\n",
      "postcode            object\n",
      "year               float64\n",
      "count_vertices       int64\n",
      "compactness        float64\n",
      "complexity         float64\n",
      "count_neighbor     float64\n",
      "state_name          object\n",
      "dtype: object\n"
     ]
    }
   ],
   "source": [
    "print(ml_df.dtypes)"
   ]
  },
  {
   "cell_type": "code",
   "execution_count": 7,
   "metadata": {},
   "outputs": [
    {
     "data": {
      "text/plain": [
       "bldg_height         float64\n",
       "area                float64\n",
       "perimeter           float64\n",
       "length              float64\n",
       "building_levels     float64\n",
       "city               category\n",
       "country            category\n",
       "postcode           category\n",
       "year                float64\n",
       "count_vertices        int64\n",
       "compactness         float64\n",
       "complexity          float64\n",
       "count_neighbor      float64\n",
       "state_name         category\n",
       "dtype: object"
      ]
     },
     "execution_count": 7,
     "metadata": {},
     "output_type": "execute_result"
    }
   ],
   "source": [
    "ml_df.set_index('osm_way_id', inplace=True)\n",
    "\n",
    "ml_df[\"city\"] = ml_df[\"city\"].astype(\"category\")\n",
    "ml_df[\"postcode\"] = ml_df[\"postcode\"].astype(\"category\")\n",
    "ml_df[\"country\"] = ml_df[\"country\"].astype(\"category\")\n",
    "ml_df[\"state_name\"] = ml_df[\"state_name\"].astype(\"category\")\n",
    "\n",
    "ml_df.dtypes"
   ]
  },
  {
   "cell_type": "code",
   "execution_count": 8,
   "metadata": {},
   "outputs": [
    {
     "name": "stdout",
     "output_type": "stream",
     "text": [
      "count unique city: 41\n",
      "unique city: [NaN, Wassenaar, Delft, 's-Gravendeel, Rijswijk, ..., Moerkapelle, Oud-Alblas, Zoeterwoude, Noordwijkerhout, Alblasserdam]\n",
      "Length: 41\n",
      "Categories (40, object): [Wassenaar, Delft, 's-Gravendeel, Rijswijk, ..., Oud-Alblas, Zoeterwoude, Noordwijkerhout, Alblasserdam]\n",
      "\n",
      "count unique postcode: 89\n",
      "unique postcode: [NaN, 2241KJ, 2623EW, 2611GW, 3295KG, ..., 2283TB, 2952BX, 2511EK, 3297LJ, 2553TR]\n",
      "Length: 89\n",
      "Categories (88, object): [2241KJ, 2623EW, 2611GW, 3295KG, ..., 2952BX, 2511EK, 3297LJ, 2553TR]\n",
      "\n",
      "count unique year: 386\n",
      "unique year: [1975. 1970. 1992. 1978. 2008. 1966. 2005. 1995. 1965. 1985. 1991. 1952.\n",
      " 1942. 2002. 2009. 1988. 1969. 1949. 1994. 1954. 1982. 1874. 1987. 1955.\n",
      " 1979. 2006. 1993. 1981. 2010. 1960. 1980. 1913. 2017. 1900. 1948. 1990.\n",
      " 1939. 1997. 2000. 1962. 1976. 1971. 1920. 1957. 2007. 1989. 2004. 1916.\n",
      " 1938. 1934. 2001. 1961. 1968. 1950. 1928. 1905. 1956. 1998. 1912. 1983.\n",
      " 1933. 2012. 1974. 1958. 1937. 1895. 1999. 1935. 1977. 2013. 2003. 1825.\n",
      " 1943. 1967. 1925. 1927. 2018. 1996. 2019. 1917. 1930. 1959. 2014. 2016.\n",
      " 1973. 1897. 1986. 1951. 2011. 1972. 1984. 1898. 1936. 1931. 1910. 1963.\n",
      " 1947. 1754. 1953. 1922. 1680. 1926. 1932. 1899. 2015. 1929. 1781. 1627.\n",
      " 1923. 1964. 1765. 1850. 1849. 1909. 1860. 1918. 1941. 1800. 1700. 1893.\n",
      " 1919. 1907. 1915. 1904. 1886. 1924.   nan 1902. 1889. 1908. 1906. 1921.\n",
      " 1600. 1880. 1660. 1940. 1625. 1844. 1875. 1739. 1885. 1750. 1882. 1896.\n",
      " 1914. 1945. 1903. 1381. 1858. 1865. 1883. 1887. 1901. 1890. 1881. 1808.\n",
      " 1820. 1838. 1891. 1828. 1879. 1872. 1870. 1911. 1946. 1873. 1864. 1840.\n",
      " 1650. 2020. 1810. 1835. 1859. 1330. 1892. 1610. 1877. 1894. 1871. 1605.\n",
      " 1888. 1867. 1866. 1884. 1777. 1802. 1876. 1599. 1803. 1780. 1856. 1775.\n",
      " 1725. 1659. 1868. 1863. 1647. 1841. 1668. 1786. 1785. 1767. 1755. 1678.\n",
      " 1497. 1869. 1622. 1561. 1540. 1690. 1862. 1827. 1806. 1944. 1640. 1760.\n",
      " 1790. 1830. 1723. 1499. 1729. 1665. 1550. 1735. 1843. 1788. 1694. 1709.\n",
      " 1706. 1837. 1597. 1831. 1674. 1617. 1675. 1833. 1656. 1774. 1773. 1836.\n",
      " 1616. 1450. 1817. 1770. 1667. 1824. 1778. 1762. 1727. 1740. 1480. 1793.\n",
      " 1609. 1818. 1681. 1637. 1670. 1569. 1853. 1570. 1717. 1857. 1796. 1855.\n",
      " 1730. 1408. 1845. 1794. 1847. 1212. 1510. 1699. 1562. 1798. 1646. 1683.\n",
      " 1612. 1651. 1852. 1631. 1672. 1851. 1720. 1451. 1842. 1728. 1751. 1671.\n",
      " 1644. 1795. 1741. 1791. 1749. 1763. 1878. 1821. 1707. 1591. 1649. 1834.\n",
      " 1400. 1811. 1702. 1738. 1861. 1721. 1692. 1619. 1604. 1512. 1732. 1848.\n",
      " 1607. 1615. 1630. 1787. 1470. 1636. 1620. 1809. 1769. 1815. 1611. 1689.\n",
      " 1816. 1711. 1428. 1558. 1564. 1718. 1768. 1652. 1813. 1624. 1581. 1805.\n",
      " 1583. 1425. 1589. 1500. 1695. 1737. 1756. 1505. 1792. 1757. 1495. 1703.\n",
      " 1797. 1629. 1814. 1496. 1590. 1601. 1655. 1520. 1596. 1743. 1673. 1823.\n",
      " 1832. 1748. 1645. 1726. 1366. 1641. 1712. 1475. 1663. 1509. 1716. 1801.\n",
      " 1546. 1784. 1482. 1799. 1701. 1666. 1669. 1514. 1634. 1772. 1325. 1443.\n",
      " 1575. 1771.]\n"
     ]
    }
   ],
   "source": [
    "print('count unique city:', len(pd.unique(ml_df['city'])))\n",
    "print('unique city:', pd.unique(ml_df['city']))\n",
    "\n",
    "print('\\ncount unique postcode:', len(pd.unique(ml_df['postcode'])))\n",
    "print('unique postcode:', pd.unique(ml_df['postcode']))\n",
    "\n",
    "print('\\ncount unique year:', len(pd.unique(ml_df['year'])))\n",
    "print('unique year:', pd.unique(ml_df['year']))"
   ]
  },
  {
   "cell_type": "code",
   "execution_count": 9,
   "metadata": {},
   "outputs": [
    {
     "data": {
      "text/plain": [
       "bldg_height             0\n",
       "area                    0\n",
       "perimeter               0\n",
       "length                  0\n",
       "building_levels    161542\n",
       "city               163775\n",
       "country                 0\n",
       "postcode           163776\n",
       "year                   18\n",
       "count_vertices          0\n",
       "compactness             0\n",
       "complexity              0\n",
       "count_neighbor         23\n",
       "state_name              0\n",
       "dtype: int64"
      ]
     },
     "execution_count": 9,
     "metadata": {},
     "output_type": "execute_result"
    }
   ],
   "source": [
    "ml_df.isna().sum()\n"
   ]
  },
  {
   "cell_type": "code",
   "execution_count": 10,
   "metadata": {},
   "outputs": [],
   "source": [
    "label_col = [\"bldg_height\"]\n",
    "num_cols = [\"area\", \"perimeter\", \"length\", \"building_levels\", \"year\", \"count_vertices\", \"compactness\", \"complexity\", \"count_neighbor\"]\n",
    "# num_cols = [\"area\", \"perimeter\", \"length\", \"building_levels\", \"year\", \"count_vertices\", \"compactness\", \"complexity\"]\n",
    "cat_cols = [\"city\", \"postcode\"]\n",
    "# cat_cols = [col for col in df.columns if col not in (num_cols + label_col)]\n",
    "# drop country as it is irrelevant in this model\n",
    "ml_df = ml_df.drop(['country', 'state_name'], axis=1)\n",
    "# drop count_neighbor for now as it is irrelevant in this model\n",
    "# ml_df = ml_df.drop('count_neighbor', axis=1)"
   ]
  },
  {
   "cell_type": "code",
   "execution_count": null,
   "metadata": {},
   "outputs": [],
   "source": []
  },
  {
   "cell_type": "code",
   "execution_count": 11,
   "metadata": {},
   "outputs": [],
   "source": [
    "cat_df_10prct = ml_df[cat_cols]\n",
    "num_df_10prct = ml_df[num_cols]\n"
   ]
  },
  {
   "cell_type": "code",
   "execution_count": 12,
   "metadata": {},
   "outputs": [
    {
     "data": {
      "text/html": [
       "<div>\n",
       "<style scoped>\n",
       "    .dataframe tbody tr th:only-of-type {\n",
       "        vertical-align: middle;\n",
       "    }\n",
       "\n",
       "    .dataframe tbody tr th {\n",
       "        vertical-align: top;\n",
       "    }\n",
       "\n",
       "    .dataframe thead th {\n",
       "        text-align: right;\n",
       "    }\n",
       "</style>\n",
       "<table border=\"1\" class=\"dataframe\">\n",
       "  <thead>\n",
       "    <tr style=\"text-align: right;\">\n",
       "      <th></th>\n",
       "      <th>area</th>\n",
       "      <th>perimeter</th>\n",
       "      <th>length</th>\n",
       "      <th>building_levels</th>\n",
       "      <th>year</th>\n",
       "      <th>count_vertices</th>\n",
       "      <th>compactness</th>\n",
       "      <th>complexity</th>\n",
       "      <th>count_neighbor</th>\n",
       "    </tr>\n",
       "  </thead>\n",
       "  <tbody>\n",
       "    <tr>\n",
       "      <th>count</th>\n",
       "      <td>163867.000000</td>\n",
       "      <td>163867.000000</td>\n",
       "      <td>163867.000000</td>\n",
       "      <td>2325.000000</td>\n",
       "      <td>163849.000000</td>\n",
       "      <td>163867.000000</td>\n",
       "      <td>163867.000000</td>\n",
       "      <td>163867.000000</td>\n",
       "      <td>163844.000000</td>\n",
       "    </tr>\n",
       "    <tr>\n",
       "      <th>mean</th>\n",
       "      <td>124.320658</td>\n",
       "      <td>34.346574</td>\n",
       "      <td>12.455788</td>\n",
       "      <td>1.578495</td>\n",
       "      <td>1970.159012</td>\n",
       "      <td>7.326905</td>\n",
       "      <td>0.820270</td>\n",
       "      <td>11.498783</td>\n",
       "      <td>626.513751</td>\n",
       "    </tr>\n",
       "    <tr>\n",
       "      <th>std</th>\n",
       "      <td>1144.997166</td>\n",
       "      <td>42.854556</td>\n",
       "      <td>14.877767</td>\n",
       "      <td>1.887877</td>\n",
       "      <td>36.684794</td>\n",
       "      <td>5.113578</td>\n",
       "      <td>0.070376</td>\n",
       "      <td>5.166690</td>\n",
       "      <td>307.412898</td>\n",
       "    </tr>\n",
       "    <tr>\n",
       "      <th>min</th>\n",
       "      <td>0.010049</td>\n",
       "      <td>0.401644</td>\n",
       "      <td>0.144239</td>\n",
       "      <td>-3.000000</td>\n",
       "      <td>1212.000000</td>\n",
       "      <td>4.000000</td>\n",
       "      <td>0.252211</td>\n",
       "      <td>1.268545</td>\n",
       "      <td>1.000000</td>\n",
       "    </tr>\n",
       "    <tr>\n",
       "      <th>25%</th>\n",
       "      <td>10.971202</td>\n",
       "      <td>13.753018</td>\n",
       "      <td>5.021353</td>\n",
       "      <td>1.000000</td>\n",
       "      <td>1957.000000</td>\n",
       "      <td>5.000000</td>\n",
       "      <td>0.791528</td>\n",
       "      <td>7.543937</td>\n",
       "      <td>429.000000</td>\n",
       "    </tr>\n",
       "    <tr>\n",
       "      <th>50%</th>\n",
       "      <td>50.051329</td>\n",
       "      <td>29.746535</td>\n",
       "      <td>10.845022</td>\n",
       "      <td>1.000000</td>\n",
       "      <td>1976.000000</td>\n",
       "      <td>5.000000</td>\n",
       "      <td>0.844085</td>\n",
       "      <td>11.127256</td>\n",
       "      <td>639.000000</td>\n",
       "    </tr>\n",
       "    <tr>\n",
       "      <th>75%</th>\n",
       "      <td>71.500435</td>\n",
       "      <td>38.890377</td>\n",
       "      <td>14.321578</td>\n",
       "      <td>2.000000</td>\n",
       "      <td>1993.000000</td>\n",
       "      <td>8.000000</td>\n",
       "      <td>0.872016</td>\n",
       "      <td>13.347903</td>\n",
       "      <td>834.000000</td>\n",
       "    </tr>\n",
       "    <tr>\n",
       "      <th>max</th>\n",
       "      <td>127111.022810</td>\n",
       "      <td>2381.260263</td>\n",
       "      <td>758.776422</td>\n",
       "      <td>43.000000</td>\n",
       "      <td>2020.000000</td>\n",
       "      <td>256.000000</td>\n",
       "      <td>0.999919</td>\n",
       "      <td>158.289235</td>\n",
       "      <td>2119.000000</td>\n",
       "    </tr>\n",
       "  </tbody>\n",
       "</table>\n",
       "</div>"
      ],
      "text/plain": [
       "                area      perimeter         length  building_levels  \\\n",
       "count  163867.000000  163867.000000  163867.000000      2325.000000   \n",
       "mean      124.320658      34.346574      12.455788         1.578495   \n",
       "std      1144.997166      42.854556      14.877767         1.887877   \n",
       "min         0.010049       0.401644       0.144239        -3.000000   \n",
       "25%        10.971202      13.753018       5.021353         1.000000   \n",
       "50%        50.051329      29.746535      10.845022         1.000000   \n",
       "75%        71.500435      38.890377      14.321578         2.000000   \n",
       "max    127111.022810    2381.260263     758.776422        43.000000   \n",
       "\n",
       "                year  count_vertices    compactness     complexity  \\\n",
       "count  163849.000000   163867.000000  163867.000000  163867.000000   \n",
       "mean     1970.159012        7.326905       0.820270      11.498783   \n",
       "std        36.684794        5.113578       0.070376       5.166690   \n",
       "min      1212.000000        4.000000       0.252211       1.268545   \n",
       "25%      1957.000000        5.000000       0.791528       7.543937   \n",
       "50%      1976.000000        5.000000       0.844085      11.127256   \n",
       "75%      1993.000000        8.000000       0.872016      13.347903   \n",
       "max      2020.000000      256.000000       0.999919     158.289235   \n",
       "\n",
       "       count_neighbor  \n",
       "count   163844.000000  \n",
       "mean       626.513751  \n",
       "std        307.412898  \n",
       "min          1.000000  \n",
       "25%        429.000000  \n",
       "50%        639.000000  \n",
       "75%        834.000000  \n",
       "max       2119.000000  "
      ]
     },
     "execution_count": 12,
     "metadata": {},
     "output_type": "execute_result"
    }
   ],
   "source": [
    "num_df_10prct.describe()"
   ]
  },
  {
   "cell_type": "code",
   "execution_count": 13,
   "metadata": {},
   "outputs": [
    {
     "data": {
      "image/png": "[encoded data removed]",
      "text/plain": [
       "<Figure size 1728x648 with 9 Axes>"
      ]
     },
     "metadata": {
      "needs_background": "light"
     },
     "output_type": "display_data"
    }
   ],
   "source": [
    "\n",
    "num_df_10prct.plot(kind='box', subplots=True, figsize=(24,9))\n",
    "plt.plot()\n",
    "plt.savefig('model_cv_multicollinearity_10prct/run4/exploratory/south_holland_basic_distribution_null.png')"
   ]
  },
  {
   "cell_type": "code",
   "execution_count": null,
   "metadata": {},
   "outputs": [],
   "source": []
  },
  {
   "cell_type": "code",
   "execution_count": null,
   "metadata": {},
   "outputs": [],
   "source": []
  },
  {
   "cell_type": "code",
   "execution_count": 14,
   "metadata": {},
   "outputs": [],
   "source": [
    "X = ml_df.drop('bldg_height', axis=1)\n",
    "y = ml_df['bldg_height']\n",
    "\n",
    "X_train, X_test, y_train, y_test = train_test_split(X, y, test_size=0.2, random_state=train_test_seed)"
   ]
  },
  {
   "cell_type": "code",
   "execution_count": 15,
   "metadata": {},
   "outputs": [
    {
     "data": {
      "text/plain": [
       "(163867, 11)"
      ]
     },
     "execution_count": 15,
     "metadata": {},
     "output_type": "execute_result"
    }
   ],
   "source": [
    "X.shape"
   ]
  },
  {
   "cell_type": "code",
   "execution_count": 16,
   "metadata": {},
   "outputs": [
    {
     "data": {
      "text/plain": [
       "(163867,)"
      ]
     },
     "execution_count": 16,
     "metadata": {},
     "output_type": "execute_result"
    }
   ],
   "source": [
    "y.shape"
   ]
  },
  {
   "cell_type": "code",
   "execution_count": 17,
   "metadata": {},
   "outputs": [],
   "source": [
    "mean_transformer = Pipeline(steps=[\n",
    "    ('imputer', SimpleImputer(strategy='mean', add_indicator=True)),\n",
    "    ('normalizer', Normalizer())])\n",
    "\n",
    "freq_transformer = Pipeline(steps=[\n",
    "    ('imputer', SimpleImputer(strategy='most_frequent', add_indicator=True)),\n",
    "    ('normalizer', Normalizer())])\n",
    "\n",
    "zero_transformer = Pipeline(steps=[\n",
    "    ('imputer', SimpleImputer(strategy='constant', fill_value=0, add_indicator=True)),\n",
    "    ('normalizer', Normalizer())])"
   ]
  },
  {
   "cell_type": "code",
   "execution_count": 18,
   "metadata": {},
   "outputs": [],
   "source": [
    "cat_transformer = Pipeline(steps=[\n",
    "    ('imputer', SimpleImputer(strategy='constant', fill_value='NA', add_indicator=True)),\n",
    "    ('onehot', OneHotEncoder(handle_unknown='ignore'))])"
   ]
  },
  {
   "cell_type": "code",
   "execution_count": null,
   "metadata": {},
   "outputs": [],
   "source": []
  },
  {
   "cell_type": "code",
   "execution_count": 19,
   "metadata": {},
   "outputs": [],
   "source": [
    "preprocessor = ColumnTransformer(transformers=[\n",
    "        ('mean_transformer', mean_transformer, [\"year\"]),\n",
    "        ('freq_transformer', freq_transformer, [\"building_levels\"]),\n",
    "        ('zero_transformer', zero_transformer, [\"count_neighbor\"]),\n",
    "        ('cat_transfomer', cat_transformer, cat_cols)])"
   ]
  },
  {
   "cell_type": "code",
   "execution_count": null,
   "metadata": {},
   "outputs": [],
   "source": []
  },
  {
   "cell_type": "code",
   "execution_count": null,
   "metadata": {},
   "outputs": [],
   "source": []
  },
  {
   "cell_type": "code",
   "execution_count": 20,
   "metadata": {},
   "outputs": [],
   "source": [
    "from sklearn.ensemble import RandomForestRegressor, AdaBoostRegressor, GradientBoostingRegressor, BaggingRegressor\n",
    "from sklearn.tree import DecisionTreeRegressor\n",
    "from sklearn.neighbors import KNeighborsRegressor\n",
    "from sklearn.linear_model import LinearRegression"
   ]
  },
  {
   "cell_type": "code",
   "execution_count": 21,
   "metadata": {},
   "outputs": [
    {
     "name": "stdout",
     "output_type": "stream",
     "text": [
      "['accuracy', 'adjusted_mutual_info_score', 'adjusted_rand_score', 'average_precision', 'balanced_accuracy', 'completeness_score', 'explained_variance', 'f1', 'f1_macro', 'f1_micro', 'f1_samples', 'f1_weighted', 'fowlkes_mallows_score', 'homogeneity_score', 'jaccard', 'jaccard_macro', 'jaccard_micro', 'jaccard_samples', 'jaccard_weighted', 'max_error', 'mutual_info_score', 'neg_brier_score', 'neg_log_loss', 'neg_mean_absolute_error', 'neg_mean_gamma_deviance', 'neg_mean_poisson_deviance', 'neg_mean_squared_error', 'neg_mean_squared_log_error', 'neg_median_absolute_error', 'neg_root_mean_squared_error', 'normalized_mutual_info_score', 'precision', 'precision_macro', 'precision_micro', 'precision_samples', 'precision_weighted', 'r2', 'recall', 'recall_macro', 'recall_micro', 'recall_samples', 'recall_weighted', 'roc_auc', 'roc_auc_ovo', 'roc_auc_ovo_weighted', 'roc_auc_ovr', 'roc_auc_ovr_weighted', 'v_measure_score']\n"
     ]
    }
   ],
   "source": [
    "print(sorted(sklearn.metrics.SCORERS.keys()) )"
   ]
  },
  {
   "cell_type": "code",
   "execution_count": 22,
   "metadata": {},
   "outputs": [],
   "source": [
    "regressors = []\n",
    "regressors.append(('LR', LinearRegression()))\n",
    "regressors.append(('DT', DecisionTreeRegressor(random_state=model_seed)))\n",
    "# regressors.append(('DT', DecisionTreeRegressor(max_depth=30, random_state=42)))\n",
    "regressors.append(('KNN', KNeighborsRegressor()))\n",
    "# regressors.append(('KNN', KNeighborsRegressor(n_neighborsint=30, weights=\"distance\")))\n",
    "regressors.append(('RF', RandomForestRegressor(random_state=model_seed)))\n",
    "# regressors.append(('RF', RandomForestRegressor(n_estimators=100, max_depth=10)))\n",
    "regressors.append(('AB', AdaBoostRegressor(random_state=model_seed)))\n",
    "regressors.append(('B', BaggingRegressor(random_state=model_seed)))\n",
    "regressors.append(('GB', GradientBoostingRegressor(random_state=model_seed)))\n"
   ]
  },
  {
   "cell_type": "code",
   "execution_count": null,
   "metadata": {},
   "outputs": [],
   "source": []
  },
  {
   "cell_type": "code",
   "execution_count": null,
   "metadata": {},
   "outputs": [],
   "source": []
  },
  {
   "cell_type": "code",
   "execution_count": null,
   "metadata": {},
   "outputs": [],
   "source": []
  },
  {
   "cell_type": "code",
   "execution_count": 23,
   "metadata": {},
   "outputs": [],
   "source": [
    "mae_reg_scores = {}"
   ]
  },
  {
   "cell_type": "code",
   "execution_count": 24,
   "metadata": {},
   "outputs": [
    {
     "name": "stdout",
     "output_type": "stream",
     "text": [
      "LR: avg: -3.114472 (std: 0.009889, max: -3.102209, min: -3.124703) took 0.910760 seconds\n",
      "DT: avg: -3.110557 (std: 0.011471, max: -3.095542, min: -3.126218) took 0.545090 seconds\n",
      "KNN: avg: -3.288624 (std: 0.165453, max: -3.139447, min: -3.599841) took 0.532650 seconds\n",
      "RF: avg: -3.115942 (std: 0.012055, max: -3.097854, min: -3.133994) took 0.541705 seconds\n",
      "AB: avg: -3.130230 (std: 0.026981, max: -3.097018, min: -3.170139) took 0.542898 seconds\n",
      "B: avg: -3.110007 (std: 0.006723, max: -3.099737, min: -3.117518) took 0.553745 seconds\n",
      "GB: avg: -3.108492 (std: 0.010345, max: -3.094697, min: -3.126332) took 0.554777 seconds\n"
     ]
    }
   ],
   "source": [
    "for name, regressor in regressors:\n",
    "    cv = ShuffleSplit(n_splits=5, test_size=.2, random_state=cv_seed)\n",
    "    mdl_pipeline = Pipeline(steps=[('preprocessor', preprocessor), ('regressor', regressor)])\n",
    "    tic = time.process_time()\n",
    "    scores = cross_val_score(mdl_pipeline, X_train, y_train, cv=cv, scoring='neg_mean_absolute_error', error_score='raise', n_jobs=-1)\n",
    "    toc = time.process_time()\n",
    "    elapsed_time = toc - tic\n",
    "    mae_reg_scores[name] = scores\n",
    "    msg = \"%s: avg: %f (std: %f, max: %f, min: %f) took %f seconds\" % (name, scores.mean(), scores.std(), scores.max(), scores.min(), elapsed_time)\n",
    "    print(msg)"
   ]
  },
  {
   "cell_type": "code",
   "execution_count": 25,
   "metadata": {},
   "outputs": [
    {
     "data": {
      "text/plain": [
       "{'LR': array([-3.12465886, -3.10220895, -3.11735526, -3.12470322, -3.10343373]),\n",
       " 'DT': array([-3.1099876 , -3.12621835, -3.09554243, -3.12018492, -3.10084972]),\n",
       " 'KNN': array([-3.13944681, -3.59984088, -3.30841931, -3.17722087, -3.21819131]),\n",
       " 'RF': array([-3.13399398, -3.11567243, -3.09785403, -3.1100345 , -3.12215538]),\n",
       " 'AB': array([-3.10333976, -3.09701781, -3.17013914, -3.13740975, -3.14324224]),\n",
       " 'B': array([-3.11751817, -3.1129371 , -3.11518792, -3.099737  , -3.10465329]),\n",
       " 'GB': array([-3.10351336, -3.12633232, -3.09469692, -3.10974924, -3.10817041])}"
      ]
     },
     "execution_count": 25,
     "metadata": {},
     "output_type": "execute_result"
    }
   ],
   "source": [
    "mae_reg_scores"
   ]
  },
  {
   "cell_type": "code",
   "execution_count": 26,
   "metadata": {},
   "outputs": [
    {
     "data": {
      "image/png": "[encoded data removed]",
      "text/plain": [
       "<Figure size 1152x648 with 1 Axes>"
      ]
     },
     "metadata": {
      "needs_background": "light"
     },
     "output_type": "display_data"
    }
   ],
   "source": [
    "fig = plt.figure(figsize=(16,9))\n",
    "fig.suptitle('Algorithm Comparison')\n",
    "ax = fig.add_subplot (111)\n",
    "\n",
    "plt.boxplot(mae_reg_scores.values())\n",
    "ax.set_xticklabels(mae_reg_scores.keys())\n",
    "\n",
    "plt.tight_layout()\n",
    "plt.plot()\n",
    "plt.xlabel('Models')\n",
    "plt.ylabel('Negated MAE Scores')\n",
    "plt.savefig('model_cv_multicollinearity_10prct/run4/normalizer/South-Holland-10prct_MAE.png', dpi=600)"
   ]
  },
  {
   "cell_type": "code",
   "execution_count": null,
   "metadata": {},
   "outputs": [],
   "source": []
  },
  {
   "cell_type": "code",
   "execution_count": 27,
   "metadata": {},
   "outputs": [],
   "source": [
    "abs_mae_reg_scores = {}\n",
    "for k, v in mae_reg_scores.items():\n",
    "    abs_mae_reg_scores[k] = np.absolute(v)"
   ]
  },
  {
   "cell_type": "code",
   "execution_count": 28,
   "metadata": {},
   "outputs": [
    {
     "data": {
      "image/png": "[encoded data removed]",
      "text/plain": [
       "<Figure size 1152x648 with 1 Axes>"
      ]
     },
     "metadata": {
      "needs_background": "light"
     },
     "output_type": "display_data"
    }
   ],
   "source": [
    "fig = plt.figure(figsize=(16,9))\n",
    "fig.suptitle('Algorithm Comparison')\n",
    "ax = fig.add_subplot (111)\n",
    "\n",
    "\n",
    "plt.boxplot(abs_mae_reg_scores.values())\n",
    "ax.set_xticklabels(abs_mae_reg_scores.keys())\n",
    "\n",
    "plt.tight_layout()\n",
    "plt.plot()\n",
    "plt.xlabel('Models')\n",
    "plt.ylabel('Absolute MAE Scores')\n",
    "plt.savefig('model_cv_multicollinearity_10prct/run4/normalizer/South-Holland-10prct_ABS-MAE.png', dpi=600)"
   ]
  },
  {
   "cell_type": "code",
   "execution_count": 29,
   "metadata": {},
   "outputs": [
    {
     "data": {
      "text/plain": [
       "{'LR': array([-3.12465886, -3.10220895, -3.11735526, -3.12470322, -3.10343373]),\n",
       " 'DT': array([-3.1099876 , -3.12621835, -3.09554243, -3.12018492, -3.10084972]),\n",
       " 'RF': array([-3.13399398, -3.11567243, -3.09785403, -3.1100345 , -3.12215538]),\n",
       " 'AB': array([-3.10333976, -3.09701781, -3.17013914, -3.13740975, -3.14324224]),\n",
       " 'B': array([-3.11751817, -3.1129371 , -3.11518792, -3.099737  , -3.10465329]),\n",
       " 'GB': array([-3.10351336, -3.12633232, -3.09469692, -3.10974924, -3.10817041])}"
      ]
     },
     "execution_count": 29,
     "metadata": {},
     "output_type": "execute_result"
    }
   ],
   "source": [
    "\n",
    "if 'KNN' in mae_reg_scores.keys():\n",
    "    del mae_reg_scores['KNN'] \n",
    "mae_reg_scores"
   ]
  },
  {
   "cell_type": "code",
   "execution_count": null,
   "metadata": {},
   "outputs": [],
   "source": []
  },
  {
   "cell_type": "code",
   "execution_count": 30,
   "metadata": {},
   "outputs": [
    {
     "data": {
      "image/png": "[encoded data removed]",
      "text/plain": [
       "<Figure size 1152x648 with 1 Axes>"
      ]
     },
     "metadata": {
      "needs_background": "light"
     },
     "output_type": "display_data"
    }
   ],
   "source": [
    "fig = plt.figure(figsize=(16,9))\n",
    "fig.suptitle('Algorithm Comparison')\n",
    "ax = fig.add_subplot(111)\n",
    "\n",
    "plt.boxplot(mae_reg_scores.values())\n",
    "ax.set_xticklabels(mae_reg_scores.keys())\n",
    "\n",
    "plt.tight_layout()\n",
    "plt.plot()\n",
    "plt.xlabel('Models')\n",
    "plt.ylabel('Negated MAE Scores')\n",
    "plt.savefig('model_cv_multicollinearity_10prct/run4/normalizer/South-Holland-10prct_MAE_Except-KNN.png', dpi=600)\n"
   ]
  },
  {
   "cell_type": "code",
   "execution_count": 31,
   "metadata": {},
   "outputs": [
    {
     "data": {
      "text/plain": [
       "{'LR': array([3.12465886, 3.10220895, 3.11735526, 3.12470322, 3.10343373]),\n",
       " 'DT': array([3.1099876 , 3.12621835, 3.09554243, 3.12018492, 3.10084972]),\n",
       " 'RF': array([3.13399398, 3.11567243, 3.09785403, 3.1100345 , 3.12215538]),\n",
       " 'AB': array([3.10333976, 3.09701781, 3.17013914, 3.13740975, 3.14324224]),\n",
       " 'B': array([3.11751817, 3.1129371 , 3.11518792, 3.099737  , 3.10465329]),\n",
       " 'GB': array([3.10351336, 3.12633232, 3.09469692, 3.10974924, 3.10817041])}"
      ]
     },
     "execution_count": 31,
     "metadata": {},
     "output_type": "execute_result"
    }
   ],
   "source": [
    "if 'KNN' in abs_mae_reg_scores.keys():\n",
    "    del abs_mae_reg_scores['KNN'] \n",
    "abs_mae_reg_scores"
   ]
  },
  {
   "cell_type": "code",
   "execution_count": 32,
   "metadata": {},
   "outputs": [
    {
     "data": {
      "image/png": "[encoded data removed]",
      "text/plain": [
       "<Figure size 1152x648 with 1 Axes>"
      ]
     },
     "metadata": {
      "needs_background": "light"
     },
     "output_type": "display_data"
    }
   ],
   "source": [
    "fig = plt.figure(figsize=(16,9))\n",
    "fig.suptitle('Algorithm Comparison')\n",
    "ax = fig.add_subplot(111)\n",
    "\n",
    "plt.boxplot(abs_mae_reg_scores.values())\n",
    "ax.set_xticklabels(abs_mae_reg_scores.keys())\n",
    "\n",
    "plt.tight_layout()\n",
    "plt.plot()\n",
    "plt.xlabel('Models')\n",
    "plt.ylabel('Absolute MAE Scores')\n",
    "plt.savefig('model_cv_multicollinearity_10prct/run4/normalizer/South-Holland-10prct_ABS-MAE_Except-KNN.png', dpi=600)"
   ]
  },
  {
   "cell_type": "code",
   "execution_count": null,
   "metadata": {},
   "outputs": [],
   "source": []
  },
  {
   "cell_type": "code",
   "execution_count": null,
   "metadata": {},
   "outputs": [],
   "source": []
  },
  {
   "cell_type": "code",
   "execution_count": 33,
   "metadata": {},
   "outputs": [],
   "source": [
    "mse_reg_scores = {}"
   ]
  },
  {
   "cell_type": "code",
   "execution_count": 34,
   "metadata": {},
   "outputs": [
    {
     "name": "stdout",
     "output_type": "stream",
     "text": [
      "LR: avg: -15.016557 (std: 0.459420, max: -14.428325, min: -15.602082) took 0.603066 seconds\n",
      "DT: avg: -14.805000 (std: 0.697378, max: -13.873707, min: -15.942811) took 0.568676 seconds\n",
      "KNN: avg: -25.488222 (std: 18.546447, max: -15.123787, min: -62.519799) took 0.564791 seconds\n",
      "RF: avg: -14.803773 (std: 0.506661, max: -14.074059, min: -15.372302) took 0.547453 seconds\n",
      "AB: avg: -14.757713 (std: 0.418662, max: -14.252589, min: -15.453652) took 0.545380 seconds\n",
      "B: avg: -14.824594 (std: 0.468339, max: -14.102727, min: -15.335396) took 0.561517 seconds\n",
      "GB: avg: -14.806574 (std: 0.594814, max: -14.094455, min: -15.631020) took 0.554922 seconds\n"
     ]
    }
   ],
   "source": [
    "for name, regressor in regressors:\n",
    "    cv = ShuffleSplit(n_splits=5, test_size=.2, random_state=cv_seed)\n",
    "    mdl_pipeline = Pipeline(steps=[('preprocessor', preprocessor), ('regressor', regressor)])\n",
    "    tic = time.process_time()\n",
    "    scores = cross_val_score(mdl_pipeline, X_train, y_train, cv=cv, scoring='neg_mean_squared_error', error_score='raise', n_jobs=-1)\n",
    "    toc = time.process_time()\n",
    "    elapsed_time = toc - tic\n",
    "    mse_reg_scores[name] = scores\n",
    "    msg = \"%s: avg: %f (std: %f, max: %f, min: %f) took %f seconds\" % (name, scores.mean(), scores.std(), scores.max(), scores.min(), elapsed_time)\n",
    "    print(msg)"
   ]
  },
  {
   "cell_type": "code",
   "execution_count": null,
   "metadata": {},
   "outputs": [],
   "source": []
  },
  {
   "cell_type": "code",
   "execution_count": null,
   "metadata": {},
   "outputs": [],
   "source": []
  },
  {
   "cell_type": "code",
   "execution_count": 35,
   "metadata": {},
   "outputs": [
    {
     "data": {
      "image/png": "[encoded data removed]",
      "text/plain": [
       "<Figure size 1152x648 with 1 Axes>"
      ]
     },
     "metadata": {
      "needs_background": "light"
     },
     "output_type": "display_data"
    }
   ],
   "source": [
    "fig = plt.figure(figsize=(16,9))\n",
    "fig.suptitle('Algorithm Comparison')\n",
    "ax = fig.add_subplot(111)\n",
    "\n",
    "plt.boxplot(mse_reg_scores.values())\n",
    "ax.set_xticklabels(mse_reg_scores.keys())\n",
    "\n",
    "plt.tight_layout()\n",
    "plt.plot()\n",
    "plt.xlabel('Models')\n",
    "plt.ylabel('Negated MSE Scores')\n",
    "plt.savefig('model_cv_multicollinearity_10prct/run4/normalizer/South-Holland-10prct_MSE.png', dpi=600)\n",
    "plt.show()"
   ]
  },
  {
   "cell_type": "code",
   "execution_count": 36,
   "metadata": {},
   "outputs": [
    {
     "data": {
      "text/plain": [
       "{'LR': array([15.60208171, 15.49406124, 14.89262955, 14.42832508, 14.66568789]),\n",
       " 'DT': array([15.00943472, 15.94281126, 14.3316362 , 14.86741002, 13.873707  ]),\n",
       " 'KNN': array([18.23588764, 15.65744522, 15.12378704, 62.51979939, 15.90418825]),\n",
       " 'RF': array([14.07405933, 14.43962415, 15.34682221, 15.37230189, 14.78605888]),\n",
       " 'AB': array([14.96002392, 15.45365165, 14.25258927, 14.65785458, 14.46444627]),\n",
       " 'B': array([14.10272693, 15.29838887, 15.3353964 , 14.52634488, 14.86011248]),\n",
       " 'GB': array([14.20073569, 15.63102021, 14.83725194, 15.26940739, 14.09445529])}"
      ]
     },
     "execution_count": 36,
     "metadata": {},
     "output_type": "execute_result"
    }
   ],
   "source": [
    "abs_mse_reg_scores = {}\n",
    "for k, v in mse_reg_scores.items():\n",
    "    abs_mse_reg_scores[k] = np.absolute(v)\n",
    "    \n",
    "abs_mse_reg_scores"
   ]
  },
  {
   "cell_type": "code",
   "execution_count": 37,
   "metadata": {},
   "outputs": [
    {
     "data": {
      "image/png": "[encoded data removed]",
      "text/plain": [
       "<Figure size 1152x648 with 1 Axes>"
      ]
     },
     "metadata": {
      "needs_background": "light"
     },
     "output_type": "display_data"
    }
   ],
   "source": [
    "fig = plt.figure(figsize=(16,9))\n",
    "fig.suptitle('Algorithm Comparison')\n",
    "ax = fig.add_subplot (111)\n",
    "\n",
    "\n",
    "plt.boxplot(abs_mse_reg_scores.values())\n",
    "ax.set_xticklabels(abs_mse_reg_scores.keys())\n",
    "\n",
    "plt.tight_layout()\n",
    "plt.plot()\n",
    "plt.xlabel('Models')\n",
    "plt.ylabel('Absolute MSE Scores')\n",
    "plt.savefig('model_cv_multicollinearity_10prct/run4/normalizer/South-Holland-10prct_ABS-MSE.png', dpi=600)"
   ]
  },
  {
   "cell_type": "code",
   "execution_count": null,
   "metadata": {},
   "outputs": [],
   "source": []
  },
  {
   "cell_type": "code",
   "execution_count": null,
   "metadata": {},
   "outputs": [],
   "source": []
  },
  {
   "cell_type": "code",
   "execution_count": 38,
   "metadata": {},
   "outputs": [
    {
     "data": {
      "text/plain": [
       "{'LR': array([-15.60208171, -15.49406124, -14.89262955, -14.42832508,\n",
       "        -14.66568789]),\n",
       " 'DT': array([-15.00943472, -15.94281126, -14.3316362 , -14.86741002,\n",
       "        -13.873707  ]),\n",
       " 'RF': array([-14.07405933, -14.43962415, -15.34682221, -15.37230189,\n",
       "        -14.78605888]),\n",
       " 'AB': array([-14.96002392, -15.45365165, -14.25258927, -14.65785458,\n",
       "        -14.46444627]),\n",
       " 'B': array([-14.10272693, -15.29838887, -15.3353964 , -14.52634488,\n",
       "        -14.86011248]),\n",
       " 'GB': array([-14.20073569, -15.63102021, -14.83725194, -15.26940739,\n",
       "        -14.09445529])}"
      ]
     },
     "execution_count": 38,
     "metadata": {},
     "output_type": "execute_result"
    }
   ],
   "source": [
    "if 'KNN' in mse_reg_scores.keys():\n",
    "    del mse_reg_scores['KNN'] \n",
    "mse_reg_scores"
   ]
  },
  {
   "cell_type": "code",
   "execution_count": 39,
   "metadata": {},
   "outputs": [
    {
     "data": {
      "image/png": "[encoded data removed]",
      "text/plain": [
       "<Figure size 1152x648 with 1 Axes>"
      ]
     },
     "metadata": {
      "needs_background": "light"
     },
     "output_type": "display_data"
    }
   ],
   "source": [
    "fig = plt.figure(figsize=(16,9))\n",
    "fig.suptitle('Algorithm Comparison')\n",
    "ax = fig.add_subplot(111)\n",
    "\n",
    "plt.boxplot(mse_reg_scores.values())\n",
    "ax.set_xticklabels(mse_reg_scores.keys())\n",
    "\n",
    "plt.tight_layout()\n",
    "plt.plot()\n",
    "plt.xlabel('Models')\n",
    "plt.ylabel('Negated MSE Scores')\n",
    "plt.savefig('model_cv_multicollinearity_10prct/run4/normalizer/South-Holland-10prct_MSE_Except-KNN.png', dpi=600)\n",
    "plt.show()"
   ]
  },
  {
   "cell_type": "code",
   "execution_count": 40,
   "metadata": {},
   "outputs": [
    {
     "data": {
      "text/plain": [
       "{'LR': array([15.60208171, 15.49406124, 14.89262955, 14.42832508, 14.66568789]),\n",
       " 'DT': array([15.00943472, 15.94281126, 14.3316362 , 14.86741002, 13.873707  ]),\n",
       " 'RF': array([14.07405933, 14.43962415, 15.34682221, 15.37230189, 14.78605888]),\n",
       " 'AB': array([14.96002392, 15.45365165, 14.25258927, 14.65785458, 14.46444627]),\n",
       " 'B': array([14.10272693, 15.29838887, 15.3353964 , 14.52634488, 14.86011248]),\n",
       " 'GB': array([14.20073569, 15.63102021, 14.83725194, 15.26940739, 14.09445529])}"
      ]
     },
     "execution_count": 40,
     "metadata": {},
     "output_type": "execute_result"
    }
   ],
   "source": [
    "if 'KNN' in abs_mse_reg_scores.keys():\n",
    "    del abs_mse_reg_scores['KNN'] \n",
    "abs_mse_reg_scores"
   ]
  },
  {
   "cell_type": "code",
   "execution_count": 41,
   "metadata": {},
   "outputs": [
    {
     "data": {
      "image/png": "[encoded data removed]",
      "text/plain": [
       "<Figure size 1152x648 with 1 Axes>"
      ]
     },
     "metadata": {
      "needs_background": "light"
     },
     "output_type": "display_data"
    }
   ],
   "source": [
    "fig = plt.figure(figsize=(16,9))\n",
    "fig.suptitle('Algorithm Comparison')\n",
    "ax = fig.add_subplot(111)\n",
    "\n",
    "plt.boxplot(abs_mse_reg_scores.values())\n",
    "ax.set_xticklabels(abs_mse_reg_scores.keys())\n",
    "\n",
    "plt.tight_layout()\n",
    "plt.plot()\n",
    "plt.xlabel('Models')\n",
    "plt.ylabel('Absolute MSE Scores')\n",
    "plt.savefig('model_cv_multicollinearity_10prct/run4/normalizer/South-Holland-10prct_ABS-MSE_Except-KNN.png', dpi=600)\n",
    "plt.show()"
   ]
  },
  {
   "cell_type": "code",
   "execution_count": null,
   "metadata": {},
   "outputs": [],
   "source": []
  },
  {
   "cell_type": "code",
   "execution_count": null,
   "metadata": {},
   "outputs": [],
   "source": []
  },
  {
   "cell_type": "code",
   "execution_count": null,
   "metadata": {},
   "outputs": [],
   "source": []
  },
  {
   "cell_type": "code",
   "execution_count": null,
   "metadata": {},
   "outputs": [],
   "source": []
  },
  {
   "cell_type": "code",
   "execution_count": 42,
   "metadata": {},
   "outputs": [],
   "source": [
    "r2_reg_scores = {}"
   ]
  },
  {
   "cell_type": "code",
   "execution_count": 43,
   "metadata": {},
   "outputs": [
    {
     "name": "stdout",
     "output_type": "stream",
     "text": [
      "LR: avg: 0.000000 (std: 0.002509, max: 0.004237, min: -0.002685) took 0.554124 seconds\n",
      "DT: avg: -0.005484 (std: 0.016910, max: 0.003733, min: -0.039270) took 0.547941 seconds\n",
      "KNN: avg: -0.110838 (std: 0.184700, max: -0.008611, min: -0.479821) took 0.542664 seconds\n",
      "RF: avg: -0.000245 (std: 0.006012, max: 0.007886, min: -0.010287) took 0.538818 seconds\n",
      "AB: avg: -0.030731 (std: 0.019466, max: -0.006491, min: -0.054672) took 0.552173 seconds\n",
      "B: avg: 0.005934 (std: 0.004511, max: 0.012865, min: 0.000445) took 0.548743 seconds\n",
      "GB: avg: 0.003002 (std: 0.009184, max: 0.015034, min: -0.012569) took 0.582493 seconds\n"
     ]
    }
   ],
   "source": [
    "for name, regressor in regressors:\n",
    "    cv = ShuffleSplit(n_splits=5, test_size=.2, random_state=cv_seed)\n",
    "    mdl_pipeline = Pipeline(steps=[('preprocessor', preprocessor), ('regressor', regressor)])\n",
    "    tic = time.process_time()\n",
    "    scores = cross_val_score(mdl_pipeline, X_train, y_train, cv=cv, scoring='r2', error_score='raise', n_jobs=-1)\n",
    "    toc = time.process_time()\n",
    "    elapsed_time = toc - tic\n",
    "    r2_reg_scores[name] = scores\n",
    "    msg = \"%s: avg: %f (std: %f, max: %f, min: %f) took %f seconds\" % (name, scores.mean(), scores.std(), scores.max(), scores.min(), elapsed_time)\n",
    "    print(msg)"
   ]
  },
  {
   "cell_type": "code",
   "execution_count": 44,
   "metadata": {},
   "outputs": [
    {
     "data": {
      "image/png": "[encoded data removed]",
      "text/plain": [
       "<Figure size 1152x648 with 1 Axes>"
      ]
     },
     "metadata": {
      "needs_background": "light"
     },
     "output_type": "display_data"
    }
   ],
   "source": [
    "fig = plt.figure(figsize=(16,9))\n",
    "fig.suptitle('Algorithm Comparison')\n",
    "ax = fig.add_subplot(111)\n",
    "\n",
    "plt.boxplot(r2_reg_scores.values())\n",
    "ax.set_xticklabels(r2_reg_scores.keys())\n",
    "\n",
    "\n",
    "plt.tight_layout()\n",
    "plt.plot()\n",
    "plt.xlabel('Models')\n",
    "plt.ylabel('R^2 Scores')\n",
    "plt.savefig('model_cv_multicollinearity_10prct/run4/normalizer/South-Holland-10prct_R2.png', dpi=600)\n",
    "plt.show()"
   ]
  },
  {
   "cell_type": "code",
   "execution_count": 45,
   "metadata": {},
   "outputs": [
    {
     "data": {
      "text/plain": [
       "{'LR': array([-0.00178278, -0.00268451,  0.00136379,  0.00423658, -0.00113064]),\n",
       " 'DT': array([-0.03927026,  0.00367893,  0.00278159,  0.00165839,  0.00373302]),\n",
       " 'RF': array([-0.00206586,  0.00788553,  0.0029406 , -0.01028678,  0.0002998 ]),\n",
       " 'AB': array([-0.05163784, -0.05467199, -0.02692052, -0.01393261, -0.00649091]),\n",
       " 'B': array([0.00044528, 0.00424602, 0.0028373 , 0.00927474, 0.01286456]),\n",
       " 'GB': array([ 0.00127474,  0.00266332,  0.01503384,  0.00860533, -0.01256858])}"
      ]
     },
     "execution_count": 45,
     "metadata": {},
     "output_type": "execute_result"
    }
   ],
   "source": [
    "if 'KNN' in r2_reg_scores.keys():\n",
    "    del r2_reg_scores['KNN']\n",
    "r2_reg_scores"
   ]
  },
  {
   "cell_type": "code",
   "execution_count": 46,
   "metadata": {},
   "outputs": [
    {
     "data": {
      "image/png": "[encoded data removed]",
      "text/plain": [
       "<Figure size 1152x648 with 1 Axes>"
      ]
     },
     "metadata": {
      "needs_background": "light"
     },
     "output_type": "display_data"
    }
   ],
   "source": [
    "fig = plt.figure(figsize=(16,9))\n",
    "fig.suptitle('Algorithm Comparison')\n",
    "ax = fig.add_subplot(111)\n",
    "\n",
    "plt.boxplot(r2_reg_scores.values())\n",
    "ax.set_xticklabels(r2_reg_scores.keys())\n",
    "\n",
    "\n",
    "plt.tight_layout()\n",
    "plt.plot()\n",
    "plt.xlabel('Models')\n",
    "plt.ylabel('R^2 Scores')\n",
    "plt.savefig('model_cv_multicollinearity_10prct/run4/normalizer/South-Holland-10prct_R2_Except-KNN.png', dpi=600)\n",
    "plt.show()"
   ]
  },
  {
   "cell_type": "code",
   "execution_count": null,
   "metadata": {},
   "outputs": [],
   "source": []
  },
  {
   "cell_type": "code",
   "execution_count": null,
   "metadata": {},
   "outputs": [],
   "source": []
  },
  {
   "cell_type": "code",
   "execution_count": null,
   "metadata": {},
   "outputs": [],
   "source": []
  },
  {
   "cell_type": "code",
   "execution_count": null,
   "metadata": {},
   "outputs": [],
   "source": []
  },
  {
   "cell_type": "code",
   "execution_count": null,
   "metadata": {},
   "outputs": [],
   "source": []
  },
  {
   "cell_type": "code",
   "execution_count": null,
   "metadata": {},
   "outputs": [],
   "source": []
  },
  {
   "cell_type": "code",
   "execution_count": null,
   "metadata": {},
   "outputs": [],
   "source": []
  },
  {
   "cell_type": "code",
   "execution_count": null,
   "metadata": {},
   "outputs": [],
   "source": []
  },
  {
   "cell_type": "code",
   "execution_count": 47,
   "metadata": {},
   "outputs": [],
   "source": [
    "mean_transformer = Pipeline(steps=[\n",
    "    ('imputer', SimpleImputer(strategy='mean', add_indicator=True)),\n",
    "    ('scaler', StandardScaler())])\n",
    "\n",
    "freq_transformer = Pipeline(steps=[\n",
    "    ('imputer', SimpleImputer(strategy='most_frequent', add_indicator=True)),\n",
    "    ('scaler', StandardScaler())])\n",
    "\n",
    "zero_transformer = Pipeline(steps=[\n",
    "    ('imputer', SimpleImputer(strategy='constant', fill_value=0, add_indicator=True)),\n",
    "    ('scaler', StandardScaler())])"
   ]
  },
  {
   "cell_type": "code",
   "execution_count": 48,
   "metadata": {},
   "outputs": [],
   "source": [
    "cat_transformer = Pipeline(steps=[\n",
    "    ('imputer', SimpleImputer(strategy='constant', fill_value='NA', add_indicator=True)),\n",
    "    ('onehot', OneHotEncoder(handle_unknown='ignore'))])"
   ]
  },
  {
   "cell_type": "code",
   "execution_count": null,
   "metadata": {},
   "outputs": [],
   "source": []
  },
  {
   "cell_type": "code",
   "execution_count": 49,
   "metadata": {},
   "outputs": [],
   "source": [
    "preprocessor = ColumnTransformer(transformers=[\n",
    "        ('mean_transformer', mean_transformer, [\"year\"]),\n",
    "        ('freq_transformer', freq_transformer, [\"building_levels\"]),\n",
    "        ('zero_transformer', zero_transformer, [\"count_neighbor\"]),\n",
    "        ('cat_transfomer', cat_transformer, cat_cols)])"
   ]
  },
  {
   "cell_type": "code",
   "execution_count": null,
   "metadata": {},
   "outputs": [],
   "source": []
  },
  {
   "cell_type": "code",
   "execution_count": null,
   "metadata": {},
   "outputs": [],
   "source": []
  },
  {
   "cell_type": "code",
   "execution_count": 50,
   "metadata": {},
   "outputs": [],
   "source": [
    "from sklearn.ensemble import RandomForestRegressor, AdaBoostRegressor, GradientBoostingRegressor, BaggingRegressor\n",
    "from sklearn.tree import DecisionTreeRegressor\n",
    "from sklearn.neighbors import KNeighborsRegressor\n",
    "from sklearn.linear_model import LinearRegression"
   ]
  },
  {
   "cell_type": "code",
   "execution_count": 51,
   "metadata": {},
   "outputs": [
    {
     "name": "stdout",
     "output_type": "stream",
     "text": [
      "['accuracy', 'adjusted_mutual_info_score', 'adjusted_rand_score', 'average_precision', 'balanced_accuracy', 'completeness_score', 'explained_variance', 'f1', 'f1_macro', 'f1_micro', 'f1_samples', 'f1_weighted', 'fowlkes_mallows_score', 'homogeneity_score', 'jaccard', 'jaccard_macro', 'jaccard_micro', 'jaccard_samples', 'jaccard_weighted', 'max_error', 'mutual_info_score', 'neg_brier_score', 'neg_log_loss', 'neg_mean_absolute_error', 'neg_mean_gamma_deviance', 'neg_mean_poisson_deviance', 'neg_mean_squared_error', 'neg_mean_squared_log_error', 'neg_median_absolute_error', 'neg_root_mean_squared_error', 'normalized_mutual_info_score', 'precision', 'precision_macro', 'precision_micro', 'precision_samples', 'precision_weighted', 'r2', 'recall', 'recall_macro', 'recall_micro', 'recall_samples', 'recall_weighted', 'roc_auc', 'roc_auc_ovo', 'roc_auc_ovo_weighted', 'roc_auc_ovr', 'roc_auc_ovr_weighted', 'v_measure_score']\n"
     ]
    }
   ],
   "source": [
    "print(sorted(sklearn.metrics.SCORERS.keys()) )"
   ]
  },
  {
   "cell_type": "code",
   "execution_count": 52,
   "metadata": {},
   "outputs": [],
   "source": [
    "regressors = []\n",
    "regressors.append(('LR', LinearRegression()))\n",
    "regressors.append(('DT', DecisionTreeRegressor(random_state=model_seed)))\n",
    "# regressors.append(('DT', DecisionTreeRegressor(max_depth=30, random_state=42)))\n",
    "regressors.append(('KNN', KNeighborsRegressor()))\n",
    "# regressors.append(('KNN', KNeighborsRegressor(n_neighborsint=30, weights=\"distance\")))\n",
    "regressors.append(('RF', RandomForestRegressor(random_state=model_seed)))\n",
    "# regressors.append(('RF', RandomForestRegressor(n_estimators=100, max_depth=10)))\n",
    "regressors.append(('AB', AdaBoostRegressor(random_state=model_seed)))\n",
    "regressors.append(('B', BaggingRegressor(random_state=model_seed)))\n",
    "regressors.append(('GB', GradientBoostingRegressor(random_state=model_seed)))\n"
   ]
  },
  {
   "cell_type": "code",
   "execution_count": null,
   "metadata": {},
   "outputs": [],
   "source": []
  },
  {
   "cell_type": "code",
   "execution_count": null,
   "metadata": {},
   "outputs": [],
   "source": []
  },
  {
   "cell_type": "code",
   "execution_count": 53,
   "metadata": {},
   "outputs": [],
   "source": [
    "mae_reg_scores = {}"
   ]
  },
  {
   "cell_type": "code",
   "execution_count": 54,
   "metadata": {},
   "outputs": [
    {
     "name": "stdout",
     "output_type": "stream",
     "text": [
      "LR: avg: -3.028160 (std: 0.010878, max: -3.013889, min: -3.047102) took 1.149300 seconds\n",
      "DT: avg: -3.403376 (std: 0.019836, max: -3.366016, min: -3.423410) took 0.539289 seconds\n",
      "KNN: avg: -2.989433 (std: 0.007727, max: -2.975070, min: -2.997933) took 0.551137 seconds\n",
      "RF: avg: -3.061255 (std: 0.017889, max: -3.043173, min: -3.094537) took 0.563128 seconds\n",
      "AB: avg: -3.494562 (std: 0.445869, max: -3.107601, min: -4.331855) took 0.916690 seconds\n",
      "B: avg: -3.107408 (std: 0.015416, max: -3.092373, min: -3.134221) took 0.552992 seconds\n",
      "GB: avg: -2.858922 (std: 0.004678, max: -2.851108, min: -2.863956) took 0.542285 seconds\n"
     ]
    }
   ],
   "source": [
    "for name, regressor in regressors:\n",
    "    cv = ShuffleSplit(n_splits=5, test_size=.2, random_state=cv_seed)\n",
    "    mdl_pipeline = Pipeline(steps=[('preprocessor', preprocessor), ('regressor', regressor)])\n",
    "    tic = time.process_time()\n",
    "    scores = cross_val_score(mdl_pipeline, X_train, y_train, cv=cv, scoring='neg_mean_absolute_error', error_score='raise', n_jobs=-1)\n",
    "    toc = time.process_time()\n",
    "    elapsed_time = toc - tic\n",
    "    mae_reg_scores[name] = scores\n",
    "    msg = \"%s: avg: %f (std: %f, max: %f, min: %f) took %f seconds\" % (name, scores.mean(), scores.std(), scores.max(), scores.min(), elapsed_time)\n",
    "    print(msg)"
   ]
  },
  {
   "cell_type": "code",
   "execution_count": 55,
   "metadata": {},
   "outputs": [
    {
     "data": {
      "text/plain": [
       "{'LR': array([-3.02495162, -3.03041379, -3.04710211, -3.02444577, -3.01388898]),\n",
       " 'DT': array([-3.40665393, -3.36601562, -3.4048927 , -3.41590776, -3.42341038]),\n",
       " 'KNN': array([-2.97507029, -2.98902071, -2.99793272, -2.99233091, -2.99280926]),\n",
       " 'RF': array([-3.05521385, -3.06327074, -3.0945367 , -3.05008106, -3.04317269]),\n",
       " 'AB': array([-3.45950676, -3.11997804, -3.45387023, -3.1076006 , -4.33185486]),\n",
       " 'B': array([-3.13422127, -3.09286937, -3.09237326, -3.11253494, -3.1050393 ]),\n",
       " 'GB': array([-2.8631325 , -2.86395625, -2.85674509, -2.85110781, -2.8596668 ])}"
      ]
     },
     "execution_count": 55,
     "metadata": {},
     "output_type": "execute_result"
    }
   ],
   "source": [
    "mae_reg_scores"
   ]
  },
  {
   "cell_type": "code",
   "execution_count": 56,
   "metadata": {},
   "outputs": [
    {
     "data": {
      "image/png": "[encoded data removed]",
      "text/plain": [
       "<Figure size 1152x648 with 1 Axes>"
      ]
     },
     "metadata": {
      "needs_background": "light"
     },
     "output_type": "display_data"
    }
   ],
   "source": [
    "fig = plt.figure(figsize=(16,9))\n",
    "fig.suptitle('Algorithm Comparison')\n",
    "ax = fig.add_subplot (111)\n",
    "\n",
    "plt.boxplot(mae_reg_scores.values())\n",
    "ax.set_xticklabels(mae_reg_scores.keys())\n",
    "\n",
    "plt.tight_layout()\n",
    "plt.plot()\n",
    "plt.xlabel('Models')\n",
    "plt.ylabel('Negated MAE Scores')\n",
    "plt.savefig('model_cv_multicollinearity_10prct/run4/scaler/South-Holland-10prct_MAE.png', dpi=600)"
   ]
  },
  {
   "cell_type": "code",
   "execution_count": null,
   "metadata": {},
   "outputs": [],
   "source": []
  },
  {
   "cell_type": "code",
   "execution_count": 57,
   "metadata": {},
   "outputs": [],
   "source": [
    "abs_mae_reg_scores = {}\n",
    "for k, v in mae_reg_scores.items():\n",
    "    abs_mae_reg_scores[k] = np.absolute(v)"
   ]
  },
  {
   "cell_type": "code",
   "execution_count": 58,
   "metadata": {},
   "outputs": [
    {
     "data": {
      "image/png": "[encoded data removed]",
      "text/plain": [
       "<Figure size 1152x648 with 1 Axes>"
      ]
     },
     "metadata": {
      "needs_background": "light"
     },
     "output_type": "display_data"
    }
   ],
   "source": [
    "fig = plt.figure(figsize=(16,9))\n",
    "fig.suptitle('Algorithm Comparison')\n",
    "ax = fig.add_subplot (111)\n",
    "\n",
    "\n",
    "plt.boxplot(abs_mae_reg_scores.values())\n",
    "ax.set_xticklabels(abs_mae_reg_scores.keys())\n",
    "\n",
    "plt.tight_layout()\n",
    "plt.plot()\n",
    "plt.xlabel('Models')\n",
    "plt.ylabel('Absolute MAE Scores')\n",
    "plt.savefig('model_cv_multicollinearity_10prct/run4/scaler/South-Holland-10prct_ABS-MAE.png', dpi=600)"
   ]
  },
  {
   "cell_type": "code",
   "execution_count": 59,
   "metadata": {},
   "outputs": [
    {
     "data": {
      "text/plain": [
       "{'LR': array([-3.02495162, -3.03041379, -3.04710211, -3.02444577, -3.01388898]),\n",
       " 'DT': array([-3.40665393, -3.36601562, -3.4048927 , -3.41590776, -3.42341038]),\n",
       " 'KNN': array([-2.97507029, -2.98902071, -2.99793272, -2.99233091, -2.99280926]),\n",
       " 'RF': array([-3.05521385, -3.06327074, -3.0945367 , -3.05008106, -3.04317269]),\n",
       " 'B': array([-3.13422127, -3.09286937, -3.09237326, -3.11253494, -3.1050393 ]),\n",
       " 'GB': array([-2.8631325 , -2.86395625, -2.85674509, -2.85110781, -2.8596668 ])}"
      ]
     },
     "execution_count": 59,
     "metadata": {},
     "output_type": "execute_result"
    }
   ],
   "source": [
    "\n",
    "if 'AB' in mae_reg_scores.keys():\n",
    "    del mae_reg_scores['AB'] \n",
    "mae_reg_scores"
   ]
  },
  {
   "cell_type": "code",
   "execution_count": null,
   "metadata": {},
   "outputs": [],
   "source": []
  },
  {
   "cell_type": "code",
   "execution_count": 60,
   "metadata": {},
   "outputs": [
    {
     "data": {
      "image/png": "[encoded data removed]",
      "text/plain": [
       "<Figure size 1152x648 with 1 Axes>"
      ]
     },
     "metadata": {
      "needs_background": "light"
     },
     "output_type": "display_data"
    }
   ],
   "source": [
    "fig = plt.figure(figsize=(16,9))\n",
    "fig.suptitle('Algorithm Comparison')\n",
    "ax = fig.add_subplot(111)\n",
    "\n",
    "plt.boxplot(mae_reg_scores.values())\n",
    "ax.set_xticklabels(mae_reg_scores.keys())\n",
    "\n",
    "plt.tight_layout()\n",
    "plt.plot()\n",
    "plt.xlabel('Models')\n",
    "plt.ylabel('Negated MAE Scores')\n",
    "plt.savefig('model_cv_multicollinearity_10prct/run4/scaler/South-Holland-10prct_MAE_Except-AB.png', dpi=600)\n"
   ]
  },
  {
   "cell_type": "code",
   "execution_count": 61,
   "metadata": {},
   "outputs": [
    {
     "data": {
      "text/plain": [
       "{'LR': array([3.02495162, 3.03041379, 3.04710211, 3.02444577, 3.01388898]),\n",
       " 'DT': array([3.40665393, 3.36601562, 3.4048927 , 3.41590776, 3.42341038]),\n",
       " 'KNN': array([2.97507029, 2.98902071, 2.99793272, 2.99233091, 2.99280926]),\n",
       " 'RF': array([3.05521385, 3.06327074, 3.0945367 , 3.05008106, 3.04317269]),\n",
       " 'B': array([3.13422127, 3.09286937, 3.09237326, 3.11253494, 3.1050393 ]),\n",
       " 'GB': array([2.8631325 , 2.86395625, 2.85674509, 2.85110781, 2.8596668 ])}"
      ]
     },
     "execution_count": 61,
     "metadata": {},
     "output_type": "execute_result"
    }
   ],
   "source": [
    "if 'AB' in abs_mae_reg_scores.keys():\n",
    "    del abs_mae_reg_scores['AB'] \n",
    "abs_mae_reg_scores"
   ]
  },
  {
   "cell_type": "code",
   "execution_count": 62,
   "metadata": {},
   "outputs": [
    {
     "data": {
      "image/png": "[encoded data removed]",
      "text/plain": [
       "<Figure size 1152x648 with 1 Axes>"
      ]
     },
     "metadata": {
      "needs_background": "light"
     },
     "output_type": "display_data"
    }
   ],
   "source": [
    "fig = plt.figure(figsize=(16,9))\n",
    "fig.suptitle('Algorithm Comparison')\n",
    "ax = fig.add_subplot(111)\n",
    "\n",
    "plt.boxplot(abs_mae_reg_scores.values())\n",
    "ax.set_xticklabels(abs_mae_reg_scores.keys())\n",
    "\n",
    "plt.tight_layout()\n",
    "plt.plot()\n",
    "plt.xlabel('Models')\n",
    "plt.ylabel('Absolute MAE Scores')\n",
    "plt.savefig('model_cv_multicollinearity_10prct/run4/scaler/South-Holland-10prct_ABS-MAE_Except-AB.png', dpi=600)"
   ]
  },
  {
   "cell_type": "code",
   "execution_count": null,
   "metadata": {},
   "outputs": [],
   "source": []
  },
  {
   "cell_type": "code",
   "execution_count": null,
   "metadata": {},
   "outputs": [],
   "source": []
  },
  {
   "cell_type": "code",
   "execution_count": 63,
   "metadata": {},
   "outputs": [],
   "source": [
    "mse_reg_scores = {}"
   ]
  },
  {
   "cell_type": "code",
   "execution_count": 64,
   "metadata": {},
   "outputs": [
    {
     "name": "stdout",
     "output_type": "stream",
     "text": [
      "LR: avg: -13.699878 (std: 0.677253, max: -13.078457, min: -14.992416) took 0.539795 seconds\n",
      "DT: avg: -22.611187 (std: 0.691037, max: -21.772928, min: -23.706004) took 0.577160 seconds\n",
      "KNN: avg: -14.424477 (std: 0.185700, max: -14.264964, min: -14.700082) took 0.574724 seconds\n",
      "RF: avg: -16.930100 (std: 0.723148, max: -15.645862, min: -17.570211) took 0.582057 seconds\n",
      "AB: avg: -25.346805 (std: 5.256618, max: -16.332556, min: -32.652694) took 0.956008 seconds\n",
      "B: avg: -17.332522 (std: 0.490044, max: -16.737965, min: -18.021089) took 0.528311 seconds\n",
      "GB: avg: -12.688880 (std: 0.402115, max: -12.212142, min: -13.303916) took 0.550028 seconds\n"
     ]
    }
   ],
   "source": [
    "for name, regressor in regressors:\n",
    "    cv = ShuffleSplit(n_splits=5, test_size=.2, random_state=cv_seed)\n",
    "    mdl_pipeline = Pipeline(steps=[('preprocessor', preprocessor), ('regressor', regressor)])\n",
    "    tic = time.process_time()\n",
    "    scores = cross_val_score(mdl_pipeline, X_train, y_train, cv=cv, scoring='neg_mean_squared_error', error_score='raise', n_jobs=-1)\n",
    "    toc = time.process_time()\n",
    "    elapsed_time = toc - tic\n",
    "    mse_reg_scores[name] = scores\n",
    "    msg = \"%s: avg: %f (std: %f, max: %f, min: %f) took %f seconds\" % (name, scores.mean(), scores.std(), scores.max(), scores.min(), elapsed_time)\n",
    "    print(msg)"
   ]
  },
  {
   "cell_type": "code",
   "execution_count": null,
   "metadata": {},
   "outputs": [],
   "source": []
  },
  {
   "cell_type": "code",
   "execution_count": null,
   "metadata": {},
   "outputs": [],
   "source": []
  },
  {
   "cell_type": "code",
   "execution_count": 65,
   "metadata": {},
   "outputs": [
    {
     "data": {
      "image/png": "[encoded data removed]",
      "text/plain": [
       "<Figure size 1152x648 with 1 Axes>"
      ]
     },
     "metadata": {
      "needs_background": "light"
     },
     "output_type": "display_data"
    }
   ],
   "source": [
    "fig = plt.figure(figsize=(16,9))\n",
    "fig.suptitle('Algorithm Comparison')\n",
    "ax = fig.add_subplot(111)\n",
    "\n",
    "plt.boxplot(mse_reg_scores.values())\n",
    "ax.set_xticklabels(mse_reg_scores.keys())\n",
    "\n",
    "plt.tight_layout()\n",
    "plt.plot()\n",
    "plt.xlabel('Models')\n",
    "plt.ylabel('Negated MSE Scores')\n",
    "plt.savefig('model_cv_multicollinearity_10prct/run4/scaler/South-Holland-10prct_MSE.png', dpi=600)\n",
    "plt.show()"
   ]
  },
  {
   "cell_type": "code",
   "execution_count": 66,
   "metadata": {},
   "outputs": [
    {
     "data": {
      "text/plain": [
       "{'LR': array([13.5538755 , 14.99241593, 13.24065974, 13.07845731, 13.63398259]),\n",
       " 'DT': array([22.50588613, 22.05398192, 21.77292795, 23.01713586, 23.70600393]),\n",
       " 'KNN': array([14.59637685, 14.70008236, 14.26496421, 14.28074728, 14.28021506]),\n",
       " 'RF': array([17.23659324, 16.64904138, 17.54878997, 17.57021141, 15.64586248]),\n",
       " 'AB': array([25.14174437, 27.21313046, 32.65269434, 16.33255588, 25.39389789]),\n",
       " 'B': array([17.7413132 , 18.0210891 , 16.73796529, 17.28058895, 16.88165156]),\n",
       " 'GB': array([12.72636535, 12.29596572, 13.30391634, 12.90601035, 12.21214231])}"
      ]
     },
     "execution_count": 66,
     "metadata": {},
     "output_type": "execute_result"
    }
   ],
   "source": [
    "abs_mse_reg_scores = {}\n",
    "for k, v in mse_reg_scores.items():\n",
    "    abs_mse_reg_scores[k] = np.absolute(v)\n",
    "    \n",
    "abs_mse_reg_scores"
   ]
  },
  {
   "cell_type": "code",
   "execution_count": 67,
   "metadata": {},
   "outputs": [
    {
     "data": {
      "image/png": "[encoded data removed]",
      "text/plain": [
       "<Figure size 1152x648 with 1 Axes>"
      ]
     },
     "metadata": {
      "needs_background": "light"
     },
     "output_type": "display_data"
    }
   ],
   "source": [
    "fig = plt.figure(figsize=(16,9))\n",
    "fig.suptitle('Algorithm Comparison')\n",
    "ax = fig.add_subplot (111)\n",
    "\n",
    "\n",
    "plt.boxplot(abs_mse_reg_scores.values())\n",
    "ax.set_xticklabels(abs_mse_reg_scores.keys())\n",
    "\n",
    "plt.tight_layout()\n",
    "plt.plot()\n",
    "plt.xlabel('Models')\n",
    "plt.ylabel('Absolute MSE Scores')\n",
    "plt.savefig('model_cv_multicollinearity_10prct/run4/scaler/South-Holland-10prct_ABS-MSE.png', dpi=600)"
   ]
  },
  {
   "cell_type": "code",
   "execution_count": null,
   "metadata": {},
   "outputs": [],
   "source": []
  },
  {
   "cell_type": "code",
   "execution_count": null,
   "metadata": {},
   "outputs": [],
   "source": []
  },
  {
   "cell_type": "code",
   "execution_count": 68,
   "metadata": {},
   "outputs": [
    {
     "data": {
      "text/plain": [
       "{'LR': array([-13.5538755 , -14.99241593, -13.24065974, -13.07845731,\n",
       "        -13.63398259]),\n",
       " 'DT': array([-22.50588613, -22.05398192, -21.77292795, -23.01713586,\n",
       "        -23.70600393]),\n",
       " 'KNN': array([-14.59637685, -14.70008236, -14.26496421, -14.28074728,\n",
       "        -14.28021506]),\n",
       " 'RF': array([-17.23659324, -16.64904138, -17.54878997, -17.57021141,\n",
       "        -15.64586248]),\n",
       " 'B': array([-17.7413132 , -18.0210891 , -16.73796529, -17.28058895,\n",
       "        -16.88165156]),\n",
       " 'GB': array([-12.72636535, -12.29596572, -13.30391634, -12.90601035,\n",
       "        -12.21214231])}"
      ]
     },
     "execution_count": 68,
     "metadata": {},
     "output_type": "execute_result"
    }
   ],
   "source": [
    "if 'AB' in mse_reg_scores.keys():\n",
    "    del mse_reg_scores['AB'] \n",
    "mse_reg_scores"
   ]
  },
  {
   "cell_type": "code",
   "execution_count": 69,
   "metadata": {},
   "outputs": [
    {
     "data": {
      "image/png": "[encoded data removed]",
      "text/plain": [
       "<Figure size 1152x648 with 1 Axes>"
      ]
     },
     "metadata": {
      "needs_background": "light"
     },
     "output_type": "display_data"
    }
   ],
   "source": [
    "fig = plt.figure(figsize=(16,9))\n",
    "fig.suptitle('Algorithm Comparison')\n",
    "ax = fig.add_subplot(111)\n",
    "\n",
    "plt.boxplot(mse_reg_scores.values())\n",
    "ax.set_xticklabels(mse_reg_scores.keys())\n",
    "\n",
    "plt.tight_layout()\n",
    "plt.plot()\n",
    "plt.xlabel('Models')\n",
    "plt.ylabel('Negated MSE Scores')\n",
    "plt.savefig('model_cv_multicollinearity_10prct/run4/scaler/South-Holland-10prct_MSE_Except-AB.png', dpi=600)\n",
    "plt.show()"
   ]
  },
  {
   "cell_type": "code",
   "execution_count": 70,
   "metadata": {},
   "outputs": [
    {
     "data": {
      "text/plain": [
       "{'LR': array([13.5538755 , 14.99241593, 13.24065974, 13.07845731, 13.63398259]),\n",
       " 'DT': array([22.50588613, 22.05398192, 21.77292795, 23.01713586, 23.70600393]),\n",
       " 'KNN': array([14.59637685, 14.70008236, 14.26496421, 14.28074728, 14.28021506]),\n",
       " 'RF': array([17.23659324, 16.64904138, 17.54878997, 17.57021141, 15.64586248]),\n",
       " 'B': array([17.7413132 , 18.0210891 , 16.73796529, 17.28058895, 16.88165156]),\n",
       " 'GB': array([12.72636535, 12.29596572, 13.30391634, 12.90601035, 12.21214231])}"
      ]
     },
     "execution_count": 70,
     "metadata": {},
     "output_type": "execute_result"
    }
   ],
   "source": [
    "if 'AB' in abs_mse_reg_scores.keys():\n",
    "    del abs_mse_reg_scores['AB'] \n",
    "abs_mse_reg_scores"
   ]
  },
  {
   "cell_type": "code",
   "execution_count": 71,
   "metadata": {},
   "outputs": [
    {
     "data": {
      "image/png": "[encoded data removed]",
      "text/plain": [
       "<Figure size 1152x648 with 1 Axes>"
      ]
     },
     "metadata": {
      "needs_background": "light"
     },
     "output_type": "display_data"
    }
   ],
   "source": [
    "fig = plt.figure(figsize=(16,9))\n",
    "fig.suptitle('Algorithm Comparison')\n",
    "ax = fig.add_subplot(111)\n",
    "\n",
    "plt.boxplot(abs_mse_reg_scores.values())\n",
    "ax.set_xticklabels(abs_mse_reg_scores.keys())\n",
    "\n",
    "plt.tight_layout()\n",
    "plt.plot()\n",
    "plt.xlabel('Models')\n",
    "plt.ylabel('Absolute MSE Scores')\n",
    "plt.savefig('model_cv_multicollinearity_10prct/run4/scaler/South-Holland-10prct_ABS-MSE_Except-AB.png', dpi=600)\n",
    "plt.show()"
   ]
  },
  {
   "cell_type": "code",
   "execution_count": null,
   "metadata": {},
   "outputs": [],
   "source": []
  },
  {
   "cell_type": "code",
   "execution_count": null,
   "metadata": {},
   "outputs": [],
   "source": []
  },
  {
   "cell_type": "code",
   "execution_count": null,
   "metadata": {},
   "outputs": [],
   "source": []
  },
  {
   "cell_type": "code",
   "execution_count": null,
   "metadata": {},
   "outputs": [],
   "source": []
  },
  {
   "cell_type": "code",
   "execution_count": 72,
   "metadata": {},
   "outputs": [],
   "source": [
    "r2_reg_scores = {}"
   ]
  },
  {
   "cell_type": "code",
   "execution_count": 73,
   "metadata": {},
   "outputs": [
    {
     "name": "stdout",
     "output_type": "stream",
     "text": [
      "LR: avg: 0.067836 (std: 0.017135, max: 0.089813, min: 0.045002) took 0.544738 seconds\n",
      "DT: avg: -0.542120 (std: 0.042867, max: -0.464334, min: -0.594540) took 0.556325 seconds\n",
      "KNN: avg: -0.004216 (std: 0.019199, max: 0.012136, min: -0.032910) took 0.582235 seconds\n",
      "RF: avg: -0.083752 (std: 0.019979, max: -0.054332, min: -0.113451) took 0.590366 seconds\n",
      "AB: avg: -0.277439 (std: 0.216528, max: -0.094406, min: -0.694012) took 0.914937 seconds\n",
      "B: avg: -0.163937 (std: 0.054323, max: -0.092862, min: -0.246557) took 0.554470 seconds\n",
      "GB: avg: 0.141337 (std: 0.014414, max: 0.157891, min: 0.123936) took 0.533065 seconds\n"
     ]
    }
   ],
   "source": [
    "for name, regressor in regressors:\n",
    "    cv = ShuffleSplit(n_splits=5, test_size=.2, random_state=cv_seed)\n",
    "    mdl_pipeline = Pipeline(steps=[('preprocessor', preprocessor), ('regressor', regressor)])\n",
    "    tic = time.process_time()\n",
    "    scores = cross_val_score(mdl_pipeline, X_train, y_train, cv=cv, scoring='r2', error_score='raise', n_jobs=-1)\n",
    "    toc = time.process_time()\n",
    "    elapsed_time = toc - tic\n",
    "    r2_reg_scores[name] = scores\n",
    "    msg = \"%s: avg: %f (std: %f, max: %f, min: %f) took %f seconds\" % (name, scores.mean(), scores.std(), scores.max(), scores.min(), elapsed_time)\n",
    "    print(msg)"
   ]
  },
  {
   "cell_type": "code",
   "execution_count": 74,
   "metadata": {},
   "outputs": [
    {
     "data": {
      "image/png": "[encoded data removed]",
      "text/plain": [
       "<Figure size 1152x648 with 1 Axes>"
      ]
     },
     "metadata": {
      "needs_background": "light"
     },
     "output_type": "display_data"
    }
   ],
   "source": [
    "fig = plt.figure(figsize=(16,9))\n",
    "fig.suptitle('Algorithm Comparison')\n",
    "ax = fig.add_subplot(111)\n",
    "\n",
    "plt.boxplot(r2_reg_scores.values())\n",
    "ax.set_xticklabels(r2_reg_scores.keys())\n",
    "\n",
    "\n",
    "plt.tight_layout()\n",
    "plt.plot()\n",
    "plt.xlabel('Models')\n",
    "plt.ylabel('R^2 Scores')\n",
    "plt.savefig('model_cv_multicollinearity_10prct/run4/scaler/South-Holland-10prct_R2.png', dpi=600)\n",
    "plt.show()"
   ]
  },
  {
   "cell_type": "code",
   "execution_count": 75,
   "metadata": {},
   "outputs": [
    {
     "data": {
      "text/plain": [
       "{'LR': array([0.06323716, 0.08981321, 0.0450024 , 0.08518772, 0.05594134]),\n",
       " 'DT': array([-0.55999937, -0.59454024, -0.46433402, -0.55042365, -0.54130391]),\n",
       " 'KNN': array([-0.02172341,  0.01213633, -0.03291028,  0.01111035,  0.01030488]),\n",
       " 'RF': array([-0.08624476, -0.11345148, -0.0543322 , -0.0714508 , -0.09327926]),\n",
       " 'B': array([-0.14464494, -0.24655713, -0.13263086, -0.20299093, -0.09286244]),\n",
       " 'GB': array([0.12558711, 0.14346565, 0.12393554, 0.15580793, 0.15789126])}"
      ]
     },
     "execution_count": 75,
     "metadata": {},
     "output_type": "execute_result"
    }
   ],
   "source": [
    "if 'AB' in r2_reg_scores.keys():\n",
    "    del r2_reg_scores['AB']\n",
    "r2_reg_scores"
   ]
  },
  {
   "cell_type": "code",
   "execution_count": 76,
   "metadata": {},
   "outputs": [
    {
     "data": {
      "image/png": "[encoded data removed]",
      "text/plain": [
       "<Figure size 1152x648 with 1 Axes>"
      ]
     },
     "metadata": {
      "needs_background": "light"
     },
     "output_type": "display_data"
    }
   ],
   "source": [
    "fig = plt.figure(figsize=(16,9))\n",
    "fig.suptitle('Algorithm Comparison')\n",
    "ax = fig.add_subplot(111)\n",
    "\n",
    "plt.boxplot(r2_reg_scores.values())\n",
    "ax.set_xticklabels(r2_reg_scores.keys())\n",
    "\n",
    "\n",
    "plt.tight_layout()\n",
    "plt.plot()\n",
    "plt.xlabel('Models')\n",
    "plt.ylabel('R^2 Scores')\n",
    "plt.savefig('model_cv_multicollinearity_10prct/run4/scaler/olland-10prct_R2_Except-AB.png', dpi=600)\n",
    "plt.show()"
   ]
  },
  {
   "cell_type": "code",
   "execution_count": null,
   "metadata": {},
   "outputs": [],
   "source": []
  },
  {
   "cell_type": "code",
   "execution_count": null,
   "metadata": {},
   "outputs": [],
   "source": []
  },
  {
   "cell_type": "code",
   "execution_count": null,
   "metadata": {},
   "outputs": [],
   "source": []
  },
  {
   "cell_type": "code",
   "execution_count": null,
   "metadata": {},
   "outputs": [],
   "source": []
  },
  {
   "cell_type": "code",
   "execution_count": null,
   "metadata": {},
   "outputs": [],
   "source": []
  },
  {
   "cell_type": "code",
   "execution_count": null,
   "metadata": {},
   "outputs": [],
   "source": []
  },
  {
   "cell_type": "code",
   "execution_count": null,
   "metadata": {},
   "outputs": [],
   "source": []
  },
  {
   "cell_type": "code",
   "execution_count": null,
   "metadata": {},
   "outputs": [],
   "source": []
  },
  {
   "cell_type": "code",
   "execution_count": null,
   "metadata": {},
   "outputs": [],
   "source": []
  },
  {
   "cell_type": "code",
   "execution_count": null,
   "metadata": {},
   "outputs": [],
   "source": []
  },
  {
   "cell_type": "code",
   "execution_count": null,
   "metadata": {},
   "outputs": [],
   "source": []
  }
 ],
 "metadata": {
  "environment": {
   "name": "common-cpu.m46",
   "type": "gcloud",
   "uri": "gcr.io/deeplearning-platform-release/base-cpu:m46"
  },
  "kernelspec": {
   "display_name": "Python 3",
   "language": "python",
   "name": "python3"
  },
  "language_info": {
   "codemirror_mode": {
    "name": "ipython",
    "version": 3
   },
   "file_extension": ".py",
   "mimetype": "text/x-python",
   "name": "python",
   "nbconvert_exporter": "python",
   "pygments_lexer": "ipython3",
   "version": "3.7.6"
  }
 },
 "nbformat": 4,
 "nbformat_minor": 4
}
